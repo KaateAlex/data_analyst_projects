{
 "cells": [
  {
   "cell_type": "markdown",
   "id": "7eb6d6d3",
   "metadata": {},
   "source": [
    "#### Екатерина, привет! \n",
    "\n",
    "Меня зовут Максим Попов, и я буду проверять твой проект. Давай будем общаться на «ты». Но если тебе комфортнее на «вы», обязательно сообщи мне об этом. \n",
    "По ходу тетрадки ты найдешь комментарии к проекту, они будут в отдельных ячейках Markdown с заголовком «Комментарий ревьюера». Постарайся учесть эти комментарии для дальнейших проектов.\n",
    "\n",
    "---\n",
    "\n",
    "Я буду отмечать комментарии цветом и примечанием. В конце заголовка комментария будет указан номер итерации проверки. Пожалуйста, не удаляй и не правь мои комментарии\n",
    "\n",
    "Критично - требует исправления, влияет на удачное выполнение проекта\n",
    "\n",
    "Рекомендация - комментарий является рекомендацией или советом. Mожешь учесть их при выполнении будущих заданий. На твое усмотрение\n",
    "\n",
    "Отлично - Так отмечены удачные решения и подходы, на которые стоит опираться в будущих проектах\n",
    "\n",
    "<div class=\"alert alert-block alert-danger\">\n",
    "    \n",
    "\n",
    "### Комментарий от ревьюера\n",
    "Критично\n",
    "\n",
    "Такой комментарий нужно исправить обязательно, он критически влияет на удачное выполнение проекта.\n",
    "</div>\n",
    "    \n",
    "---\n",
    "\n",
    "<div class=\"alert alert-block alert-warning\">\n",
    "    \n",
    "\n",
    "### Комментарий от ревьюера\n",
    "Рекомендация\n",
    "\n",
    "Такой комментарий является рекомендацией или советом. Mожешь учесть их при выполнении будущих заданий. На твое усмотрение. \n",
    "</div>\n",
    "\n",
    "---\n",
    "\n",
    "<div class=\"alert alert-block alert-success\">\n",
    "    \n",
    "\n",
    "### Комментарий от ревьюера\n",
    "Отлично\n",
    "    \n",
    "Так отмечены удачные решения и подходы, на которые стоит опираться в будущих проектах\n",
    "</div>"
   ]
  },
  {
   "cell_type": "markdown",
   "id": "c312e6cc",
   "metadata": {},
   "source": [
    "<div class=\"alert alert-block alert-success\">\n",
    "    \n",
    "    \n",
    "### Комментарий от ревьюера v_1\n",
    "    \n",
    "Екатерина, отличная работа, но следующие моменты нужно подправить:\n",
    "    \n",
    "1. Обзор данных\n",
    "2. Удаление столбцов после формирования словарей\n",
    "3. Вывод по предобработке\n",
    "    \n",
    "Подробные комментарии по ходу проекта\n",
    "   \n",
    "Желтые комментарии-рекомендации на твое усмотрение.\n",
    "    \n",
    "Если есть вопросы ко мне, можешь оставить их в отдельном комментарии\n",
    "</div>"
   ]
  },
  {
   "cell_type": "markdown",
   "id": "b1e736f6",
   "metadata": {},
   "source": [
    "<div class=\"alert alert-block alert-success\">\n",
    "    \n",
    "### Комментарий от ревьюера v_2\n",
    "           \n",
    "Екатерина, привет!\n",
    "    \n",
    "Здорово, что не просто исправляешь ошибки, но и обращаешь внимание на рекомендации.\n",
    "\n",
    "У тебя получился отличный проект, успеха в дальнейшем обучении!\n",
    "       \n",
    "</div>"
   ]
  },
  {
   "cell_type": "markdown",
   "id": "edb76103",
   "metadata": {},
   "source": [
    "<div class=\"alert alert-block alert-warning\">\n",
    "    \n",
    "\n",
    "### Комментарий от ревьюера v_1\n",
    "Рекомендация\n",
    "\n",
    "В начала исследования следует добавить вводную к проекту. Написать о чем проект, цель исследования, какими данными располагаешь и т. п.\n",
    "</div>"
   ]
  },
  {
   "cell_type": "markdown",
   "id": "81f1f9f9",
   "metadata": {},
   "source": [
    "# Исследование надежности заемщиков."
   ]
  },
  {
   "cell_type": "markdown",
   "id": "5aaef38a",
   "metadata": {},
   "source": [
    "Заказчик — кредитный отдел банка.\n",
    "Цель исследования - разобраться, влияет ли семейное положение и количество детей клиента на факт погашения кредита в срок. \n",
    "Входные данные от банка — статистика о платёжеспособности клиентов.\n",
    "Результаты исследования будут учтены при построении модели кредитного скоринга — специальной системы, \n",
    "которая оценивает способность потенциального заёмщика вернуть кредит банку.\n",
    "\n",
    "Описание данных:\n",
    "\n",
    "children — количество детей в семье\n",
    "days_employed — общий трудовой стаж в днях\n",
    "dob_years — возраст клиента в годах\n",
    "education — уровень образования клиента\n",
    "education_id — идентификатор уровня образования\n",
    "family_status — семейное положение\n",
    "family_status_id — идентификатор семейного положения\n",
    "gender — пол клиента\n",
    "income_type — тип занятости\n",
    "debt — имел ли задолженность по возврату кредитов\n",
    "total_income — ежемесячный доход\n",
    "purpose — цель получения кредита"
   ]
  },
  {
   "cell_type": "markdown",
   "id": "25286338",
   "metadata": {},
   "source": [
    "### Шаг 1. Обзор данных"
   ]
  },
  {
   "cell_type": "markdown",
   "id": "ecac10ba",
   "metadata": {},
   "source": [
    "<div class=\"alert alert-block alert-warning\">\n",
    "    \n",
    "\n",
    "### Комментарий от ревьюера v_1\n",
    "Рекомендация\n",
    "\n",
    "Все используемые в проекте библиотеки следует импортировать в отдельной ячейке\n",
    "\n",
    "</div>"
   ]
  },
  {
   "cell_type": "code",
   "execution_count": 1,
   "id": "60c4916c",
   "metadata": {},
   "outputs": [],
   "source": [
    "import pandas as pd"
   ]
  },
  {
   "cell_type": "code",
   "execution_count": 2,
   "id": "9979b399",
   "metadata": {},
   "outputs": [
    {
     "name": "stdout",
     "output_type": "stream",
     "text": [
      "<class 'pandas.core.frame.DataFrame'>\n",
      "RangeIndex: 21525 entries, 0 to 21524\n",
      "Data columns (total 12 columns):\n",
      "children            21525 non-null int64\n",
      "days_employed       19351 non-null float64\n",
      "dob_years           21525 non-null int64\n",
      "education           21525 non-null object\n",
      "education_id        21525 non-null int64\n",
      "family_status       21525 non-null object\n",
      "family_status_id    21525 non-null int64\n",
      "gender              21525 non-null object\n",
      "income_type         21525 non-null object\n",
      "debt                21525 non-null int64\n",
      "total_income        19351 non-null float64\n",
      "purpose             21525 non-null object\n",
      "dtypes: float64(2), int64(5), object(5)\n",
      "memory usage: 2.0+ MB\n"
     ]
    }
   ],
   "source": [
    "data = pd.read_csv('/datasets/data.csv')\n",
    "data.info()"
   ]
  },
  {
   "cell_type": "markdown",
   "id": "1a62767c",
   "metadata": {},
   "source": [
    "<div class=\"alert alert-block alert-danger\">\n",
    "    \n",
    "\n",
    "### Комментарий от ревьюера v_1\n",
    "Критично\n",
    "\n",
    "При загрузке надо обязательно посмотреть на таблицу через info\n",
    "</div>"
   ]
  },
  {
   "cell_type": "markdown",
   "id": "81ddd37b",
   "metadata": {},
   "source": [
    "<div class=\"alert alert-block alert-warning\">\n",
    "\n",
    "### Комментарий от ревьюера v_2\n",
    "Рекомендация\n",
    "\n",
    "Вывод нескольких строк не надо было удалять))\n",
    "</div>"
   ]
  },
  {
   "cell_type": "markdown",
   "id": "4e82528d",
   "metadata": {},
   "source": [
    "### Шаг 2.1 Заполнение пропусков\n",
    "\n",
    "Обнаружены пропуски в двух столбцах days_employed и total_income - количественные переменные. Пропуски в таких переменных заполняют характерными значениями. Это значения, характеризующие состояние выборки, — набора данных, выбранных для проведения исследования. Чтобы примерно оценить типичные значения выборки, годятся среднее арифметическое или медиана.Медиана — это такое число в выборке, что ровно половина элементов больше него, а другая половина — меньше.Почему медиана? Среднее значение некорректно характеризует данные, когда некоторые значения сильно выделяются среди большинства.Заполняя пропуски, мы хотим сохранить параметры распределения заполняемой переменной - математическое ожидание и дисперсию. Самый простой способ это сделать -заполнить средним или медианой."
   ]
  },
  {
   "cell_type": "code",
   "execution_count": 3,
   "id": "17646b0d",
   "metadata": {},
   "outputs": [
    {
     "name": "stdout",
     "output_type": "stream",
     "text": [
      "пропуски по стажу до 2174\n",
      "пропуски по стажу после 0\n",
      "пропуски по доходу до 2174\n",
      "пропуски по доходу после 0\n"
     ]
    }
   ],
   "source": [
    "# подсчёт пропусков isna().sum() и заполнение с помощью loc\n",
    "print('пропуски по стажу до', data['days_employed'].isna().sum())\n",
    "data.loc[data['days_employed'].isna(), 'days_employed'] = data['days_employed'].median()\n",
    "print('пропуски по стажу после', data['days_employed'].isna().sum())\n",
    "\n",
    "print('пропуски по доходу до', data['total_income'].isna().sum())\n",
    "data.loc[data['total_income'].isna(), 'total_income'] = data['total_income'].median()\n",
    "print('пропуски по доходу после', data['total_income'].isna().sum())\n"
   ]
  },
  {
   "cell_type": "markdown",
   "id": "2a6eb602",
   "metadata": {},
   "source": [
    "<div class=\"alert alert-block alert-success\">\n",
    "\n",
    "    \n",
    "### Комментарий от ревьюера v_1\n",
    "Отлично\n",
    "\n",
    "Все верно, при таком разбросе значений медиана лучше всего характеризует распределение. Но все же замена общей медианой не самое оптимальное решение, можно заполнить медианой по группе, например, по типу занятости. По ссылке методичка по заполнению пропусков, рекомендую ознакомиться\n",
    "    \n",
    "https://drive.google.com/file/d/1Xgnl_LnmsGAhuPz6RzAzMTi9VvRBfHzp/view?usp=sharing\n",
    "        \n",
    "</div>"
   ]
  },
  {
   "cell_type": "markdown",
   "id": "01a375ef",
   "metadata": {},
   "source": [
    "Большое количество пропусков может быть обусловлено тем, что люди неохотно делятся своим доходом или стажем, так же ошибки могут возникать при заполнении анкет вручную - человеческий фактор.\n",
    "\n",
    "\n",
    "\n",
    "### Шаг 2.2 Проверка данных на аномалии и исправления.\n",
    "\n",
    "Артефакты (аномалии) — значения, которые не отражают действительность и появились по какой-то ошибке. \n",
    "\n",
    "Аномально большие значения стажа даны в часах, их мы просто привести к положительным значениям и поделим на 24.Когда мы применяем abs к столбцу с помощью apply все значения становятся положительными потому, что abs - это модуль.Человек работает  в среднем 45,5 лет (с 18 до 63,5 (среднее значение от 62 (для женщин) и 65 (для мужчин)), 45,5 *365 дней = 16 607,5 дней. Откуда они взялись? Скорее всего, в данных встречается информация из двух систем. Одна из них считает стаж в часах и \"наоборот\"."
   ]
  },
  {
   "cell_type": "code",
   "execution_count": 4,
   "id": "251e811e",
   "metadata": {},
   "outputs": [],
   "source": [
    "data['days_employed'] = data['days_employed'].apply(abs) # берем значения по модулю\n",
    "data.loc[data['days_employed'] > 16607.5, 'days_employed'] = data.loc[data['days_employed'] > 16607.5, 'days_employed'] / 24\n",
    "#data.head(10) для проверки значений\n",
    "\n",
    "#print(data['dob_years'].max())\n",
    "#print(data['dob_years'].min()) присутствуют значения 0, заменим их на медианное\n",
    "data.loc[data['dob_years'] == 0, 'dob_years'] = data['dob_years'].median()\n",
    "#data['dob_years'].min() для проверки замены"
   ]
  },
  {
   "cell_type": "code",
   "execution_count": 5,
   "id": "c10cacfb",
   "metadata": {},
   "outputs": [],
   "source": [
    "#print(data['children'].max()) максимальное количество детей 20, думаю это ошибка и было 2 ребенка, перепишу методом replace\n",
    "data['children'].replace(20, 2,inplace=True) \n",
    "data['children'] = data['children'].apply(abs) # в уникательные значениях есть -1 переведем все в положительные значения\n",
    "#print(data['children'].unique()) получились значения от 0 до 5\n",
    "\n",
    "#print(data['gender'].unique()) помимо М и Ж неопознаное XNA\n",
    "#XNA это не гендер, это один из методов записи \"неопределен\" в разных базах данных. Такие строки можно удалить.\n",
    "data = data[data['gender'] != 'XNA']"
   ]
  },
  {
   "cell_type": "markdown",
   "id": "871d20df",
   "metadata": {},
   "source": [
    "<div class=\"alert alert-block alert-warning\">\n",
    "    \n",
    "\n",
    "### Комментарий от ревьюера v_1\n",
    "Рекомендация\n",
    "\n",
    "Тут все верно, но не пиши весь код в одной ячейке, разбивай ее логически. Тебе же самой будет потом легче править код\n",
    "</div>"
   ]
  },
  {
   "cell_type": "markdown",
   "id": "59946811",
   "metadata": {},
   "source": [
    "<div class=\"alert alert-block alert-success\">\n",
    "\n",
    "    \n",
    "### Комментарий от ревьюера v_2\n",
    "\n",
    "👍🏻\n",
    "    \n",
    "</div>"
   ]
  },
  {
   "cell_type": "markdown",
   "id": "886ebd05",
   "metadata": {},
   "source": [
    "### Шаг 2.3. Изменение типов данных."
   ]
  },
  {
   "cell_type": "code",
   "execution_count": 6,
   "id": "071edd6b",
   "metadata": {
    "scrolled": true
   },
   "outputs": [],
   "source": [
    "data['days_employed'] = data['days_employed'].astype('int') # переводим методом astype в целое число\n",
    "data['dob_years'] = data['dob_years'].astype('int')\n",
    "data['total_income'] = data['total_income'].astype('int') # аномальные цифры после запятой"
   ]
  },
  {
   "cell_type": "markdown",
   "id": "516f04d7",
   "metadata": {},
   "source": [
    "<div class=\"alert alert-block alert-success\">\n",
    "\n",
    "    \n",
    "### Комментарий от ревьюера v_1\n",
    "Отлично\n",
    "\n",
    "Отлично, теперь данные хранятся в правильно виде 👍🏻\n",
    "\n",
    "Но ты приводишь к одному типу, следует сразу же во всех столбцах заменить, а не в каждом столбце отдельно\n",
    "</div>"
   ]
  },
  {
   "cell_type": "markdown",
   "id": "88f4c652",
   "metadata": {},
   "source": [
    "### Шаг 2.4. Удаление дубликатов.\n",
    "\n",
    "Вызовем метод duplicated().sum() для подсчета явных дубликатов и вызвем метод value_counts() для подсчита количества дубликатов по столбцам,они есть в столбце education и purpose"
   ]
  },
  {
   "cell_type": "code",
   "execution_count": 7,
   "id": "33846576",
   "metadata": {},
   "outputs": [
    {
     "data": {
      "text/html": [
       "<div>\n",
       "<style scoped>\n",
       "    .dataframe tbody tr th:only-of-type {\n",
       "        vertical-align: middle;\n",
       "    }\n",
       "\n",
       "    .dataframe tbody tr th {\n",
       "        vertical-align: top;\n",
       "    }\n",
       "\n",
       "    .dataframe thead th {\n",
       "        text-align: right;\n",
       "    }\n",
       "</style>\n",
       "<table border=\"1\" class=\"dataframe\">\n",
       "  <thead>\n",
       "    <tr style=\"text-align: right;\">\n",
       "      <th></th>\n",
       "      <th>purpose</th>\n",
       "      <th>new_purpose</th>\n",
       "    </tr>\n",
       "  </thead>\n",
       "  <tbody>\n",
       "    <tr>\n",
       "      <td>0</td>\n",
       "      <td>покупка жилья</td>\n",
       "      <td>недвижимость</td>\n",
       "    </tr>\n",
       "    <tr>\n",
       "      <td>1</td>\n",
       "      <td>приобретение автомобиля</td>\n",
       "      <td>автомобиль</td>\n",
       "    </tr>\n",
       "    <tr>\n",
       "      <td>2</td>\n",
       "      <td>покупка жилья</td>\n",
       "      <td>недвижимость</td>\n",
       "    </tr>\n",
       "    <tr>\n",
       "      <td>3</td>\n",
       "      <td>дополнительное образование</td>\n",
       "      <td>образование</td>\n",
       "    </tr>\n",
       "    <tr>\n",
       "      <td>4</td>\n",
       "      <td>сыграть свадьбу</td>\n",
       "      <td>свадьба</td>\n",
       "    </tr>\n",
       "    <tr>\n",
       "      <td>...</td>\n",
       "      <td>...</td>\n",
       "      <td>...</td>\n",
       "    </tr>\n",
       "    <tr>\n",
       "      <td>21464</td>\n",
       "      <td>операции с жильем</td>\n",
       "      <td>недвижимость</td>\n",
       "    </tr>\n",
       "    <tr>\n",
       "      <td>21465</td>\n",
       "      <td>сделка с автомобилем</td>\n",
       "      <td>автомобиль</td>\n",
       "    </tr>\n",
       "    <tr>\n",
       "      <td>21466</td>\n",
       "      <td>недвижимость</td>\n",
       "      <td>недвижимость</td>\n",
       "    </tr>\n",
       "    <tr>\n",
       "      <td>21467</td>\n",
       "      <td>на покупку своего автомобиля</td>\n",
       "      <td>автомобиль</td>\n",
       "    </tr>\n",
       "    <tr>\n",
       "      <td>21468</td>\n",
       "      <td>на покупку автомобиля</td>\n",
       "      <td>автомобиль</td>\n",
       "    </tr>\n",
       "  </tbody>\n",
       "</table>\n",
       "<p>21469 rows × 2 columns</p>\n",
       "</div>"
      ],
      "text/plain": [
       "                            purpose   new_purpose\n",
       "0                     покупка жилья  недвижимость\n",
       "1           приобретение автомобиля    автомобиль\n",
       "2                     покупка жилья  недвижимость\n",
       "3        дополнительное образование   образование\n",
       "4                   сыграть свадьбу       свадьба\n",
       "...                             ...           ...\n",
       "21464             операции с жильем  недвижимость\n",
       "21465          сделка с автомобилем    автомобиль\n",
       "21466                  недвижимость  недвижимость\n",
       "21467  на покупку своего автомобиля    автомобиль\n",
       "21468         на покупку автомобиля    автомобиль\n",
       "\n",
       "[21469 rows x 2 columns]"
      ]
     },
     "execution_count": 7,
     "metadata": {},
     "output_type": "execute_result"
    }
   ],
   "source": [
    "#посчитаем явные дубликаты в таблице одной командой\n",
    "data.duplicated().sum() \n",
    "#удаление явных дубликатов (с удалением старых индексов и формированием новых)\n",
    "data = data.drop_duplicates().reset_index(drop=True) \n",
    "\n",
    "#перезапишем результат смены регистра (и результат любой другой операции над столбцом) обратно в столбец\n",
    "data['education'] = data['education'].str.lower()\n",
    "#data['education'].unique() для проверки,без дубликатов\n",
    "\n",
    "\n",
    "#для столбца purpose создадим функцию, чтобы избавиться от неявных дубликатов\n",
    "def get_new_purpose(cell):\n",
    "    #готовим словарь синонимов\n",
    "    purpose_dict = {'недвижимость': ['покупка жилья', 'операции с жильем', 'покупка жилья для семьи', 'покупка недвижимости', 'покупка коммерческой недвижимости','покупка жилой недвижимости','строительство собственной недвижимости','строительство недвижимости','операции с коммерческой недвижимостью','строительство жилой недвижимости','жилье','операции со своей недвижимостью','покупка своего жилья','операции с недвижимостью','покупка жилья для сдачи','ремонт жилью', 'недвижимость'],\n",
    "                    'автомобиль': ['приобретение автомобиля', 'на покупку подержанного автомобиля', 'на покупку своего автомобиля', 'автомобили','сделка с подержанным автомобилем', 'свой автомобиль', 'сделка с автомобилем', 'на покупку автомобиля'],\n",
    "                    'образование': ['дополнительное образование', 'заняться образованием', 'получение образования', 'получение дополнительного образования', 'получение высшего образования', 'профильное образование', 'высшее образование', 'заняться высшим образованием'],\n",
    "                    'свадьба': ['сыграть свадьбу', 'на проведение свадьбы', '']\n",
    "                   }\n",
    "    #перебираем синонимы\n",
    "    for j, synonymns in purpose_dict.items():\n",
    "        for syn in synonymns:\n",
    "            if syn in cell:\n",
    "                return j # там ,где синоним в purpose - заменяем на категорию\n",
    "    \n",
    "    # если ничего не нашли - возвращаем пустоту\n",
    "    return None         \n",
    "# эплаим функцию к столбцу purpose \n",
    "data['new_purpose'] = data['purpose'].apply(get_new_purpose)\n",
    "\n",
    "# проверка\n",
    "data[['purpose', 'new_purpose']]\n",
    "    \n",
    "#data['income_type'].unique() #для проверки,без дубликатов    "
   ]
  },
  {
   "cell_type": "markdown",
   "id": "2f35a1ca",
   "metadata": {},
   "source": [
    "<div class=\"alert alert-block alert-warning\">\n",
    "    \n",
    "\n",
    "### Комментарий от ревьюера v_1\n",
    "Рекомендация\n",
    "\n",
    "Тут все верно, но категоризировать цели нужно было на стадии категоризации\n",
    "</div>"
   ]
  },
  {
   "cell_type": "markdown",
   "id": "2a05845d",
   "metadata": {},
   "source": [
    "### Шаг 2.5. Формирование дополнительных датафреймов словарей, декомпозиция исходного датафрейма.\n",
    "\n",
    "Создайте два новых датафрейма, в которых:\n",
    "каждому уникальному значению из education соответствует уникальное значение education_id — в первом;\n",
    "каждому уникальному значению из family_status соответствует уникальное значение family_status_id — во втором.\n",
    "Удалите из исходного датафрейма столбцы education и family_status, оставив только их идентификаторы: education_id и family_status_id. Новые датафреймы — это те самые «словари» (не путайте с одноимённой структурой данных в Python), к которым вы сможете обращаться по идентификатору."
   ]
  },
  {
   "cell_type": "code",
   "execution_count": 8,
   "id": "1de0d3e6",
   "metadata": {
    "scrolled": false
   },
   "outputs": [
    {
     "name": "stderr",
     "output_type": "stream",
     "text": [
      "/opt/conda/lib/python3.7/site-packages/ipykernel_launcher.py:3: SettingWithCopyWarning: \n",
      "A value is trying to be set on a copy of a slice from a DataFrame.\n",
      "Try using .loc[row_indexer,col_indexer] = value instead\n",
      "\n",
      "See the caveats in the documentation: http://pandas.pydata.org/pandas-docs/stable/user_guide/indexing.html#returning-a-view-versus-a-copy\n",
      "  This is separate from the ipykernel package so we can avoid doing imports until\n"
     ]
    },
    {
     "data": {
      "text/html": [
       "<div>\n",
       "<style scoped>\n",
       "    .dataframe tbody tr th:only-of-type {\n",
       "        vertical-align: middle;\n",
       "    }\n",
       "\n",
       "    .dataframe tbody tr th {\n",
       "        vertical-align: top;\n",
       "    }\n",
       "\n",
       "    .dataframe thead th {\n",
       "        text-align: right;\n",
       "    }\n",
       "</style>\n",
       "<table border=\"1\" class=\"dataframe\">\n",
       "  <thead>\n",
       "    <tr style=\"text-align: right;\">\n",
       "      <th></th>\n",
       "      <th>education_id</th>\n",
       "    </tr>\n",
       "  </thead>\n",
       "  <tbody>\n",
       "    <tr>\n",
       "      <td>0</td>\n",
       "      <td>0</td>\n",
       "    </tr>\n",
       "    <tr>\n",
       "      <td>1</td>\n",
       "      <td>1</td>\n",
       "    </tr>\n",
       "    <tr>\n",
       "      <td>2</td>\n",
       "      <td>2</td>\n",
       "    </tr>\n",
       "    <tr>\n",
       "      <td>3</td>\n",
       "      <td>3</td>\n",
       "    </tr>\n",
       "    <tr>\n",
       "      <td>4</td>\n",
       "      <td>4</td>\n",
       "    </tr>\n",
       "  </tbody>\n",
       "</table>\n",
       "</div>"
      ],
      "text/plain": [
       "   education_id\n",
       "0             0\n",
       "1             1\n",
       "2             2\n",
       "3             3\n",
       "4             4"
      ]
     },
     "metadata": {},
     "output_type": "display_data"
    }
   ],
   "source": [
    "#готовим словарь\n",
    "education_dict = data[['education_id', 'education']]\n",
    "education_dict['education'] = education_dict['education'].str.lower()\n",
    "education_dict = education_dict.drop_duplicates().reset_index(drop=True)\n",
    "#удалим пропуски с изменением индексов  и удалением старых,для этого вызовем метод reset_index(drop=True)\n",
    "education_dict.drop('education',axis=1, inplace=True)#удаляем из исходного фрейма столбец education\n",
    "display(education_dict)\n",
    "\n"
   ]
  },
  {
   "cell_type": "markdown",
   "id": "442680b2",
   "metadata": {},
   "source": [
    "<div class=\"alert alert-block alert-success\">\n",
    "\n",
    "\n",
    "### Комментарий от ревьюера v_1\n",
    "\n",
    "Отключить предупреждения\n",
    "    \n",
    "import warnings\n",
    "    \n",
    "warnings.filterwarnings(\"ignore\")\n",
    "    \n",
    "Это не предупреждение об ошибке, просто панды предупреждают тебя, что во время вычисления работают с копией\n",
    "</div>"
   ]
  },
  {
   "cell_type": "code",
   "execution_count": 9,
   "id": "3de043a0",
   "metadata": {},
   "outputs": [],
   "source": [
    "import warnings\n",
    "\n",
    "warnings.filterwarnings(\"ignore\")"
   ]
  },
  {
   "cell_type": "markdown",
   "id": "fe1462af",
   "metadata": {},
   "source": [
    "<div class=\"alert alert-block alert-warning\">\n",
    "    \n",
    "\n",
    "### Комментарий от ревьюера v_1\n",
    "Рекомендация\n",
    "\n",
    "При удалении дубликатов следует обновить индексы\n",
    "</div>"
   ]
  },
  {
   "cell_type": "code",
   "execution_count": 10,
   "id": "e354dc33",
   "metadata": {},
   "outputs": [
    {
     "data": {
      "text/html": [
       "<div>\n",
       "<style scoped>\n",
       "    .dataframe tbody tr th:only-of-type {\n",
       "        vertical-align: middle;\n",
       "    }\n",
       "\n",
       "    .dataframe tbody tr th {\n",
       "        vertical-align: top;\n",
       "    }\n",
       "\n",
       "    .dataframe thead th {\n",
       "        text-align: right;\n",
       "    }\n",
       "</style>\n",
       "<table border=\"1\" class=\"dataframe\">\n",
       "  <thead>\n",
       "    <tr style=\"text-align: right;\">\n",
       "      <th></th>\n",
       "      <th>family_status_id</th>\n",
       "    </tr>\n",
       "  </thead>\n",
       "  <tbody>\n",
       "    <tr>\n",
       "      <td>0</td>\n",
       "      <td>0</td>\n",
       "    </tr>\n",
       "    <tr>\n",
       "      <td>1</td>\n",
       "      <td>1</td>\n",
       "    </tr>\n",
       "    <tr>\n",
       "      <td>2</td>\n",
       "      <td>2</td>\n",
       "    </tr>\n",
       "    <tr>\n",
       "      <td>3</td>\n",
       "      <td>3</td>\n",
       "    </tr>\n",
       "    <tr>\n",
       "      <td>4</td>\n",
       "      <td>4</td>\n",
       "    </tr>\n",
       "  </tbody>\n",
       "</table>\n",
       "</div>"
      ],
      "text/plain": [
       "   family_status_id\n",
       "0                 0\n",
       "1                 1\n",
       "2                 2\n",
       "3                 3\n",
       "4                 4"
      ]
     },
     "metadata": {},
     "output_type": "display_data"
    }
   ],
   "source": [
    "# повторяю для второго, готовим словарь\n",
    "family_status_dict = data[['family_status_id', 'family_status']]\n",
    "family_status_dict['family_status'] = family_status_dict['family_status'].str.lower()\n",
    "family_status_dict = family_status_dict.drop_duplicates().reset_index(drop=True)# обновим индексы\n",
    "family_status_dict.drop('family_status',axis=1, inplace=True)# удаляем столбец, как вы и просили))\n",
    "\n",
    "display(family_status_dict)\n",
    "\n"
   ]
  },
  {
   "cell_type": "markdown",
   "id": "5121a502",
   "metadata": {},
   "source": [
    "<div class=\"alert alert-block alert-danger\">\n",
    "    \n",
    "\n",
    "### Комментарий от ревьюера v_1\n",
    "Критично\n",
    "    \n",
    "Из исходной таблицы не удалены столбцы\n",
    "</div>"
   ]
  },
  {
   "cell_type": "markdown",
   "id": "f58cdd3f",
   "metadata": {},
   "source": [
    "### Шаг 2.6. Категоризация дохода.\n",
    "\n",
    "Запишем правила классификации доходов как функции. На вход функции попадает доход клинета, а возвращает она категорию дохода. Опишем функцию:"
   ]
  },
  {
   "cell_type": "code",
   "execution_count": 11,
   "id": "adf50c44",
   "metadata": {},
   "outputs": [],
   "source": [
    "def total_income_group(cat):\n",
    "    \n",
    "    #Возвращает доходную группу по значению дохода, используя правило:\n",
    "        #0–30000 — 'E';\n",
    "        #30001–50000 — 'D';\n",
    "        #50001–200000 — 'C';\n",
    "        #200001–1000000 — 'B';\n",
    "        #1000001 и выше — 'A'. \n",
    "      \n",
    "    if cat >= 0 and cat <= 30000:\n",
    "        return 'E'\n",
    "    elif cat >= 30001 and cat <= 50000:\n",
    "        return 'D'\n",
    "    elif cat >= 50001 and cat <= 200000:\n",
    "        return 'C'\n",
    "    elif cat >= 200001 and cat <= 1000000:\n",
    "        return 'B'\n",
    "    else:\n",
    "        return 'A' "
   ]
  },
  {
   "cell_type": "code",
   "execution_count": 12,
   "id": "96790676",
   "metadata": {},
   "outputs": [
    {
     "name": "stdout",
     "output_type": "stream",
     "text": [
      "C    16032\n",
      "B     5040\n",
      "D      350\n",
      "A       25\n",
      "E       22\n",
      "Name: total_income_group, dtype: int64\n"
     ]
    }
   ],
   "source": [
    "data['total_income_group'] = data['total_income'].apply(total_income_group)\n",
    "print(data['total_income_group'].value_counts()) "
   ]
  },
  {
   "cell_type": "markdown",
   "id": "c8b80e8d",
   "metadata": {},
   "source": [
    "### Шаг 2.7. Категоризация целей кредита.\n",
    "\n",
    "Создайте функцию, которая на основании данных из столбца purpose сформирует новый столбец purpose_category, в который войдут следующие категории:\n",
    "'операции с автомобилем',\n",
    "'операции с недвижимостью',\n",
    "'проведение свадьбы',\n",
    "'получение образования'.\n",
    "Например, если в столбце purpose находится подстрока 'на покупку автомобиля', то в столбце purpose_category должна появиться строка 'операции с автомобилем'.\n",
    "Вы можете использовать собственную функцию и метод apply(). Изучите данные в столбце purpose и определите, какие подстроки помогут вам правильно определить категорию."
   ]
  },
  {
   "cell_type": "code",
   "execution_count": 13,
   "id": "e0bf883a",
   "metadata": {},
   "outputs": [
    {
     "data": {
      "text/plain": [
       "array(['операции с недвижимостью', 'операции с автомобилем',\n",
       "       'получение образования', 'проведение свадьбы'], dtype=object)"
      ]
     },
     "execution_count": 13,
     "metadata": {},
     "output_type": "execute_result"
    }
   ],
   "source": [
    "def purpose_category(row):\n",
    "    if 'свадьб' in row:\n",
    "        return 'проведение свадьбы'\n",
    "    elif 'жиль' in row or 'недвиж' in row:\n",
    "        return 'операции с недвижимостью'\n",
    "    elif 'образован' in row:\n",
    "        return 'получение образования'\n",
    "    else:\n",
    "        return 'операции с автомобилем'\n",
    "data['purpose_category'] = data['purpose'].apply(purpose_category)\n",
    "data['purpose_category'].unique() #для проверки,без дубликатов"
   ]
  },
  {
   "cell_type": "markdown",
   "id": "f0a49b01",
   "metadata": {},
   "source": [
    "<div class=\"alert alert-block alert-success\">\n",
    "\n",
    "    \n",
    "### Комментарий от ревьюера v_1\n",
    "Отлично\n",
    "    \n",
    "Отлично, с категоризацией разобрались 👍🏻\n",
    "        \n",
    "</div>"
   ]
  },
  {
   "cell_type": "markdown",
   "id": "0a59e100",
   "metadata": {},
   "source": [
    "<div class=\"alert alert-block alert-danger\">\n",
    "    \n",
    "\n",
    "### Комментарий от ревьюера v_1\n",
    "Критично\n",
    "\n",
    "Не хватает резюмирующего вывода по шагу предобработки данных\n",
    "</div>"
   ]
  },
  {
   "cell_type": "markdown",
   "id": "0a687109",
   "metadata": {},
   "source": [
    "### Выводы по предобработке:\n",
    "\n",
    "Я продедала большую работу по преобработке данных,подсчитывала и удаляла пропуски, проверяла значения на аномалии и исправляла их, изменяла типы данных и удаляла дубликаты,фух!\n",
    "\n",
    "Ура, данные чисты и свежи и наконец-то можно перейти к долгожданному анализу!!))\n"
   ]
  },
  {
   "cell_type": "markdown",
   "id": "ee1ae3bf",
   "metadata": {},
   "source": [
    "<div class=\"alert alert-block alert-success\">\n",
    "\n",
    "    \n",
    "### Комментарий от ревьюера v_2\n",
    "\n",
    "😃\n",
    "    \n",
    "Но вообще рекомендую выработать привычку писать в выводах конкретные результаты. Так к проектам проще возвращаться для доработки\n",
    "    \n",
    "</div>"
   ]
  },
  {
   "cell_type": "markdown",
   "id": "3c185a90",
   "metadata": {},
   "source": [
    "### Ответы на вопросы."
   ]
  },
  {
   "cell_type": "markdown",
   "id": "59d73b41",
   "metadata": {},
   "source": [
    "##### Вопрос 1: Есть ли зависимость между количеством детей и возвратом кредита в срок?\n",
    "\n",
    "sum вернет число должников, count - размер группы, а mean - % должников.\n",
    "Среднее дает процент невозврата потому, что если у нас есть, например, столбец со значениями [1, 0, 0, 0, 1, 1, 0, 0, 0, 0], где 1 - это логическое \"да\", а 0 - логическое \"нет\", то среднее по нему будет равно 3 / 10 = 0.3 и это же будет процент логических \"да\"."
   ]
  },
  {
   "cell_type": "code",
   "execution_count": 14,
   "id": "635c270b",
   "metadata": {
    "scrolled": true
   },
   "outputs": [
    {
     "data": {
      "text/html": [
       "<style  type=\"text/css\" >\n",
       "</style><table id=\"T_5208e598_a30e_11ec_ba29_02420a39bffa\" ><thead>    <tr>        <th class=\"blank level0\" ></th>        <th class=\"col_heading level0 col0\" >debt</th>        <th class=\"col_heading level0 col1\" >%</th>        <th class=\"col_heading level0 col2\" >total</th>    </tr>    <tr>        <th class=\"index_name level0\" >children</th>        <th class=\"blank\" ></th>        <th class=\"blank\" ></th>        <th class=\"blank\" ></th>    </tr></thead><tbody>\n",
       "                <tr>\n",
       "                        <th id=\"T_5208e598_a30e_11ec_ba29_02420a39bffalevel0_row0\" class=\"row_heading level0 row0\" >4</th>\n",
       "                        <td id=\"T_5208e598_a30e_11ec_ba29_02420a39bffarow0_col0\" class=\"data row0 col0\" >41</td>\n",
       "                        <td id=\"T_5208e598_a30e_11ec_ba29_02420a39bffarow0_col1\" class=\"data row0 col1\" >9.76%</td>\n",
       "                        <td id=\"T_5208e598_a30e_11ec_ba29_02420a39bffarow0_col2\" class=\"data row0 col2\" >4</td>\n",
       "            </tr>\n",
       "            <tr>\n",
       "                        <th id=\"T_5208e598_a30e_11ec_ba29_02420a39bffalevel0_row1\" class=\"row_heading level0 row1\" >2</th>\n",
       "                        <td id=\"T_5208e598_a30e_11ec_ba29_02420a39bffarow1_col0\" class=\"data row1 col0\" >2128</td>\n",
       "                        <td id=\"T_5208e598_a30e_11ec_ba29_02420a39bffarow1_col1\" class=\"data row1 col1\" >9.49%</td>\n",
       "                        <td id=\"T_5208e598_a30e_11ec_ba29_02420a39bffarow1_col2\" class=\"data row1 col2\" >202</td>\n",
       "            </tr>\n",
       "            <tr>\n",
       "                        <th id=\"T_5208e598_a30e_11ec_ba29_02420a39bffalevel0_row2\" class=\"row_heading level0 row2\" >1</th>\n",
       "                        <td id=\"T_5208e598_a30e_11ec_ba29_02420a39bffarow2_col0\" class=\"data row2 col0\" >4856</td>\n",
       "                        <td id=\"T_5208e598_a30e_11ec_ba29_02420a39bffarow2_col1\" class=\"data row2 col1\" >9.16%</td>\n",
       "                        <td id=\"T_5208e598_a30e_11ec_ba29_02420a39bffarow2_col2\" class=\"data row2 col2\" >445</td>\n",
       "            </tr>\n",
       "            <tr>\n",
       "                        <th id=\"T_5208e598_a30e_11ec_ba29_02420a39bffalevel0_row3\" class=\"row_heading level0 row3\" >3</th>\n",
       "                        <td id=\"T_5208e598_a30e_11ec_ba29_02420a39bffarow3_col0\" class=\"data row3 col0\" >330</td>\n",
       "                        <td id=\"T_5208e598_a30e_11ec_ba29_02420a39bffarow3_col1\" class=\"data row3 col1\" >8.18%</td>\n",
       "                        <td id=\"T_5208e598_a30e_11ec_ba29_02420a39bffarow3_col2\" class=\"data row3 col2\" >27</td>\n",
       "            </tr>\n",
       "            <tr>\n",
       "                        <th id=\"T_5208e598_a30e_11ec_ba29_02420a39bffalevel0_row4\" class=\"row_heading level0 row4\" >0</th>\n",
       "                        <td id=\"T_5208e598_a30e_11ec_ba29_02420a39bffarow4_col0\" class=\"data row4 col0\" >14105</td>\n",
       "                        <td id=\"T_5208e598_a30e_11ec_ba29_02420a39bffarow4_col1\" class=\"data row4 col1\" >7.54%</td>\n",
       "                        <td id=\"T_5208e598_a30e_11ec_ba29_02420a39bffarow4_col2\" class=\"data row4 col2\" >1063</td>\n",
       "            </tr>\n",
       "            <tr>\n",
       "                        <th id=\"T_5208e598_a30e_11ec_ba29_02420a39bffalevel0_row5\" class=\"row_heading level0 row5\" >5</th>\n",
       "                        <td id=\"T_5208e598_a30e_11ec_ba29_02420a39bffarow5_col0\" class=\"data row5 col0\" >9</td>\n",
       "                        <td id=\"T_5208e598_a30e_11ec_ba29_02420a39bffarow5_col1\" class=\"data row5 col1\" >0.00%</td>\n",
       "                        <td id=\"T_5208e598_a30e_11ec_ba29_02420a39bffarow5_col2\" class=\"data row5 col2\" >0</td>\n",
       "            </tr>\n",
       "    </tbody></table>"
      ],
      "text/plain": [
       "<pandas.io.formats.style.Styler at 0x7f1c02c62790>"
      ]
     },
     "execution_count": 14,
     "metadata": {},
     "output_type": "execute_result"
    }
   ],
   "source": [
    "children_report = data.pivot_table(index =  'children', values = 'debt', aggfunc = {'sum', 'count', 'mean'}).fillna(0)\n",
    "children_report.columns = ['debt', '%', 'total']\n",
    "children_report = children_report.sort_values(by=['%'],ascending = False)\n",
    "children_report\n",
    "children_report.style.format({'%':'{:.2%}', 'debt': '{:.0f}'})\n",
    "# свобдная табличка - наш итог, количество займов, количество просрочек,%, то есть отношение одного к другому\n",
    "# сортируем по убыванию"
   ]
  },
  {
   "cell_type": "markdown",
   "id": "dc0803f2",
   "metadata": {},
   "source": [
    "##### Вывод 1: Доля кредитов заемщиков с большим количеством детей мала, но на просрочку они не выходят 0, в отличие от семей с 1-4 детей. В большинстве случаеях наличие детей влияет на возникновение просрочек."
   ]
  },
  {
   "cell_type": "markdown",
   "id": "2987f3ff",
   "metadata": {},
   "source": [
    "##### Вопрос 2: Есть ли зависимость между семейным положением и возвратом кредита в срок?"
   ]
  },
  {
   "cell_type": "code",
   "execution_count": 15,
   "id": "47b5a0c5",
   "metadata": {},
   "outputs": [
    {
     "data": {
      "text/html": [
       "<div>\n",
       "<style scoped>\n",
       "    .dataframe tbody tr th:only-of-type {\n",
       "        vertical-align: middle;\n",
       "    }\n",
       "\n",
       "    .dataframe tbody tr th {\n",
       "        vertical-align: top;\n",
       "    }\n",
       "\n",
       "    .dataframe thead th {\n",
       "        text-align: right;\n",
       "    }\n",
       "</style>\n",
       "<table border=\"1\" class=\"dataframe\">\n",
       "  <thead>\n",
       "    <tr style=\"text-align: right;\">\n",
       "      <th></th>\n",
       "      <th>total</th>\n",
       "      <th>%</th>\n",
       "      <th>debt</th>\n",
       "    </tr>\n",
       "  </thead>\n",
       "  <tbody>\n",
       "    <tr>\n",
       "      <td>4</td>\n",
       "      <td>2810.0</td>\n",
       "      <td>0.097509</td>\n",
       "      <td>274.0</td>\n",
       "    </tr>\n",
       "    <tr>\n",
       "      <td>1</td>\n",
       "      <td>4161.0</td>\n",
       "      <td>0.093247</td>\n",
       "      <td>388.0</td>\n",
       "    </tr>\n",
       "    <tr>\n",
       "      <td>0</td>\n",
       "      <td>12344.0</td>\n",
       "      <td>0.075421</td>\n",
       "      <td>931.0</td>\n",
       "    </tr>\n",
       "    <tr>\n",
       "      <td>3</td>\n",
       "      <td>1195.0</td>\n",
       "      <td>0.071130</td>\n",
       "      <td>85.0</td>\n",
       "    </tr>\n",
       "    <tr>\n",
       "      <td>2</td>\n",
       "      <td>959.0</td>\n",
       "      <td>0.065693</td>\n",
       "      <td>63.0</td>\n",
       "    </tr>\n",
       "  </tbody>\n",
       "</table>\n",
       "</div>"
      ],
      "text/plain": [
       "     total         %   debt\n",
       "4   2810.0  0.097509  274.0\n",
       "1   4161.0  0.093247  388.0\n",
       "0  12344.0  0.075421  931.0\n",
       "3   1195.0  0.071130   85.0\n",
       "2    959.0  0.065693   63.0"
      ]
     },
     "execution_count": 15,
     "metadata": {},
     "output_type": "execute_result"
    }
   ],
   "source": [
    "data_family_debt = data.pivot_table(index = 'family_status_id', values = 'debt', aggfunc = {'sum', 'count', 'mean'}).fillna(0)\n",
    "data_family_debt.columns = ['total', '%', 'debt']\n",
    "data_family_new = family_status_dict.merge(data_family_debt, on = 'family_status_id')\n",
    "data_family_new = data_family_new.drop(columns = ['family_status_id'], axis=1)\n",
    "data_family_new = data_family_new.sort_values(by=['%'], ascending = False)\n",
    "data_family_new\n",
    "# чтобы понять есть ли зависимость возникновения просрочки и СП заемщика, аналогична сводное таблице выше"
   ]
  },
  {
   "cell_type": "markdown",
   "id": "b5067b58",
   "metadata": {},
   "source": []
  },
  {
   "cell_type": "markdown",
   "id": "a68bf79c",
   "metadata": {},
   "source": [
    "##### Вопрос 3: Есть ли зависимость между уровнем дохода и возвратом кредита в срок? "
   ]
  },
  {
   "cell_type": "code",
   "execution_count": 16,
   "id": "44bf1d7e",
   "metadata": {},
   "outputs": [
    {
     "data": {
      "text/html": [
       "<div>\n",
       "<style scoped>\n",
       "    .dataframe tbody tr th:only-of-type {\n",
       "        vertical-align: middle;\n",
       "    }\n",
       "\n",
       "    .dataframe tbody tr th {\n",
       "        vertical-align: top;\n",
       "    }\n",
       "\n",
       "    .dataframe thead th {\n",
       "        text-align: right;\n",
       "    }\n",
       "</style>\n",
       "<table border=\"1\" class=\"dataframe\">\n",
       "  <thead>\n",
       "    <tr style=\"text-align: right;\">\n",
       "      <th></th>\n",
       "      <th>total</th>\n",
       "      <th>%</th>\n",
       "      <th>debt</th>\n",
       "    </tr>\n",
       "    <tr>\n",
       "      <th>total_income_group</th>\n",
       "      <th></th>\n",
       "      <th></th>\n",
       "      <th></th>\n",
       "    </tr>\n",
       "  </thead>\n",
       "  <tbody>\n",
       "    <tr>\n",
       "      <td>E</td>\n",
       "      <td>22.0</td>\n",
       "      <td>0.090909</td>\n",
       "      <td>2.0</td>\n",
       "    </tr>\n",
       "    <tr>\n",
       "      <td>C</td>\n",
       "      <td>16032.0</td>\n",
       "      <td>0.084830</td>\n",
       "      <td>1360.0</td>\n",
       "    </tr>\n",
       "    <tr>\n",
       "      <td>A</td>\n",
       "      <td>25.0</td>\n",
       "      <td>0.080000</td>\n",
       "      <td>2.0</td>\n",
       "    </tr>\n",
       "    <tr>\n",
       "      <td>B</td>\n",
       "      <td>5040.0</td>\n",
       "      <td>0.070635</td>\n",
       "      <td>356.0</td>\n",
       "    </tr>\n",
       "    <tr>\n",
       "      <td>D</td>\n",
       "      <td>350.0</td>\n",
       "      <td>0.060000</td>\n",
       "      <td>21.0</td>\n",
       "    </tr>\n",
       "  </tbody>\n",
       "</table>\n",
       "</div>"
      ],
      "text/plain": [
       "                      total         %    debt\n",
       "total_income_group                           \n",
       "E                      22.0  0.090909     2.0\n",
       "C                   16032.0  0.084830  1360.0\n",
       "A                      25.0  0.080000     2.0\n",
       "B                    5040.0  0.070635   356.0\n",
       "D                     350.0  0.060000    21.0"
      ]
     },
     "execution_count": 16,
     "metadata": {},
     "output_type": "execute_result"
    }
   ],
   "source": [
    "data_income = data.pivot_table(index = ['total_income_group'], values = 'debt', aggfunc = {'sum', 'count', 'mean'}).fillna(0)\n",
    "data_income.columns = ['total', '%', 'debt']\n",
    "data_income = data_income.sort_values(by=['%'], ascending = False)\n",
    "data_income\n",
    "#  все как выше"
   ]
  },
  {
   "cell_type": "markdown",
   "id": "461c6f24",
   "metadata": {},
   "source": [
    "##### Вопрос 4: Как разные цели кредита влияют на его возврат в срок?"
   ]
  },
  {
   "cell_type": "code",
   "execution_count": 17,
   "id": "aabc7983",
   "metadata": {},
   "outputs": [
    {
     "data": {
      "text/html": [
       "<div>\n",
       "<style scoped>\n",
       "    .dataframe tbody tr th:only-of-type {\n",
       "        vertical-align: middle;\n",
       "    }\n",
       "\n",
       "    .dataframe tbody tr th {\n",
       "        vertical-align: top;\n",
       "    }\n",
       "\n",
       "    .dataframe thead th {\n",
       "        text-align: right;\n",
       "    }\n",
       "</style>\n",
       "<table border=\"1\" class=\"dataframe\">\n",
       "  <thead>\n",
       "    <tr style=\"text-align: right;\">\n",
       "      <th></th>\n",
       "      <th>total</th>\n",
       "      <th>%</th>\n",
       "      <th>debt</th>\n",
       "    </tr>\n",
       "    <tr>\n",
       "      <th>purpose_category</th>\n",
       "      <th></th>\n",
       "      <th></th>\n",
       "      <th></th>\n",
       "    </tr>\n",
       "  </thead>\n",
       "  <tbody>\n",
       "    <tr>\n",
       "      <td>операции с автомобилем</td>\n",
       "      <td>4308.0</td>\n",
       "      <td>0.093547</td>\n",
       "      <td>403.0</td>\n",
       "    </tr>\n",
       "    <tr>\n",
       "      <td>получение образования</td>\n",
       "      <td>4014.0</td>\n",
       "      <td>0.092177</td>\n",
       "      <td>370.0</td>\n",
       "    </tr>\n",
       "    <tr>\n",
       "      <td>проведение свадьбы</td>\n",
       "      <td>2334.0</td>\n",
       "      <td>0.079692</td>\n",
       "      <td>186.0</td>\n",
       "    </tr>\n",
       "    <tr>\n",
       "      <td>операции с недвижимостью</td>\n",
       "      <td>10813.0</td>\n",
       "      <td>0.072320</td>\n",
       "      <td>782.0</td>\n",
       "    </tr>\n",
       "  </tbody>\n",
       "</table>\n",
       "</div>"
      ],
      "text/plain": [
       "                            total         %   debt\n",
       "purpose_category                                  \n",
       "операции с автомобилем     4308.0  0.093547  403.0\n",
       "получение образования      4014.0  0.092177  370.0\n",
       "проведение свадьбы         2334.0  0.079692  186.0\n",
       "операции с недвижимостью  10813.0  0.072320  782.0"
      ]
     },
     "execution_count": 17,
     "metadata": {},
     "output_type": "execute_result"
    }
   ],
   "source": [
    "data_purpose = data.pivot_table(index = ['purpose_category'], values = 'debt',aggfunc = {'sum', 'count', 'mean'}).fillna(0)\n",
    "data_purpose.columns = ['total', '%', 'debt']\n",
    "data_purpose = data_purpose.sort_values(by=['%'], ascending = False)\n",
    "data_purpose"
   ]
  },
  {
   "cell_type": "markdown",
   "id": "806e73e7",
   "metadata": {},
   "source": [
    "##### Есть ли зависимость между количеством детей, семейным положением, доходом, целями кредита и возвратом кредита в срок?\n",
    "Люди с детьми выходят на просрочку чаще бездетных, так же как и холостые заемщики чаще выходят на просрочку.\n",
    "Уровень дохода: заемщики с низким и высоким уровнем чаще выходят на просрочки.\n",
    "Цели кредитов почти не влияют на возврат кредита."
   ]
  },
  {
   "cell_type": "markdown",
   "id": "2853b178",
   "metadata": {},
   "source": [
    "<div class=\"alert alert-block alert-success\">\n",
    "\n",
    "    \n",
    "### Комментарий от ревьюера v_1\n",
    "    \n",
    "Отлично\n",
    "\n",
    "Отличный шаг, все расчеты и выводы верны, молодец, что не пренебрегаешь малыми процентами\n",
    "    \n",
    "И выбран оптимальный способ расчета\n",
    "</div>"
   ]
  },
  {
   "cell_type": "markdown",
   "id": "e1868d18",
   "metadata": {},
   "source": [
    "## Общий вывод:"
   ]
  },
  {
   "cell_type": "markdown",
   "id": "18486e90",
   "metadata": {},
   "source": [
    "На бездетных заемщиков приходится большая доля кредитов, или с 1ребенком со средним доходои или ниже, не состоящих в браке. На просрочку часто выходят люди с уровнем дохода ниже среднего и такие люди чаще попадают в просрочку. Еще можно сделать вывод, кредиторы,состоящие в гражданском браке менее отвественно относятся к возврату кредита, нежели кредиторы в браке. Я думаю,что кредиторы состоящие в браке, идут с супругом, как созаемщики и отсюда ответственность возрастает"
   ]
  },
  {
   "cell_type": "markdown",
   "id": "bf49f015",
   "metadata": {},
   "source": [
    "<div class=\"alert alert-block alert-warning\">\n",
    "    \n",
    "\n",
    "### Комментарий от ревьюера v_1\n",
    "Рекомендация\n",
    "    \n",
    "Отличный вывод, но он больше относится к последнему шагу. В общем выводе следует перечислить наиболее важные промежуточные выводы\n",
    "</div>"
   ]
  },
  {
   "cell_type": "code",
   "execution_count": null,
   "id": "d1ab98e4",
   "metadata": {},
   "outputs": [],
   "source": []
  }
 ],
 "metadata": {
  "ExecuteTimeLog": [
   {
    "duration": 632,
    "start_time": "2022-03-03T14:56:14.018Z"
   },
   {
    "duration": 51,
    "start_time": "2022-03-03T14:56:16.458Z"
   },
   {
    "duration": 45,
    "start_time": "2022-03-03T14:56:24.716Z"
   },
   {
    "duration": 59,
    "start_time": "2022-03-03T14:56:54.821Z"
   },
   {
    "duration": 53,
    "start_time": "2022-03-03T14:57:33.326Z"
   },
   {
    "duration": 52,
    "start_time": "2022-03-03T14:58:21.616Z"
   },
   {
    "duration": 11,
    "start_time": "2022-03-03T15:08:18.141Z"
   },
   {
    "duration": 56,
    "start_time": "2022-03-03T15:14:36.948Z"
   },
   {
    "duration": 47,
    "start_time": "2022-03-03T15:46:34.804Z"
   },
   {
    "duration": 45,
    "start_time": "2022-03-03T15:51:19.211Z"
   },
   {
    "duration": 187,
    "start_time": "2022-03-03T15:51:26.581Z"
   },
   {
    "duration": 3594,
    "start_time": "2022-03-03T15:52:05.192Z"
   },
   {
    "duration": 57,
    "start_time": "2022-03-03T15:52:58.603Z"
   },
   {
    "duration": 3398,
    "start_time": "2022-03-03T15:52:58.662Z"
   },
   {
    "duration": 3189,
    "start_time": "2022-03-03T15:53:26.676Z"
   },
   {
    "duration": 55,
    "start_time": "2022-03-03T15:53:32.518Z"
   },
   {
    "duration": 3300,
    "start_time": "2022-03-03T15:53:32.575Z"
   },
   {
    "duration": 61,
    "start_time": "2022-03-03T15:54:27.760Z"
   },
   {
    "duration": 7,
    "start_time": "2022-03-03T15:54:27.823Z"
   },
   {
    "duration": 7,
    "start_time": "2022-03-03T15:55:24.892Z"
   },
   {
    "duration": 42,
    "start_time": "2022-03-03T15:56:56.864Z"
   },
   {
    "duration": 9,
    "start_time": "2022-03-03T15:57:09.491Z"
   },
   {
    "duration": 15,
    "start_time": "2022-03-03T15:59:46.317Z"
   },
   {
    "duration": 60,
    "start_time": "2022-03-03T16:00:01.153Z"
   },
   {
    "duration": 14,
    "start_time": "2022-03-03T16:00:01.216Z"
   },
   {
    "duration": 19,
    "start_time": "2022-03-03T16:00:55.734Z"
   },
   {
    "duration": 61,
    "start_time": "2022-03-03T16:01:02.754Z"
   },
   {
    "duration": 18,
    "start_time": "2022-03-03T16:01:02.817Z"
   },
   {
    "duration": 11,
    "start_time": "2022-03-03T16:01:18.286Z"
   },
   {
    "duration": 575,
    "start_time": "2022-03-03T16:01:42.594Z"
   },
   {
    "duration": 10,
    "start_time": "2022-03-03T16:01:43.171Z"
   },
   {
    "duration": 15,
    "start_time": "2022-03-03T16:01:56.021Z"
   },
   {
    "duration": 55,
    "start_time": "2022-03-03T16:13:06.908Z"
   },
   {
    "duration": 13,
    "start_time": "2022-03-03T16:13:06.965Z"
   },
   {
    "duration": 45,
    "start_time": "2022-03-03T16:28:19.228Z"
   },
   {
    "duration": 40,
    "start_time": "2022-03-03T16:28:23.321Z"
   },
   {
    "duration": 55,
    "start_time": "2022-03-03T16:28:30.107Z"
   },
   {
    "duration": 13,
    "start_time": "2022-03-03T16:28:30.164Z"
   },
   {
    "duration": 212,
    "start_time": "2022-03-03T16:28:30.180Z"
   },
   {
    "duration": -763,
    "start_time": "2022-03-03T16:28:31.157Z"
   },
   {
    "duration": 12,
    "start_time": "2022-03-03T16:31:40.619Z"
   },
   {
    "duration": 8,
    "start_time": "2022-03-03T16:34:07.557Z"
   },
   {
    "duration": 7,
    "start_time": "2022-03-03T16:34:10.894Z"
   },
   {
    "duration": 9,
    "start_time": "2022-03-03T16:34:34.840Z"
   },
   {
    "duration": 13,
    "start_time": "2022-03-03T16:58:31.194Z"
   },
   {
    "duration": 11,
    "start_time": "2022-03-03T16:58:35.295Z"
   },
   {
    "duration": 12,
    "start_time": "2022-03-03T16:58:55.419Z"
   },
   {
    "duration": 59,
    "start_time": "2022-03-03T16:59:28.919Z"
   },
   {
    "duration": 13,
    "start_time": "2022-03-03T17:02:38.359Z"
   },
   {
    "duration": 12,
    "start_time": "2022-03-03T17:02:41.589Z"
   },
   {
    "duration": 12,
    "start_time": "2022-03-03T17:03:03.208Z"
   },
   {
    "duration": 13,
    "start_time": "2022-03-03T17:03:56.009Z"
   },
   {
    "duration": 161,
    "start_time": "2022-03-03T17:22:35.042Z"
   },
   {
    "duration": 168,
    "start_time": "2022-03-03T17:23:34.181Z"
   },
   {
    "duration": 54,
    "start_time": "2022-03-03T17:23:38.480Z"
   },
   {
    "duration": 12,
    "start_time": "2022-03-03T17:23:38.537Z"
   },
   {
    "duration": 14,
    "start_time": "2022-03-03T17:23:38.551Z"
   },
   {
    "duration": 11,
    "start_time": "2022-03-03T17:23:38.566Z"
   },
   {
    "duration": 22,
    "start_time": "2022-03-03T17:23:59.170Z"
   },
   {
    "duration": 14,
    "start_time": "2022-03-03T17:25:42.584Z"
   },
   {
    "duration": 15,
    "start_time": "2022-03-03T17:26:38.631Z"
   },
   {
    "duration": 22,
    "start_time": "2022-03-03T17:37:11.546Z"
   },
   {
    "duration": 70,
    "start_time": "2022-03-03T17:37:26.691Z"
   },
   {
    "duration": 11,
    "start_time": "2022-03-03T17:37:26.763Z"
   },
   {
    "duration": 14,
    "start_time": "2022-03-03T17:37:26.776Z"
   },
   {
    "duration": 10,
    "start_time": "2022-03-03T17:37:26.792Z"
   },
   {
    "duration": 19,
    "start_time": "2022-03-03T17:37:41.910Z"
   },
   {
    "duration": 184,
    "start_time": "2022-03-03T17:37:59.893Z"
   },
   {
    "duration": 150,
    "start_time": "2022-03-03T17:38:03.219Z"
   },
   {
    "duration": 17,
    "start_time": "2022-03-03T17:38:19.498Z"
   },
   {
    "duration": 19,
    "start_time": "2022-03-03T17:38:32.390Z"
   },
   {
    "duration": 18,
    "start_time": "2022-03-03T17:42:10.598Z"
   },
   {
    "duration": 18,
    "start_time": "2022-03-03T17:42:23.671Z"
   },
   {
    "duration": 51,
    "start_time": "2022-03-03T17:44:03.552Z"
   },
   {
    "duration": 22,
    "start_time": "2022-03-03T17:44:11.761Z"
   },
   {
    "duration": 15,
    "start_time": "2022-03-03T17:45:00.288Z"
   },
   {
    "duration": 18,
    "start_time": "2022-03-03T17:46:47.805Z"
   },
   {
    "duration": 20,
    "start_time": "2022-03-03T17:53:22.646Z"
   },
   {
    "duration": 56,
    "start_time": "2022-03-03T17:53:37.806Z"
   },
   {
    "duration": 13,
    "start_time": "2022-03-03T17:53:37.865Z"
   },
   {
    "duration": 20,
    "start_time": "2022-03-03T17:53:37.880Z"
   },
   {
    "duration": 49,
    "start_time": "2022-03-03T17:53:37.902Z"
   },
   {
    "duration": 33,
    "start_time": "2022-03-03T18:15:55.764Z"
   },
   {
    "duration": 20,
    "start_time": "2022-03-03T18:16:05.512Z"
   },
   {
    "duration": 21,
    "start_time": "2022-03-03T18:16:07.752Z"
   },
   {
    "duration": 26,
    "start_time": "2022-03-03T18:16:20.348Z"
   },
   {
    "duration": 32,
    "start_time": "2022-03-03T18:16:45.114Z"
   },
   {
    "duration": 21,
    "start_time": "2022-03-03T18:16:56.656Z"
   },
   {
    "duration": 26,
    "start_time": "2022-03-03T18:17:00.304Z"
   },
   {
    "duration": 65,
    "start_time": "2022-03-03T18:17:06.051Z"
   },
   {
    "duration": 14,
    "start_time": "2022-03-03T18:17:06.118Z"
   },
   {
    "duration": 41,
    "start_time": "2022-03-03T18:17:06.134Z"
   },
   {
    "duration": 31,
    "start_time": "2022-03-03T18:17:06.177Z"
   },
   {
    "duration": 28,
    "start_time": "2022-03-03T18:17:16.323Z"
   },
   {
    "duration": 19,
    "start_time": "2022-03-03T18:37:44.967Z"
   },
   {
    "duration": 21,
    "start_time": "2022-03-03T18:37:47.804Z"
   },
   {
    "duration": 22,
    "start_time": "2022-03-03T18:37:50.976Z"
   },
   {
    "duration": 29,
    "start_time": "2022-03-03T18:38:00.097Z"
   },
   {
    "duration": 49,
    "start_time": "2022-03-03T18:38:14.650Z"
   },
   {
    "duration": 68,
    "start_time": "2022-03-03T18:52:01.292Z"
   },
   {
    "duration": 14,
    "start_time": "2022-03-03T18:52:01.362Z"
   },
   {
    "duration": 29,
    "start_time": "2022-03-03T18:52:18.308Z"
   },
   {
    "duration": 15427,
    "start_time": "2022-03-03T18:52:33.950Z"
   },
   {
    "duration": 15797,
    "start_time": "2022-03-03T18:53:08.535Z"
   },
   {
    "duration": 15959,
    "start_time": "2022-03-03T18:53:32.950Z"
   },
   {
    "duration": 167,
    "start_time": "2022-03-03T18:56:52.350Z"
   },
   {
    "duration": 172,
    "start_time": "2022-03-03T18:57:24.885Z"
   },
   {
    "duration": 65,
    "start_time": "2022-03-03T18:57:31.639Z"
   },
   {
    "duration": 11,
    "start_time": "2022-03-03T18:57:31.706Z"
   },
   {
    "duration": 211,
    "start_time": "2022-03-03T18:57:31.719Z"
   },
   {
    "duration": -876,
    "start_time": "2022-03-03T18:57:32.808Z"
   },
   {
    "duration": 28,
    "start_time": "2022-03-03T18:57:48.458Z"
   },
   {
    "duration": 32,
    "start_time": "2022-03-03T18:58:05.437Z"
   },
   {
    "duration": 65,
    "start_time": "2022-03-03T18:58:10.931Z"
   },
   {
    "duration": 13,
    "start_time": "2022-03-03T18:58:10.998Z"
   },
   {
    "duration": 42,
    "start_time": "2022-03-03T18:58:11.014Z"
   },
   {
    "duration": 19,
    "start_time": "2022-03-03T18:58:11.058Z"
   },
   {
    "duration": 28,
    "start_time": "2022-03-03T18:58:32.067Z"
   },
   {
    "duration": 62,
    "start_time": "2022-03-03T19:00:20.338Z"
   },
   {
    "duration": 12,
    "start_time": "2022-03-03T19:00:20.402Z"
   },
   {
    "duration": 32,
    "start_time": "2022-03-03T19:00:20.416Z"
   },
   {
    "duration": 19,
    "start_time": "2022-03-03T19:00:20.450Z"
   },
   {
    "duration": 26,
    "start_time": "2022-03-03T19:02:48.597Z"
   },
   {
    "duration": 53,
    "start_time": "2022-03-03T19:03:01.862Z"
   },
   {
    "duration": 12,
    "start_time": "2022-03-03T19:03:01.917Z"
   },
   {
    "duration": 36,
    "start_time": "2022-03-03T19:03:01.931Z"
   },
   {
    "duration": 18,
    "start_time": "2022-03-03T19:03:01.969Z"
   },
   {
    "duration": 26,
    "start_time": "2022-03-03T19:03:33.464Z"
   },
   {
    "duration": 25,
    "start_time": "2022-03-03T19:04:07.902Z"
   },
   {
    "duration": 23,
    "start_time": "2022-03-03T19:04:23.351Z"
   },
   {
    "duration": 60,
    "start_time": "2022-03-03T19:04:28.967Z"
   },
   {
    "duration": 13,
    "start_time": "2022-03-03T19:04:29.029Z"
   },
   {
    "duration": 28,
    "start_time": "2022-03-03T19:04:29.044Z"
   },
   {
    "duration": 18,
    "start_time": "2022-03-03T19:04:29.073Z"
   },
   {
    "duration": 44,
    "start_time": "2022-03-03T19:04:45.319Z"
   },
   {
    "duration": 31,
    "start_time": "2022-03-03T19:07:24.024Z"
   },
   {
    "duration": 30,
    "start_time": "2022-03-03T19:12:41.361Z"
   },
   {
    "duration": 65,
    "start_time": "2022-03-03T19:13:29.085Z"
   },
   {
    "duration": 12,
    "start_time": "2022-03-03T19:13:29.152Z"
   },
   {
    "duration": 25,
    "start_time": "2022-03-03T19:13:29.166Z"
   },
   {
    "duration": 17,
    "start_time": "2022-03-03T19:13:29.192Z"
   },
   {
    "duration": 19,
    "start_time": "2022-03-03T19:13:37.466Z"
   },
   {
    "duration": 6,
    "start_time": "2022-03-03T19:15:10.428Z"
   },
   {
    "duration": 57,
    "start_time": "2022-03-03T19:15:14.707Z"
   },
   {
    "duration": 13,
    "start_time": "2022-03-03T19:15:14.767Z"
   },
   {
    "duration": 34,
    "start_time": "2022-03-03T19:15:14.782Z"
   },
   {
    "duration": 25,
    "start_time": "2022-03-03T19:15:14.817Z"
   },
   {
    "duration": 5,
    "start_time": "2022-03-03T19:15:54.526Z"
   },
   {
    "duration": 5,
    "start_time": "2022-03-03T19:16:04.027Z"
   },
   {
    "duration": 5,
    "start_time": "2022-03-03T19:16:07.661Z"
   },
   {
    "duration": 595,
    "start_time": "2022-03-03T19:16:16.463Z"
   },
   {
    "duration": 13,
    "start_time": "2022-03-03T19:16:17.060Z"
   },
   {
    "duration": 24,
    "start_time": "2022-03-03T19:16:17.075Z"
   },
   {
    "duration": 6,
    "start_time": "2022-03-03T19:16:17.100Z"
   },
   {
    "duration": 184,
    "start_time": "2022-03-03T19:24:19.321Z"
   },
   {
    "duration": 33,
    "start_time": "2022-03-03T19:24:31.524Z"
   },
   {
    "duration": 5,
    "start_time": "2022-03-03T19:26:44.721Z"
   },
   {
    "duration": 13,
    "start_time": "2022-03-03T19:27:48.048Z"
   },
   {
    "duration": 6,
    "start_time": "2022-03-03T19:28:58.851Z"
   },
   {
    "duration": 7,
    "start_time": "2022-03-03T19:29:46.354Z"
   },
   {
    "duration": 6,
    "start_time": "2022-03-03T19:30:03.265Z"
   },
   {
    "duration": 7,
    "start_time": "2022-03-03T19:30:27.953Z"
   },
   {
    "duration": 8,
    "start_time": "2022-03-03T19:33:56.461Z"
   },
   {
    "duration": 13,
    "start_time": "2022-03-03T19:57:19.936Z"
   },
   {
    "duration": 138,
    "start_time": "2022-03-03T20:04:48.804Z"
   },
   {
    "duration": 22,
    "start_time": "2022-03-03T20:04:59.157Z"
   },
   {
    "duration": 23,
    "start_time": "2022-03-03T20:05:05.824Z"
   },
   {
    "duration": 60,
    "start_time": "2022-03-03T20:05:12.989Z"
   },
   {
    "duration": 12,
    "start_time": "2022-03-03T20:05:13.051Z"
   },
   {
    "duration": 23,
    "start_time": "2022-03-03T20:05:13.065Z"
   },
   {
    "duration": 4,
    "start_time": "2022-03-03T20:05:13.090Z"
   },
   {
    "duration": 31,
    "start_time": "2022-03-03T20:05:13.096Z"
   },
   {
    "duration": 23,
    "start_time": "2022-03-03T20:05:13.138Z"
   },
   {
    "duration": 23,
    "start_time": "2022-03-03T20:05:28.004Z"
   },
   {
    "duration": 22,
    "start_time": "2022-03-03T20:06:02.836Z"
   },
   {
    "duration": 21,
    "start_time": "2022-03-03T20:06:07.171Z"
   },
   {
    "duration": 22,
    "start_time": "2022-03-03T20:06:14.729Z"
   },
   {
    "duration": 25,
    "start_time": "2022-03-03T20:08:59.770Z"
   },
   {
    "duration": 19,
    "start_time": "2022-03-03T20:17:43.962Z"
   },
   {
    "duration": 46,
    "start_time": "2022-03-03T20:19:35.932Z"
   },
   {
    "duration": 55,
    "start_time": "2022-03-03T20:21:25.435Z"
   },
   {
    "duration": 56,
    "start_time": "2022-03-03T20:21:31.478Z"
   },
   {
    "duration": 19,
    "start_time": "2022-03-03T20:21:31.536Z"
   },
   {
    "duration": 27,
    "start_time": "2022-03-03T20:21:31.557Z"
   },
   {
    "duration": 4,
    "start_time": "2022-03-03T20:21:31.586Z"
   },
   {
    "duration": 61,
    "start_time": "2022-03-03T20:21:31.592Z"
   },
   {
    "duration": 14,
    "start_time": "2022-03-03T20:21:31.654Z"
   },
   {
    "duration": 50,
    "start_time": "2022-03-03T20:50:47.268Z"
   },
   {
    "duration": 49,
    "start_time": "2022-03-03T20:53:26.576Z"
   },
   {
    "duration": 53,
    "start_time": "2022-03-03T20:54:01.729Z"
   },
   {
    "duration": 47,
    "start_time": "2022-03-03T20:55:20.381Z"
   },
   {
    "duration": 41,
    "start_time": "2022-03-03T20:55:38.650Z"
   },
   {
    "duration": 17,
    "start_time": "2022-03-03T20:56:01.593Z"
   },
   {
    "duration": 13,
    "start_time": "2022-03-03T20:58:03.125Z"
   },
   {
    "duration": 46,
    "start_time": "2022-03-03T21:02:58.656Z"
   },
   {
    "duration": 47,
    "start_time": "2022-03-03T21:03:06.292Z"
   },
   {
    "duration": 41,
    "start_time": "2022-03-03T21:12:20.024Z"
   },
   {
    "duration": 2,
    "start_time": "2022-03-03T21:12:46.090Z"
   },
   {
    "duration": 9,
    "start_time": "2022-03-03T21:13:58.211Z"
   },
   {
    "duration": 8,
    "start_time": "2022-03-03T21:14:19.826Z"
   },
   {
    "duration": 624,
    "start_time": "2022-03-03T21:14:52.236Z"
   },
   {
    "duration": 13,
    "start_time": "2022-03-03T21:14:52.861Z"
   },
   {
    "duration": 24,
    "start_time": "2022-03-03T21:14:52.876Z"
   },
   {
    "duration": 5,
    "start_time": "2022-03-03T21:14:52.902Z"
   },
   {
    "duration": 60,
    "start_time": "2022-03-03T21:14:52.909Z"
   },
   {
    "duration": 2,
    "start_time": "2022-03-03T21:14:52.970Z"
   },
   {
    "duration": 9,
    "start_time": "2022-03-03T21:15:04.333Z"
   },
   {
    "duration": 10,
    "start_time": "2022-03-03T21:15:26.294Z"
   },
   {
    "duration": 9,
    "start_time": "2022-03-03T21:15:43.702Z"
   },
   {
    "duration": 49,
    "start_time": "2022-03-03T21:18:10.771Z"
   },
   {
    "duration": 53,
    "start_time": "2022-03-03T21:18:18.766Z"
   },
   {
    "duration": 27,
    "start_time": "2022-03-03T21:33:42.955Z"
   },
   {
    "duration": 272,
    "start_time": "2022-03-03T22:08:40.547Z"
   },
   {
    "duration": 87,
    "start_time": "2022-03-03T22:08:55.746Z"
   },
   {
    "duration": 89,
    "start_time": "2022-03-03T22:09:45.349Z"
   },
   {
    "duration": 64,
    "start_time": "2022-03-03T22:10:34.397Z"
   },
   {
    "duration": 13,
    "start_time": "2022-03-03T22:10:34.462Z"
   },
   {
    "duration": 24,
    "start_time": "2022-03-03T22:10:34.477Z"
   },
   {
    "duration": 8,
    "start_time": "2022-03-03T22:10:34.503Z"
   },
   {
    "duration": 81,
    "start_time": "2022-03-03T22:10:34.538Z"
   },
   {
    "duration": 2,
    "start_time": "2022-03-03T22:10:34.637Z"
   },
   {
    "duration": 149,
    "start_time": "2022-03-03T22:20:37.027Z"
   },
   {
    "duration": 21,
    "start_time": "2022-03-03T22:21:27.457Z"
   },
   {
    "duration": 45,
    "start_time": "2022-03-03T22:26:28.943Z"
   },
   {
    "duration": 3078,
    "start_time": "2022-03-03T22:29:19.380Z"
   },
   {
    "duration": 48,
    "start_time": "2022-03-03T22:29:55.091Z"
   },
   {
    "duration": 54,
    "start_time": "2022-03-03T22:30:00.177Z"
   },
   {
    "duration": 11,
    "start_time": "2022-03-03T22:30:00.233Z"
   },
   {
    "duration": 23,
    "start_time": "2022-03-03T22:30:00.246Z"
   },
   {
    "duration": 12,
    "start_time": "2022-03-03T22:30:00.271Z"
   },
   {
    "duration": 89,
    "start_time": "2022-03-03T22:30:00.285Z"
   },
   {
    "duration": 44,
    "start_time": "2022-03-03T22:30:00.375Z"
   },
   {
    "duration": 3,
    "start_time": "2022-03-03T22:30:00.438Z"
   },
   {
    "duration": 635,
    "start_time": "2022-03-03T22:30:14.321Z"
   },
   {
    "duration": 13,
    "start_time": "2022-03-03T22:30:14.958Z"
   },
   {
    "duration": 24,
    "start_time": "2022-03-03T22:30:14.973Z"
   },
   {
    "duration": 12,
    "start_time": "2022-03-03T22:30:14.999Z"
   },
   {
    "duration": 106,
    "start_time": "2022-03-03T22:30:15.014Z"
   },
   {
    "duration": 58,
    "start_time": "2022-03-03T22:30:15.121Z"
   },
   {
    "duration": 2,
    "start_time": "2022-03-03T22:30:15.181Z"
   },
   {
    "duration": 186,
    "start_time": "2022-03-03T22:31:40.267Z"
   },
   {
    "duration": 44,
    "start_time": "2022-03-03T22:32:30.417Z"
   },
   {
    "duration": 135,
    "start_time": "2022-03-03T22:35:58.574Z"
   },
   {
    "duration": 50,
    "start_time": "2022-03-03T22:36:18.346Z"
   },
   {
    "duration": 49,
    "start_time": "2022-03-03T22:38:36.990Z"
   },
   {
    "duration": 53,
    "start_time": "2022-03-03T22:39:00.578Z"
   },
   {
    "duration": 49,
    "start_time": "2022-03-03T22:39:14.330Z"
   },
   {
    "duration": 582,
    "start_time": "2022-03-03T22:39:43.786Z"
   },
   {
    "duration": 13,
    "start_time": "2022-03-03T22:39:44.370Z"
   },
   {
    "duration": 22,
    "start_time": "2022-03-03T22:39:44.385Z"
   },
   {
    "duration": 7,
    "start_time": "2022-03-03T22:39:44.409Z"
   },
   {
    "duration": 97,
    "start_time": "2022-03-03T22:39:44.418Z"
   },
   {
    "duration": 60,
    "start_time": "2022-03-03T22:39:44.517Z"
   },
   {
    "duration": 2,
    "start_time": "2022-03-03T22:39:44.579Z"
   },
   {
    "duration": 82,
    "start_time": "2022-03-03T23:06:10.129Z"
   },
   {
    "duration": 598,
    "start_time": "2022-03-03T23:07:35.950Z"
   },
   {
    "duration": 12,
    "start_time": "2022-03-03T23:07:36.549Z"
   },
   {
    "duration": 23,
    "start_time": "2022-03-03T23:07:36.563Z"
   },
   {
    "duration": 9,
    "start_time": "2022-03-03T23:07:36.587Z"
   },
   {
    "duration": 96,
    "start_time": "2022-03-03T23:07:36.597Z"
   },
   {
    "duration": 85,
    "start_time": "2022-03-03T23:07:36.694Z"
   },
   {
    "duration": 2,
    "start_time": "2022-03-03T23:07:36.780Z"
   },
   {
    "duration": 49,
    "start_time": "2022-03-03T23:08:44.400Z"
   },
   {
    "duration": 40,
    "start_time": "2022-03-03T23:08:55.354Z"
   },
   {
    "duration": 55,
    "start_time": "2022-03-03T23:09:04.381Z"
   },
   {
    "duration": 51,
    "start_time": "2022-03-03T23:09:11.810Z"
   },
   {
    "duration": 78,
    "start_time": "2022-03-03T23:10:07.324Z"
   },
   {
    "duration": 79,
    "start_time": "2022-03-03T23:16:38.033Z"
   },
   {
    "duration": 79,
    "start_time": "2022-03-03T23:17:06.323Z"
   },
   {
    "duration": 84,
    "start_time": "2022-03-03T23:17:10.964Z"
   },
   {
    "duration": 78,
    "start_time": "2022-03-03T23:17:45.312Z"
   },
   {
    "duration": 54,
    "start_time": "2022-03-03T23:17:52.284Z"
   },
   {
    "duration": 11,
    "start_time": "2022-03-03T23:17:52.340Z"
   },
   {
    "duration": 20,
    "start_time": "2022-03-03T23:17:52.353Z"
   },
   {
    "duration": 7,
    "start_time": "2022-03-03T23:17:52.375Z"
   },
   {
    "duration": 98,
    "start_time": "2022-03-03T23:17:52.384Z"
   },
   {
    "duration": 89,
    "start_time": "2022-03-03T23:17:52.483Z"
   },
   {
    "duration": 2,
    "start_time": "2022-03-03T23:17:52.573Z"
   },
   {
    "duration": 656,
    "start_time": "2022-03-03T23:18:08.147Z"
   },
   {
    "duration": 12,
    "start_time": "2022-03-03T23:18:08.805Z"
   },
   {
    "duration": 26,
    "start_time": "2022-03-03T23:18:08.820Z"
   },
   {
    "duration": 7,
    "start_time": "2022-03-03T23:18:08.848Z"
   },
   {
    "duration": 87,
    "start_time": "2022-03-03T23:18:08.857Z"
   },
   {
    "duration": 112,
    "start_time": "2022-03-03T23:18:08.946Z"
   },
   {
    "duration": 3,
    "start_time": "2022-03-03T23:18:09.059Z"
   },
   {
    "duration": 84,
    "start_time": "2022-03-03T23:18:45.454Z"
   },
   {
    "duration": 78,
    "start_time": "2022-03-03T23:20:29.802Z"
   },
   {
    "duration": 261,
    "start_time": "2022-03-03T23:21:31.946Z"
   },
   {
    "duration": 56,
    "start_time": "2022-03-03T23:22:07.119Z"
   },
   {
    "duration": 13,
    "start_time": "2022-03-03T23:22:07.177Z"
   },
   {
    "duration": 22,
    "start_time": "2022-03-03T23:22:07.193Z"
   },
   {
    "duration": 27,
    "start_time": "2022-03-03T23:22:07.217Z"
   },
   {
    "duration": 78,
    "start_time": "2022-03-03T23:22:07.246Z"
   },
   {
    "duration": 202,
    "start_time": "2022-03-03T23:22:07.338Z"
   },
   {
    "duration": -1083,
    "start_time": "2022-03-03T23:22:08.625Z"
   },
   {
    "duration": 202,
    "start_time": "2022-03-03T23:22:29.376Z"
   },
   {
    "duration": 616,
    "start_time": "2022-03-03T23:23:14.858Z"
   },
   {
    "duration": 12,
    "start_time": "2022-03-03T23:23:15.476Z"
   },
   {
    "duration": 24,
    "start_time": "2022-03-03T23:23:15.490Z"
   },
   {
    "duration": 10,
    "start_time": "2022-03-03T23:23:15.516Z"
   },
   {
    "duration": 73,
    "start_time": "2022-03-03T23:23:15.538Z"
   },
   {
    "duration": 265,
    "start_time": "2022-03-03T23:23:15.612Z"
   },
   {
    "duration": -1079,
    "start_time": "2022-03-03T23:23:16.958Z"
   },
   {
    "duration": 78,
    "start_time": "2022-03-03T23:23:33.623Z"
   },
   {
    "duration": 54,
    "start_time": "2022-03-03T23:23:44.203Z"
   },
   {
    "duration": 12,
    "start_time": "2022-03-03T23:23:44.259Z"
   },
   {
    "duration": 20,
    "start_time": "2022-03-03T23:23:44.273Z"
   },
   {
    "duration": 8,
    "start_time": "2022-03-03T23:23:44.295Z"
   },
   {
    "duration": 91,
    "start_time": "2022-03-03T23:23:44.305Z"
   },
   {
    "duration": 95,
    "start_time": "2022-03-03T23:23:44.398Z"
   },
   {
    "duration": 2,
    "start_time": "2022-03-03T23:23:44.495Z"
   },
   {
    "duration": 211,
    "start_time": "2022-03-03T23:23:55.891Z"
   },
   {
    "duration": 200,
    "start_time": "2022-03-03T23:24:11.820Z"
   },
   {
    "duration": 597,
    "start_time": "2022-03-03T23:24:21.256Z"
   },
   {
    "duration": 12,
    "start_time": "2022-03-03T23:24:21.855Z"
   },
   {
    "duration": 22,
    "start_time": "2022-03-03T23:24:21.869Z"
   },
   {
    "duration": 8,
    "start_time": "2022-03-03T23:24:21.893Z"
   },
   {
    "duration": 99,
    "start_time": "2022-03-03T23:24:21.902Z"
   },
   {
    "duration": 258,
    "start_time": "2022-03-03T23:24:22.002Z"
   },
   {
    "duration": -1077,
    "start_time": "2022-03-03T23:24:23.339Z"
   },
   {
    "duration": 78,
    "start_time": "2022-03-03T23:24:41.285Z"
   },
   {
    "duration": 178,
    "start_time": "2022-03-03T23:29:28.813Z"
   },
   {
    "duration": 57,
    "start_time": "2022-03-03T23:29:45.099Z"
   },
   {
    "duration": 10,
    "start_time": "2022-03-03T23:29:45.158Z"
   },
   {
    "duration": 21,
    "start_time": "2022-03-03T23:29:45.170Z"
   },
   {
    "duration": 8,
    "start_time": "2022-03-03T23:29:45.192Z"
   },
   {
    "duration": 97,
    "start_time": "2022-03-03T23:29:45.202Z"
   },
   {
    "duration": 186,
    "start_time": "2022-03-03T23:29:45.300Z"
   },
   {
    "duration": -1095,
    "start_time": "2022-03-03T23:29:46.583Z"
   },
   {
    "duration": 226,
    "start_time": "2022-03-03T23:30:22.596Z"
   },
   {
    "duration": 82,
    "start_time": "2022-03-03T23:31:08.084Z"
   },
   {
    "duration": 56,
    "start_time": "2022-03-03T23:31:18.300Z"
   },
   {
    "duration": 11,
    "start_time": "2022-03-03T23:31:18.357Z"
   },
   {
    "duration": 21,
    "start_time": "2022-03-03T23:31:18.370Z"
   },
   {
    "duration": 8,
    "start_time": "2022-03-03T23:31:18.392Z"
   },
   {
    "duration": 95,
    "start_time": "2022-03-03T23:31:18.402Z"
   },
   {
    "duration": 87,
    "start_time": "2022-03-03T23:31:18.499Z"
   },
   {
    "duration": 2,
    "start_time": "2022-03-03T23:31:18.588Z"
   },
   {
    "duration": 56,
    "start_time": "2022-03-03T23:34:16.723Z"
   },
   {
    "duration": 12,
    "start_time": "2022-03-03T23:34:16.780Z"
   },
   {
    "duration": 21,
    "start_time": "2022-03-03T23:34:16.794Z"
   },
   {
    "duration": 26,
    "start_time": "2022-03-03T23:34:16.817Z"
   },
   {
    "duration": 75,
    "start_time": "2022-03-03T23:34:16.845Z"
   },
   {
    "duration": 91,
    "start_time": "2022-03-03T23:34:16.922Z"
   },
   {
    "duration": 23,
    "start_time": "2022-03-03T23:34:17.015Z"
   },
   {
    "duration": 50,
    "start_time": "2022-03-03T23:44:38.970Z"
   },
   {
    "duration": 13,
    "start_time": "2022-03-03T23:44:49.258Z"
   },
   {
    "duration": 576,
    "start_time": "2022-03-03T23:45:37.871Z"
   },
   {
    "duration": 12,
    "start_time": "2022-03-03T23:45:38.449Z"
   },
   {
    "duration": 23,
    "start_time": "2022-03-03T23:45:38.463Z"
   },
   {
    "duration": 8,
    "start_time": "2022-03-03T23:45:38.488Z"
   },
   {
    "duration": 95,
    "start_time": "2022-03-03T23:45:38.498Z"
   },
   {
    "duration": 90,
    "start_time": "2022-03-03T23:45:38.595Z"
   },
   {
    "duration": 13,
    "start_time": "2022-03-03T23:45:38.688Z"
   },
   {
    "duration": 56,
    "start_time": "2022-03-03T23:48:05.995Z"
   },
   {
    "duration": 12,
    "start_time": "2022-03-03T23:48:06.053Z"
   },
   {
    "duration": 21,
    "start_time": "2022-03-03T23:48:06.067Z"
   },
   {
    "duration": 8,
    "start_time": "2022-03-03T23:48:06.090Z"
   },
   {
    "duration": 97,
    "start_time": "2022-03-03T23:48:06.099Z"
   },
   {
    "duration": 92,
    "start_time": "2022-03-03T23:48:06.198Z"
   },
   {
    "duration": 12,
    "start_time": "2022-03-03T23:48:06.292Z"
   },
   {
    "duration": 5,
    "start_time": "2022-03-03T23:53:57.512Z"
   },
   {
    "duration": 56,
    "start_time": "2022-03-03T23:54:11.549Z"
   },
   {
    "duration": 12,
    "start_time": "2022-03-03T23:54:11.606Z"
   },
   {
    "duration": 22,
    "start_time": "2022-03-03T23:54:11.620Z"
   },
   {
    "duration": 5,
    "start_time": "2022-03-03T23:54:11.644Z"
   },
   {
    "duration": 92,
    "start_time": "2022-03-03T23:54:11.651Z"
   },
   {
    "duration": 104,
    "start_time": "2022-03-03T23:54:11.745Z"
   },
   {
    "duration": 12,
    "start_time": "2022-03-03T23:54:11.851Z"
   },
   {
    "duration": 12,
    "start_time": "2022-03-04T00:04:09.594Z"
   },
   {
    "duration": 11,
    "start_time": "2022-03-04T00:04:21.338Z"
   },
   {
    "duration": 12,
    "start_time": "2022-03-04T00:04:44.883Z"
   },
   {
    "duration": 24,
    "start_time": "2022-03-04T00:05:26.691Z"
   },
   {
    "duration": 14,
    "start_time": "2022-03-04T00:07:08.829Z"
   },
   {
    "duration": 10,
    "start_time": "2022-03-04T00:07:33.875Z"
   },
   {
    "duration": 8,
    "start_time": "2022-03-04T00:07:45.867Z"
   },
   {
    "duration": 44,
    "start_time": "2022-03-04T00:08:58.502Z"
   },
   {
    "duration": 9,
    "start_time": "2022-03-04T00:09:05.316Z"
   },
   {
    "duration": 9,
    "start_time": "2022-03-04T00:09:26.277Z"
   },
   {
    "duration": 13,
    "start_time": "2022-03-04T00:10:05.241Z"
   },
   {
    "duration": 11,
    "start_time": "2022-03-04T00:10:14.650Z"
   },
   {
    "duration": 10,
    "start_time": "2022-03-04T00:10:22.370Z"
   },
   {
    "duration": 10,
    "start_time": "2022-03-04T00:10:38.390Z"
   },
   {
    "duration": 159,
    "start_time": "2022-03-04T07:58:31.744Z"
   },
   {
    "duration": 563,
    "start_time": "2022-03-04T07:59:13.878Z"
   },
   {
    "duration": 12,
    "start_time": "2022-03-04T07:59:14.442Z"
   },
   {
    "duration": 23,
    "start_time": "2022-03-04T07:59:14.456Z"
   },
   {
    "duration": 5,
    "start_time": "2022-03-04T07:59:14.480Z"
   },
   {
    "duration": 99,
    "start_time": "2022-03-04T07:59:14.487Z"
   },
   {
    "duration": 85,
    "start_time": "2022-03-04T07:59:14.588Z"
   },
   {
    "duration": 11,
    "start_time": "2022-03-04T07:59:14.675Z"
   },
   {
    "duration": 11,
    "start_time": "2022-03-04T07:59:14.688Z"
   },
   {
    "duration": 48,
    "start_time": "2022-03-04T08:10:56.770Z"
   },
   {
    "duration": 10,
    "start_time": "2022-03-04T08:11:52.130Z"
   },
   {
    "duration": 55,
    "start_time": "2022-03-04T08:12:03.424Z"
   },
   {
    "duration": 11,
    "start_time": "2022-03-04T08:12:03.481Z"
   },
   {
    "duration": 39,
    "start_time": "2022-03-04T08:12:03.494Z"
   },
   {
    "duration": 4,
    "start_time": "2022-03-04T08:12:03.535Z"
   },
   {
    "duration": 77,
    "start_time": "2022-03-04T08:12:03.541Z"
   },
   {
    "duration": 79,
    "start_time": "2022-03-04T08:12:03.620Z"
   },
   {
    "duration": 33,
    "start_time": "2022-03-04T08:12:03.700Z"
   },
   {
    "duration": 14,
    "start_time": "2022-03-04T08:12:03.735Z"
   },
   {
    "duration": 8,
    "start_time": "2022-03-04T08:13:01.887Z"
   },
   {
    "duration": 9,
    "start_time": "2022-03-04T08:13:51.268Z"
   },
   {
    "duration": 10,
    "start_time": "2022-03-04T08:14:10.218Z"
   },
   {
    "duration": 4,
    "start_time": "2022-03-04T08:20:01.029Z"
   },
   {
    "duration": 45,
    "start_time": "2022-03-04T08:20:34.174Z"
   },
   {
    "duration": 42,
    "start_time": "2022-03-04T08:20:42.367Z"
   },
   {
    "duration": 9,
    "start_time": "2022-03-04T08:21:15.495Z"
   },
   {
    "duration": 13,
    "start_time": "2022-03-04T08:22:43.090Z"
   },
   {
    "duration": 53,
    "start_time": "2022-03-04T08:22:54.827Z"
   },
   {
    "duration": 14,
    "start_time": "2022-03-04T08:22:54.882Z"
   },
   {
    "duration": 36,
    "start_time": "2022-03-04T08:22:54.897Z"
   },
   {
    "duration": 5,
    "start_time": "2022-03-04T08:22:54.935Z"
   },
   {
    "duration": 73,
    "start_time": "2022-03-04T08:22:54.941Z"
   },
   {
    "duration": 87,
    "start_time": "2022-03-04T08:22:55.016Z"
   },
   {
    "duration": 30,
    "start_time": "2022-03-04T08:22:55.105Z"
   },
   {
    "duration": 13,
    "start_time": "2022-03-04T08:22:55.136Z"
   },
   {
    "duration": 12,
    "start_time": "2022-03-04T08:23:45.293Z"
   },
   {
    "duration": 16,
    "start_time": "2022-03-04T08:33:10.577Z"
   },
   {
    "duration": 50,
    "start_time": "2022-03-04T09:10:37.079Z"
   },
   {
    "duration": 44,
    "start_time": "2022-03-04T09:10:50.648Z"
   },
   {
    "duration": 16,
    "start_time": "2022-03-04T09:11:12.650Z"
   },
   {
    "duration": 59,
    "start_time": "2022-03-04T09:11:23.632Z"
   },
   {
    "duration": 11,
    "start_time": "2022-03-04T09:11:23.692Z"
   },
   {
    "duration": 29,
    "start_time": "2022-03-04T09:11:23.705Z"
   },
   {
    "duration": 4,
    "start_time": "2022-03-04T09:11:23.736Z"
   },
   {
    "duration": 74,
    "start_time": "2022-03-04T09:11:23.742Z"
   },
   {
    "duration": 82,
    "start_time": "2022-03-04T09:11:23.817Z"
   },
   {
    "duration": 38,
    "start_time": "2022-03-04T09:11:23.900Z"
   },
   {
    "duration": 16,
    "start_time": "2022-03-04T09:11:23.939Z"
   },
   {
    "duration": 12,
    "start_time": "2022-03-04T09:11:23.957Z"
   },
   {
    "duration": 18,
    "start_time": "2022-03-04T09:11:49.169Z"
   },
   {
    "duration": 629,
    "start_time": "2022-03-04T09:11:58.209Z"
   },
   {
    "duration": 11,
    "start_time": "2022-03-04T09:11:58.840Z"
   },
   {
    "duration": 27,
    "start_time": "2022-03-04T09:11:58.853Z"
   },
   {
    "duration": 5,
    "start_time": "2022-03-04T09:11:58.882Z"
   },
   {
    "duration": 94,
    "start_time": "2022-03-04T09:11:58.888Z"
   },
   {
    "duration": 85,
    "start_time": "2022-03-04T09:11:58.984Z"
   },
   {
    "duration": 16,
    "start_time": "2022-03-04T09:11:59.071Z"
   },
   {
    "duration": 17,
    "start_time": "2022-03-04T09:11:59.089Z"
   },
   {
    "duration": 29,
    "start_time": "2022-03-04T09:11:59.108Z"
   },
   {
    "duration": 16,
    "start_time": "2022-03-04T09:13:39.677Z"
   },
   {
    "duration": 15,
    "start_time": "2022-03-04T09:13:46.990Z"
   },
   {
    "duration": 583,
    "start_time": "2022-03-04T09:13:55.633Z"
   },
   {
    "duration": 19,
    "start_time": "2022-03-04T09:13:56.218Z"
   },
   {
    "duration": 24,
    "start_time": "2022-03-04T09:13:56.239Z"
   },
   {
    "duration": 6,
    "start_time": "2022-03-04T09:13:56.265Z"
   },
   {
    "duration": 97,
    "start_time": "2022-03-04T09:13:56.273Z"
   },
   {
    "duration": 92,
    "start_time": "2022-03-04T09:13:56.372Z"
   },
   {
    "duration": 18,
    "start_time": "2022-03-04T09:13:56.466Z"
   },
   {
    "duration": 16,
    "start_time": "2022-03-04T09:13:56.486Z"
   },
   {
    "duration": 36,
    "start_time": "2022-03-04T09:13:56.503Z"
   },
   {
    "duration": 12,
    "start_time": "2022-03-04T09:18:56.404Z"
   },
   {
    "duration": 60,
    "start_time": "2022-03-04T09:19:07.148Z"
   },
   {
    "duration": 11,
    "start_time": "2022-03-04T09:19:07.210Z"
   },
   {
    "duration": 21,
    "start_time": "2022-03-04T09:19:07.223Z"
   },
   {
    "duration": 5,
    "start_time": "2022-03-04T09:19:07.246Z"
   },
   {
    "duration": 86,
    "start_time": "2022-03-04T09:19:07.252Z"
   },
   {
    "duration": 71,
    "start_time": "2022-03-04T09:19:07.339Z"
   },
   {
    "duration": 29,
    "start_time": "2022-03-04T09:19:07.412Z"
   },
   {
    "duration": 19,
    "start_time": "2022-03-04T09:19:07.443Z"
   },
   {
    "duration": 18,
    "start_time": "2022-03-04T09:19:07.463Z"
   },
   {
    "duration": 594,
    "start_time": "2022-03-04T09:19:40.443Z"
   },
   {
    "duration": 12,
    "start_time": "2022-03-04T09:19:41.039Z"
   },
   {
    "duration": 23,
    "start_time": "2022-03-04T09:19:41.053Z"
   },
   {
    "duration": 5,
    "start_time": "2022-03-04T09:19:41.078Z"
   },
   {
    "duration": 101,
    "start_time": "2022-03-04T09:19:41.084Z"
   },
   {
    "duration": 91,
    "start_time": "2022-03-04T09:19:41.187Z"
   },
   {
    "duration": 13,
    "start_time": "2022-03-04T09:19:41.280Z"
   },
   {
    "duration": 39,
    "start_time": "2022-03-04T09:19:41.295Z"
   },
   {
    "duration": 13,
    "start_time": "2022-03-04T09:19:41.336Z"
   },
   {
    "duration": 12,
    "start_time": "2022-03-04T09:34:42.397Z"
   },
   {
    "duration": 74,
    "start_time": "2022-03-04T09:39:16.426Z"
   },
   {
    "duration": 52,
    "start_time": "2022-03-04T09:39:59.642Z"
   },
   {
    "duration": 11,
    "start_time": "2022-03-04T09:39:59.696Z"
   },
   {
    "duration": 29,
    "start_time": "2022-03-04T09:39:59.708Z"
   },
   {
    "duration": 5,
    "start_time": "2022-03-04T09:39:59.739Z"
   },
   {
    "duration": 90,
    "start_time": "2022-03-04T09:39:59.746Z"
   },
   {
    "duration": 67,
    "start_time": "2022-03-04T09:39:59.838Z"
   },
   {
    "duration": 36,
    "start_time": "2022-03-04T09:39:59.906Z"
   },
   {
    "duration": 13,
    "start_time": "2022-03-04T09:39:59.944Z"
   },
   {
    "duration": 13,
    "start_time": "2022-03-04T09:39:59.960Z"
   },
   {
    "duration": 12,
    "start_time": "2022-03-04T10:00:35.872Z"
   },
   {
    "duration": 59,
    "start_time": "2022-03-04T10:00:40.590Z"
   },
   {
    "duration": 12,
    "start_time": "2022-03-04T10:00:40.651Z"
   },
   {
    "duration": 20,
    "start_time": "2022-03-04T10:00:40.665Z"
   },
   {
    "duration": 5,
    "start_time": "2022-03-04T10:00:40.687Z"
   },
   {
    "duration": 101,
    "start_time": "2022-03-04T10:00:40.693Z"
   },
   {
    "duration": 81,
    "start_time": "2022-03-04T10:00:40.795Z"
   },
   {
    "duration": 12,
    "start_time": "2022-03-04T10:00:40.877Z"
   },
   {
    "duration": 13,
    "start_time": "2022-03-04T10:00:40.891Z"
   },
   {
    "duration": 38,
    "start_time": "2022-03-04T10:00:40.905Z"
   },
   {
    "duration": 16,
    "start_time": "2022-03-04T10:46:11.092Z"
   },
   {
    "duration": 85,
    "start_time": "2022-03-04T10:47:33.809Z"
   },
   {
    "duration": 16,
    "start_time": "2022-03-04T10:47:39.953Z"
   },
   {
    "duration": 14,
    "start_time": "2022-03-04T10:47:58.394Z"
   },
   {
    "duration": 667,
    "start_time": "2022-03-04T17:36:56.329Z"
   },
   {
    "duration": 13,
    "start_time": "2022-03-04T17:36:56.998Z"
   },
   {
    "duration": 25,
    "start_time": "2022-03-04T17:36:57.013Z"
   },
   {
    "duration": 5,
    "start_time": "2022-03-04T17:36:57.040Z"
   },
   {
    "duration": 101,
    "start_time": "2022-03-04T17:36:57.046Z"
   },
   {
    "duration": 89,
    "start_time": "2022-03-04T17:36:57.149Z"
   },
   {
    "duration": 16,
    "start_time": "2022-03-04T17:36:57.239Z"
   },
   {
    "duration": 13,
    "start_time": "2022-03-04T17:36:57.277Z"
   },
   {
    "duration": 16,
    "start_time": "2022-03-04T17:36:57.292Z"
   },
   {
    "duration": 3,
    "start_time": "2022-03-04T17:37:42.075Z"
   },
   {
    "duration": 15,
    "start_time": "2022-03-04T17:37:44.474Z"
   },
   {
    "duration": 89,
    "start_time": "2022-03-04T17:42:00.332Z"
   },
   {
    "duration": 63,
    "start_time": "2022-03-04T17:48:23.964Z"
   },
   {
    "duration": 23,
    "start_time": "2022-03-04T18:06:23.681Z"
   },
   {
    "duration": 729,
    "start_time": "2022-03-05T13:03:37.980Z"
   },
   {
    "duration": 78,
    "start_time": "2022-03-05T13:04:01.602Z"
   },
   {
    "duration": 13,
    "start_time": "2022-03-05T13:04:01.682Z"
   },
   {
    "duration": 42,
    "start_time": "2022-03-05T13:04:01.697Z"
   },
   {
    "duration": 6,
    "start_time": "2022-03-05T13:04:01.741Z"
   },
   {
    "duration": 92,
    "start_time": "2022-03-05T13:04:01.748Z"
   },
   {
    "duration": 71,
    "start_time": "2022-03-05T13:04:01.841Z"
   },
   {
    "duration": 4,
    "start_time": "2022-03-05T13:04:01.933Z"
   },
   {
    "duration": 17,
    "start_time": "2022-03-05T13:04:01.939Z"
   },
   {
    "duration": 12,
    "start_time": "2022-03-05T13:04:01.958Z"
   },
   {
    "duration": 597,
    "start_time": "2022-03-05T13:04:24.405Z"
   },
   {
    "duration": 14,
    "start_time": "2022-03-05T13:04:25.004Z"
   },
   {
    "duration": 45,
    "start_time": "2022-03-05T13:04:25.020Z"
   },
   {
    "duration": 7,
    "start_time": "2022-03-05T13:04:25.067Z"
   },
   {
    "duration": 142,
    "start_time": "2022-03-05T13:04:25.076Z"
   },
   {
    "duration": 131,
    "start_time": "2022-03-05T13:04:25.220Z"
   },
   {
    "duration": 4,
    "start_time": "2022-03-05T13:04:25.353Z"
   },
   {
    "duration": 22,
    "start_time": "2022-03-05T13:04:25.359Z"
   },
   {
    "duration": 19,
    "start_time": "2022-03-05T13:04:25.383Z"
   },
   {
    "duration": 19,
    "start_time": "2022-03-05T13:07:07.009Z"
   },
   {
    "duration": 12,
    "start_time": "2022-03-05T13:07:10.365Z"
   },
   {
    "duration": 582,
    "start_time": "2022-03-05T13:07:47.055Z"
   },
   {
    "duration": 13,
    "start_time": "2022-03-05T13:07:47.639Z"
   },
   {
    "duration": 36,
    "start_time": "2022-03-05T13:07:47.655Z"
   },
   {
    "duration": 6,
    "start_time": "2022-03-05T13:07:47.693Z"
   },
   {
    "duration": 104,
    "start_time": "2022-03-05T13:07:47.701Z"
   },
   {
    "duration": 87,
    "start_time": "2022-03-05T13:07:47.807Z"
   },
   {
    "duration": 4,
    "start_time": "2022-03-05T13:07:47.896Z"
   },
   {
    "duration": 37,
    "start_time": "2022-03-05T13:07:47.903Z"
   },
   {
    "duration": 14,
    "start_time": "2022-03-05T13:07:47.942Z"
   },
   {
    "duration": 286,
    "start_time": "2022-03-05T13:08:26.830Z"
   },
   {
    "duration": 214,
    "start_time": "2022-03-05T13:09:01.732Z"
   },
   {
    "duration": 179,
    "start_time": "2022-03-05T13:09:10.182Z"
   },
   {
    "duration": 144,
    "start_time": "2022-03-05T13:09:28.805Z"
   },
   {
    "duration": 59,
    "start_time": "2022-03-05T13:09:34.261Z"
   },
   {
    "duration": 15,
    "start_time": "2022-03-05T13:09:34.322Z"
   },
   {
    "duration": 33,
    "start_time": "2022-03-05T13:09:34.339Z"
   },
   {
    "duration": 7,
    "start_time": "2022-03-05T13:09:34.375Z"
   },
   {
    "duration": 148,
    "start_time": "2022-03-05T13:09:34.384Z"
   },
   {
    "duration": 78,
    "start_time": "2022-03-05T13:09:34.534Z"
   },
   {
    "duration": 23,
    "start_time": "2022-03-05T13:09:34.614Z"
   },
   {
    "duration": 66,
    "start_time": "2022-03-05T13:09:34.638Z"
   },
   {
    "duration": 14,
    "start_time": "2022-03-05T13:09:34.707Z"
   },
   {
    "duration": 14,
    "start_time": "2022-03-05T13:10:01.235Z"
   },
   {
    "duration": 25,
    "start_time": "2022-03-05T13:10:12.729Z"
   },
   {
    "duration": 127,
    "start_time": "2022-03-05T13:17:09.015Z"
   },
   {
    "duration": 108,
    "start_time": "2022-03-05T13:17:30.548Z"
   },
   {
    "duration": 42,
    "start_time": "2022-03-05T13:24:14.159Z"
   },
   {
    "duration": 17,
    "start_time": "2022-03-05T13:24:29.427Z"
   },
   {
    "duration": 16,
    "start_time": "2022-03-05T13:25:49.286Z"
   },
   {
    "duration": 20,
    "start_time": "2022-03-05T13:26:02.043Z"
   },
   {
    "duration": 12,
    "start_time": "2022-03-05T13:48:37.118Z"
   },
   {
    "duration": 12,
    "start_time": "2022-03-05T13:49:13.699Z"
   },
   {
    "duration": 12,
    "start_time": "2022-03-05T13:49:26.760Z"
   },
   {
    "duration": 606,
    "start_time": "2022-03-05T13:55:41.381Z"
   },
   {
    "duration": 1455,
    "start_time": "2022-03-05T13:56:48.438Z"
   },
   {
    "duration": 43,
    "start_time": "2022-03-05T14:00:39.865Z"
   },
   {
    "duration": 48,
    "start_time": "2022-03-05T14:00:55.664Z"
   },
   {
    "duration": 506,
    "start_time": "2022-03-05T14:02:18.061Z"
   },
   {
    "duration": 53,
    "start_time": "2022-03-05T14:02:44.636Z"
   },
   {
    "duration": 13,
    "start_time": "2022-03-05T14:02:44.691Z"
   },
   {
    "duration": 42,
    "start_time": "2022-03-05T14:02:44.705Z"
   },
   {
    "duration": 5,
    "start_time": "2022-03-05T14:02:44.749Z"
   },
   {
    "duration": 85,
    "start_time": "2022-03-05T14:02:44.756Z"
   },
   {
    "duration": 69,
    "start_time": "2022-03-05T14:02:44.843Z"
   },
   {
    "duration": 20,
    "start_time": "2022-03-05T14:02:44.913Z"
   },
   {
    "duration": 20,
    "start_time": "2022-03-05T14:02:44.935Z"
   },
   {
    "duration": 15,
    "start_time": "2022-03-05T14:02:44.957Z"
   },
   {
    "duration": 527,
    "start_time": "2022-03-05T14:02:44.973Z"
   },
   {
    "duration": 564,
    "start_time": "2022-03-05T14:03:03.128Z"
   },
   {
    "duration": 498,
    "start_time": "2022-03-05T14:06:19.422Z"
   },
   {
    "duration": 740,
    "start_time": "2022-03-05T14:11:54.575Z"
   },
   {
    "duration": 622,
    "start_time": "2022-03-05T14:12:06.931Z"
   },
   {
    "duration": 13,
    "start_time": "2022-03-05T14:12:07.555Z"
   },
   {
    "duration": 25,
    "start_time": "2022-03-05T14:12:07.570Z"
   },
   {
    "duration": 5,
    "start_time": "2022-03-05T14:12:07.597Z"
   },
   {
    "duration": 100,
    "start_time": "2022-03-05T14:12:07.603Z"
   },
   {
    "duration": 84,
    "start_time": "2022-03-05T14:12:07.705Z"
   },
   {
    "duration": 4,
    "start_time": "2022-03-05T14:12:07.790Z"
   },
   {
    "duration": 43,
    "start_time": "2022-03-05T14:12:07.795Z"
   },
   {
    "duration": 13,
    "start_time": "2022-03-05T14:12:07.840Z"
   },
   {
    "duration": 794,
    "start_time": "2022-03-05T14:12:07.855Z"
   },
   {
    "duration": 657,
    "start_time": "2022-03-05T14:26:16.334Z"
   },
   {
    "duration": 78,
    "start_time": "2022-03-05T14:41:09.244Z"
   },
   {
    "duration": 79,
    "start_time": "2022-03-05T14:42:08.906Z"
   },
   {
    "duration": 76,
    "start_time": "2022-03-05T14:42:34.155Z"
   },
   {
    "duration": 41,
    "start_time": "2022-03-05T14:45:56.771Z"
   },
   {
    "duration": 42,
    "start_time": "2022-03-05T14:47:13.779Z"
   },
   {
    "duration": 46,
    "start_time": "2022-03-05T14:49:36.707Z"
   },
   {
    "duration": 29,
    "start_time": "2022-03-05T15:10:18.090Z"
   },
   {
    "duration": 449,
    "start_time": "2022-03-05T15:11:48.740Z"
   },
   {
    "duration": 32,
    "start_time": "2022-03-05T15:12:11.356Z"
   },
   {
    "duration": 28,
    "start_time": "2022-03-05T15:12:50.299Z"
   },
   {
    "duration": 30,
    "start_time": "2022-03-05T15:14:16.412Z"
   },
   {
    "duration": 29,
    "start_time": "2022-03-05T15:14:23.892Z"
   },
   {
    "duration": 33,
    "start_time": "2022-03-05T15:22:50.490Z"
   },
   {
    "duration": 63,
    "start_time": "2022-03-05T15:26:33.611Z"
   },
   {
    "duration": 79,
    "start_time": "2022-03-05T15:34:55.745Z"
   },
   {
    "duration": 80,
    "start_time": "2022-03-05T15:34:55.826Z"
   },
   {
    "duration": 29,
    "start_time": "2022-03-05T15:34:55.908Z"
   },
   {
    "duration": 6,
    "start_time": "2022-03-05T15:34:55.939Z"
   },
   {
    "duration": 138,
    "start_time": "2022-03-05T15:34:55.947Z"
   },
   {
    "duration": 74,
    "start_time": "2022-03-05T15:34:56.087Z"
   },
   {
    "duration": 43,
    "start_time": "2022-03-05T15:34:56.163Z"
   },
   {
    "duration": 3,
    "start_time": "2022-03-05T15:34:56.207Z"
   },
   {
    "duration": 21,
    "start_time": "2022-03-05T15:34:56.233Z"
   },
   {
    "duration": 18,
    "start_time": "2022-03-05T15:34:56.256Z"
   },
   {
    "duration": 23,
    "start_time": "2022-03-05T15:34:56.276Z"
   },
   {
    "duration": 521,
    "start_time": "2022-03-05T15:34:56.301Z"
   },
   {
    "duration": 147,
    "start_time": "2022-03-05T15:40:06.563Z"
   },
   {
    "duration": 21,
    "start_time": "2022-03-05T15:40:22.107Z"
   },
   {
    "duration": 22,
    "start_time": "2022-03-05T15:43:05.950Z"
   },
   {
    "duration": 21,
    "start_time": "2022-03-05T15:43:48.368Z"
   },
   {
    "duration": 22,
    "start_time": "2022-03-05T15:43:52.992Z"
   },
   {
    "duration": 22,
    "start_time": "2022-03-05T15:43:58.563Z"
   },
   {
    "duration": 20,
    "start_time": "2022-03-05T16:07:30.094Z"
   },
   {
    "duration": 20,
    "start_time": "2022-03-05T16:08:56.017Z"
   },
   {
    "duration": 24,
    "start_time": "2022-03-05T16:11:51.372Z"
   },
   {
    "duration": 22,
    "start_time": "2022-03-05T16:13:13.129Z"
   },
   {
    "duration": 145,
    "start_time": "2022-03-05T16:13:38.816Z"
   },
   {
    "duration": 23,
    "start_time": "2022-03-05T16:13:44.571Z"
   },
   {
    "duration": 21,
    "start_time": "2022-03-05T16:18:06.023Z"
   },
   {
    "duration": 139,
    "start_time": "2022-03-05T16:18:36.353Z"
   },
   {
    "duration": 148,
    "start_time": "2022-03-05T16:19:24.383Z"
   },
   {
    "duration": 24,
    "start_time": "2022-03-05T16:21:20.564Z"
   },
   {
    "duration": 25,
    "start_time": "2022-03-05T16:21:23.786Z"
   },
   {
    "duration": 29,
    "start_time": "2022-03-05T16:21:37.903Z"
   },
   {
    "duration": 32,
    "start_time": "2022-03-05T16:25:33.180Z"
   },
   {
    "duration": 28,
    "start_time": "2022-03-05T16:25:50.055Z"
   },
   {
    "duration": 35,
    "start_time": "2022-03-05T16:26:57.624Z"
   },
   {
    "duration": 58,
    "start_time": "2022-03-05T16:27:24.896Z"
   },
   {
    "duration": 11,
    "start_time": "2022-03-05T16:27:24.956Z"
   },
   {
    "duration": 21,
    "start_time": "2022-03-05T16:27:24.969Z"
   },
   {
    "duration": 5,
    "start_time": "2022-03-05T16:27:24.992Z"
   },
   {
    "duration": 100,
    "start_time": "2022-03-05T16:27:24.998Z"
   },
   {
    "duration": 53,
    "start_time": "2022-03-05T16:27:25.100Z"
   },
   {
    "duration": 43,
    "start_time": "2022-03-05T16:27:25.155Z"
   },
   {
    "duration": 4,
    "start_time": "2022-03-05T16:27:25.199Z"
   },
   {
    "duration": 39,
    "start_time": "2022-03-05T16:27:25.205Z"
   },
   {
    "duration": 14,
    "start_time": "2022-03-05T16:27:25.246Z"
   },
   {
    "duration": 25,
    "start_time": "2022-03-05T16:27:25.262Z"
   },
   {
    "duration": 54,
    "start_time": "2022-03-05T16:27:25.289Z"
   },
   {
    "duration": 27,
    "start_time": "2022-03-05T16:29:27.277Z"
   },
   {
    "duration": 27,
    "start_time": "2022-03-05T16:29:31.916Z"
   },
   {
    "duration": 27,
    "start_time": "2022-03-05T16:29:51.109Z"
   },
   {
    "duration": 31,
    "start_time": "2022-03-05T16:29:55.129Z"
   },
   {
    "duration": 24,
    "start_time": "2022-03-05T16:45:21.022Z"
   },
   {
    "duration": 21,
    "start_time": "2022-03-05T16:45:23.845Z"
   },
   {
    "duration": 25,
    "start_time": "2022-03-05T16:45:34.911Z"
   },
   {
    "duration": 22,
    "start_time": "2022-03-05T16:46:56.415Z"
   },
   {
    "duration": 29,
    "start_time": "2022-03-05T16:47:17.409Z"
   },
   {
    "duration": 22,
    "start_time": "2022-03-05T16:47:40.668Z"
   },
   {
    "duration": 21,
    "start_time": "2022-03-05T16:48:27.198Z"
   },
   {
    "duration": 21,
    "start_time": "2022-03-05T16:50:19.508Z"
   },
   {
    "duration": 20,
    "start_time": "2022-03-05T16:51:10.614Z"
   },
   {
    "duration": 589,
    "start_time": "2022-03-05T16:52:27.645Z"
   },
   {
    "duration": 11,
    "start_time": "2022-03-05T16:52:28.236Z"
   },
   {
    "duration": 22,
    "start_time": "2022-03-05T16:52:28.251Z"
   },
   {
    "duration": 4,
    "start_time": "2022-03-05T16:52:28.275Z"
   },
   {
    "duration": 93,
    "start_time": "2022-03-05T16:52:28.281Z"
   },
   {
    "duration": 58,
    "start_time": "2022-03-05T16:52:28.376Z"
   },
   {
    "duration": 41,
    "start_time": "2022-03-05T16:52:28.436Z"
   },
   {
    "duration": 3,
    "start_time": "2022-03-05T16:52:28.478Z"
   },
   {
    "duration": 21,
    "start_time": "2022-03-05T16:52:28.483Z"
   },
   {
    "duration": 29,
    "start_time": "2022-03-05T16:52:28.506Z"
   },
   {
    "duration": 316,
    "start_time": "2022-03-05T16:52:28.537Z"
   },
   {
    "duration": 29,
    "start_time": "2022-03-05T16:52:28.854Z"
   },
   {
    "duration": 27,
    "start_time": "2022-03-05T16:53:03.591Z"
   },
   {
    "duration": 212,
    "start_time": "2022-03-05T17:06:37.677Z"
   },
   {
    "duration": 143,
    "start_time": "2022-03-05T17:06:58.153Z"
   },
   {
    "duration": 27,
    "start_time": "2022-03-05T17:07:10.288Z"
   },
   {
    "duration": 134,
    "start_time": "2022-03-05T17:21:32.832Z"
   },
   {
    "duration": 20,
    "start_time": "2022-03-05T17:21:46.776Z"
   },
   {
    "duration": 22,
    "start_time": "2022-03-05T17:22:07.046Z"
   },
   {
    "duration": 18,
    "start_time": "2022-03-05T17:22:22.611Z"
   },
   {
    "duration": 125,
    "start_time": "2022-03-05T17:25:00.933Z"
   },
   {
    "duration": 3,
    "start_time": "2022-03-05T17:25:10.688Z"
   },
   {
    "duration": 14,
    "start_time": "2022-03-05T17:25:13.271Z"
   },
   {
    "duration": 505,
    "start_time": "2022-03-05T17:35:51.546Z"
   },
   {
    "duration": 130,
    "start_time": "2022-03-05T17:37:15.915Z"
   },
   {
    "duration": 576,
    "start_time": "2022-03-05T17:38:02.272Z"
   },
   {
    "duration": 18,
    "start_time": "2022-03-05T17:38:48.426Z"
   },
   {
    "duration": 366,
    "start_time": "2022-03-05T17:47:21.653Z"
   },
   {
    "duration": 138,
    "start_time": "2022-03-05T17:47:48.705Z"
   },
   {
    "duration": 19,
    "start_time": "2022-03-05T17:48:09.707Z"
   },
   {
    "duration": 60,
    "start_time": "2022-03-05T17:54:01.065Z"
   },
   {
    "duration": 12,
    "start_time": "2022-03-05T17:54:01.127Z"
   },
   {
    "duration": 22,
    "start_time": "2022-03-05T17:54:01.141Z"
   },
   {
    "duration": 5,
    "start_time": "2022-03-05T17:54:01.165Z"
   },
   {
    "duration": 99,
    "start_time": "2022-03-05T17:54:01.171Z"
   },
   {
    "duration": 44,
    "start_time": "2022-03-05T17:54:01.271Z"
   },
   {
    "duration": 57,
    "start_time": "2022-03-05T17:54:01.317Z"
   },
   {
    "duration": 4,
    "start_time": "2022-03-05T17:54:01.376Z"
   },
   {
    "duration": 23,
    "start_time": "2022-03-05T17:54:01.382Z"
   },
   {
    "duration": 32,
    "start_time": "2022-03-05T17:54:01.407Z"
   },
   {
    "duration": 25,
    "start_time": "2022-03-05T17:54:01.441Z"
   },
   {
    "duration": 31,
    "start_time": "2022-03-05T17:54:01.468Z"
   },
   {
    "duration": 43,
    "start_time": "2022-03-05T17:54:01.500Z"
   },
   {
    "duration": 18,
    "start_time": "2022-03-05T17:54:01.544Z"
   },
   {
    "duration": 611,
    "start_time": "2022-03-05T17:59:50.505Z"
   },
   {
    "duration": 16,
    "start_time": "2022-03-05T17:59:51.117Z"
   },
   {
    "duration": 24,
    "start_time": "2022-03-05T17:59:51.135Z"
   },
   {
    "duration": 4,
    "start_time": "2022-03-05T17:59:51.161Z"
   },
   {
    "duration": 89,
    "start_time": "2022-03-05T17:59:51.167Z"
   },
   {
    "duration": 80,
    "start_time": "2022-03-05T17:59:51.257Z"
   },
   {
    "duration": 47,
    "start_time": "2022-03-05T17:59:51.340Z"
   },
   {
    "duration": 4,
    "start_time": "2022-03-05T17:59:51.389Z"
   },
   {
    "duration": 43,
    "start_time": "2022-03-05T17:59:51.396Z"
   },
   {
    "duration": 16,
    "start_time": "2022-03-05T17:59:51.441Z"
   },
   {
    "duration": 334,
    "start_time": "2022-03-05T17:59:51.458Z"
   },
   {
    "duration": 30,
    "start_time": "2022-03-05T17:59:51.794Z"
   },
   {
    "duration": 24,
    "start_time": "2022-03-05T17:59:51.825Z"
   },
   {
    "duration": 27,
    "start_time": "2022-03-05T17:59:51.850Z"
   },
   {
    "duration": 52,
    "start_time": "2022-03-05T18:00:04.815Z"
   },
   {
    "duration": 54,
    "start_time": "2022-03-05T18:00:12.759Z"
   },
   {
    "duration": 43,
    "start_time": "2022-03-05T18:08:58.863Z"
   },
   {
    "duration": 40,
    "start_time": "2022-03-05T18:09:10.756Z"
   },
   {
    "duration": 39,
    "start_time": "2022-03-05T18:09:17.033Z"
   },
   {
    "duration": 51,
    "start_time": "2022-03-05T18:09:23.987Z"
   },
   {
    "duration": 41,
    "start_time": "2022-03-05T18:09:43.129Z"
   },
   {
    "duration": 43,
    "start_time": "2022-03-05T18:10:08.899Z"
   },
   {
    "duration": 41,
    "start_time": "2022-03-05T18:10:18.899Z"
   },
   {
    "duration": 45,
    "start_time": "2022-03-05T18:10:56.535Z"
   },
   {
    "duration": 41,
    "start_time": "2022-03-05T18:10:59.742Z"
   },
   {
    "duration": 198,
    "start_time": "2022-03-05T18:11:09.830Z"
   },
   {
    "duration": 53,
    "start_time": "2022-03-05T18:11:30.214Z"
   },
   {
    "duration": 13,
    "start_time": "2022-03-05T18:11:30.269Z"
   },
   {
    "duration": 24,
    "start_time": "2022-03-05T18:11:30.285Z"
   },
   {
    "duration": 24,
    "start_time": "2022-03-05T18:11:30.311Z"
   },
   {
    "duration": 81,
    "start_time": "2022-03-05T18:11:30.337Z"
   },
   {
    "duration": 55,
    "start_time": "2022-03-05T18:11:30.420Z"
   },
   {
    "duration": 67,
    "start_time": "2022-03-05T18:11:30.477Z"
   },
   {
    "duration": 3,
    "start_time": "2022-03-05T18:11:30.546Z"
   },
   {
    "duration": 19,
    "start_time": "2022-03-05T18:11:30.551Z"
   },
   {
    "duration": 12,
    "start_time": "2022-03-05T18:11:30.573Z"
   },
   {
    "duration": 51,
    "start_time": "2022-03-05T18:11:30.587Z"
   },
   {
    "duration": 29,
    "start_time": "2022-03-05T18:11:30.639Z"
   },
   {
    "duration": 18,
    "start_time": "2022-03-05T18:11:30.670Z"
   },
   {
    "duration": 44,
    "start_time": "2022-03-05T18:11:30.690Z"
   },
   {
    "duration": 19,
    "start_time": "2022-03-05T18:12:04.773Z"
   },
   {
    "duration": 20,
    "start_time": "2022-03-05T18:12:27.078Z"
   },
   {
    "duration": 22,
    "start_time": "2022-03-05T18:20:13.053Z"
   },
   {
    "duration": 21,
    "start_time": "2022-03-05T18:20:37.250Z"
   },
   {
    "duration": 22,
    "start_time": "2022-03-05T18:22:42.961Z"
   },
   {
    "duration": 135,
    "start_time": "2022-03-05T18:40:31.674Z"
   },
   {
    "duration": 26,
    "start_time": "2022-03-05T18:44:26.651Z"
   },
   {
    "duration": 56,
    "start_time": "2022-03-05T18:45:57.299Z"
   },
   {
    "duration": 12,
    "start_time": "2022-03-05T18:45:57.357Z"
   },
   {
    "duration": 21,
    "start_time": "2022-03-05T18:45:57.371Z"
   },
   {
    "duration": 5,
    "start_time": "2022-03-05T18:45:57.394Z"
   },
   {
    "duration": 98,
    "start_time": "2022-03-05T18:45:57.400Z"
   },
   {
    "duration": 56,
    "start_time": "2022-03-05T18:45:57.500Z"
   },
   {
    "duration": 40,
    "start_time": "2022-03-05T18:45:57.557Z"
   },
   {
    "duration": 3,
    "start_time": "2022-03-05T18:45:57.598Z"
   },
   {
    "duration": 35,
    "start_time": "2022-03-05T18:45:57.603Z"
   },
   {
    "duration": 11,
    "start_time": "2022-03-05T18:45:57.640Z"
   },
   {
    "duration": 24,
    "start_time": "2022-03-05T18:45:57.652Z"
   },
   {
    "duration": 27,
    "start_time": "2022-03-05T18:45:57.677Z"
   },
   {
    "duration": 45,
    "start_time": "2022-03-05T18:45:57.706Z"
   },
   {
    "duration": 27,
    "start_time": "2022-03-05T18:46:16.496Z"
   },
   {
    "duration": 44,
    "start_time": "2022-03-05T18:52:48.934Z"
   },
   {
    "duration": 40,
    "start_time": "2022-03-05T18:52:54.721Z"
   },
   {
    "duration": 26,
    "start_time": "2022-03-05T18:53:02.028Z"
   },
   {
    "duration": 22,
    "start_time": "2022-03-05T18:53:44.100Z"
   },
   {
    "duration": 21,
    "start_time": "2022-03-05T18:54:28.622Z"
   },
   {
    "duration": 23,
    "start_time": "2022-03-05T18:54:45.544Z"
   },
   {
    "duration": 22,
    "start_time": "2022-03-05T18:55:09.810Z"
   },
   {
    "duration": 22,
    "start_time": "2022-03-05T18:55:20.755Z"
   },
   {
    "duration": 78,
    "start_time": "2022-03-05T18:56:03.155Z"
   },
   {
    "duration": 16,
    "start_time": "2022-03-05T18:56:03.235Z"
   },
   {
    "duration": 32,
    "start_time": "2022-03-05T18:56:03.253Z"
   },
   {
    "duration": 6,
    "start_time": "2022-03-05T18:56:03.287Z"
   },
   {
    "duration": 148,
    "start_time": "2022-03-05T18:56:03.295Z"
   },
   {
    "duration": 29,
    "start_time": "2022-03-05T18:56:03.445Z"
   },
   {
    "duration": 32,
    "start_time": "2022-03-05T18:56:03.476Z"
   },
   {
    "duration": 22,
    "start_time": "2022-03-05T18:56:03.511Z"
   },
   {
    "duration": 15,
    "start_time": "2022-03-05T18:56:03.534Z"
   },
   {
    "duration": 13,
    "start_time": "2022-03-05T18:56:03.551Z"
   },
   {
    "duration": 24,
    "start_time": "2022-03-05T18:56:03.566Z"
   },
   {
    "duration": 53,
    "start_time": "2022-03-05T18:56:03.591Z"
   },
   {
    "duration": 21,
    "start_time": "2022-03-05T18:56:03.646Z"
   },
   {
    "duration": 17,
    "start_time": "2022-03-05T18:56:03.668Z"
   },
   {
    "duration": 316,
    "start_time": "2022-03-05T18:59:26.497Z"
   },
   {
    "duration": 328,
    "start_time": "2022-03-05T19:01:18.752Z"
   },
   {
    "duration": 23,
    "start_time": "2022-03-05T19:01:50.150Z"
   },
   {
    "duration": 555,
    "start_time": "2022-03-05T19:19:44.398Z"
   },
   {
    "duration": 12,
    "start_time": "2022-03-05T19:19:44.955Z"
   },
   {
    "duration": 23,
    "start_time": "2022-03-05T19:19:44.969Z"
   },
   {
    "duration": 6,
    "start_time": "2022-03-05T19:19:44.994Z"
   },
   {
    "duration": 101,
    "start_time": "2022-03-05T19:19:45.002Z"
   },
   {
    "duration": 30,
    "start_time": "2022-03-05T19:19:45.105Z"
   },
   {
    "duration": 21,
    "start_time": "2022-03-05T19:19:45.137Z"
   },
   {
    "duration": 3,
    "start_time": "2022-03-05T19:19:45.160Z"
   },
   {
    "duration": 16,
    "start_time": "2022-03-05T19:19:45.165Z"
   },
   {
    "duration": 13,
    "start_time": "2022-03-05T19:19:45.182Z"
   },
   {
    "duration": 331,
    "start_time": "2022-03-05T19:19:45.196Z"
   },
   {
    "duration": 29,
    "start_time": "2022-03-05T19:19:45.530Z"
   },
   {
    "duration": 21,
    "start_time": "2022-03-05T19:19:45.560Z"
   },
   {
    "duration": 23,
    "start_time": "2022-03-05T19:19:45.583Z"
   },
   {
    "duration": 25,
    "start_time": "2022-03-05T19:26:34.463Z"
   },
   {
    "duration": 793,
    "start_time": "2022-03-13T18:56:06.949Z"
   },
   {
    "duration": 18,
    "start_time": "2022-03-13T18:56:07.745Z"
   },
   {
    "duration": 40,
    "start_time": "2022-03-13T18:56:07.767Z"
   },
   {
    "duration": 10,
    "start_time": "2022-03-13T18:56:07.810Z"
   },
   {
    "duration": 275,
    "start_time": "2022-03-13T18:56:07.823Z"
   },
   {
    "duration": 29,
    "start_time": "2022-03-13T18:56:08.101Z"
   },
   {
    "duration": 60,
    "start_time": "2022-03-13T18:56:08.132Z"
   },
   {
    "duration": 9,
    "start_time": "2022-03-13T18:56:08.195Z"
   },
   {
    "duration": 44,
    "start_time": "2022-03-13T18:56:08.208Z"
   },
   {
    "duration": 19,
    "start_time": "2022-03-13T18:56:08.255Z"
   },
   {
    "duration": 1608,
    "start_time": "2022-03-13T18:56:08.277Z"
   },
   {
    "duration": 44,
    "start_time": "2022-03-13T18:56:09.887Z"
   },
   {
    "duration": 49,
    "start_time": "2022-03-13T18:56:09.933Z"
   },
   {
    "duration": 40,
    "start_time": "2022-03-13T18:56:09.984Z"
   },
   {
    "duration": 1196,
    "start_time": "2022-03-13T19:42:00.433Z"
   },
   {
    "duration": 43,
    "start_time": "2022-03-13T19:49:58.181Z"
   },
   {
    "duration": 31,
    "start_time": "2022-03-13T19:51:12.359Z"
   },
   {
    "duration": 33,
    "start_time": "2022-03-13T19:51:30.933Z"
   },
   {
    "duration": 32,
    "start_time": "2022-03-13T19:51:40.943Z"
   },
   {
    "duration": 31,
    "start_time": "2022-03-13T19:54:36.070Z"
   },
   {
    "duration": 35,
    "start_time": "2022-03-13T19:55:21.140Z"
   },
   {
    "duration": 391,
    "start_time": "2022-03-13T20:08:34.022Z"
   },
   {
    "duration": 4,
    "start_time": "2022-03-13T20:09:51.794Z"
   },
   {
    "duration": 88,
    "start_time": "2022-03-13T20:09:55.602Z"
   },
   {
    "duration": 3,
    "start_time": "2022-03-13T20:10:01.577Z"
   },
   {
    "duration": 8,
    "start_time": "2022-03-13T20:11:36.890Z"
   },
   {
    "duration": 250,
    "start_time": "2022-03-13T20:11:39.053Z"
   },
   {
    "duration": 308,
    "start_time": "2022-03-13T20:11:55.232Z"
   },
   {
    "duration": 275,
    "start_time": "2022-03-13T20:12:09.020Z"
   },
   {
    "duration": 271,
    "start_time": "2022-03-13T20:12:25.396Z"
   },
   {
    "duration": 261,
    "start_time": "2022-03-13T20:12:54.088Z"
   },
   {
    "duration": 255,
    "start_time": "2022-03-13T20:13:33.880Z"
   },
   {
    "duration": 257,
    "start_time": "2022-03-13T20:13:51.955Z"
   },
   {
    "duration": 266,
    "start_time": "2022-03-13T20:14:07.198Z"
   },
   {
    "duration": 273,
    "start_time": "2022-03-13T20:14:20.880Z"
   },
   {
    "duration": 3,
    "start_time": "2022-03-13T20:14:31.231Z"
   },
   {
    "duration": 299,
    "start_time": "2022-03-13T20:17:16.334Z"
   },
   {
    "duration": 269,
    "start_time": "2022-03-13T20:17:32.284Z"
   },
   {
    "duration": 253,
    "start_time": "2022-03-13T20:17:48.807Z"
   },
   {
    "duration": 276,
    "start_time": "2022-03-13T20:17:53.949Z"
   },
   {
    "duration": 4,
    "start_time": "2022-03-13T20:17:57.564Z"
   },
   {
    "duration": 94,
    "start_time": "2022-03-13T20:17:57.572Z"
   },
   {
    "duration": 20,
    "start_time": "2022-03-13T20:17:57.670Z"
   },
   {
    "duration": 63,
    "start_time": "2022-03-13T20:17:57.693Z"
   },
   {
    "duration": 7,
    "start_time": "2022-03-13T20:17:57.758Z"
   },
   {
    "duration": 155,
    "start_time": "2022-03-13T20:17:57.768Z"
   },
   {
    "duration": 39,
    "start_time": "2022-03-13T20:17:57.926Z"
   },
   {
    "duration": 34,
    "start_time": "2022-03-13T20:17:57.967Z"
   },
   {
    "duration": 28,
    "start_time": "2022-03-13T20:17:58.005Z"
   },
   {
    "duration": 20,
    "start_time": "2022-03-13T20:17:58.037Z"
   },
   {
    "duration": 26,
    "start_time": "2022-03-13T20:17:58.060Z"
   },
   {
    "duration": 25,
    "start_time": "2022-03-13T20:17:58.088Z"
   },
   {
    "duration": 740,
    "start_time": "2022-03-13T20:17:58.132Z"
   },
   {
    "duration": 43,
    "start_time": "2022-03-13T20:17:58.875Z"
   },
   {
    "duration": 38,
    "start_time": "2022-03-13T20:17:58.920Z"
   },
   {
    "duration": 36,
    "start_time": "2022-03-13T20:17:58.960Z"
   },
   {
    "duration": 301,
    "start_time": "2022-03-13T20:18:44.949Z"
   },
   {
    "duration": 274,
    "start_time": "2022-03-13T20:18:55.402Z"
   },
   {
    "duration": 10,
    "start_time": "2022-03-13T20:22:23.918Z"
   },
   {
    "duration": 310,
    "start_time": "2022-03-13T20:22:27.304Z"
   },
   {
    "duration": 276,
    "start_time": "2022-03-13T20:22:41.709Z"
   },
   {
    "duration": 325,
    "start_time": "2022-03-13T20:23:03.645Z"
   },
   {
    "duration": 288,
    "start_time": "2022-03-13T20:23:09.764Z"
   },
   {
    "duration": 298,
    "start_time": "2022-03-13T20:23:20.900Z"
   },
   {
    "duration": 277,
    "start_time": "2022-03-13T20:23:36.273Z"
   },
   {
    "duration": 9,
    "start_time": "2022-03-13T20:24:20.860Z"
   },
   {
    "duration": 282,
    "start_time": "2022-03-13T20:24:51.218Z"
   },
   {
    "duration": 311,
    "start_time": "2022-03-13T20:25:06.627Z"
   },
   {
    "duration": 274,
    "start_time": "2022-03-13T20:25:24.124Z"
   },
   {
    "duration": 3,
    "start_time": "2022-03-13T20:25:28.728Z"
   },
   {
    "duration": 104,
    "start_time": "2022-03-13T20:25:28.735Z"
   },
   {
    "duration": 20,
    "start_time": "2022-03-13T20:25:28.843Z"
   },
   {
    "duration": 33,
    "start_time": "2022-03-13T20:25:28.866Z"
   },
   {
    "duration": 32,
    "start_time": "2022-03-13T20:25:28.902Z"
   },
   {
    "duration": 151,
    "start_time": "2022-03-13T20:25:28.940Z"
   },
   {
    "duration": 300,
    "start_time": "2022-03-13T20:25:29.093Z"
   },
   {
    "duration": -2055,
    "start_time": "2022-03-13T20:25:31.451Z"
   },
   {
    "duration": -2054,
    "start_time": "2022-03-13T20:25:31.452Z"
   },
   {
    "duration": -2054,
    "start_time": "2022-03-13T20:25:31.454Z"
   },
   {
    "duration": -2054,
    "start_time": "2022-03-13T20:25:31.455Z"
   },
   {
    "duration": -2053,
    "start_time": "2022-03-13T20:25:31.456Z"
   },
   {
    "duration": -2053,
    "start_time": "2022-03-13T20:25:31.458Z"
   },
   {
    "duration": -2055,
    "start_time": "2022-03-13T20:25:31.461Z"
   },
   {
    "duration": -2054,
    "start_time": "2022-03-13T20:25:31.462Z"
   },
   {
    "duration": -2055,
    "start_time": "2022-03-13T20:25:31.464Z"
   },
   {
    "duration": 41,
    "start_time": "2022-03-13T20:25:51.730Z"
   },
   {
    "duration": 36,
    "start_time": "2022-03-13T20:27:05.304Z"
   },
   {
    "duration": 37,
    "start_time": "2022-03-13T20:27:32.705Z"
   },
   {
    "duration": 33,
    "start_time": "2022-03-13T20:27:57.595Z"
   },
   {
    "duration": 3,
    "start_time": "2022-03-13T20:36:39.819Z"
   },
   {
    "duration": 3,
    "start_time": "2022-03-13T20:36:44.925Z"
   },
   {
    "duration": 89,
    "start_time": "2022-03-13T20:36:44.931Z"
   },
   {
    "duration": 28,
    "start_time": "2022-03-13T20:36:45.023Z"
   },
   {
    "duration": 32,
    "start_time": "2022-03-13T20:36:45.054Z"
   },
   {
    "duration": 6,
    "start_time": "2022-03-13T20:36:45.089Z"
   },
   {
    "duration": 174,
    "start_time": "2022-03-13T20:36:45.097Z"
   },
   {
    "duration": 28,
    "start_time": "2022-03-13T20:36:45.273Z"
   },
   {
    "duration": 5,
    "start_time": "2022-03-13T20:36:45.304Z"
   },
   {
    "duration": 53,
    "start_time": "2022-03-13T20:36:45.312Z"
   },
   {
    "duration": 5,
    "start_time": "2022-03-13T20:36:45.368Z"
   },
   {
    "duration": 38,
    "start_time": "2022-03-13T20:36:45.376Z"
   },
   {
    "duration": 71,
    "start_time": "2022-03-13T20:36:45.417Z"
   },
   {
    "duration": 38,
    "start_time": "2022-03-13T20:36:45.491Z"
   },
   {
    "duration": 42,
    "start_time": "2022-03-13T20:36:45.532Z"
   },
   {
    "duration": 58,
    "start_time": "2022-03-13T20:36:45.577Z"
   },
   {
    "duration": 41,
    "start_time": "2022-03-13T20:36:45.638Z"
   },
   {
    "duration": 27,
    "start_time": "2022-03-13T20:38:09.946Z"
   },
   {
    "duration": 719,
    "start_time": "2022-03-13T20:44:02.281Z"
   },
   {
    "duration": 84,
    "start_time": "2022-03-13T20:44:03.003Z"
   },
   {
    "duration": 20,
    "start_time": "2022-03-13T20:44:03.091Z"
   },
   {
    "duration": 28,
    "start_time": "2022-03-13T20:44:03.134Z"
   },
   {
    "duration": 19,
    "start_time": "2022-03-13T20:44:03.165Z"
   },
   {
    "duration": 8,
    "start_time": "2022-03-13T20:44:03.186Z"
   },
   {
    "duration": 182,
    "start_time": "2022-03-13T20:44:03.196Z"
   },
   {
    "duration": 33,
    "start_time": "2022-03-13T20:44:03.380Z"
   },
   {
    "duration": 19,
    "start_time": "2022-03-13T20:44:03.417Z"
   },
   {
    "duration": 46,
    "start_time": "2022-03-13T20:44:03.440Z"
   },
   {
    "duration": 5,
    "start_time": "2022-03-13T20:44:03.488Z"
   },
   {
    "duration": 59,
    "start_time": "2022-03-13T20:44:03.495Z"
   },
   {
    "duration": 19,
    "start_time": "2022-03-13T20:44:03.557Z"
   },
   {
    "duration": 711,
    "start_time": "2022-03-13T20:44:03.579Z"
   },
   {
    "duration": 60,
    "start_time": "2022-03-13T20:44:04.294Z"
   },
   {
    "duration": 36,
    "start_time": "2022-03-13T20:44:04.357Z"
   },
   {
    "duration": 67,
    "start_time": "2022-03-13T20:44:04.395Z"
   }
  ],
  "kernelspec": {
   "display_name": "Python 3 (ipykernel)",
   "language": "python",
   "name": "python3"
  },
  "language_info": {
   "codemirror_mode": {
    "name": "ipython",
    "version": 3
   },
   "file_extension": ".py",
   "mimetype": "text/x-python",
   "name": "python",
   "nbconvert_exporter": "python",
   "pygments_lexer": "ipython3",
   "version": "3.9.5"
  },
  "toc": {
   "base_numbering": 1,
   "nav_menu": {},
   "number_sections": false,
   "sideBar": true,
   "skip_h1_title": false,
   "title_cell": "Table of Contents",
   "title_sidebar": "Contents",
   "toc_cell": false,
   "toc_position": {},
   "toc_section_display": true,
   "toc_window_display": true
  }
 },
 "nbformat": 4,
 "nbformat_minor": 5
}
