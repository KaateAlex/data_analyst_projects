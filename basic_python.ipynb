{
 "cells": [
  {
   "cell_type": "markdown",
   "metadata": {},
   "source": [
    "<div class=\"alert alert-success\">\n",
    "<b>Комментарий ревьюера v 2.0 ✔️:</b> Отлично, Екатерина! Ты исправил все, даже самые незначительные недостатки и твой проект конечно же принят. Спасибо за работу!) </div>"
   ]
  },
  {
   "cell_type": "markdown",
   "metadata": {},
   "source": [
    "<div style=\"border:solid green 2px; padding: 20px\">\n",
    "<b>Привет!</b>\n",
    "\n",
    "Меня зовут Михаленко Дмитрий, и я буду проверять твой проект. Предлагаю общаться на «ты» :) Но если это не удобно - дай знать, и мы перейдем на \"вы\". \n",
    "\n",
    "Моя основная цель — не указать на совершенные тобою ошибки, а поделиться своим опытом и помочь тебе стать аналитиком данных. Ты уже проделала большую работу над проектом, но давай сделаем его еще лучше. Ниже ты найдешь мои комментарии - **пожалуйста, не перемещай, не изменяй и не удаляй их**. Увидев у тебя ошибку, в первый раз я лишь укажу на ее наличие и дам тебе возможность самой найти и исправить ее. На реальной работе твой начальник будет поступать так же, а я пытаюсь подготовить тебя именно к работе аналитиком. Но если ты пока не справишься с такой задачей - при следующей проверке я дам более точную подсказку. Я буду использовать цветовую разметку:\n",
    "\n",
    "<div class=\"alert alert-danger\">\n",
    "<b>Комментарий ревьюера ❌:</b> Так выделены самые важные замечания. Без их отработки проект не будет принят. </div>\n",
    "\n",
    "<div class=\"alert alert-warning\">\n",
    "<b>Комментарий ревьюера ⚠️:</b> Так выделены небольшие замечания. Я надеюсь, что их ты тоже учтешь - твой проект от этого станет только лучше. Но настаивать на их отработке не буду.\n",
    "\n",
    "</div>\n",
    "\n",
    "<div class=\"alert alert-success\">\n",
    "<b>Комментарий ревьюера ✔️:</b> Так я выделяю все остальные комментарии.</div>\n",
    "\n",
    "Давай работать над проектом в диалоге: **если ты что-то меняешь в проекте или отвечаешь на мои комменатри — пиши об этом.** Мне будет легче отследить изменения, если ты выделишь свои комментарии:\n",
    "<div class=\"alert alert-info\"> <b>Комментарий студента:</b> Например, вот так.</div>\n",
    "\n",
    "Всё это поможет выполнить повторную проверку твоего проекта оперативнее."
   ]
  },
  {
   "cell_type": "markdown",
   "metadata": {
    "id": "E0vqbgi9ay0H"
   },
   "source": [
    "# Яндекс.Музыка"
   ]
  },
  {
   "cell_type": "markdown",
   "metadata": {
    "id": "VUC88oWjTJw2"
   },
   "source": [
    "Сравнение Москвы и Петербурга окружено мифами. Например:\n",
    " * Москва — мегаполис, подчинённый жёсткому ритму рабочей недели;\n",
    " * Петербург — культурная столица, со своими вкусами.\n",
    "\n",
    "На данных Яндекс.Музыки вы сравните поведение пользователей двух столиц.\n",
    "\n",
    "**Цель исследования** — проверьте три гипотезы:\n",
    "1. Активность пользователей зависит от дня недели. Причём в Москве и Петербурге это проявляется по-разному.\n",
    "2. В понедельник утром в Москве преобладают одни жанры, а в Петербурге — другие. Так же и вечером пятницы преобладают разные жанры — в зависимости от города. \n",
    "3. Москва и Петербург предпочитают разные жанры музыки. В Москве чаще слушают поп-музыку, в Петербурге — русский рэп.\n",
    "\n",
    "**Ход исследования**\n",
    "\n",
    "Данные о поведении пользователей вы получите из файла `yandex_music_project.csv`. О качестве данных ничего не известно. Поэтому перед проверкой гипотез понадобится обзор данных. \n",
    "\n",
    "Вы проверите данные на ошибки и оцените их влияние на исследование. Затем, на этапе предобработки вы поищете возможность исправить самые критичные ошибки данных.\n",
    " \n",
    "Таким образом, исследование пройдёт в три этапа:\n",
    " 1. Обзор данных.\n",
    " 2. Предобработка данных.\n",
    " 3. Проверка гипотез.\n",
    "\n"
   ]
  },
  {
   "cell_type": "markdown",
   "metadata": {},
   "source": [
    "<div class=\"alert alert-success\">\n",
    "<b>Комментарий ревьюера ✔️:</b> Хорошая практика начинать проект с контекста, описания задачи, возможного хода\\плана исследования, а также описания имеющихся данных. Очень надеюсь, что ты будешь уделять этому внимание и в последующих проектах. </div>"
   ]
  },
  {
   "cell_type": "markdown",
   "metadata": {
    "id": "Ml1hmfXC_Zcs"
   },
   "source": [
    "## Обзор данных\n",
    "\n",
    "Составьте первое представление о данных Яндекс.Музыки.\n",
    "\n",
    "\n"
   ]
  },
  {
   "cell_type": "markdown",
   "metadata": {},
   "source": [
    "<div class=\"alert alert-warning\">\n",
    "<b>Комментарий ревьюера ⚠️:</b> Заметь, ячейки в тетрадке исполняются, начиная не с единицы. Перед отправкой проектов на ревью советую нажимать на панели управления Kernel - Restart & Run All"
   ]
  },
  {
   "cell_type": "markdown",
   "metadata": {
    "id": "57eAOGIz_Zcs"
   },
   "source": [
    "Основной инструмент аналитика — `pandas`. Импортируйте эту библиотеку."
   ]
  },
  {
   "cell_type": "code",
   "execution_count": 1,
   "metadata": {
    "id": "AXN7PHPN_Zcs"
   },
   "outputs": [],
   "source": [
    "# импорт библиотеки pandas\n",
    "import pandas as pd\n"
   ]
  },
  {
   "cell_type": "markdown",
   "metadata": {},
   "source": [
    "<div class=\"alert alert-success\">\n",
    "<b>Комментарий ревьюера ✔️:</b> Очень здорово, что ты используешь сокращение pd для Pandas, это общепринятое сокращение для этой библиотеки для удобной дальнейшей работы. </div>"
   ]
  },
  {
   "cell_type": "markdown",
   "metadata": {
    "id": "SG23P8tt_Zcs"
   },
   "source": [
    "Прочитайте файл `yandex_music_project.csv` из папки `/datasets` и сохраните его в переменной `df`:"
   ]
  },
  {
   "cell_type": "code",
   "execution_count": 2,
   "metadata": {
    "id": "fFVu7vqh_Zct"
   },
   "outputs": [],
   "source": [
    "# чтение файла с данными и сохранение в df\n",
    "df = pd.read_csv('/datasets/yandex_music_project.csv')"
   ]
  },
  {
   "cell_type": "markdown",
   "metadata": {},
   "source": [
    "<div class=\"alert alert-success\">\n",
    "<b>Комментарий ревьюера ✔️:</b> Указан правильный путь к файлу: слэш в начале пути очень важен, так как указывает, что нужно искать файл в корневой папке. </div>"
   ]
  },
  {
   "cell_type": "markdown",
   "metadata": {
    "id": "rDoOMd3uTqnZ"
   },
   "source": [
    "Выведите на экран первые десять строк таблицы:"
   ]
  },
  {
   "cell_type": "code",
   "execution_count": 3,
   "metadata": {
    "id": "oWTVX3gW_Zct"
   },
   "outputs": [
    {
     "data": {
      "text/html": [
       "<div>\n",
       "<style scoped>\n",
       "    .dataframe tbody tr th:only-of-type {\n",
       "        vertical-align: middle;\n",
       "    }\n",
       "\n",
       "    .dataframe tbody tr th {\n",
       "        vertical-align: top;\n",
       "    }\n",
       "\n",
       "    .dataframe thead th {\n",
       "        text-align: right;\n",
       "    }\n",
       "</style>\n",
       "<table border=\"1\" class=\"dataframe\">\n",
       "  <thead>\n",
       "    <tr style=\"text-align: right;\">\n",
       "      <th></th>\n",
       "      <th>userID</th>\n",
       "      <th>Track</th>\n",
       "      <th>artist</th>\n",
       "      <th>genre</th>\n",
       "      <th>City</th>\n",
       "      <th>time</th>\n",
       "      <th>Day</th>\n",
       "    </tr>\n",
       "  </thead>\n",
       "  <tbody>\n",
       "    <tr>\n",
       "      <td>0</td>\n",
       "      <td>FFB692EC</td>\n",
       "      <td>Kamigata To Boots</td>\n",
       "      <td>The Mass Missile</td>\n",
       "      <td>rock</td>\n",
       "      <td>Saint-Petersburg</td>\n",
       "      <td>20:28:33</td>\n",
       "      <td>Wednesday</td>\n",
       "    </tr>\n",
       "    <tr>\n",
       "      <td>1</td>\n",
       "      <td>55204538</td>\n",
       "      <td>Delayed Because of Accident</td>\n",
       "      <td>Andreas Rönnberg</td>\n",
       "      <td>rock</td>\n",
       "      <td>Moscow</td>\n",
       "      <td>14:07:09</td>\n",
       "      <td>Friday</td>\n",
       "    </tr>\n",
       "    <tr>\n",
       "      <td>2</td>\n",
       "      <td>20EC38</td>\n",
       "      <td>Funiculì funiculà</td>\n",
       "      <td>Mario Lanza</td>\n",
       "      <td>pop</td>\n",
       "      <td>Saint-Petersburg</td>\n",
       "      <td>20:58:07</td>\n",
       "      <td>Wednesday</td>\n",
       "    </tr>\n",
       "    <tr>\n",
       "      <td>3</td>\n",
       "      <td>A3DD03C9</td>\n",
       "      <td>Dragons in the Sunset</td>\n",
       "      <td>Fire + Ice</td>\n",
       "      <td>folk</td>\n",
       "      <td>Saint-Petersburg</td>\n",
       "      <td>08:37:09</td>\n",
       "      <td>Monday</td>\n",
       "    </tr>\n",
       "    <tr>\n",
       "      <td>4</td>\n",
       "      <td>E2DC1FAE</td>\n",
       "      <td>Soul People</td>\n",
       "      <td>Space Echo</td>\n",
       "      <td>dance</td>\n",
       "      <td>Moscow</td>\n",
       "      <td>08:34:34</td>\n",
       "      <td>Monday</td>\n",
       "    </tr>\n",
       "    <tr>\n",
       "      <td>5</td>\n",
       "      <td>842029A1</td>\n",
       "      <td>Преданная</td>\n",
       "      <td>IMPERVTOR</td>\n",
       "      <td>rusrap</td>\n",
       "      <td>Saint-Petersburg</td>\n",
       "      <td>13:09:41</td>\n",
       "      <td>Friday</td>\n",
       "    </tr>\n",
       "    <tr>\n",
       "      <td>6</td>\n",
       "      <td>4CB90AA5</td>\n",
       "      <td>True</td>\n",
       "      <td>Roman Messer</td>\n",
       "      <td>dance</td>\n",
       "      <td>Moscow</td>\n",
       "      <td>13:00:07</td>\n",
       "      <td>Wednesday</td>\n",
       "    </tr>\n",
       "    <tr>\n",
       "      <td>7</td>\n",
       "      <td>F03E1C1F</td>\n",
       "      <td>Feeling This Way</td>\n",
       "      <td>Polina Griffith</td>\n",
       "      <td>dance</td>\n",
       "      <td>Moscow</td>\n",
       "      <td>20:47:49</td>\n",
       "      <td>Wednesday</td>\n",
       "    </tr>\n",
       "    <tr>\n",
       "      <td>8</td>\n",
       "      <td>8FA1D3BE</td>\n",
       "      <td>И вновь продолжается бой</td>\n",
       "      <td>NaN</td>\n",
       "      <td>ruspop</td>\n",
       "      <td>Moscow</td>\n",
       "      <td>09:17:40</td>\n",
       "      <td>Friday</td>\n",
       "    </tr>\n",
       "    <tr>\n",
       "      <td>9</td>\n",
       "      <td>E772D5C0</td>\n",
       "      <td>Pessimist</td>\n",
       "      <td>NaN</td>\n",
       "      <td>dance</td>\n",
       "      <td>Saint-Petersburg</td>\n",
       "      <td>21:20:49</td>\n",
       "      <td>Wednesday</td>\n",
       "    </tr>\n",
       "  </tbody>\n",
       "</table>\n",
       "</div>"
      ],
      "text/plain": [
       "     userID                        Track            artist   genre  \\\n",
       "0  FFB692EC            Kamigata To Boots  The Mass Missile    rock   \n",
       "1  55204538  Delayed Because of Accident  Andreas Rönnberg    rock   \n",
       "2    20EC38            Funiculì funiculà       Mario Lanza     pop   \n",
       "3  A3DD03C9        Dragons in the Sunset        Fire + Ice    folk   \n",
       "4  E2DC1FAE                  Soul People        Space Echo   dance   \n",
       "5  842029A1                    Преданная         IMPERVTOR  rusrap   \n",
       "6  4CB90AA5                         True      Roman Messer   dance   \n",
       "7  F03E1C1F             Feeling This Way   Polina Griffith   dance   \n",
       "8  8FA1D3BE     И вновь продолжается бой               NaN  ruspop   \n",
       "9  E772D5C0                    Pessimist               NaN   dance   \n",
       "\n",
       "             City        time        Day  \n",
       "0  Saint-Petersburg  20:28:33  Wednesday  \n",
       "1            Moscow  14:07:09     Friday  \n",
       "2  Saint-Petersburg  20:58:07  Wednesday  \n",
       "3  Saint-Petersburg  08:37:09     Monday  \n",
       "4            Moscow  08:34:34     Monday  \n",
       "5  Saint-Petersburg  13:09:41     Friday  \n",
       "6            Moscow  13:00:07  Wednesday  \n",
       "7            Moscow  20:47:49  Wednesday  \n",
       "8            Moscow  09:17:40     Friday  \n",
       "9  Saint-Petersburg  21:20:49  Wednesday  "
      ]
     },
     "execution_count": 3,
     "metadata": {},
     "output_type": "execute_result"
    }
   ],
   "source": [
    "# получение первых 10 строк таблицы df\n",
    "df.head(10)"
   ]
  },
  {
   "cell_type": "markdown",
   "metadata": {},
   "source": [
    "<div class=\"alert alert-warning\">\n",
    "<b>Комментарий ревьюера ⚠️:</b> В Jupyter Notebook не обязательно указывать display для отображения результата, отображение данных можно получить просто написав: df.head(10)."
   ]
  },
  {
   "cell_type": "markdown",
   "metadata": {
    "id": "EO73Kwic_Zct"
   },
   "source": [
    "Одной командой получить общую информацию о таблице:"
   ]
  },
  {
   "cell_type": "code",
   "execution_count": 4,
   "metadata": {
    "id": "DSf2kIb-_Zct"
   },
   "outputs": [
    {
     "name": "stdout",
     "output_type": "stream",
     "text": [
      "<class 'pandas.core.frame.DataFrame'>\n",
      "RangeIndex: 65079 entries, 0 to 65078\n",
      "Data columns (total 7 columns):\n",
      "  userID    65079 non-null object\n",
      "Track       63848 non-null object\n",
      "artist      57876 non-null object\n",
      "genre       63881 non-null object\n",
      "  City      65079 non-null object\n",
      "time        65079 non-null object\n",
      "Day         65079 non-null object\n",
      "dtypes: object(7)\n",
      "memory usage: 3.5+ MB\n"
     ]
    }
   ],
   "source": [
    "# получение общей информации о данных в таблице df\n",
    "df.info()"
   ]
  },
  {
   "cell_type": "markdown",
   "metadata": {},
   "source": [
    "<div class=\"alert alert-success\">\n",
    "<b>Комментарий ревьюера ✔️:</b> Отличный выбор метода - info действительно показывает много информации о датафрейме. </div>"
   ]
  },
  {
   "cell_type": "markdown",
   "metadata": {
    "id": "TaQ2Iwbr_Zct"
   },
   "source": [
    "Итак, в таблице семь столбцов. Тип данных во всех столбцах — `object`.\n",
    "\n",
    "Согласно документации к данным:\n",
    "* `userID` — идентификатор пользователя;\n",
    "* `Track` — название трека;  \n",
    "* `artist` — имя исполнителя;\n",
    "* `genre` — название жанра;\n",
    "* `City` — город пользователя;\n",
    "* `time` — время начала прослушивания;\n",
    "* `Day` — день недели.\n",
    "\n",
    "В названиях колонок видны три нарушения стиля:\n",
    "1. Строчные буквы сочетаются с прописными.\n",
    "2. Встречаются пробелы.\n",
    "3. Несколько слов написано слитно, для нескольких слов нужен змеиный регистр.\n",
    "\n",
    "\n",
    "\n",
    "Количество значений в столбцах различается. Значит, в данных есть пропущенные значения.\n"
   ]
  },
  {
   "cell_type": "markdown",
   "metadata": {},
   "source": [
    "<div class=\"alert alert-success\">\n",
    "<b>Комментарий ревьюера ✔️:</b> Абсолютно правильный ответ на вопрос задания! Отличная работа! </div>"
   ]
  },
  {
   "cell_type": "markdown",
   "metadata": {
    "id": "MCB6-dXG_Zct"
   },
   "source": [
    "**Выводы**\n",
    "\n",
    "В каждой строке таблицы — данные о прослушанном треке. Часть колонок описывает саму композицию: название, исполнителя и жанр. Остальные данные рассказывают о пользователе: из какого он города, когда он слушал музыку. \n",
    "\n",
    "Предварительно можно утверждать, что, данных достаточно для проверки гипотез. Но встречаются пропуски в данных, а в названиях колонок — расхождения с хорошим стилем.\n",
    "\n",
    "Чтобы двигаться дальше, нужно устранить проблемы в данных."
   ]
  },
  {
   "cell_type": "markdown",
   "metadata": {
    "id": "SjYF6Ub9_Zct"
   },
   "source": [
    "## Предобработка данных\n",
    "Исправьте стиль в заголовках столбцов, исключите пропуски. Затем проверьте данные на дубликаты."
   ]
  },
  {
   "cell_type": "markdown",
   "metadata": {
    "id": "dIaKXr29_Zct"
   },
   "source": [
    "### Стиль заголовков\n",
    "Выведите на экран названия столбцов:"
   ]
  },
  {
   "cell_type": "code",
   "execution_count": 5,
   "metadata": {
    "id": "oKOTdF_Q_Zct"
   },
   "outputs": [
    {
     "data": {
      "text/plain": [
       "Index(['  userID', 'Track', 'artist', 'genre', '  City  ', 'time', 'Day'], dtype='object')"
      ]
     },
     "execution_count": 5,
     "metadata": {},
     "output_type": "execute_result"
    }
   ],
   "source": [
    "# перечень названий столбцов таблицы df\n",
    "df.columns"
   ]
  },
  {
   "cell_type": "markdown",
   "metadata": {},
   "source": [
    "<div class=\"alert alert-success\">\n",
    "<b>Комментарий ревьюера ✔️:</b> Названия столбцов выведены на экран абсолютно верно </div>"
   ]
  },
  {
   "cell_type": "markdown",
   "metadata": {
    "id": "zj5534cv_Zct"
   },
   "source": [
    "Приведите названия в соответствие с хорошим стилем:\n",
    "* несколько слов в названии запишите в «змеином_регистре»,\n",
    "* все символы сделайте строчными,\n",
    "* устраните пробелы.\n",
    "\n",
    "Для этого переименуйте колонки так:\n",
    "* `'  userID'` → `'user_id'`;\n",
    "* `'Track'` → `'track'`;\n",
    "* `'  City  '` → `'city'`;\n",
    "* `'Day'` → `'day'`."
   ]
  },
  {
   "cell_type": "code",
   "execution_count": 6,
   "metadata": {
    "id": "ISlFqs5y_Zct"
   },
   "outputs": [],
   "source": [
    "df = df.rename(columns={'  userID':'user_id','Track':'track','  City  ':'city','Day':'day'})   # переименование столбцов"
   ]
  },
  {
   "cell_type": "markdown",
   "metadata": {},
   "source": [
    "<div class=\"alert alert-success\">\n",
    "<b>Комментарий ревьюера ✔️:</b> Хороший выбор метода - rename сработает без ошибок, даже если изменится порядок столбцов. </div>"
   ]
  },
  {
   "cell_type": "markdown",
   "metadata": {
    "id": "1dqbh00J_Zct"
   },
   "source": [
    "Проверьте результат. Для этого ещё раз выведите на экран названия столбцов:"
   ]
  },
  {
   "cell_type": "code",
   "execution_count": 7,
   "metadata": {
    "id": "d4NOAmTW_Zct"
   },
   "outputs": [
    {
     "data": {
      "text/plain": [
       "Index(['user_id', 'track', 'artist', 'genre', 'city', 'time', 'day'], dtype='object')"
      ]
     },
     "execution_count": 7,
     "metadata": {},
     "output_type": "execute_result"
    }
   ],
   "source": [
    "# проверка результатов - перечень названий столбцов\n",
    "df.columns"
   ]
  },
  {
   "cell_type": "markdown",
   "metadata": {},
   "source": [
    "<div class=\"alert alert-success\">\n",
    "<b>Комментарий ревьюера ✔️:</b> Замечательно, ошибок больше нет. </div>"
   ]
  },
  {
   "cell_type": "markdown",
   "metadata": {
    "id": "5ISfbcfY_Zct"
   },
   "source": [
    "### Пропуски значений\n",
    "Сначала посчитайте, сколько в таблице пропущенных значений. Для этого достаточно двух методов `pandas`:"
   ]
  },
  {
   "cell_type": "code",
   "execution_count": 8,
   "metadata": {
    "id": "RskX29qr_Zct"
   },
   "outputs": [
    {
     "data": {
      "text/plain": [
       "user_id       0\n",
       "track      1231\n",
       "artist     7203\n",
       "genre      1198\n",
       "city          0\n",
       "time          0\n",
       "day           0\n",
       "dtype: int64"
      ]
     },
     "execution_count": 8,
     "metadata": {},
     "output_type": "execute_result"
    }
   ],
   "source": [
    "# подсчёт пропусков\n",
    "df.isna().sum()\n"
   ]
  },
  {
   "cell_type": "markdown",
   "metadata": {},
   "source": [
    "<div class=\"alert alert-success\">\n",
    "<b>Комментарий ревьюера ✔️:</b> Выбран метод isna() для нахождения пропущенных значений, это отлично! На самом деле, isnull() и isna() делают одно и то же, но использование isna() предпочтительнее. </div>"
   ]
  },
  {
   "cell_type": "markdown",
   "metadata": {
    "id": "qubhgnlO_Zct"
   },
   "source": [
    "Не все пропущенные значения влияют на исследование. Так в `track` и `artist` пропуски не важны для вашей работы. Достаточно заменить их явными обозначениями.\n",
    "\n",
    "Но пропуски в `genre` могут помешать сравнению музыкальных вкусов в Москве и Санкт-Петербурге. На практике было бы правильно установить причину пропусков и восстановить данные. Такой возможности нет в учебном проекте. Придётся:\n",
    "* заполнить и эти пропуски явными обозначениями,\n",
    "* оценить, насколько они повредят расчётам. "
   ]
  },
  {
   "cell_type": "markdown",
   "metadata": {
    "id": "fSv2laPA_Zct"
   },
   "source": [
    "Замените пропущенные значения в столбцах `track`, `artist` и `genre` на строку `'unknown'`. Для этого создайте список `columns_to_replace`, переберите его элементы циклом `for` и для каждого столбца выполните замену пропущенных значений:"
   ]
  },
  {
   "cell_type": "code",
   "execution_count": 9,
   "metadata": {
    "id": "KplB5qWs_Zct"
   },
   "outputs": [],
   "source": [
    "# перебор названий столбцов в цикле и замена пропущенных значений на 'unknown'\n",
    "columns_to_replace = ['track', 'artist', 'genre']\n",
    "for column in columns_to_replace:\n",
    "    df[column]=df[column].fillna('unknow')"
   ]
  },
  {
   "cell_type": "markdown",
   "metadata": {},
   "source": [
    "<div class=\"alert alert-success\">\n",
    "<b>Комментарий ревьюера ✔️:</b> Выбран метод isna() для нахождения пропущенных значений, это отлично! На самом деле, isnull() и isna() делают одно и то же, но использование isna() предпочтительнее. </div>"
   ]
  },
  {
   "cell_type": "markdown",
   "metadata": {
    "id": "Ilsm-MZo_Zct"
   },
   "source": [
    "Убедитесь, что в таблице не осталось пропусков. Для этого ещё раз посчитайте пропущенные значения."
   ]
  },
  {
   "cell_type": "code",
   "execution_count": 10,
   "metadata": {
    "id": "Tq4nYRX4_Zct"
   },
   "outputs": [
    {
     "data": {
      "text/plain": [
       "user_id    0\n",
       "track      0\n",
       "artist     0\n",
       "genre      0\n",
       "city       0\n",
       "time       0\n",
       "day        0\n",
       "dtype: int64"
      ]
     },
     "execution_count": 10,
     "metadata": {},
     "output_type": "execute_result"
    }
   ],
   "source": [
    "# подсчёт пропусков\n",
    "df.isna().sum()"
   ]
  },
  {
   "cell_type": "markdown",
   "metadata": {},
   "source": [
    "<div class=\"alert alert-success\">\n",
    "<b>Комментарий ревьюера ✔️:</b> Отлично, пропусков теперь нет </div>"
   ]
  },
  {
   "cell_type": "markdown",
   "metadata": {
    "id": "BWKRtBJ3_Zct"
   },
   "source": [
    "### Дубликаты\n",
    "Посчитайте явные дубликаты в таблице одной командой:"
   ]
  },
  {
   "cell_type": "code",
   "execution_count": 11,
   "metadata": {
    "id": "36eES_S0_Zct"
   },
   "outputs": [
    {
     "data": {
      "text/plain": [
       "3826"
      ]
     },
     "execution_count": 11,
     "metadata": {},
     "output_type": "execute_result"
    }
   ],
   "source": [
    "# подсчёт явных дубликатов\n",
    "df.duplicated().sum()"
   ]
  },
  {
   "cell_type": "markdown",
   "metadata": {},
   "source": [
    "<div class=\"alert alert-success\">\n",
    "<b>Комментарий ревьюера ✔️:</b> Дубликаты верно найдены и посчитаны оптимальными методами."
   ]
  },
  {
   "cell_type": "markdown",
   "metadata": {
    "id": "Ot25h6XR_Zct"
   },
   "source": [
    "Вызовите специальный метод `pandas`, чтобы удалить явные дубликаты:"
   ]
  },
  {
   "cell_type": "code",
   "execution_count": 12,
   "metadata": {
    "id": "exFHq6tt_Zct"
   },
   "outputs": [],
   "source": [
    "# удаление явных дубликатов (с удалением старых индексов и формированием новых)\n",
    "df = df.drop_duplicates().reset_index(drop=True)"
   ]
  },
  {
   "cell_type": "markdown",
   "metadata": {},
   "source": [
    "<div class=\"alert alert-success\">\n",
    "<b>Комментарий ревьюера ✔️:</b> Дубликаты удалены и исправлены совершенно верно!"
   ]
  },
  {
   "cell_type": "markdown",
   "metadata": {
    "id": "Im2YwBEG_Zct"
   },
   "source": [
    "Ещё раз посчитайте явные дубликаты в таблице — убедитесь, что полностью от них избавились:"
   ]
  },
  {
   "cell_type": "code",
   "execution_count": 13,
   "metadata": {
    "id": "-8PuNWQ0_Zct"
   },
   "outputs": [
    {
     "data": {
      "text/plain": [
       "0"
      ]
     },
     "execution_count": 13,
     "metadata": {},
     "output_type": "execute_result"
    }
   ],
   "source": [
    "# проверка на отсутствие дубликатов\n",
    "df.duplicated().sum()"
   ]
  },
  {
   "cell_type": "markdown",
   "metadata": {},
   "source": [
    "<div class=\"alert alert-success\">\n",
    "<b>Комментарий ревьюера ✔️:</b> Дубликатов больше нет, молодец."
   ]
  },
  {
   "cell_type": "markdown",
   "metadata": {
    "id": "QlFBsxAr_Zct"
   },
   "source": [
    "Теперь избавьтесь от неявных дубликатов в колонке `genre`. Например, название одного и того же жанра может быть записано немного по-разному. Такие ошибки тоже повлияют на результат исследования."
   ]
  },
  {
   "cell_type": "markdown",
   "metadata": {
    "id": "eSjWwsOh_Zct"
   },
   "source": [
    "Выведите на экран список уникальных названий жанров, отсортированный в алфавитном порядке. Для этого:\n",
    "* извлеките нужный столбец датафрейма, \n",
    "* примените к нему метод сортировки,\n",
    "* для отсортированного столбца вызовите метод, который вернёт уникальные значения из столбца."
   ]
  },
  {
   "cell_type": "code",
   "execution_count": 14,
   "metadata": {
    "id": "JIUcqzZN_Zct"
   },
   "outputs": [
    {
     "data": {
      "text/plain": [
       "array(['acid', 'acoustic', 'action', 'adult', 'africa', 'afrikaans',\n",
       "       'alternative', 'alternativepunk', 'ambient', 'americana',\n",
       "       'animated', 'anime', 'arabesk', 'arabic', 'arena',\n",
       "       'argentinetango', 'art', 'audiobook', 'author', 'avantgarde',\n",
       "       'axé', 'baile', 'balkan', 'beats', 'bigroom', 'black', 'bluegrass',\n",
       "       'blues', 'bollywood', 'bossa', 'brazilian', 'breakbeat', 'breaks',\n",
       "       'broadway', 'cantautori', 'cantopop', 'canzone', 'caribbean',\n",
       "       'caucasian', 'celtic', 'chamber', 'chanson', 'children', 'chill',\n",
       "       'chinese', 'choral', 'christian', 'christmas', 'classical',\n",
       "       'classicmetal', 'club', 'colombian', 'comedy', 'conjazz',\n",
       "       'contemporary', 'country', 'cuban', 'dance', 'dancehall',\n",
       "       'dancepop', 'dark', 'death', 'deep', 'deutschrock', 'deutschspr',\n",
       "       'dirty', 'disco', 'dnb', 'documentary', 'downbeat', 'downtempo',\n",
       "       'drum', 'dub', 'dubstep', 'eastern', 'easy', 'electronic',\n",
       "       'electropop', 'emo', 'entehno', 'epicmetal', 'estrada', 'ethnic',\n",
       "       'eurofolk', 'european', 'experimental', 'extrememetal', 'fado',\n",
       "       'fairytail', 'film', 'fitness', 'flamenco', 'folk', 'folklore',\n",
       "       'folkmetal', 'folkrock', 'folktronica', 'forró', 'frankreich',\n",
       "       'französisch', 'french', 'funk', 'future', 'gangsta', 'garage',\n",
       "       'german', 'ghazal', 'gitarre', 'glitch', 'gospel', 'gothic',\n",
       "       'grime', 'grunge', 'gypsy', 'handsup', \"hard'n'heavy\", 'hardcore',\n",
       "       'hardstyle', 'hardtechno', 'hip', 'hip-hop', 'hiphop',\n",
       "       'historisch', 'holiday', 'hop', 'horror', 'house', 'hymn', 'idm',\n",
       "       'independent', 'indian', 'indie', 'indipop', 'industrial',\n",
       "       'inspirational', 'instrumental', 'international', 'irish', 'jam',\n",
       "       'japanese', 'jazz', 'jewish', 'jpop', 'jungle', 'k-pop',\n",
       "       'karadeniz', 'karaoke', 'kayokyoku', 'korean', 'laiko', 'latin',\n",
       "       'latino', 'leftfield', 'local', 'lounge', 'loungeelectronic',\n",
       "       'lovers', 'malaysian', 'mandopop', 'marschmusik', 'meditative',\n",
       "       'mediterranean', 'melodic', 'metal', 'metalcore', 'mexican',\n",
       "       'middle', 'minimal', 'miscellaneous', 'modern', 'mood', 'mpb',\n",
       "       'muslim', 'native', 'neoklassik', 'neue', 'new', 'newage',\n",
       "       'newwave', 'nu', 'nujazz', 'numetal', 'oceania', 'old', 'opera',\n",
       "       'orchestral', 'other', 'piano', 'podcasts', 'pop', 'popdance',\n",
       "       'popelectronic', 'popeurodance', 'poprussian', 'post',\n",
       "       'posthardcore', 'postrock', 'power', 'progmetal', 'progressive',\n",
       "       'psychedelic', 'punjabi', 'punk', 'quebecois', 'ragga', 'ram',\n",
       "       'rancheras', 'rap', 'rave', 'reggae', 'reggaeton', 'regional',\n",
       "       'relax', 'religious', 'retro', 'rhythm', 'rnb', 'rnr', 'rock',\n",
       "       'rockabilly', 'rockalternative', 'rockindie', 'rockother',\n",
       "       'romance', 'roots', 'ruspop', 'rusrap', 'rusrock', 'russian',\n",
       "       'salsa', 'samba', 'scenic', 'schlager', 'self', 'sertanejo',\n",
       "       'shanson', 'shoegazing', 'showtunes', 'singer', 'ska', 'skarock',\n",
       "       'slow', 'smooth', 'soft', 'soul', 'soulful', 'sound', 'soundtrack',\n",
       "       'southern', 'specialty', 'speech', 'spiritual', 'sport',\n",
       "       'stonerrock', 'surf', 'swing', 'synthpop', 'synthrock',\n",
       "       'sängerportrait', 'tango', 'tanzorchester', 'taraftar', 'tatar',\n",
       "       'tech', 'techno', 'teen', 'thrash', 'top', 'traditional',\n",
       "       'tradjazz', 'trance', 'tribal', 'trip', 'triphop', 'tropical',\n",
       "       'türk', 'türkçe', 'ukrrock', 'unknow', 'urban', 'uzbek', 'variété',\n",
       "       'vi', 'videogame', 'vocal', 'western', 'world', 'worldbeat', 'ïîï',\n",
       "       'электроника'], dtype=object)"
      ]
     },
     "execution_count": 14,
     "metadata": {},
     "output_type": "execute_result"
    }
   ],
   "source": [
    "# Просмотр уникальных названий жанров\n",
    "df['genre'].sort_values().unique()"
   ]
  },
  {
   "cell_type": "markdown",
   "metadata": {},
   "source": [
    "<div class=\"alert alert-warning\">\n",
    "<b>Комментарий ревьюера ⚠️:</b> Функция выбрана абсолютно точно, но display писать необязательно"
   ]
  },
  {
   "cell_type": "markdown",
   "metadata": {
    "id": "qej-Qmuo_Zct"
   },
   "source": [
    "Просмотрите список и найдите неявные дубликаты названия `hiphop`. Это могут быть названия с ошибками или альтернативные названия того же жанра.\n",
    "\n",
    "Вы увидите следующие неявные дубликаты:\n",
    "* *hip*,\n",
    "* *hop*,\n",
    "* *hip-hop*.\n",
    "\n",
    "Чтобы очистить от них таблицу, напишите функцию `replace_wrong_genres()` с двумя параметрами: \n",
    "* `wrong_genres` — список дубликатов,\n",
    "* `correct_genre` — строка с правильным значением.\n",
    "\n",
    "Функция должна исправить колонку `genre` в таблице `df`: заменить каждое значение из списка `wrong_genres` на значение из `correct_genre`."
   ]
  },
  {
   "cell_type": "code",
   "execution_count": 15,
   "metadata": {
    "id": "ErNDkmns_Zct"
   },
   "outputs": [],
   "source": [
    "# Функция для замены неявных дубликатов\n",
    "def replace_wrong_genres(wrong_genres, correct_genre):\n",
    "    for wrong_genre in wrong_genres:\n",
    "        df['genre'] = df['genre'].replace(wrong_genres, correct_genre)\n",
    "        \n",
    "duplicates = ['hip', 'hop', 'hip-hop']\n",
    "name = 'hiphop'               "
   ]
  },
  {
   "cell_type": "markdown",
   "metadata": {},
   "source": [
    "<div class=\"alert alert-success\">\n",
    "<b>Комментарий ревьюера ✔️:</b> Функция написана верно!"
   ]
  },
  {
   "cell_type": "markdown",
   "metadata": {
    "id": "aDoBJxbA_Zct"
   },
   "source": [
    "Вызовите `replace_wrong_genres()` и передайте ей такие аргументы, чтобы она устранила неявные дубликаты: вместо `hip`, `hop` и `hip-hop` в таблице должно быть значение `hiphop`:"
   ]
  },
  {
   "cell_type": "code",
   "execution_count": 16,
   "metadata": {
    "id": "YN5i2hpmSo09"
   },
   "outputs": [],
   "source": [
    "# Устранение неявных дубликатов\n",
    "replace_wrong_genres(duplicates, name)"
   ]
  },
  {
   "cell_type": "markdown",
   "metadata": {
    "id": "zQKF16_RG15m"
   },
   "source": [
    "Проверьте, что заменили неправильные названия:\n",
    "\n",
    "*   hip\n",
    "*   hop\n",
    "*   hip-hop\n",
    "\n",
    "Выведите отсортированный список уникальных значений столбца `genre`:"
   ]
  },
  {
   "cell_type": "code",
   "execution_count": 17,
   "metadata": {
    "id": "wvixALnFG15m"
   },
   "outputs": [
    {
     "data": {
      "text/plain": [
       "array(['acid', 'acoustic', 'action', 'adult', 'africa', 'afrikaans',\n",
       "       'alternative', 'alternativepunk', 'ambient', 'americana',\n",
       "       'animated', 'anime', 'arabesk', 'arabic', 'arena',\n",
       "       'argentinetango', 'art', 'audiobook', 'author', 'avantgarde',\n",
       "       'axé', 'baile', 'balkan', 'beats', 'bigroom', 'black', 'bluegrass',\n",
       "       'blues', 'bollywood', 'bossa', 'brazilian', 'breakbeat', 'breaks',\n",
       "       'broadway', 'cantautori', 'cantopop', 'canzone', 'caribbean',\n",
       "       'caucasian', 'celtic', 'chamber', 'chanson', 'children', 'chill',\n",
       "       'chinese', 'choral', 'christian', 'christmas', 'classical',\n",
       "       'classicmetal', 'club', 'colombian', 'comedy', 'conjazz',\n",
       "       'contemporary', 'country', 'cuban', 'dance', 'dancehall',\n",
       "       'dancepop', 'dark', 'death', 'deep', 'deutschrock', 'deutschspr',\n",
       "       'dirty', 'disco', 'dnb', 'documentary', 'downbeat', 'downtempo',\n",
       "       'drum', 'dub', 'dubstep', 'eastern', 'easy', 'electronic',\n",
       "       'electropop', 'emo', 'entehno', 'epicmetal', 'estrada', 'ethnic',\n",
       "       'eurofolk', 'european', 'experimental', 'extrememetal', 'fado',\n",
       "       'fairytail', 'film', 'fitness', 'flamenco', 'folk', 'folklore',\n",
       "       'folkmetal', 'folkrock', 'folktronica', 'forró', 'frankreich',\n",
       "       'französisch', 'french', 'funk', 'future', 'gangsta', 'garage',\n",
       "       'german', 'ghazal', 'gitarre', 'glitch', 'gospel', 'gothic',\n",
       "       'grime', 'grunge', 'gypsy', 'handsup', \"hard'n'heavy\", 'hardcore',\n",
       "       'hardstyle', 'hardtechno', 'hiphop', 'historisch', 'holiday',\n",
       "       'horror', 'house', 'hymn', 'idm', 'independent', 'indian', 'indie',\n",
       "       'indipop', 'industrial', 'inspirational', 'instrumental',\n",
       "       'international', 'irish', 'jam', 'japanese', 'jazz', 'jewish',\n",
       "       'jpop', 'jungle', 'k-pop', 'karadeniz', 'karaoke', 'kayokyoku',\n",
       "       'korean', 'laiko', 'latin', 'latino', 'leftfield', 'local',\n",
       "       'lounge', 'loungeelectronic', 'lovers', 'malaysian', 'mandopop',\n",
       "       'marschmusik', 'meditative', 'mediterranean', 'melodic', 'metal',\n",
       "       'metalcore', 'mexican', 'middle', 'minimal', 'miscellaneous',\n",
       "       'modern', 'mood', 'mpb', 'muslim', 'native', 'neoklassik', 'neue',\n",
       "       'new', 'newage', 'newwave', 'nu', 'nujazz', 'numetal', 'oceania',\n",
       "       'old', 'opera', 'orchestral', 'other', 'piano', 'podcasts', 'pop',\n",
       "       'popdance', 'popelectronic', 'popeurodance', 'poprussian', 'post',\n",
       "       'posthardcore', 'postrock', 'power', 'progmetal', 'progressive',\n",
       "       'psychedelic', 'punjabi', 'punk', 'quebecois', 'ragga', 'ram',\n",
       "       'rancheras', 'rap', 'rave', 'reggae', 'reggaeton', 'regional',\n",
       "       'relax', 'religious', 'retro', 'rhythm', 'rnb', 'rnr', 'rock',\n",
       "       'rockabilly', 'rockalternative', 'rockindie', 'rockother',\n",
       "       'romance', 'roots', 'ruspop', 'rusrap', 'rusrock', 'russian',\n",
       "       'salsa', 'samba', 'scenic', 'schlager', 'self', 'sertanejo',\n",
       "       'shanson', 'shoegazing', 'showtunes', 'singer', 'ska', 'skarock',\n",
       "       'slow', 'smooth', 'soft', 'soul', 'soulful', 'sound', 'soundtrack',\n",
       "       'southern', 'specialty', 'speech', 'spiritual', 'sport',\n",
       "       'stonerrock', 'surf', 'swing', 'synthpop', 'synthrock',\n",
       "       'sängerportrait', 'tango', 'tanzorchester', 'taraftar', 'tatar',\n",
       "       'tech', 'techno', 'teen', 'thrash', 'top', 'traditional',\n",
       "       'tradjazz', 'trance', 'tribal', 'trip', 'triphop', 'tropical',\n",
       "       'türk', 'türkçe', 'ukrrock', 'unknow', 'urban', 'uzbek', 'variété',\n",
       "       'vi', 'videogame', 'vocal', 'western', 'world', 'worldbeat', 'ïîï',\n",
       "       'электроника'], dtype=object)"
      ]
     },
     "execution_count": 17,
     "metadata": {},
     "output_type": "execute_result"
    }
   ],
   "source": [
    "# Проверка на неявные дубликатов\n",
    "df['genre'].sort_values().unique()"
   ]
  },
  {
   "cell_type": "markdown",
   "metadata": {},
   "source": [
    "<div class=\"alert alert-warning\">\n",
    "<b>Комментарий ревьюера ⚠️:</b> В Jupyter Notebook не обязательно указывать display для отображения результата, отображение данных можно получить просто написав: df['genre'].sort_values().unique() Сам же список отсортирован отлично."
   ]
  },
  {
   "cell_type": "markdown",
   "metadata": {
    "id": "jz6a9-7HQUDd"
   },
   "source": [
    "**Выводы**\n",
    "\n",
    "Предобработка обнаружила три проблемы в данных:\n",
    "\n",
    "- нарушения в стиле заголовков,\n",
    "- пропущенные значения,\n",
    "- дубликаты — явные и неявные.\n",
    "\n",
    "Вы исправили заголовки, чтобы упростить работу с таблицей. Без дубликатов исследование станет более точным.\n",
    "\n",
    "Пропущенные значения вы заменили на `'unknown'`. Ещё предстоит увидеть, не повредят ли исследованию пропуски в колонке `genre`.\n",
    "\n",
    "Теперь можно перейти к проверке гипотез. "
   ]
  },
  {
   "cell_type": "markdown",
   "metadata": {},
   "source": [
    "<div class=\"alert alert-success\">\n",
    "<b>Комментарий ревьюера ✔️:</b> Здорово. как же много всего мы уже сделали, на самое интересное нас ещё ждет впереди!"
   ]
  },
  {
   "cell_type": "markdown",
   "metadata": {
    "id": "WttZHXH0SqKk"
   },
   "source": [
    "## Проверка гипотез"
   ]
  },
  {
   "cell_type": "markdown",
   "metadata": {
    "id": "Im936VVi_Zcu"
   },
   "source": [
    "### Сравнение поведения пользователей двух столиц"
   ]
  },
  {
   "cell_type": "markdown",
   "metadata": {
    "id": "nwt_MuaL_Zcu"
   },
   "source": [
    "Первая гипотеза утверждает, что пользователи по-разному слушают музыку в Москве и Санкт-Петербурге. Проверьте это предположение по данным о трёх днях недели — понедельнике, среде и пятнице. Для этого:\n",
    "\n",
    "* Разделите пользователей Москвы и Санкт-Петербурга\n",
    "* Сравните, сколько треков послушала каждая группа пользователей в понедельник, среду и пятницу.\n"
   ]
  },
  {
   "cell_type": "markdown",
   "metadata": {
    "id": "8Dw_YMmT_Zcu"
   },
   "source": [
    "Для тренировки сначала выполните каждый из расчётов по отдельности. \n",
    "\n",
    "Оцените активность пользователей в каждом городе. Сгруппируйте данные по городу и посчитайте прослушивания в каждой группе.\n",
    "\n"
   ]
  },
  {
   "cell_type": "code",
   "execution_count": 18,
   "metadata": {
    "id": "0_Qs96oh_Zcu"
   },
   "outputs": [
    {
     "data": {
      "text/plain": [
       "city\n",
       "Moscow              42741\n",
       "Saint-Petersburg    18512\n",
       "Name: genre, dtype: int64"
      ]
     },
     "execution_count": 18,
     "metadata": {},
     "output_type": "execute_result"
    }
   ],
   "source": [
    "# Подсчёт прослушиваний в каждом городе\n",
    "\n",
    "df.groupby('city')['genre'].count()"
   ]
  },
  {
   "cell_type": "markdown",
   "metadata": {},
   "source": [
    "<div class=\"alert alert-success\">\n",
    "<b>Комментарий ревьюера ✔️:</b> Идеально"
   ]
  },
  {
   "cell_type": "markdown",
   "metadata": {
    "id": "dzli3w8o_Zcu"
   },
   "source": [
    "В Москве прослушиваний больше, чем в Петербурге. Из этого не следует, что московские пользователи чаще слушают музыку. Просто самих пользователей в Москве больше.\n",
    "\n",
    "Теперь сгруппируйте данные по дню недели и подсчитайте прослушивания в понедельник, среду и пятницу. Учтите, что в данных есть информация только о прослушиваниях только за эти дни.\n"
   ]
  },
  {
   "cell_type": "code",
   "execution_count": 19,
   "metadata": {
    "id": "uZMKjiJz_Zcu"
   },
   "outputs": [
    {
     "data": {
      "text/plain": [
       "day\n",
       "Friday       21840\n",
       "Monday       21354\n",
       "Wednesday    18059\n",
       "Name: genre, dtype: int64"
      ]
     },
     "execution_count": 19,
     "metadata": {},
     "output_type": "execute_result"
    }
   ],
   "source": [
    "# Подсчёт прослушиваний в каждый из трёх дней\n",
    "df.groupby('day')['genre'].count()"
   ]
  },
  {
   "cell_type": "markdown",
   "metadata": {},
   "source": [
    "<div class=\"alert alert-success\">\n",
    "<b>Комментарий ревьюера ✔️:</b> Снова то, что надо"
   ]
  },
  {
   "cell_type": "markdown",
   "metadata": {
    "id": "cC2tNrlL_Zcu"
   },
   "source": [
    "В среднем пользователи из двух городов менее активны по средам. Но картина может измениться, если рассмотреть каждый город в отдельности."
   ]
  },
  {
   "cell_type": "markdown",
   "metadata": {
    "id": "POzs8bGa_Zcu"
   },
   "source": [
    "Вы видели, как работает группировка по городу и по дням недели. Теперь напишите функцию, которая объединит два эти расчёта.\n",
    "\n",
    "Создайте функцию `number_tracks()`, которая посчитает прослушивания для заданного дня и города. Ей понадобятся два параметра:\n",
    "* день недели,\n",
    "* название города.\n",
    "\n",
    "В функции сохраните в переменную строки исходной таблицы, у которых значение:\n",
    "  * в колонке `day` равно параметру `day`,\n",
    "  * в колонке `city` равно параметру `city`.\n",
    "\n",
    "Для этого примените последовательную фильтрацию с логической индексацией.\n",
    "\n",
    "Затем посчитайте значения в столбце `user_id` получившейся таблицы. Результат сохраните в новую переменную. Верните эту переменную из функции."
   ]
  },
  {
   "cell_type": "code",
   "execution_count": 20,
   "metadata": {
    "id": "Nz3GdQB1_Zcu"
   },
   "outputs": [],
   "source": [
    "# <создание функции number_tracks()>\n",
    "# Объявляется функция с двумя параметрами: day, city.\n",
    "# В переменной track_list сохраняются те строки таблицы df, для которых \n",
    "# значение в столбце 'day' равно параметру day и одновременно значение\n",
    "# в столбце 'city' равно параметру city (используйте последовательную фильтрацию\n",
    "# с помощью логической индексации).\n",
    "# В переменной track_list_count сохраняется число значений столбца 'user_id',\n",
    "# рассчитанное методом count() для таблицы track_list.\n",
    "# Функция возвращает число - значение track_list_count.\n",
    "\n",
    "# Функция для подсчёта прослушиваний для конкретного города и дня.\n",
    "# С помощью последовательной фильтрации с логической индексацией она \n",
    "# сначала получит из исходной таблицы строки с нужным днём,\n",
    "# затем из результата отфильтрует строки с нужным городом,\n",
    "# методом count() посчитает количество значений в колонке user_id. \n",
    "# Это количество функция вернёт в качестве результата\n",
    "\n",
    "\n",
    "def number_tracks(data, day, city):\n",
    "    track_list = df[df['day']==day]  \n",
    "    track_list = track_list[track_list['city']==city]\n",
    "    track_list_count = track_list['user_id'].count()\n",
    "    return track_list_count\n",
    "\n"
   ]
  },
  {
   "cell_type": "markdown",
   "metadata": {},
   "source": [
    "<div class=\"alert alert-success\">\n",
    "<b>Комментарий ревьюера ✔️:</b> Твоя функция полностью выполняет свои задачи."
   ]
  },
  {
   "cell_type": "markdown",
   "metadata": {
    "id": "ytf7xFrFJQ2r"
   },
   "source": [
    "Вызовите `number_tracks()` шесть раз, меняя значение параметров — так, чтобы получить данные для каждого города в каждый из трёх дней."
   ]
  },
  {
   "cell_type": "code",
   "execution_count": 21,
   "metadata": {
    "id": "rJcRATNQ_Zcu"
   },
   "outputs": [
    {
     "data": {
      "text/plain": [
       "15740"
      ]
     },
     "execution_count": 21,
     "metadata": {},
     "output_type": "execute_result"
    }
   ],
   "source": [
    "# количество прослушиваний в Москве по понедельникам\n",
    "number_tracks(df,'Monday', 'Moscow')"
   ]
  },
  {
   "cell_type": "code",
   "execution_count": 22,
   "metadata": {
    "id": "hq_ncZ5T_Zcu"
   },
   "outputs": [
    {
     "data": {
      "text/plain": [
       "5614"
      ]
     },
     "execution_count": 22,
     "metadata": {},
     "output_type": "execute_result"
    }
   ],
   "source": [
    "# количество прослушиваний в Санкт-Петербурге по понедельникам\n",
    "number_tracks(df,'Monday','Saint-Petersburg')"
   ]
  },
  {
   "cell_type": "code",
   "execution_count": 23,
   "metadata": {
    "id": "_NTy2VPU_Zcu"
   },
   "outputs": [
    {
     "data": {
      "text/plain": [
       "11056"
      ]
     },
     "execution_count": 23,
     "metadata": {},
     "output_type": "execute_result"
    }
   ],
   "source": [
    "# количество прослушиваний в Москве по средам\n",
    "number_tracks(df,'Wednesday', 'Moscow')"
   ]
  },
  {
   "cell_type": "code",
   "execution_count": 24,
   "metadata": {
    "id": "j2y3TAwo_Zcu"
   },
   "outputs": [
    {
     "data": {
      "text/plain": [
       "7003"
      ]
     },
     "execution_count": 24,
     "metadata": {},
     "output_type": "execute_result"
    }
   ],
   "source": [
    "# количество прослушиваний в Санкт-Петербурге по средам\n",
    "number_tracks(df,'Wednesday','Saint-Petersburg')"
   ]
  },
  {
   "cell_type": "code",
   "execution_count": 25,
   "metadata": {
    "id": "vYDw5u_K_Zcu"
   },
   "outputs": [
    {
     "data": {
      "text/plain": [
       "15945"
      ]
     },
     "execution_count": 25,
     "metadata": {},
     "output_type": "execute_result"
    }
   ],
   "source": [
    "# количество прослушиваний в Москве по пятницам\n",
    "number_tracks(df,'Friday', 'Moscow')"
   ]
  },
  {
   "cell_type": "code",
   "execution_count": 26,
   "metadata": {
    "id": "8_yzFtW3_Zcu"
   },
   "outputs": [
    {
     "data": {
      "text/plain": [
       "5895"
      ]
     },
     "execution_count": 26,
     "metadata": {},
     "output_type": "execute_result"
    }
   ],
   "source": [
    "# количество прослушиваний в Санкт-Петербурге по пятницам\n",
    "number_tracks(df,'Friday','Saint-Petersburg')"
   ]
  },
  {
   "cell_type": "markdown",
   "metadata": {},
   "source": [
    "<div class=\"alert alert-success\">\n",
    "<b>Комментарий ревьюера ✔️:</b> Великолепно!"
   ]
  },
  {
   "cell_type": "markdown",
   "metadata": {
    "id": "7QXffbO-_Zcu"
   },
   "source": [
    "Создайте c помощью конструктора `pd.DataFrame` таблицу, где\n",
    "* названия колонок — `['city', 'monday', 'wednesday', 'friday']`;\n",
    "* данные — результаты, которые вы получили с помощью `number_tracks`."
   ]
  },
  {
   "cell_type": "code",
   "execution_count": 27,
   "metadata": {
    "id": "APAcLpOr_Zcu"
   },
   "outputs": [
    {
     "name": "stdout",
     "output_type": "stream",
     "text": [
      "               city  monday  wednesday  friday\n",
      "0            Moscow   15740      11056   15945\n",
      "1  Saint-Petersburg    5614       7003    5895\n"
     ]
    }
   ],
   "source": [
    "# Таблица с результатами\n",
    "columns = ['city', 'monday', 'wednesday', 'friday']\n",
    "data = [['Moscow', 15740, 11056, 15945], ['Saint-Petersburg', 5614, 7003, 5895]]\n",
    "print(pd.DataFrame(data=data,columns=columns))"
   ]
  },
  {
   "cell_type": "markdown",
   "metadata": {},
   "source": [
    "<div class=\"alert alert-success\">\n",
    "<b>Комментарий ревьюера ✔️:</b> Абсолютно верно."
   ]
  },
  {
   "cell_type": "markdown",
   "metadata": {
    "id": "-EgPIHYu_Zcu"
   },
   "source": [
    "**Выводы**\n",
    "\n",
    "Данные показывают разницу поведения пользователей:\n",
    "\n",
    "- В Москве пик прослушиваний приходится на понедельник и пятницу, а в среду заметен спад.\n",
    "- В Петербурге, наоборот, больше слушают музыку по средам. Активность в понедельник и пятницу здесь почти в равной мере уступает среде.\n",
    "\n",
    "Значит, данные говорят в пользу первой гипотезы."
   ]
  },
  {
   "cell_type": "markdown",
   "metadata": {
    "id": "atZAxtq4_Zcu"
   },
   "source": [
    "### Музыка в начале и в конце недели"
   ]
  },
  {
   "cell_type": "markdown",
   "metadata": {
    "id": "eXrQqXFH_Zcu"
   },
   "source": [
    "Согласно второй гипотезе, утром в понедельник в Москве преобладают одни жанры, а в Петербурге — другие. Так же и вечером пятницы преобладают разные жанры — в зависимости от города."
   ]
  },
  {
   "cell_type": "markdown",
   "metadata": {
    "id": "S8UcW6Hw_Zcu"
   },
   "source": [
    "Сохраните таблицы с данными в две переменные:\n",
    "* по Москве — в `moscow_general`;\n",
    "* по Санкт-Петербургу — в `spb_general`."
   ]
  },
  {
   "cell_type": "code",
   "execution_count": 28,
   "metadata": {
    "id": "qeaFfM_P_Zcu"
   },
   "outputs": [],
   "source": [
    "# получение таблицы moscow_general из тех строк таблицы df, \n",
    "# для которых значение в столбце 'city' равно 'Moscow'\n",
    "moscow_general = df[df['city']=='Moscow']"
   ]
  },
  {
   "cell_type": "code",
   "execution_count": 29,
   "metadata": {
    "id": "ORaVRKto_Zcu"
   },
   "outputs": [],
   "source": [
    "# получение таблицы spb_general из тех строк таблицы df,\n",
    "# для которых значение в столбце 'city' равно 'Saint-Petersburg'\n",
    "spb_general = df[df['city']=='Saint-Petersburg']"
   ]
  },
  {
   "cell_type": "markdown",
   "metadata": {},
   "source": [
    "<div class=\"alert alert-success\">\n",
    "<b>Комментарий ревьюера ✔️:</b> В точку!"
   ]
  },
  {
   "cell_type": "markdown",
   "metadata": {
    "id": "MEJV-CX2_Zcu"
   },
   "source": [
    "Создайте функцию `genre_weekday()` с четырьмя параметрами:\n",
    "* таблица (датафрейм) с данными,\n",
    "* день недели,\n",
    "* начальная временная метка в формате 'hh:mm', \n",
    "* последняя временная метка в формате 'hh:mm'.\n",
    "\n",
    "Функция должна вернуть информацию о топ-10 жанров тех треков, которые прослушивали в указанный день, в промежутке между двумя отметками времени."
   ]
  },
  {
   "cell_type": "code",
   "execution_count": 30,
   "metadata": {
    "id": "laJT9BYl_Zcu"
   },
   "outputs": [],
   "source": [
    "# Объявление функции genre_weekday() с параметрами table, day, time1, time2,\n",
    "# которая возвращает информацию о самых популярных жанрах в указанный день в\n",
    "# заданное время:\n",
    "# 1) в переменную genre_df сохраняются те строки переданного датафрейма table, для\n",
    "#    которых одновременно:\n",
    "#    - значение в столбце day равно значению аргумента day\n",
    "#    - значение в столбце time больше значения аргумента time1\n",
    "#    - значение в столбце time меньше значения аргумента time2\n",
    "#    Используйте последовательную фильтрацию с помощью логической индексации.\n",
    "# 2) сгруппировать датафрейм genre_df по столбцу genre, взять один из его\n",
    "#    столбцов и посчитать методом count() количество записей для каждого из\n",
    "#    присутствующих жанров, получившийся Series записать в переменную\n",
    "#    genre_df_count\n",
    "# 3) отсортировать genre_df_count по убыванию встречаемости и сохранить\n",
    "#    в переменную genre_df_sorted\n",
    "# 4) вернуть Series из 10 первых значений genre_df_sorted, это будут топ-10\n",
    "#    популярных жанров (в указанный день, в заданное время)\n",
    "\n",
    "def genre_weekday(table, day, time1, time2):\n",
    "    genre_df = table[table['day'] == day]\n",
    "    genre_df = genre_df[genre_df['time'] > time1]\n",
    "    genre_df = genre_df[genre_df['time'] < time2]\n",
    "    genre_df_count = genre_df.groupby('genre')['user_id'].count()\n",
    "    genre_df_sorted = genre_df_count.sort_values(ascending=False)\n",
    "    return genre_df_sorted.head(10)"
   ]
  },
  {
   "cell_type": "markdown",
   "metadata": {
    "id": "la2s2_PF_Zcu"
   },
   "source": [
    "Cравните результаты функции `genre_weekday()` для Москвы и Санкт-Петербурга в понедельник утром (с 7:00 до 11:00) и в пятницу вечером (с 17:00 до 23:00):"
   ]
  },
  {
   "cell_type": "code",
   "execution_count": 31,
   "metadata": {
    "id": "yz7itPUQ_Zcu"
   },
   "outputs": [
    {
     "data": {
      "text/plain": [
       "genre\n",
       "pop            781\n",
       "dance          549\n",
       "electronic     480\n",
       "rock           474\n",
       "hiphop         286\n",
       "ruspop         186\n",
       "world          181\n",
       "rusrap         175\n",
       "alternative    164\n",
       "unknow         161\n",
       "Name: user_id, dtype: int64"
      ]
     },
     "execution_count": 31,
     "metadata": {},
     "output_type": "execute_result"
    }
   ],
   "source": [
    "# вызов функции для утра понедельника в Москве (вместо df — таблица moscow_general)\n",
    "# объекты, хранящие время, являются строками и сравниваются как строки\n",
    "# пример вызова: genre_weekday(moscow_general, 'Monday', '07:00', '11:00')\n",
    "\n",
    "genre_weekday(moscow_general, 'Monday', '07:00', '11:00')"
   ]
  },
  {
   "cell_type": "code",
   "execution_count": 32,
   "metadata": {
    "id": "kwUcHPdy_Zcu"
   },
   "outputs": [
    {
     "data": {
      "text/plain": [
       "genre\n",
       "pop            218\n",
       "dance          182\n",
       "rock           162\n",
       "electronic     147\n",
       "hiphop          80\n",
       "ruspop          64\n",
       "alternative     58\n",
       "rusrap          55\n",
       "jazz            44\n",
       "classical       40\n",
       "Name: user_id, dtype: int64"
      ]
     },
     "execution_count": 32,
     "metadata": {},
     "output_type": "execute_result"
    }
   ],
   "source": [
    "# вызов функции для утра понедельника в Петербурге (вместо df — таблица spb_general)\n",
    "genre_weekday(spb_general, 'Monday', '07:00', '11:00')"
   ]
  },
  {
   "cell_type": "code",
   "execution_count": 33,
   "metadata": {
    "id": "EzXVRE1o_Zcu"
   },
   "outputs": [
    {
     "data": {
      "text/plain": [
       "genre\n",
       "pop            713\n",
       "rock           517\n",
       "dance          495\n",
       "electronic     482\n",
       "hiphop         273\n",
       "world          208\n",
       "ruspop         170\n",
       "alternative    163\n",
       "classical      163\n",
       "rusrap         142\n",
       "Name: user_id, dtype: int64"
      ]
     },
     "execution_count": 33,
     "metadata": {},
     "output_type": "execute_result"
    }
   ],
   "source": [
    "# вызов функции для вечера пятницы в Москве\n",
    "genre_weekday(moscow_general, 'Friday', '17:00', '23:00')"
   ]
  },
  {
   "cell_type": "code",
   "execution_count": 34,
   "metadata": {
    "id": "JZaEKu5v_Zcu"
   },
   "outputs": [
    {
     "data": {
      "text/plain": [
       "genre\n",
       "pop            256\n",
       "rock           216\n",
       "electronic     216\n",
       "dance          210\n",
       "hiphop          97\n",
       "alternative     63\n",
       "jazz            61\n",
       "classical       60\n",
       "rusrap          59\n",
       "world           54\n",
       "Name: user_id, dtype: int64"
      ]
     },
     "execution_count": 34,
     "metadata": {},
     "output_type": "execute_result"
    }
   ],
   "source": [
    "# вызов функции для вечера пятницы в Петербурге\n",
    "genre_weekday(spb_general, 'Friday', '17:00', '23:00')"
   ]
  },
  {
   "cell_type": "markdown",
   "metadata": {},
   "source": [
    "<div class=\"alert alert-success\">\n",
    "<b>Комментарий ревьюера ✔️:</b> С помощью функции мы получили всю нужную информацию. Функция написана абсолютно верно!"
   ]
  },
  {
   "cell_type": "markdown",
   "metadata": {
    "id": "wrCe4MNX_Zcu"
   },
   "source": [
    "**Выводы**\n",
    "\n",
    "Если сравнить топ-10 жанров в понедельник утром, можно сделать такие выводы:\n",
    "\n",
    "1. В Москве и Петербурге слушают похожую музыку. Единственное отличие — в московский рейтинг вошёл жанр “world”, а в петербургский — джаз и классика.\n",
    "\n",
    "2. В Москве пропущенных значений оказалось так много, что значение `'unknown'` заняло десятое место среди самых популярных жанров. Значит, пропущенные значения занимают существенную долю в данных и угрожают достоверности исследования.\n",
    "\n",
    "Вечер пятницы не меняет эту картину. Некоторые жанры поднимаются немного выше, другие спускаются, но в целом топ-10 остаётся тем же самым.\n",
    "\n",
    "Таким образом, вторая гипотеза подтвердилась лишь частично:\n",
    "* Пользователи слушают похожую музыку в начале недели и в конце.\n",
    "* Разница между Москвой и Петербургом не слишком выражена. В Москве чаще слушают русскую популярную музыку, в Петербурге — джаз.\n",
    "\n",
    "Однако пропуски в данных ставят под сомнение этот результат. В Москве их так много, что рейтинг топ-10 мог бы выглядеть иначе, если бы не утерянные  данные о жанрах."
   ]
  },
  {
   "cell_type": "markdown",
   "metadata": {
    "id": "JolODAqr_Zcu"
   },
   "source": [
    "### Жанровые предпочтения в Москве и Петербурге\n",
    "\n",
    "Гипотеза: Петербург — столица рэпа, музыку этого жанра там слушают чаще, чем в Москве.  А Москва — город контрастов, в котором, тем не менее, преобладает поп-музыка."
   ]
  },
  {
   "cell_type": "markdown",
   "metadata": {
    "id": "DlegSvaT_Zcu"
   },
   "source": [
    "Сгруппируйте таблицу `moscow_general` по жанру и посчитайте прослушивания треков каждого жанра методом `count()`. Затем отсортируйте результат в порядке убывания и сохраните его в таблице `moscow_genres`."
   ]
  },
  {
   "cell_type": "code",
   "execution_count": 35,
   "metadata": {
    "id": "r19lIPke_Zcu"
   },
   "outputs": [],
   "source": [
    "# одной строкой: группировка таблицы moscow_general по столбцу 'genre', \n",
    "# подсчёт числа значений 'genre' в этой группировке методом count(), \n",
    "# сортировка получившегося Series в порядке убывания и сохранение в moscow_genres\n",
    "moscow_genres = moscow_general.groupby('genre')['genre'].count()\n",
    "moscow_genres = moscow_genres.sort_values(ascending=False)"
   ]
  },
  {
   "cell_type": "markdown",
   "metadata": {
    "id": "6kMuomxTiIr8"
   },
   "source": [
    "Выведите на экран первые десять строк `moscow_genres`:"
   ]
  },
  {
   "cell_type": "code",
   "execution_count": 36,
   "metadata": {
    "id": "WhCSooF8_Zcv"
   },
   "outputs": [
    {
     "data": {
      "text/plain": [
       "genre\n",
       "pop            5892\n",
       "dance          4435\n",
       "rock           3965\n",
       "electronic     3786\n",
       "hiphop         2096\n",
       "classical      1616\n",
       "world          1432\n",
       "alternative    1379\n",
       "ruspop         1372\n",
       "rusrap         1161\n",
       "Name: genre, dtype: int64"
      ]
     },
     "execution_count": 36,
     "metadata": {},
     "output_type": "execute_result"
    }
   ],
   "source": [
    "# просмотр первых 10 строк moscow_genres\n",
    "moscow_genres.head(10)"
   ]
  },
  {
   "cell_type": "markdown",
   "metadata": {},
   "source": [
    "<div class=\"alert alert-success\">\n",
    "<b>Комментарий ревьюера ✔️:</b> Данные для Москвы получены. Отлично! "
   ]
  },
  {
   "cell_type": "markdown",
   "metadata": {
    "id": "cnPG2vnN_Zcv"
   },
   "source": [
    "Теперь повторите то же и для Петербурга.\n",
    "\n",
    "Сгруппируйте таблицу `spb_general` по жанру. Посчитайте прослушивания треков каждого жанра. Результат отсортируйте в порядке убывания и сохраните в таблице `spb_genres`:\n"
   ]
  },
  {
   "cell_type": "code",
   "execution_count": 37,
   "metadata": {
    "id": "gluLIpE7_Zcv"
   },
   "outputs": [],
   "source": [
    "# одной строкой: группировка таблицы spb_general по столбцу 'genre', \n",
    "# подсчёт числа значений 'genre' в этой группировке методом count(), \n",
    "# сортировка получившегося Series в порядке убывания и сохранение в spb_genres\n",
    "spb_genres = spb_general.groupby('genre')['genre'].count()\n",
    "spb_genres = spb_genres.sort_values(ascending=False)"
   ]
  },
  {
   "cell_type": "markdown",
   "metadata": {
    "id": "5Doha_ODgyQ8"
   },
   "source": [
    "Выведите на экран первые десять строк `spb_genres`:"
   ]
  },
  {
   "cell_type": "code",
   "execution_count": 38,
   "metadata": {
    "id": "uaGJHjVU_Zcv"
   },
   "outputs": [
    {
     "data": {
      "text/plain": [
       "genre\n",
       "pop            2431\n",
       "dance          1932\n",
       "rock           1879\n",
       "electronic     1736\n",
       "hiphop          960\n",
       "alternative     649\n",
       "classical       646\n",
       "rusrap          564\n",
       "ruspop          538\n",
       "world           515\n",
       "Name: genre, dtype: int64"
      ]
     },
     "execution_count": 38,
     "metadata": {},
     "output_type": "execute_result"
    }
   ],
   "source": [
    "# просмотр первых 10 строк spb_genres\n",
    "spb_genres.head(10)"
   ]
  },
  {
   "cell_type": "markdown",
   "metadata": {},
   "source": [
    "<div class=\"alert alert-success\">\n",
    "<b>Комментарий ревьюера ✔️:</b> Данные по Питеру у нас тоже есть. Замечательно!"
   ]
  },
  {
   "cell_type": "markdown",
   "metadata": {
    "id": "RY51YJYu_Zcv"
   },
   "source": [
    "**Выводы**"
   ]
  },
  {
   "cell_type": "markdown",
   "metadata": {
    "id": "nVhnJEm__Zcv"
   },
   "source": [
    "Гипотеза частично подтвердилась:\n",
    "* Поп-музыка — самый популярный жанр в Москве, как и предполагала гипотеза. Более того, в топ-10 жанров встречается близкий жанр — русская популярная музыка.\n",
    "* Вопреки ожиданиям, рэп одинаково популярен в Москве и Петербурге. \n"
   ]
  },
  {
   "cell_type": "markdown",
   "metadata": {
    "id": "ykKQ0N65_Zcv"
   },
   "source": [
    "## Итоги исследования"
   ]
  },
  {
   "cell_type": "markdown",
   "metadata": {
    "id": "tjUwbHb3_Zcv"
   },
   "source": [
    "Вы проверили три гипотезы и установили:\n",
    "\n",
    "1. День недели по-разному влияет на активность пользователей в Москве и Петербурге. \n",
    "\n",
    "Первая гипотеза полностью подтвердилась.\n",
    "\n",
    "2. Музыкальные предпочтения не сильно меняются в течение недели — будь то Москва или Петербург. Небольшие различия заметны в начале недели, по понедельникам:\n",
    "* в Москве слушают музыку жанра “world”,\n",
    "* в Петербурге — джаз и классику.\n",
    "\n",
    "Таким образом, вторая гипотеза подтвердилась лишь отчасти. Этот результат мог оказаться иным, если бы не пропуски в данных.\n",
    "\n",
    "3. Во вкусах пользователей Москвы и Петербурга больше общего чем различий. Вопреки ожиданиям, предпочтения жанров в Петербурге напоминают московские.\n",
    "\n",
    "Третья гипотеза не подтвердилась. Если различия в предпочтениях и существуют, на основной массе пользователей они незаметны.\n",
    "\n",
    "**На практике исследования содержат проверки статистических гипотез.**\n",
    "Из данных одного сервиса не всегда можно сделать вывод о всех жителях города.\n",
    "Проверки статистических гипотез покажут, насколько они достоверны, исходя из имеющихся данных. \n",
    "С методами проверок гипотез вы ещё познакомитесь в следующих темах."
   ]
  },
  {
   "cell_type": "markdown",
   "metadata": {},
   "source": [
    "<div class=\"alert alert-success\">\n",
    "<b>Комментарий ревьюера ✔️:</b> Вывод является важным этапом проводимого анализа. В нём мы описываем основные итоги работы. Поэтому не забывай уделять ему особое внимание в последующих проектах."
   ]
  },
  {
   "cell_type": "markdown",
   "metadata": {},
   "source": [
    "<div class=\"alert alert-success\">\n",
    "<b>Комментарий ревьюера ✔️:</b> Ты хорошо постаралась, проект отличный и он принят! Недостатки указанные желтым цветом можешь учесть и исправить, но настаивать на их отработке я не буду."
   ]
  }
 ],
 "metadata": {
  "ExecuteTimeLog": [
   {
    "duration": 597,
    "start_time": "2022-02-09T14:52:37.935Z"
   },
   {
    "duration": 3,
    "start_time": "2022-02-09T14:52:46.052Z"
   },
   {
    "duration": 3,
    "start_time": "2022-02-09T14:52:48.747Z"
   },
   {
    "duration": 146,
    "start_time": "2022-02-09T14:53:00.687Z"
   },
   {
    "duration": 19,
    "start_time": "2022-02-09T14:54:04.806Z"
   },
   {
    "duration": 12,
    "start_time": "2022-02-09T14:54:15.004Z"
   },
   {
    "duration": 25,
    "start_time": "2022-02-09T14:56:31.678Z"
   },
   {
    "duration": 4,
    "start_time": "2022-02-09T14:59:40.297Z"
   },
   {
    "duration": 23,
    "start_time": "2022-02-09T15:06:03.403Z"
   },
   {
    "duration": 6,
    "start_time": "2022-02-09T15:06:32.040Z"
   },
   {
    "duration": 25,
    "start_time": "2022-02-09T15:09:41.183Z"
   },
   {
    "duration": 314,
    "start_time": "2022-02-09T15:17:36.962Z"
   },
   {
    "duration": 19,
    "start_time": "2022-02-09T15:18:42.543Z"
   },
   {
    "duration": 19,
    "start_time": "2022-02-09T15:18:48.523Z"
   },
   {
    "duration": 26,
    "start_time": "2022-02-09T15:19:05.439Z"
   },
   {
    "duration": -1119,
    "start_time": "2022-02-09T15:19:31.606Z"
   },
   {
    "duration": 26,
    "start_time": "2022-02-09T15:19:33.461Z"
   },
   {
    "duration": 202,
    "start_time": "2022-02-09T15:19:56.643Z"
   },
   {
    "duration": 205,
    "start_time": "2022-02-09T15:20:10.388Z"
   },
   {
    "duration": 264,
    "start_time": "2022-02-09T15:36:39.223Z"
   },
   {
    "duration": 248,
    "start_time": "2022-02-09T15:36:50.862Z"
   },
   {
    "duration": 17,
    "start_time": "2022-02-09T15:39:44.912Z"
   },
   {
    "duration": 24,
    "start_time": "2022-02-09T15:39:48.452Z"
   },
   {
    "duration": 18,
    "start_time": "2022-02-09T15:40:50.651Z"
   },
   {
    "duration": 24,
    "start_time": "2022-02-09T15:40:53.449Z"
   },
   {
    "duration": 65,
    "start_time": "2022-02-09T15:45:26.632Z"
   },
   {
    "duration": 79,
    "start_time": "2022-02-09T15:46:42.090Z"
   },
   {
    "duration": 57,
    "start_time": "2022-02-09T15:47:30.743Z"
   },
   {
    "duration": 11,
    "start_time": "2022-02-09T15:50:02.271Z"
   },
   {
    "duration": 95,
    "start_time": "2022-02-09T15:57:44.213Z"
   },
   {
    "duration": 10,
    "start_time": "2022-02-09T16:05:35.843Z"
   },
   {
    "duration": 4,
    "start_time": "2022-02-09T16:09:22.029Z"
   },
   {
    "duration": 231,
    "start_time": "2022-02-09T16:18:20.661Z"
   },
   {
    "duration": 204,
    "start_time": "2022-02-09T16:19:00.824Z"
   },
   {
    "duration": 6,
    "start_time": "2022-02-09T16:20:20.508Z"
   },
   {
    "duration": 13,
    "start_time": "2022-02-09T16:20:58.960Z"
   },
   {
    "duration": 7,
    "start_time": "2022-02-09T16:21:16.904Z"
   },
   {
    "duration": 4,
    "start_time": "2022-02-09T16:21:31.527Z"
   },
   {
    "duration": 11,
    "start_time": "2022-02-09T16:30:42.105Z"
   },
   {
    "duration": 4,
    "start_time": "2022-02-09T16:33:14.569Z"
   },
   {
    "duration": 14,
    "start_time": "2022-02-09T16:33:17.596Z"
   },
   {
    "duration": 9,
    "start_time": "2022-02-09T16:33:21.336Z"
   },
   {
    "duration": 4,
    "start_time": "2022-02-09T16:33:44.381Z"
   },
   {
    "duration": 4,
    "start_time": "2022-02-09T16:33:47.709Z"
   },
   {
    "duration": 6,
    "start_time": "2022-02-09T16:34:03.776Z"
   },
   {
    "duration": 3,
    "start_time": "2022-02-09T16:34:19.356Z"
   },
   {
    "duration": 10,
    "start_time": "2022-02-09T16:34:21.639Z"
   },
   {
    "duration": 9,
    "start_time": "2022-02-09T16:34:29.270Z"
   },
   {
    "duration": 3,
    "start_time": "2022-02-09T16:42:34.854Z"
   },
   {
    "duration": 11,
    "start_time": "2022-02-09T16:42:38.311Z"
   },
   {
    "duration": 7,
    "start_time": "2022-02-09T16:42:42.383Z"
   },
   {
    "duration": 53,
    "start_time": "2022-02-09T16:42:53.805Z"
   },
   {
    "duration": 55,
    "start_time": "2022-02-09T16:43:03.100Z"
   },
   {
    "duration": 24,
    "start_time": "2022-02-09T16:43:12.626Z"
   },
   {
    "duration": 2,
    "start_time": "2022-02-09T16:43:27.006Z"
   },
   {
    "duration": 158,
    "start_time": "2022-02-09T16:43:27.011Z"
   },
   {
    "duration": 12,
    "start_time": "2022-02-09T16:43:27.171Z"
   },
   {
    "duration": 38,
    "start_time": "2022-02-09T16:43:27.185Z"
   },
   {
    "duration": 26,
    "start_time": "2022-02-09T16:43:27.225Z"
   },
   {
    "duration": 44,
    "start_time": "2022-02-09T16:43:27.253Z"
   },
   {
    "duration": 5,
    "start_time": "2022-02-09T16:43:27.300Z"
   },
   {
    "duration": 52,
    "start_time": "2022-02-09T16:43:27.307Z"
   },
   {
    "duration": 25,
    "start_time": "2022-02-09T16:43:27.363Z"
   },
   {
    "duration": 23,
    "start_time": "2022-02-09T16:43:27.390Z"
   },
   {
    "duration": 71,
    "start_time": "2022-02-09T16:43:27.415Z"
   },
   {
    "duration": 78,
    "start_time": "2022-02-09T16:43:27.488Z"
   },
   {
    "duration": 70,
    "start_time": "2022-02-09T16:43:27.568Z"
   },
   {
    "duration": 15,
    "start_time": "2022-02-09T16:43:27.640Z"
   },
   {
    "duration": 4,
    "start_time": "2022-02-09T16:43:27.657Z"
   },
   {
    "duration": 15,
    "start_time": "2022-02-09T16:43:27.663Z"
   },
   {
    "duration": 33,
    "start_time": "2022-02-09T16:43:27.679Z"
   },
   {
    "duration": 3,
    "start_time": "2022-02-09T16:43:27.714Z"
   },
   {
    "duration": 5,
    "start_time": "2022-02-09T16:43:27.719Z"
   },
   {
    "duration": 6,
    "start_time": "2022-02-09T16:43:27.725Z"
   },
   {
    "duration": 11,
    "start_time": "2022-02-09T16:43:27.733Z"
   },
   {
    "duration": 12,
    "start_time": "2022-02-09T16:43:27.747Z"
   },
   {
    "duration": 8,
    "start_time": "2022-02-09T16:43:27.762Z"
   },
   {
    "duration": 8,
    "start_time": "2022-02-09T16:43:27.772Z"
   },
   {
    "duration": 9,
    "start_time": "2022-02-09T16:43:27.782Z"
   },
   {
    "duration": 13,
    "start_time": "2022-02-09T16:43:27.793Z"
   },
   {
    "duration": 14,
    "start_time": "2022-02-09T16:43:27.810Z"
   },
   {
    "duration": 15,
    "start_time": "2022-02-09T16:43:27.826Z"
   },
   {
    "duration": 10,
    "start_time": "2022-02-09T16:43:27.843Z"
   },
   {
    "duration": 10,
    "start_time": "2022-02-09T16:43:27.854Z"
   },
   {
    "duration": 14,
    "start_time": "2022-02-09T16:43:27.866Z"
   },
   {
    "duration": 10,
    "start_time": "2022-02-09T16:43:27.882Z"
   },
   {
    "duration": 13,
    "start_time": "2022-02-09T16:43:27.894Z"
   },
   {
    "duration": 16,
    "start_time": "2022-02-09T16:43:27.909Z"
   },
   {
    "duration": 8,
    "start_time": "2022-02-09T16:43:27.928Z"
   },
   {
    "duration": 9,
    "start_time": "2022-02-09T16:43:27.938Z"
   },
   {
    "duration": 10,
    "start_time": "2022-02-09T16:43:27.949Z"
   },
   {
    "duration": 8,
    "start_time": "2022-02-09T16:43:27.961Z"
   },
   {
    "duration": 8,
    "start_time": "2022-02-09T16:45:37.266Z"
   },
   {
    "duration": 11,
    "start_time": "2022-02-09T16:45:40.294Z"
   },
   {
    "duration": 7,
    "start_time": "2022-02-09T16:46:28.018Z"
   },
   {
    "duration": 3,
    "start_time": "2022-02-09T16:46:56.350Z"
   },
   {
    "duration": 33,
    "start_time": "2022-02-09T16:46:56.354Z"
   },
   {
    "duration": 7,
    "start_time": "2022-02-09T16:46:59.838Z"
   },
   {
    "duration": 4,
    "start_time": "2022-02-09T16:47:50.479Z"
   },
   {
    "duration": 155,
    "start_time": "2022-02-09T16:47:50.485Z"
   },
   {
    "duration": 11,
    "start_time": "2022-02-09T16:47:50.643Z"
   },
   {
    "duration": 30,
    "start_time": "2022-02-09T16:47:50.656Z"
   },
   {
    "duration": 20,
    "start_time": "2022-02-09T16:47:50.688Z"
   },
   {
    "duration": 15,
    "start_time": "2022-02-09T16:47:50.710Z"
   },
   {
    "duration": 10,
    "start_time": "2022-02-09T16:47:50.727Z"
   },
   {
    "duration": 32,
    "start_time": "2022-02-09T16:47:50.738Z"
   },
   {
    "duration": 35,
    "start_time": "2022-02-09T16:47:50.773Z"
   },
   {
    "duration": 24,
    "start_time": "2022-02-09T16:47:50.811Z"
   },
   {
    "duration": 72,
    "start_time": "2022-02-09T16:47:50.836Z"
   },
   {
    "duration": 68,
    "start_time": "2022-02-09T16:47:50.910Z"
   },
   {
    "duration": 70,
    "start_time": "2022-02-09T16:47:50.980Z"
   },
   {
    "duration": 11,
    "start_time": "2022-02-09T16:47:51.052Z"
   },
   {
    "duration": 9,
    "start_time": "2022-02-09T16:47:51.065Z"
   },
   {
    "duration": 21,
    "start_time": "2022-02-09T16:47:51.076Z"
   },
   {
    "duration": 40,
    "start_time": "2022-02-09T16:47:51.099Z"
   },
   {
    "duration": 9,
    "start_time": "2022-02-09T16:47:51.140Z"
   },
   {
    "duration": 8,
    "start_time": "2022-02-09T16:47:51.151Z"
   },
   {
    "duration": 7,
    "start_time": "2022-02-09T16:47:51.161Z"
   },
   {
    "duration": 7,
    "start_time": "2022-02-09T16:47:51.170Z"
   },
   {
    "duration": 14,
    "start_time": "2022-02-09T16:47:51.179Z"
   },
   {
    "duration": 6,
    "start_time": "2022-02-09T16:47:51.195Z"
   },
   {
    "duration": 9,
    "start_time": "2022-02-09T16:47:51.203Z"
   },
   {
    "duration": 9,
    "start_time": "2022-02-09T16:47:51.214Z"
   },
   {
    "duration": 11,
    "start_time": "2022-02-09T16:47:51.225Z"
   },
   {
    "duration": 21,
    "start_time": "2022-02-09T16:47:51.240Z"
   },
   {
    "duration": 9,
    "start_time": "2022-02-09T16:47:51.263Z"
   },
   {
    "duration": 8,
    "start_time": "2022-02-09T16:47:51.274Z"
   },
   {
    "duration": 10,
    "start_time": "2022-02-09T16:47:51.284Z"
   },
   {
    "duration": 14,
    "start_time": "2022-02-09T16:47:51.296Z"
   },
   {
    "duration": 12,
    "start_time": "2022-02-09T16:47:51.312Z"
   },
   {
    "duration": 10,
    "start_time": "2022-02-09T16:47:51.326Z"
   },
   {
    "duration": 8,
    "start_time": "2022-02-09T16:47:51.338Z"
   },
   {
    "duration": 9,
    "start_time": "2022-02-09T16:47:51.348Z"
   },
   {
    "duration": 10,
    "start_time": "2022-02-09T16:47:51.358Z"
   },
   {
    "duration": 8,
    "start_time": "2022-02-09T16:47:51.370Z"
   },
   {
    "duration": 8,
    "start_time": "2022-02-09T16:47:51.380Z"
   },
   {
    "duration": 72,
    "start_time": "2022-02-09T16:49:06.651Z"
   },
   {
    "duration": 76,
    "start_time": "2022-02-09T16:49:30.396Z"
   },
   {
    "duration": 65,
    "start_time": "2022-02-09T16:49:41.477Z"
   },
   {
    "duration": 3,
    "start_time": "2022-02-09T16:51:55.462Z"
   },
   {
    "duration": 152,
    "start_time": "2022-02-09T16:51:55.467Z"
   },
   {
    "duration": 13,
    "start_time": "2022-02-09T16:51:55.622Z"
   },
   {
    "duration": 30,
    "start_time": "2022-02-09T16:51:55.637Z"
   },
   {
    "duration": 4,
    "start_time": "2022-02-09T16:51:55.670Z"
   },
   {
    "duration": 43,
    "start_time": "2022-02-09T16:51:55.676Z"
   },
   {
    "duration": 5,
    "start_time": "2022-02-09T16:51:55.721Z"
   },
   {
    "duration": 38,
    "start_time": "2022-02-09T16:51:55.730Z"
   },
   {
    "duration": 52,
    "start_time": "2022-02-09T16:51:55.771Z"
   },
   {
    "duration": 38,
    "start_time": "2022-02-09T16:51:55.826Z"
   },
   {
    "duration": 110,
    "start_time": "2022-02-09T16:51:55.866Z"
   },
   {
    "duration": 114,
    "start_time": "2022-02-09T16:51:55.978Z"
   },
   {
    "duration": 86,
    "start_time": "2022-02-09T16:51:56.094Z"
   },
   {
    "duration": 27,
    "start_time": "2022-02-09T16:51:56.182Z"
   },
   {
    "duration": 4,
    "start_time": "2022-02-09T16:51:56.212Z"
   },
   {
    "duration": 14,
    "start_time": "2022-02-09T16:51:56.218Z"
   },
   {
    "duration": 71,
    "start_time": "2022-02-09T16:51:56.234Z"
   },
   {
    "duration": -1175,
    "start_time": "2022-02-09T16:51:57.483Z"
   },
   {
    "duration": -1175,
    "start_time": "2022-02-09T16:51:57.485Z"
   },
   {
    "duration": -1176,
    "start_time": "2022-02-09T16:51:57.487Z"
   },
   {
    "duration": -1184,
    "start_time": "2022-02-09T16:51:57.497Z"
   },
   {
    "duration": -1184,
    "start_time": "2022-02-09T16:51:57.498Z"
   },
   {
    "duration": -1184,
    "start_time": "2022-02-09T16:51:57.500Z"
   },
   {
    "duration": -1183,
    "start_time": "2022-02-09T16:51:57.501Z"
   },
   {
    "duration": -1190,
    "start_time": "2022-02-09T16:51:57.509Z"
   },
   {
    "duration": -1195,
    "start_time": "2022-02-09T16:51:57.515Z"
   },
   {
    "duration": -1195,
    "start_time": "2022-02-09T16:51:57.517Z"
   },
   {
    "duration": -1194,
    "start_time": "2022-02-09T16:51:57.518Z"
   },
   {
    "duration": -1194,
    "start_time": "2022-02-09T16:51:57.520Z"
   },
   {
    "duration": -1194,
    "start_time": "2022-02-09T16:51:57.521Z"
   },
   {
    "duration": -1195,
    "start_time": "2022-02-09T16:51:57.523Z"
   },
   {
    "duration": -1195,
    "start_time": "2022-02-09T16:51:57.524Z"
   },
   {
    "duration": -1196,
    "start_time": "2022-02-09T16:51:57.526Z"
   },
   {
    "duration": -1195,
    "start_time": "2022-02-09T16:51:57.527Z"
   },
   {
    "duration": -1197,
    "start_time": "2022-02-09T16:51:57.530Z"
   },
   {
    "duration": -1196,
    "start_time": "2022-02-09T16:51:57.531Z"
   },
   {
    "duration": -1197,
    "start_time": "2022-02-09T16:51:57.533Z"
   },
   {
    "duration": -1196,
    "start_time": "2022-02-09T16:51:57.534Z"
   },
   {
    "duration": 10,
    "start_time": "2022-02-09T16:52:27.311Z"
   },
   {
    "duration": 3,
    "start_time": "2022-02-09T16:52:48.145Z"
   },
   {
    "duration": 149,
    "start_time": "2022-02-09T16:52:48.150Z"
   },
   {
    "duration": 12,
    "start_time": "2022-02-09T16:52:48.302Z"
   },
   {
    "duration": 40,
    "start_time": "2022-02-09T16:52:48.317Z"
   },
   {
    "duration": 8,
    "start_time": "2022-02-09T16:52:48.358Z"
   },
   {
    "duration": 21,
    "start_time": "2022-02-09T16:52:48.367Z"
   },
   {
    "duration": 3,
    "start_time": "2022-02-09T16:52:48.390Z"
   },
   {
    "duration": 38,
    "start_time": "2022-02-09T16:52:48.395Z"
   },
   {
    "duration": 28,
    "start_time": "2022-02-09T16:52:48.436Z"
   },
   {
    "duration": 24,
    "start_time": "2022-02-09T16:52:48.468Z"
   },
   {
    "duration": 70,
    "start_time": "2022-02-09T16:52:48.493Z"
   },
   {
    "duration": 83,
    "start_time": "2022-02-09T16:52:48.565Z"
   },
   {
    "duration": 58,
    "start_time": "2022-02-09T16:52:48.650Z"
   },
   {
    "duration": 9,
    "start_time": "2022-02-09T16:52:48.710Z"
   },
   {
    "duration": 3,
    "start_time": "2022-02-09T16:52:48.721Z"
   },
   {
    "duration": 12,
    "start_time": "2022-02-09T16:52:48.725Z"
   },
   {
    "duration": 11,
    "start_time": "2022-02-09T16:52:48.739Z"
   },
   {
    "duration": 3,
    "start_time": "2022-02-09T16:52:48.752Z"
   },
   {
    "duration": 20,
    "start_time": "2022-02-09T16:52:48.756Z"
   },
   {
    "duration": 8,
    "start_time": "2022-02-09T16:52:48.778Z"
   },
   {
    "duration": 21,
    "start_time": "2022-02-09T16:52:48.787Z"
   },
   {
    "duration": 8,
    "start_time": "2022-02-09T16:52:48.810Z"
   },
   {
    "duration": 9,
    "start_time": "2022-02-09T16:52:48.820Z"
   },
   {
    "duration": 14,
    "start_time": "2022-02-09T16:52:48.831Z"
   },
   {
    "duration": 11,
    "start_time": "2022-02-09T16:52:48.847Z"
   },
   {
    "duration": 9,
    "start_time": "2022-02-09T16:52:48.860Z"
   },
   {
    "duration": 6,
    "start_time": "2022-02-09T16:52:48.872Z"
   },
   {
    "duration": 12,
    "start_time": "2022-02-09T16:52:48.880Z"
   },
   {
    "duration": 10,
    "start_time": "2022-02-09T16:52:48.893Z"
   },
   {
    "duration": 18,
    "start_time": "2022-02-09T16:52:48.905Z"
   },
   {
    "duration": 11,
    "start_time": "2022-02-09T16:52:48.925Z"
   },
   {
    "duration": 9,
    "start_time": "2022-02-09T16:52:48.937Z"
   },
   {
    "duration": 12,
    "start_time": "2022-02-09T16:52:48.948Z"
   },
   {
    "duration": 10,
    "start_time": "2022-02-09T16:52:48.962Z"
   },
   {
    "duration": 8,
    "start_time": "2022-02-09T16:52:48.974Z"
   },
   {
    "duration": 9,
    "start_time": "2022-02-09T16:52:48.984Z"
   },
   {
    "duration": 9,
    "start_time": "2022-02-09T16:52:48.995Z"
   },
   {
    "duration": 8,
    "start_time": "2022-02-09T16:52:49.006Z"
   },
   {
    "duration": 7,
    "start_time": "2022-02-09T16:53:47.412Z"
   },
   {
    "duration": 7,
    "start_time": "2022-02-09T16:54:16.184Z"
   },
   {
    "duration": 6,
    "start_time": "2022-02-09T16:54:18.848Z"
   },
   {
    "duration": 13,
    "start_time": "2022-02-09T16:54:44.229Z"
   },
   {
    "duration": 3,
    "start_time": "2022-02-09T16:55:15.139Z"
   },
   {
    "duration": 156,
    "start_time": "2022-02-09T16:55:15.144Z"
   },
   {
    "duration": 11,
    "start_time": "2022-02-09T16:55:15.306Z"
   },
   {
    "duration": 37,
    "start_time": "2022-02-09T16:55:15.319Z"
   },
   {
    "duration": 6,
    "start_time": "2022-02-09T16:55:15.358Z"
   },
   {
    "duration": 25,
    "start_time": "2022-02-09T16:55:15.366Z"
   },
   {
    "duration": 4,
    "start_time": "2022-02-09T16:55:15.393Z"
   },
   {
    "duration": 26,
    "start_time": "2022-02-09T16:55:15.407Z"
   },
   {
    "duration": 23,
    "start_time": "2022-02-09T16:55:15.437Z"
   },
   {
    "duration": 45,
    "start_time": "2022-02-09T16:55:15.462Z"
   },
   {
    "duration": 71,
    "start_time": "2022-02-09T16:55:15.509Z"
   },
   {
    "duration": 96,
    "start_time": "2022-02-09T16:55:15.582Z"
   },
   {
    "duration": 66,
    "start_time": "2022-02-09T16:55:15.680Z"
   },
   {
    "duration": 10,
    "start_time": "2022-02-09T16:55:15.748Z"
   },
   {
    "duration": 4,
    "start_time": "2022-02-09T16:55:15.760Z"
   },
   {
    "duration": 20,
    "start_time": "2022-02-09T16:55:15.765Z"
   },
   {
    "duration": 25,
    "start_time": "2022-02-09T16:55:15.787Z"
   },
   {
    "duration": 3,
    "start_time": "2022-02-09T16:55:15.814Z"
   },
   {
    "duration": 8,
    "start_time": "2022-02-09T16:55:15.819Z"
   },
   {
    "duration": 13,
    "start_time": "2022-02-09T16:55:15.829Z"
   },
   {
    "duration": 24,
    "start_time": "2022-02-09T16:55:15.844Z"
   },
   {
    "duration": 10,
    "start_time": "2022-02-09T16:55:15.870Z"
   },
   {
    "duration": 20,
    "start_time": "2022-02-09T16:55:15.881Z"
   },
   {
    "duration": 24,
    "start_time": "2022-02-09T16:55:15.903Z"
   },
   {
    "duration": 18,
    "start_time": "2022-02-09T16:55:15.930Z"
   },
   {
    "duration": 17,
    "start_time": "2022-02-09T16:55:15.950Z"
   },
   {
    "duration": 12,
    "start_time": "2022-02-09T16:55:15.971Z"
   },
   {
    "duration": 9,
    "start_time": "2022-02-09T16:55:15.985Z"
   },
   {
    "duration": 10,
    "start_time": "2022-02-09T16:55:15.996Z"
   },
   {
    "duration": 8,
    "start_time": "2022-02-09T16:55:16.009Z"
   },
   {
    "duration": 11,
    "start_time": "2022-02-09T16:55:16.020Z"
   },
   {
    "duration": 8,
    "start_time": "2022-02-09T16:55:16.033Z"
   },
   {
    "duration": 13,
    "start_time": "2022-02-09T16:55:16.044Z"
   },
   {
    "duration": 10,
    "start_time": "2022-02-09T16:55:16.059Z"
   },
   {
    "duration": 17,
    "start_time": "2022-02-09T16:55:16.071Z"
   },
   {
    "duration": 11,
    "start_time": "2022-02-09T16:55:16.090Z"
   },
   {
    "duration": 18,
    "start_time": "2022-02-09T16:55:16.103Z"
   },
   {
    "duration": 11,
    "start_time": "2022-02-09T16:55:16.123Z"
   },
   {
    "duration": 11,
    "start_time": "2022-02-09T16:56:01.184Z"
   },
   {
    "duration": 3,
    "start_time": "2022-02-09T16:56:14.757Z"
   },
   {
    "duration": 162,
    "start_time": "2022-02-09T16:56:14.762Z"
   },
   {
    "duration": 12,
    "start_time": "2022-02-09T16:56:14.926Z"
   },
   {
    "duration": 29,
    "start_time": "2022-02-09T16:56:14.941Z"
   },
   {
    "duration": 5,
    "start_time": "2022-02-09T16:56:14.972Z"
   },
   {
    "duration": 19,
    "start_time": "2022-02-09T16:56:15.009Z"
   },
   {
    "duration": 15,
    "start_time": "2022-02-09T16:56:15.030Z"
   },
   {
    "duration": 38,
    "start_time": "2022-02-09T16:56:15.047Z"
   },
   {
    "duration": 24,
    "start_time": "2022-02-09T16:56:15.088Z"
   },
   {
    "duration": 26,
    "start_time": "2022-02-09T16:56:15.115Z"
   },
   {
    "duration": 75,
    "start_time": "2022-02-09T16:56:15.143Z"
   },
   {
    "duration": 66,
    "start_time": "2022-02-09T16:56:15.219Z"
   },
   {
    "duration": 67,
    "start_time": "2022-02-09T16:56:15.287Z"
   },
   {
    "duration": 10,
    "start_time": "2022-02-09T16:56:15.355Z"
   },
   {
    "duration": 3,
    "start_time": "2022-02-09T16:56:15.367Z"
   },
   {
    "duration": 12,
    "start_time": "2022-02-09T16:56:15.372Z"
   },
   {
    "duration": 10,
    "start_time": "2022-02-09T16:56:15.408Z"
   },
   {
    "duration": 4,
    "start_time": "2022-02-09T16:56:15.420Z"
   },
   {
    "duration": 6,
    "start_time": "2022-02-09T16:56:15.426Z"
   },
   {
    "duration": 7,
    "start_time": "2022-02-09T16:56:15.435Z"
   },
   {
    "duration": 8,
    "start_time": "2022-02-09T16:56:15.444Z"
   },
   {
    "duration": 8,
    "start_time": "2022-02-09T16:56:15.454Z"
   },
   {
    "duration": 9,
    "start_time": "2022-02-09T16:56:15.464Z"
   },
   {
    "duration": 7,
    "start_time": "2022-02-09T16:56:15.475Z"
   },
   {
    "duration": 11,
    "start_time": "2022-02-09T16:56:15.484Z"
   },
   {
    "duration": 15,
    "start_time": "2022-02-09T16:56:15.496Z"
   },
   {
    "duration": 7,
    "start_time": "2022-02-09T16:56:15.515Z"
   },
   {
    "duration": 15,
    "start_time": "2022-02-09T16:56:15.524Z"
   },
   {
    "duration": 9,
    "start_time": "2022-02-09T16:56:15.541Z"
   },
   {
    "duration": 9,
    "start_time": "2022-02-09T16:56:15.552Z"
   },
   {
    "duration": 12,
    "start_time": "2022-02-09T16:56:15.563Z"
   },
   {
    "duration": 10,
    "start_time": "2022-02-09T16:56:15.577Z"
   },
   {
    "duration": 11,
    "start_time": "2022-02-09T16:56:15.589Z"
   },
   {
    "duration": 9,
    "start_time": "2022-02-09T16:56:15.602Z"
   },
   {
    "duration": 15,
    "start_time": "2022-02-09T16:56:15.613Z"
   },
   {
    "duration": 8,
    "start_time": "2022-02-09T16:56:15.630Z"
   },
   {
    "duration": 12,
    "start_time": "2022-02-09T16:56:15.640Z"
   },
   {
    "duration": 9,
    "start_time": "2022-02-09T16:56:15.653Z"
   },
   {
    "duration": 3,
    "start_time": "2022-02-09T16:59:57.784Z"
   },
   {
    "duration": 9,
    "start_time": "2022-02-09T17:00:43.781Z"
   },
   {
    "duration": 3,
    "start_time": "2022-02-09T17:00:49.997Z"
   },
   {
    "duration": 176,
    "start_time": "2022-02-09T17:00:50.003Z"
   },
   {
    "duration": 12,
    "start_time": "2022-02-09T17:00:50.181Z"
   },
   {
    "duration": 37,
    "start_time": "2022-02-09T17:00:50.195Z"
   },
   {
    "duration": 11,
    "start_time": "2022-02-09T17:00:50.234Z"
   },
   {
    "duration": 31,
    "start_time": "2022-02-09T17:00:50.247Z"
   },
   {
    "duration": 4,
    "start_time": "2022-02-09T17:00:50.280Z"
   },
   {
    "duration": 37,
    "start_time": "2022-02-09T17:00:50.287Z"
   },
   {
    "duration": 24,
    "start_time": "2022-02-09T17:00:50.328Z"
   },
   {
    "duration": 25,
    "start_time": "2022-02-09T17:00:50.355Z"
   },
   {
    "duration": 86,
    "start_time": "2022-02-09T17:00:50.382Z"
   },
   {
    "duration": 86,
    "start_time": "2022-02-09T17:00:50.470Z"
   },
   {
    "duration": 69,
    "start_time": "2022-02-09T17:00:50.558Z"
   },
   {
    "duration": 11,
    "start_time": "2022-02-09T17:00:50.628Z"
   },
   {
    "duration": 3,
    "start_time": "2022-02-09T17:00:50.641Z"
   },
   {
    "duration": 12,
    "start_time": "2022-02-09T17:00:50.645Z"
   },
   {
    "duration": 49,
    "start_time": "2022-02-09T17:00:50.659Z"
   },
   {
    "duration": 12,
    "start_time": "2022-02-09T17:00:50.711Z"
   },
   {
    "duration": 18,
    "start_time": "2022-02-09T17:00:50.725Z"
   },
   {
    "duration": 11,
    "start_time": "2022-02-09T17:00:50.745Z"
   },
   {
    "duration": 10,
    "start_time": "2022-02-09T17:00:50.758Z"
   },
   {
    "duration": 11,
    "start_time": "2022-02-09T17:00:50.770Z"
   },
   {
    "duration": 10,
    "start_time": "2022-02-09T17:00:50.783Z"
   },
   {
    "duration": 12,
    "start_time": "2022-02-09T17:00:50.795Z"
   },
   {
    "duration": 10,
    "start_time": "2022-02-09T17:00:50.809Z"
   },
   {
    "duration": 22,
    "start_time": "2022-02-09T17:00:50.821Z"
   },
   {
    "duration": 10,
    "start_time": "2022-02-09T17:00:50.847Z"
   },
   {
    "duration": 11,
    "start_time": "2022-02-09T17:00:50.859Z"
   },
   {
    "duration": 12,
    "start_time": "2022-02-09T17:00:50.872Z"
   },
   {
    "duration": 9,
    "start_time": "2022-02-09T17:00:50.886Z"
   },
   {
    "duration": 17,
    "start_time": "2022-02-09T17:00:50.897Z"
   },
   {
    "duration": 13,
    "start_time": "2022-02-09T17:00:50.916Z"
   },
   {
    "duration": 19,
    "start_time": "2022-02-09T17:00:50.930Z"
   },
   {
    "duration": 13,
    "start_time": "2022-02-09T17:00:50.951Z"
   },
   {
    "duration": 12,
    "start_time": "2022-02-09T17:00:50.966Z"
   },
   {
    "duration": 12,
    "start_time": "2022-02-09T17:00:50.980Z"
   },
   {
    "duration": 14,
    "start_time": "2022-02-09T17:00:50.994Z"
   },
   {
    "duration": 20,
    "start_time": "2022-02-09T17:00:51.010Z"
   },
   {
    "duration": 220,
    "start_time": "2022-02-09T17:06:04.899Z"
   },
   {
    "duration": 286,
    "start_time": "2022-02-09T17:06:20.855Z"
   },
   {
    "duration": 11,
    "start_time": "2022-02-09T17:07:39.292Z"
   },
   {
    "duration": 3,
    "start_time": "2022-02-09T17:07:50.280Z"
   },
   {
    "duration": 171,
    "start_time": "2022-02-09T17:07:50.285Z"
   },
   {
    "duration": 13,
    "start_time": "2022-02-09T17:07:50.459Z"
   },
   {
    "duration": 42,
    "start_time": "2022-02-09T17:07:50.474Z"
   },
   {
    "duration": 9,
    "start_time": "2022-02-09T17:07:50.518Z"
   },
   {
    "duration": 29,
    "start_time": "2022-02-09T17:07:50.529Z"
   },
   {
    "duration": 8,
    "start_time": "2022-02-09T17:07:50.560Z"
   },
   {
    "duration": 41,
    "start_time": "2022-02-09T17:07:50.570Z"
   },
   {
    "duration": 23,
    "start_time": "2022-02-09T17:07:50.614Z"
   },
   {
    "duration": 26,
    "start_time": "2022-02-09T17:07:50.639Z"
   },
   {
    "duration": 83,
    "start_time": "2022-02-09T17:07:50.666Z"
   },
   {
    "duration": 83,
    "start_time": "2022-02-09T17:07:50.751Z"
   },
   {
    "duration": 72,
    "start_time": "2022-02-09T17:07:50.836Z"
   },
   {
    "duration": 10,
    "start_time": "2022-02-09T17:07:50.910Z"
   },
   {
    "duration": 4,
    "start_time": "2022-02-09T17:07:50.922Z"
   },
   {
    "duration": 19,
    "start_time": "2022-02-09T17:07:50.928Z"
   },
   {
    "duration": 23,
    "start_time": "2022-02-09T17:07:50.949Z"
   },
   {
    "duration": 8,
    "start_time": "2022-02-09T17:07:50.974Z"
   },
   {
    "duration": 7,
    "start_time": "2022-02-09T17:07:50.984Z"
   },
   {
    "duration": 10,
    "start_time": "2022-02-09T17:07:50.993Z"
   },
   {
    "duration": 8,
    "start_time": "2022-02-09T17:07:51.007Z"
   },
   {
    "duration": 6,
    "start_time": "2022-02-09T17:07:51.017Z"
   },
   {
    "duration": 12,
    "start_time": "2022-02-09T17:07:51.025Z"
   },
   {
    "duration": 13,
    "start_time": "2022-02-09T17:07:51.039Z"
   },
   {
    "duration": 20,
    "start_time": "2022-02-09T17:07:51.054Z"
   },
   {
    "duration": 23,
    "start_time": "2022-02-09T17:07:51.076Z"
   },
   {
    "duration": 13,
    "start_time": "2022-02-09T17:07:51.103Z"
   },
   {
    "duration": 10,
    "start_time": "2022-02-09T17:07:51.118Z"
   },
   {
    "duration": 14,
    "start_time": "2022-02-09T17:07:51.130Z"
   },
   {
    "duration": 8,
    "start_time": "2022-02-09T17:07:51.146Z"
   },
   {
    "duration": 18,
    "start_time": "2022-02-09T17:07:51.156Z"
   },
   {
    "duration": 16,
    "start_time": "2022-02-09T17:07:51.177Z"
   },
   {
    "duration": 15,
    "start_time": "2022-02-09T17:07:51.196Z"
   },
   {
    "duration": 11,
    "start_time": "2022-02-09T17:07:51.213Z"
   },
   {
    "duration": 13,
    "start_time": "2022-02-09T17:07:51.227Z"
   },
   {
    "duration": 9,
    "start_time": "2022-02-09T17:07:51.242Z"
   },
   {
    "duration": 11,
    "start_time": "2022-02-09T17:07:51.253Z"
   },
   {
    "duration": 10,
    "start_time": "2022-02-09T17:07:51.267Z"
   },
   {
    "duration": 3,
    "start_time": "2022-02-09T17:07:56.826Z"
   },
   {
    "duration": 165,
    "start_time": "2022-02-09T17:07:56.831Z"
   },
   {
    "duration": 17,
    "start_time": "2022-02-09T17:07:56.998Z"
   },
   {
    "duration": 27,
    "start_time": "2022-02-09T17:07:57.017Z"
   },
   {
    "duration": 7,
    "start_time": "2022-02-09T17:07:57.047Z"
   },
   {
    "duration": 51,
    "start_time": "2022-02-09T17:07:57.056Z"
   },
   {
    "duration": 5,
    "start_time": "2022-02-09T17:07:57.109Z"
   },
   {
    "duration": 27,
    "start_time": "2022-02-09T17:07:57.118Z"
   },
   {
    "duration": 24,
    "start_time": "2022-02-09T17:07:57.148Z"
   },
   {
    "duration": 42,
    "start_time": "2022-02-09T17:07:57.174Z"
   },
   {
    "duration": 60,
    "start_time": "2022-02-09T17:07:57.217Z"
   },
   {
    "duration": 84,
    "start_time": "2022-02-09T17:07:57.279Z"
   },
   {
    "duration": 61,
    "start_time": "2022-02-09T17:07:57.365Z"
   },
   {
    "duration": 10,
    "start_time": "2022-02-09T17:07:57.428Z"
   },
   {
    "duration": 3,
    "start_time": "2022-02-09T17:07:57.439Z"
   },
   {
    "duration": 11,
    "start_time": "2022-02-09T17:07:57.443Z"
   },
   {
    "duration": 12,
    "start_time": "2022-02-09T17:07:57.456Z"
   },
   {
    "duration": 3,
    "start_time": "2022-02-09T17:07:57.470Z"
   },
   {
    "duration": 34,
    "start_time": "2022-02-09T17:07:57.474Z"
   },
   {
    "duration": 7,
    "start_time": "2022-02-09T17:07:57.509Z"
   },
   {
    "duration": 25,
    "start_time": "2022-02-09T17:07:57.518Z"
   },
   {
    "duration": 6,
    "start_time": "2022-02-09T17:07:57.545Z"
   },
   {
    "duration": 5,
    "start_time": "2022-02-09T17:07:57.554Z"
   },
   {
    "duration": 12,
    "start_time": "2022-02-09T17:07:57.561Z"
   },
   {
    "duration": 10,
    "start_time": "2022-02-09T17:07:57.575Z"
   },
   {
    "duration": 14,
    "start_time": "2022-02-09T17:07:57.587Z"
   },
   {
    "duration": 9,
    "start_time": "2022-02-09T17:07:57.602Z"
   },
   {
    "duration": 9,
    "start_time": "2022-02-09T17:07:57.613Z"
   },
   {
    "duration": 7,
    "start_time": "2022-02-09T17:07:57.624Z"
   },
   {
    "duration": 9,
    "start_time": "2022-02-09T17:07:57.633Z"
   },
   {
    "duration": 12,
    "start_time": "2022-02-09T17:07:57.644Z"
   },
   {
    "duration": 9,
    "start_time": "2022-02-09T17:07:57.658Z"
   },
   {
    "duration": 12,
    "start_time": "2022-02-09T17:07:57.669Z"
   },
   {
    "duration": 10,
    "start_time": "2022-02-09T17:07:57.682Z"
   },
   {
    "duration": 8,
    "start_time": "2022-02-09T17:07:57.694Z"
   },
   {
    "duration": 10,
    "start_time": "2022-02-09T17:07:57.704Z"
   },
   {
    "duration": 9,
    "start_time": "2022-02-09T17:07:57.716Z"
   },
   {
    "duration": 8,
    "start_time": "2022-02-09T17:07:57.727Z"
   },
   {
    "duration": 8,
    "start_time": "2022-02-09T17:24:12.688Z"
   },
   {
    "duration": 10,
    "start_time": "2022-02-09T17:24:19.248Z"
   },
   {
    "duration": 3,
    "start_time": "2022-02-09T17:24:34.819Z"
   },
   {
    "duration": 170,
    "start_time": "2022-02-09T17:24:34.824Z"
   },
   {
    "duration": 12,
    "start_time": "2022-02-09T17:24:34.996Z"
   },
   {
    "duration": 44,
    "start_time": "2022-02-09T17:24:35.011Z"
   },
   {
    "duration": 17,
    "start_time": "2022-02-09T17:24:35.057Z"
   },
   {
    "duration": 35,
    "start_time": "2022-02-09T17:24:35.076Z"
   },
   {
    "duration": 4,
    "start_time": "2022-02-09T17:24:35.113Z"
   },
   {
    "duration": 32,
    "start_time": "2022-02-09T17:24:35.119Z"
   },
   {
    "duration": 21,
    "start_time": "2022-02-09T17:24:35.154Z"
   },
   {
    "duration": 41,
    "start_time": "2022-02-09T17:24:35.177Z"
   },
   {
    "duration": 77,
    "start_time": "2022-02-09T17:24:35.220Z"
   },
   {
    "duration": 72,
    "start_time": "2022-02-09T17:24:35.299Z"
   },
   {
    "duration": 73,
    "start_time": "2022-02-09T17:24:35.373Z"
   },
   {
    "duration": 10,
    "start_time": "2022-02-09T17:24:35.448Z"
   },
   {
    "duration": 3,
    "start_time": "2022-02-09T17:24:35.460Z"
   },
   {
    "duration": 16,
    "start_time": "2022-02-09T17:24:35.465Z"
   },
   {
    "duration": 29,
    "start_time": "2022-02-09T17:24:35.483Z"
   },
   {
    "duration": 2,
    "start_time": "2022-02-09T17:24:35.514Z"
   },
   {
    "duration": 14,
    "start_time": "2022-02-09T17:24:35.518Z"
   },
   {
    "duration": 10,
    "start_time": "2022-02-09T17:24:35.534Z"
   },
   {
    "duration": 13,
    "start_time": "2022-02-09T17:24:35.546Z"
   },
   {
    "duration": 17,
    "start_time": "2022-02-09T17:24:35.561Z"
   },
   {
    "duration": 8,
    "start_time": "2022-02-09T17:24:35.582Z"
   },
   {
    "duration": 15,
    "start_time": "2022-02-09T17:24:35.592Z"
   },
   {
    "duration": 14,
    "start_time": "2022-02-09T17:24:35.609Z"
   },
   {
    "duration": 39,
    "start_time": "2022-02-09T17:24:35.625Z"
   },
   {
    "duration": 15,
    "start_time": "2022-02-09T17:24:35.666Z"
   },
   {
    "duration": 18,
    "start_time": "2022-02-09T17:24:35.683Z"
   },
   {
    "duration": 32,
    "start_time": "2022-02-09T17:24:35.703Z"
   },
   {
    "duration": 15,
    "start_time": "2022-02-09T17:24:35.737Z"
   },
   {
    "duration": 30,
    "start_time": "2022-02-09T17:24:35.754Z"
   },
   {
    "duration": 27,
    "start_time": "2022-02-09T17:24:35.786Z"
   },
   {
    "duration": 24,
    "start_time": "2022-02-09T17:24:35.815Z"
   },
   {
    "duration": 13,
    "start_time": "2022-02-09T17:24:35.841Z"
   },
   {
    "duration": 18,
    "start_time": "2022-02-09T17:24:35.856Z"
   },
   {
    "duration": 19,
    "start_time": "2022-02-09T17:24:35.876Z"
   },
   {
    "duration": 16,
    "start_time": "2022-02-09T17:24:35.897Z"
   },
   {
    "duration": 19,
    "start_time": "2022-02-09T17:24:35.914Z"
   },
   {
    "duration": 3,
    "start_time": "2022-02-09T17:45:43.011Z"
   },
   {
    "duration": 167,
    "start_time": "2022-02-09T17:45:43.016Z"
   },
   {
    "duration": 11,
    "start_time": "2022-02-09T17:45:43.186Z"
   },
   {
    "duration": 33,
    "start_time": "2022-02-09T17:45:43.199Z"
   },
   {
    "duration": 7,
    "start_time": "2022-02-09T17:45:43.234Z"
   },
   {
    "duration": 21,
    "start_time": "2022-02-09T17:45:43.243Z"
   },
   {
    "duration": 5,
    "start_time": "2022-02-09T17:45:43.266Z"
   },
   {
    "duration": 46,
    "start_time": "2022-02-09T17:45:43.273Z"
   },
   {
    "duration": 19,
    "start_time": "2022-02-09T17:45:43.324Z"
   },
   {
    "duration": 25,
    "start_time": "2022-02-09T17:45:43.345Z"
   },
   {
    "duration": 98,
    "start_time": "2022-02-09T17:45:43.372Z"
   },
   {
    "duration": 79,
    "start_time": "2022-02-09T17:45:43.471Z"
   },
   {
    "duration": 62,
    "start_time": "2022-02-09T17:45:43.552Z"
   },
   {
    "duration": 10,
    "start_time": "2022-02-09T17:45:43.616Z"
   },
   {
    "duration": 4,
    "start_time": "2022-02-09T17:45:43.628Z"
   },
   {
    "duration": 12,
    "start_time": "2022-02-09T17:45:43.633Z"
   },
   {
    "duration": 13,
    "start_time": "2022-02-09T17:45:43.647Z"
   },
   {
    "duration": 2,
    "start_time": "2022-02-09T17:45:43.662Z"
   },
   {
    "duration": 9,
    "start_time": "2022-02-09T17:45:43.666Z"
   },
   {
    "duration": 5,
    "start_time": "2022-02-09T17:45:43.677Z"
   },
   {
    "duration": 3,
    "start_time": "2022-02-09T17:45:43.708Z"
   },
   {
    "duration": 9,
    "start_time": "2022-02-09T17:45:43.713Z"
   },
   {
    "duration": 12,
    "start_time": "2022-02-09T17:45:43.724Z"
   },
   {
    "duration": 11,
    "start_time": "2022-02-09T17:45:43.738Z"
   },
   {
    "duration": 8,
    "start_time": "2022-02-09T17:45:43.750Z"
   },
   {
    "duration": 13,
    "start_time": "2022-02-09T17:45:43.760Z"
   },
   {
    "duration": 8,
    "start_time": "2022-02-09T17:45:43.777Z"
   },
   {
    "duration": 8,
    "start_time": "2022-02-09T17:45:43.788Z"
   },
   {
    "duration": 9,
    "start_time": "2022-02-09T17:45:43.798Z"
   },
   {
    "duration": 7,
    "start_time": "2022-02-09T17:45:43.808Z"
   },
   {
    "duration": 13,
    "start_time": "2022-02-09T17:45:43.817Z"
   },
   {
    "duration": 8,
    "start_time": "2022-02-09T17:45:43.833Z"
   },
   {
    "duration": 11,
    "start_time": "2022-02-09T17:45:43.843Z"
   },
   {
    "duration": 9,
    "start_time": "2022-02-09T17:45:43.856Z"
   },
   {
    "duration": 8,
    "start_time": "2022-02-09T17:45:43.867Z"
   },
   {
    "duration": 16,
    "start_time": "2022-02-09T17:45:43.877Z"
   },
   {
    "duration": 12,
    "start_time": "2022-02-09T17:45:43.895Z"
   },
   {
    "duration": 7,
    "start_time": "2022-02-09T17:45:43.909Z"
   },
   {
    "duration": 44,
    "start_time": "2022-02-09T17:47:46.507Z"
   },
   {
    "duration": 3,
    "start_time": "2022-02-09T17:48:00.536Z"
   },
   {
    "duration": 167,
    "start_time": "2022-02-09T17:48:00.541Z"
   },
   {
    "duration": 13,
    "start_time": "2022-02-09T17:48:00.711Z"
   },
   {
    "duration": 43,
    "start_time": "2022-02-09T17:48:00.725Z"
   },
   {
    "duration": 13,
    "start_time": "2022-02-09T17:48:00.770Z"
   },
   {
    "duration": 45,
    "start_time": "2022-02-09T17:48:00.785Z"
   },
   {
    "duration": 4,
    "start_time": "2022-02-09T17:48:00.832Z"
   },
   {
    "duration": 38,
    "start_time": "2022-02-09T17:48:00.838Z"
   },
   {
    "duration": 29,
    "start_time": "2022-02-09T17:48:00.880Z"
   },
   {
    "duration": 44,
    "start_time": "2022-02-09T17:48:00.913Z"
   },
   {
    "duration": 89,
    "start_time": "2022-02-09T17:48:00.960Z"
   },
   {
    "duration": 85,
    "start_time": "2022-02-09T17:48:01.051Z"
   },
   {
    "duration": 69,
    "start_time": "2022-02-09T17:48:01.138Z"
   },
   {
    "duration": 10,
    "start_time": "2022-02-09T17:48:01.209Z"
   },
   {
    "duration": 33,
    "start_time": "2022-02-09T17:48:01.221Z"
   },
   {
    "duration": 20,
    "start_time": "2022-02-09T17:48:01.256Z"
   },
   {
    "duration": 59,
    "start_time": "2022-02-09T17:48:01.278Z"
   },
   {
    "duration": 15,
    "start_time": "2022-02-09T17:48:01.339Z"
   },
   {
    "duration": 10,
    "start_time": "2022-02-09T17:48:01.356Z"
   },
   {
    "duration": 10,
    "start_time": "2022-02-09T17:48:01.368Z"
   },
   {
    "duration": 28,
    "start_time": "2022-02-09T17:48:01.379Z"
   },
   {
    "duration": 22,
    "start_time": "2022-02-09T17:48:01.409Z"
   },
   {
    "duration": 36,
    "start_time": "2022-02-09T17:48:01.433Z"
   },
   {
    "duration": 86,
    "start_time": "2022-02-09T17:48:01.471Z"
   },
   {
    "duration": 20,
    "start_time": "2022-02-09T17:48:01.559Z"
   },
   {
    "duration": 27,
    "start_time": "2022-02-09T17:48:01.581Z"
   },
   {
    "duration": 47,
    "start_time": "2022-02-09T17:48:01.612Z"
   },
   {
    "duration": 16,
    "start_time": "2022-02-09T17:48:01.661Z"
   },
   {
    "duration": 23,
    "start_time": "2022-02-09T17:48:01.679Z"
   },
   {
    "duration": 11,
    "start_time": "2022-02-09T17:48:01.704Z"
   },
   {
    "duration": 32,
    "start_time": "2022-02-09T17:48:01.717Z"
   },
   {
    "duration": 22,
    "start_time": "2022-02-09T17:48:01.752Z"
   },
   {
    "duration": 13,
    "start_time": "2022-02-09T17:48:01.776Z"
   },
   {
    "duration": 11,
    "start_time": "2022-02-09T17:48:01.791Z"
   },
   {
    "duration": 9,
    "start_time": "2022-02-09T17:48:01.804Z"
   },
   {
    "duration": 13,
    "start_time": "2022-02-09T17:48:01.815Z"
   },
   {
    "duration": 20,
    "start_time": "2022-02-09T17:48:01.830Z"
   },
   {
    "duration": 9,
    "start_time": "2022-02-09T17:48:01.852Z"
   },
   {
    "duration": 41,
    "start_time": "2022-02-09T17:48:35.707Z"
   },
   {
    "duration": 3,
    "start_time": "2022-02-09T17:48:40.513Z"
   },
   {
    "duration": 160,
    "start_time": "2022-02-09T17:48:40.518Z"
   },
   {
    "duration": 11,
    "start_time": "2022-02-09T17:48:40.681Z"
   },
   {
    "duration": 37,
    "start_time": "2022-02-09T17:48:40.694Z"
   },
   {
    "duration": 4,
    "start_time": "2022-02-09T17:48:40.733Z"
   },
   {
    "duration": 21,
    "start_time": "2022-02-09T17:48:40.739Z"
   },
   {
    "duration": 5,
    "start_time": "2022-02-09T17:48:40.762Z"
   },
   {
    "duration": 56,
    "start_time": "2022-02-09T17:48:40.769Z"
   },
   {
    "duration": 18,
    "start_time": "2022-02-09T17:48:40.828Z"
   },
   {
    "duration": 25,
    "start_time": "2022-02-09T17:48:40.848Z"
   },
   {
    "duration": 80,
    "start_time": "2022-02-09T17:48:40.875Z"
   },
   {
    "duration": 82,
    "start_time": "2022-02-09T17:48:40.958Z"
   },
   {
    "duration": 71,
    "start_time": "2022-02-09T17:48:41.043Z"
   },
   {
    "duration": 44,
    "start_time": "2022-02-09T17:48:41.116Z"
   },
   {
    "duration": 3,
    "start_time": "2022-02-09T17:48:41.162Z"
   },
   {
    "duration": 14,
    "start_time": "2022-02-09T17:48:41.167Z"
   },
   {
    "duration": 66,
    "start_time": "2022-02-09T17:48:41.183Z"
   },
   {
    "duration": 3,
    "start_time": "2022-02-09T17:48:41.251Z"
   },
   {
    "duration": 5,
    "start_time": "2022-02-09T17:48:41.256Z"
   },
   {
    "duration": 7,
    "start_time": "2022-02-09T17:48:41.263Z"
   },
   {
    "duration": 12,
    "start_time": "2022-02-09T17:48:41.272Z"
   },
   {
    "duration": 23,
    "start_time": "2022-02-09T17:48:41.286Z"
   },
   {
    "duration": 4,
    "start_time": "2022-02-09T17:48:41.311Z"
   },
   {
    "duration": 8,
    "start_time": "2022-02-09T17:48:41.317Z"
   },
   {
    "duration": 10,
    "start_time": "2022-02-09T17:48:41.327Z"
   },
   {
    "duration": 11,
    "start_time": "2022-02-09T17:48:41.339Z"
   },
   {
    "duration": 5,
    "start_time": "2022-02-09T17:48:41.355Z"
   },
   {
    "duration": 7,
    "start_time": "2022-02-09T17:48:41.362Z"
   },
   {
    "duration": 9,
    "start_time": "2022-02-09T17:48:41.371Z"
   },
   {
    "duration": 11,
    "start_time": "2022-02-09T17:48:41.382Z"
   },
   {
    "duration": 22,
    "start_time": "2022-02-09T17:48:41.395Z"
   },
   {
    "duration": 9,
    "start_time": "2022-02-09T17:48:41.419Z"
   },
   {
    "duration": 19,
    "start_time": "2022-02-09T17:48:41.430Z"
   },
   {
    "duration": 9,
    "start_time": "2022-02-09T17:48:41.451Z"
   },
   {
    "duration": 12,
    "start_time": "2022-02-09T17:48:41.462Z"
   },
   {
    "duration": 11,
    "start_time": "2022-02-09T17:48:41.476Z"
   },
   {
    "duration": 12,
    "start_time": "2022-02-09T17:48:41.489Z"
   },
   {
    "duration": 9,
    "start_time": "2022-02-09T17:48:41.503Z"
   },
   {
    "duration": 3,
    "start_time": "2022-02-09T17:50:41.177Z"
   },
   {
    "duration": 216,
    "start_time": "2022-02-09T17:50:41.183Z"
   },
   {
    "duration": 16,
    "start_time": "2022-02-09T17:50:41.401Z"
   },
   {
    "duration": 41,
    "start_time": "2022-02-09T17:50:41.420Z"
   },
   {
    "duration": 10,
    "start_time": "2022-02-09T17:50:41.463Z"
   },
   {
    "duration": 37,
    "start_time": "2022-02-09T17:50:41.475Z"
   },
   {
    "duration": 5,
    "start_time": "2022-02-09T17:50:41.515Z"
   },
   {
    "duration": 36,
    "start_time": "2022-02-09T17:50:41.522Z"
   },
   {
    "duration": 19,
    "start_time": "2022-02-09T17:50:41.561Z"
   },
   {
    "duration": 44,
    "start_time": "2022-02-09T17:50:41.583Z"
   },
   {
    "duration": 90,
    "start_time": "2022-02-09T17:50:41.629Z"
   },
   {
    "duration": 79,
    "start_time": "2022-02-09T17:50:41.721Z"
   },
   {
    "duration": 68,
    "start_time": "2022-02-09T17:50:41.802Z"
   },
   {
    "duration": 60,
    "start_time": "2022-02-09T17:50:41.871Z"
   },
   {
    "duration": 3,
    "start_time": "2022-02-09T17:50:41.933Z"
   },
   {
    "duration": 23,
    "start_time": "2022-02-09T17:50:41.938Z"
   },
   {
    "duration": 57,
    "start_time": "2022-02-09T17:50:41.963Z"
   },
   {
    "duration": 2,
    "start_time": "2022-02-09T17:50:42.023Z"
   },
   {
    "duration": 11,
    "start_time": "2022-02-09T17:50:42.027Z"
   },
   {
    "duration": 16,
    "start_time": "2022-02-09T17:50:42.039Z"
   },
   {
    "duration": 12,
    "start_time": "2022-02-09T17:50:42.057Z"
   },
   {
    "duration": 16,
    "start_time": "2022-02-09T17:50:42.071Z"
   },
   {
    "duration": 18,
    "start_time": "2022-02-09T17:50:42.089Z"
   },
   {
    "duration": 9,
    "start_time": "2022-02-09T17:50:42.109Z"
   },
   {
    "duration": 7,
    "start_time": "2022-02-09T17:50:42.120Z"
   },
   {
    "duration": 13,
    "start_time": "2022-02-09T17:50:42.129Z"
   },
   {
    "duration": 9,
    "start_time": "2022-02-09T17:50:42.147Z"
   },
   {
    "duration": 11,
    "start_time": "2022-02-09T17:50:42.158Z"
   },
   {
    "duration": 11,
    "start_time": "2022-02-09T17:50:42.170Z"
   },
   {
    "duration": 11,
    "start_time": "2022-02-09T17:50:42.183Z"
   },
   {
    "duration": 14,
    "start_time": "2022-02-09T17:50:42.196Z"
   },
   {
    "duration": 8,
    "start_time": "2022-02-09T17:50:42.212Z"
   },
   {
    "duration": 15,
    "start_time": "2022-02-09T17:50:42.221Z"
   },
   {
    "duration": 11,
    "start_time": "2022-02-09T17:50:42.238Z"
   },
   {
    "duration": 13,
    "start_time": "2022-02-09T17:50:42.251Z"
   },
   {
    "duration": 8,
    "start_time": "2022-02-09T17:50:42.267Z"
   },
   {
    "duration": 8,
    "start_time": "2022-02-09T17:50:42.278Z"
   },
   {
    "duration": 8,
    "start_time": "2022-02-09T17:50:42.288Z"
   },
   {
    "duration": 11,
    "start_time": "2022-02-09T18:07:33.967Z"
   },
   {
    "duration": 22,
    "start_time": "2022-02-09T18:10:26.278Z"
   },
   {
    "duration": 22,
    "start_time": "2022-02-09T18:11:01.274Z"
   },
   {
    "duration": 22,
    "start_time": "2022-02-09T18:11:14.747Z"
   },
   {
    "duration": 23,
    "start_time": "2022-02-09T18:11:19.449Z"
   },
   {
    "duration": 22,
    "start_time": "2022-02-09T18:11:26.695Z"
   },
   {
    "duration": 21,
    "start_time": "2022-02-09T18:11:35.816Z"
   },
   {
    "duration": 13,
    "start_time": "2022-02-09T18:11:50.834Z"
   },
   {
    "duration": 16,
    "start_time": "2022-02-09T18:11:58.269Z"
   },
   {
    "duration": 28,
    "start_time": "2022-02-09T18:12:10.068Z"
   },
   {
    "duration": 11,
    "start_time": "2022-02-09T18:41:03.191Z"
   },
   {
    "duration": 25,
    "start_time": "2022-02-09T18:41:26.784Z"
   },
   {
    "duration": 12,
    "start_time": "2022-02-09T18:41:52.031Z"
   },
   {
    "duration": 13,
    "start_time": "2022-02-09T18:42:38.665Z"
   },
   {
    "duration": 241,
    "start_time": "2022-02-09T18:48:51.848Z"
   },
   {
    "duration": 4,
    "start_time": "2022-02-09T18:49:12.512Z"
   },
   {
    "duration": 4,
    "start_time": "2022-02-09T18:49:16.664Z"
   },
   {
    "duration": 18,
    "start_time": "2022-02-09T18:51:33.140Z"
   },
   {
    "duration": 17,
    "start_time": "2022-02-09T18:52:30.711Z"
   },
   {
    "duration": 24,
    "start_time": "2022-02-09T18:53:17.557Z"
   },
   {
    "duration": 17,
    "start_time": "2022-02-09T18:53:33.206Z"
   },
   {
    "duration": 20,
    "start_time": "2022-02-09T18:54:11.860Z"
   },
   {
    "duration": 16,
    "start_time": "2022-02-09T18:54:34.422Z"
   },
   {
    "duration": 7,
    "start_time": "2022-02-09T19:09:52.322Z"
   },
   {
    "duration": 11,
    "start_time": "2022-02-09T19:14:02.581Z"
   },
   {
    "duration": 11,
    "start_time": "2022-02-09T19:14:05.361Z"
   },
   {
    "duration": 8,
    "start_time": "2022-02-09T19:14:21.551Z"
   },
   {
    "duration": 5,
    "start_time": "2022-02-09T19:24:09.167Z"
   },
   {
    "duration": 5,
    "start_time": "2022-02-09T19:24:11.548Z"
   },
   {
    "duration": 4,
    "start_time": "2022-02-09T19:27:09.409Z"
   },
   {
    "duration": -1307,
    "start_time": "2022-02-09T19:27:58.799Z"
   },
   {
    "duration": 3082,
    "start_time": "2022-02-09T19:27:58.412Z"
   },
   {
    "duration": 3020,
    "start_time": "2022-02-09T19:29:06.312Z"
   },
   {
    "duration": 2750,
    "start_time": "2022-02-09T19:29:41.049Z"
   },
   {
    "duration": 2933,
    "start_time": "2022-02-09T19:34:28.123Z"
   },
   {
    "duration": 3,
    "start_time": "2022-02-09T19:34:34.253Z"
   },
   {
    "duration": 167,
    "start_time": "2022-02-09T19:34:34.258Z"
   },
   {
    "duration": 11,
    "start_time": "2022-02-09T19:34:34.428Z"
   },
   {
    "duration": 32,
    "start_time": "2022-02-09T19:34:34.442Z"
   },
   {
    "duration": 22,
    "start_time": "2022-02-09T19:34:34.476Z"
   },
   {
    "duration": 23,
    "start_time": "2022-02-09T19:34:34.500Z"
   },
   {
    "duration": 7,
    "start_time": "2022-02-09T19:34:34.525Z"
   },
   {
    "duration": 50,
    "start_time": "2022-02-09T19:34:34.534Z"
   },
   {
    "duration": 38,
    "start_time": "2022-02-09T19:34:34.587Z"
   },
   {
    "duration": 27,
    "start_time": "2022-02-09T19:34:34.628Z"
   },
   {
    "duration": 76,
    "start_time": "2022-02-09T19:34:34.657Z"
   },
   {
    "duration": 87,
    "start_time": "2022-02-09T19:34:34.735Z"
   },
   {
    "duration": 59,
    "start_time": "2022-02-09T19:34:34.824Z"
   },
   {
    "duration": 56,
    "start_time": "2022-02-09T19:34:34.884Z"
   },
   {
    "duration": 3,
    "start_time": "2022-02-09T19:34:34.942Z"
   },
   {
    "duration": 21,
    "start_time": "2022-02-09T19:34:34.947Z"
   },
   {
    "duration": 56,
    "start_time": "2022-02-09T19:34:34.970Z"
   },
   {
    "duration": 13,
    "start_time": "2022-02-09T19:34:35.028Z"
   },
   {
    "duration": 11,
    "start_time": "2022-02-09T19:34:35.043Z"
   },
   {
    "duration": 5,
    "start_time": "2022-02-09T19:34:35.056Z"
   },
   {
    "duration": 50,
    "start_time": "2022-02-09T19:34:35.064Z"
   },
   {
    "duration": 16,
    "start_time": "2022-02-09T19:34:35.116Z"
   },
   {
    "duration": 18,
    "start_time": "2022-02-09T19:34:35.134Z"
   },
   {
    "duration": 16,
    "start_time": "2022-02-09T19:34:35.153Z"
   },
   {
    "duration": 48,
    "start_time": "2022-02-09T19:34:35.171Z"
   },
   {
    "duration": 16,
    "start_time": "2022-02-09T19:34:35.221Z"
   },
   {
    "duration": 7,
    "start_time": "2022-02-09T19:34:35.240Z"
   },
   {
    "duration": 17,
    "start_time": "2022-02-09T19:34:35.249Z"
   },
   {
    "duration": 19,
    "start_time": "2022-02-09T19:34:35.268Z"
   },
   {
    "duration": 4,
    "start_time": "2022-02-09T19:34:35.308Z"
   },
   {
    "duration": 31,
    "start_time": "2022-02-09T19:34:35.314Z"
   },
   {
    "duration": 2,
    "start_time": "2022-02-09T19:34:35.347Z"
   },
   {
    "duration": 7,
    "start_time": "2022-02-09T19:34:35.351Z"
   },
   {
    "duration": 9,
    "start_time": "2022-02-09T19:34:35.360Z"
   },
   {
    "duration": 8,
    "start_time": "2022-02-09T19:34:35.371Z"
   },
   {
    "duration": 8,
    "start_time": "2022-02-09T19:34:35.381Z"
   },
   {
    "duration": 10,
    "start_time": "2022-02-09T19:34:35.391Z"
   },
   {
    "duration": 14,
    "start_time": "2022-02-09T19:34:35.403Z"
   },
   {
    "duration": 17,
    "start_time": "2022-02-09T19:35:18.904Z"
   },
   {
    "duration": 18,
    "start_time": "2022-02-09T19:38:44.804Z"
   },
   {
    "duration": 13,
    "start_time": "2022-02-09T19:39:13.046Z"
   },
   {
    "duration": 8,
    "start_time": "2022-02-09T19:44:55.304Z"
   },
   {
    "duration": 9,
    "start_time": "2022-02-09T19:44:57.652Z"
   },
   {
    "duration": 5,
    "start_time": "2022-02-09T19:45:32.956Z"
   },
   {
    "duration": 6,
    "start_time": "2022-02-09T19:47:06.719Z"
   },
   {
    "duration": 5,
    "start_time": "2022-02-09T19:47:29.606Z"
   },
   {
    "duration": 838,
    "start_time": "2022-02-17T10:10:55.806Z"
   },
   {
    "duration": 266,
    "start_time": "2022-02-17T10:10:56.647Z"
   },
   {
    "duration": 30,
    "start_time": "2022-02-17T10:10:56.916Z"
   },
   {
    "duration": 32,
    "start_time": "2022-02-17T10:10:56.950Z"
   },
   {
    "duration": 5,
    "start_time": "2022-02-17T10:10:56.985Z"
   },
   {
    "duration": 64,
    "start_time": "2022-02-17T10:10:56.993Z"
   },
   {
    "duration": 10,
    "start_time": "2022-02-17T10:10:57.060Z"
   },
   {
    "duration": 65,
    "start_time": "2022-02-17T10:10:57.076Z"
   },
   {
    "duration": 35,
    "start_time": "2022-02-17T10:10:57.145Z"
   },
   {
    "duration": 50,
    "start_time": "2022-02-17T10:10:57.182Z"
   },
   {
    "duration": 103,
    "start_time": "2022-02-17T10:10:57.235Z"
   },
   {
    "duration": 121,
    "start_time": "2022-02-17T10:10:57.341Z"
   },
   {
    "duration": 87,
    "start_time": "2022-02-17T10:10:57.465Z"
   },
   {
    "duration": 73,
    "start_time": "2022-02-17T10:10:57.554Z"
   },
   {
    "duration": 4,
    "start_time": "2022-02-17T10:10:57.630Z"
   },
   {
    "duration": 24,
    "start_time": "2022-02-17T10:10:57.637Z"
   },
   {
    "duration": 82,
    "start_time": "2022-02-17T10:10:57.663Z"
   },
   {
    "duration": 16,
    "start_time": "2022-02-17T10:10:57.747Z"
   },
   {
    "duration": 15,
    "start_time": "2022-02-17T10:10:57.765Z"
   },
   {
    "duration": 43,
    "start_time": "2022-02-17T10:10:57.783Z"
   },
   {
    "duration": 28,
    "start_time": "2022-02-17T10:10:57.829Z"
   },
   {
    "duration": 20,
    "start_time": "2022-02-17T10:10:57.860Z"
   },
   {
    "duration": 60,
    "start_time": "2022-02-17T10:10:57.887Z"
   },
   {
    "duration": 26,
    "start_time": "2022-02-17T10:10:57.951Z"
   },
   {
    "duration": 64,
    "start_time": "2022-02-17T10:10:57.980Z"
   },
   {
    "duration": 28,
    "start_time": "2022-02-17T10:10:58.047Z"
   },
   {
    "duration": 11,
    "start_time": "2022-02-17T10:10:58.078Z"
   },
   {
    "duration": 47,
    "start_time": "2022-02-17T10:10:58.092Z"
   },
   {
    "duration": 18,
    "start_time": "2022-02-17T10:10:58.142Z"
   },
   {
    "duration": 7,
    "start_time": "2022-02-17T10:10:58.163Z"
   },
   {
    "duration": 67,
    "start_time": "2022-02-17T10:10:58.173Z"
   },
   {
    "duration": 20,
    "start_time": "2022-02-17T10:10:58.243Z"
   },
   {
    "duration": 22,
    "start_time": "2022-02-17T10:10:58.266Z"
   },
   {
    "duration": 47,
    "start_time": "2022-02-17T10:10:58.291Z"
   },
   {
    "duration": 12,
    "start_time": "2022-02-17T10:10:58.340Z"
   },
   {
    "duration": 8,
    "start_time": "2022-02-17T10:10:58.354Z"
   },
   {
    "duration": 11,
    "start_time": "2022-02-17T10:10:58.365Z"
   },
   {
    "duration": 6,
    "start_time": "2022-02-17T10:10:58.379Z"
   }
  ],
  "colab": {
   "collapsed_sections": [
    "E0vqbgi9ay0H",
    "VUC88oWjTJw2"
   ],
   "name": "yandex_music_project_2021.2.ipynb",
   "provenance": []
  },
  "kernelspec": {
   "display_name": "Python 3 (ipykernel)",
   "language": "python",
   "name": "python3"
  },
  "language_info": {
   "codemirror_mode": {
    "name": "ipython",
    "version": 3
   },
   "file_extension": ".py",
   "mimetype": "text/x-python",
   "name": "python",
   "nbconvert_exporter": "python",
   "pygments_lexer": "ipython3",
   "version": "3.9.5"
  },
  "toc": {
   "base_numbering": 1,
   "nav_menu": {},
   "number_sections": true,
   "sideBar": true,
   "skip_h1_title": true,
   "title_cell": "Table of Contents",
   "title_sidebar": "Contents",
   "toc_cell": false,
   "toc_position": {},
   "toc_section_display": true,
   "toc_window_display": true
  }
 },
 "nbformat": 4,
 "nbformat_minor": 1
}
