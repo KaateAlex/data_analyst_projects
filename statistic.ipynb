{
 "cells": [
  {
   "cell_type": "markdown",
   "metadata": {},
   "source": [
    "<div style=\"border:solid Green 2px; padding: 40px\">\n",
    "Привет еще раз. Я буду также выделять свои комментарии цветом, но сейчас они будут отмечены так\n",
    "\n",
    "<h2> Комментарий ревьюера_V2 <a class=\"tocSkip\"> </h2>\n",
    "    \n",
    "Спасибо за доработку. Проект принят. Желаю удачи в дальнейшем обучении."
   ]
  },
  {
   "cell_type": "markdown",
   "metadata": {},
   "source": [
    "<div style=\"border:solid Chocolate 2px; padding: 40px\">\n",
    "\n",
    "<b> Екатерина, привет!👋</b>\n",
    "\n",
    "Меня зовут Горбунова Анастасия, и я буду давать обратную связь по твоему проекту. Предлагаю общаться на \"ты\", но если это  неудобно, обязательно скажи об этом, и мы перейдем на \"вы\"! Моя основная задача - поделиться своим опытом и помочь тебе пройти путь до аналитика данных.\n",
    "    \n",
    "Чтобы тебе проще было ориентироваться, мои комментарии будут отмечены <font color='green'>👍 зеленым</font>, <font color='Orange'>💡 желтым</font> и <font color='red'>❌ красным</font> цветами:\n",
    "\n",
    "\n",
    "\n",
    "<br/>\n",
    "\n",
    "<div class=\"alert alert-success\">\n",
    "<h2> Комментарий ревьюера <a class=\"tocSkip\"> </h2>\n",
    "\n",
    "<b>Все отлично! 👍:</b> \n",
    "    \n",
    "Таким цветом отмечены правильные и удачные решения, на которые можно опираться в будущих проектах. \n",
    "</div>\n",
    "\n",
    "<br/>\n",
    "\n",
    "<div class=\"alert alert-warning\">\n",
    "    <h2> Комментарий ревьюера <a class=\"tocSkip\"> </h2>\n",
    "    \n",
    "<b>Некоторые рекомендации 💡:</b> \n",
    "        \n",
    "Так отмечены комментарии-рекомендации на будущее или небольшие коррективы. Ты можешь учесть эти комментарии при выполнении следующих проектов. \n",
    "</div>\n",
    "\n",
    "\n",
    "<br/>\n",
    "<div class=\"alert alert-block alert-danger\">\n",
    "<h2> Комментарий ревьюера <a class=\"tocSkip\"></h2>\n",
    "\n",
    "    \n",
    "<b>На доработку ❌:</b> \n",
    "    \n",
    "Красным цветом отмечены комментарии, которые требуют твоего внимания. Решение на этом этапе требует переработки или внесения правок. После доработки проект будет принят.\n",
    "</div>\n",
    "    \n",
    "\n",
    "В случае доработки проекта оставь все предыдущие комментарии без изменения. Пожалуйста, не удаляй, не перемещай и не изменяй мои комментарии. Это поможет выполнить повторную проверку твоего проекта оперативнее.\n",
    "    \n",
    "    \n",
    "Также прошу реагировать на мои комментарии своими: если ты что-то меняешь в проекте по моим рекомендациям - пиши об этом в ячейке Markdown. Выдели свои комментарии каким-либо другим заметным цветом, явно  отличающимся от цвета моих комментариев. Это нужно, чтобы не создавалась путаница и было проще отследить изменения.\n"
   ]
  },
  {
   "cell_type": "markdown",
   "metadata": {},
   "source": [
    "<div class = \"alert alert-info\" style=\"border-left: 7px solid blue\">\n",
    "<b>Комментарий студента</b>\n",
    "    \n",
    "Это шаблон для тебя, можешь воспользоваться им или сделать по своему усмотрению. Так я смогу быстро найти твои комментарии.\n",
    "</div>"
   ]
  },
  {
   "cell_type": "markdown",
   "metadata": {},
   "source": [
    "# Определение перспективного тарифа для телеком компании\n",
    "\n",
    "\n",
    "# Описание проекта\n",
    "\n",
    "«Мегалайн» — федеральный оператор сотовой связи. Клиентам предлагают два тарифных плана: «Смарт» и «Ультра». Чтобы скорректировать рекламный бюджет, коммерческий департамент хочет понять, какой тариф приносит больше денег. Необходимо сделать предварительный анализ тарифов на небольшой выборке клиентов. Компания предоставила данные 500 пользователей «Мегалайна»: кто они, откуда, каким тарифом пользуются, сколько звонков и сообщений каждый отправил за 2018 год. Нужно проанализировать поведение клиентов и сделать вывод — какой тариф лучше."
   ]
  },
  {
   "cell_type": "markdown",
   "metadata": {},
   "source": [
    "## Описание тарифов\n",
    "\n",
    "### Тариф «Смарт»\n",
    "\n",
    "+ Ежемесячная плата: 550 рублей\n",
    "+ Включено 500 минут разговора, 50 сообщений и 15 Гб интернет-трафика\n",
    "+ Стоимость услуг сверх тарифного пакета:\n",
    "  +   минута разговора: 3 рубля\n",
    "  +   сообщение: 3 рубля\n",
    "  +   1 Гб интернет-трафика: 200 рублей\n",
    "\n",
    "### Тариф «Ультра»\n",
    "\n",
    "+ Ежемесячная плата: 1950 рублей\n",
    "+ Включено 3000 минут разговора, 1000 сообщений и 30 Гб интернет-трафика\n",
    "+ Стоимость услуг сверх тарифного пакета:\n",
    "  +   минута разговора: 1 рубль\n",
    "  +   сообщение: 1 рубль\n",
    "  +   1 Гб интернет-трафика: 150 рублей\n",
    "\n",
    "«Мегалайн» всегда округляет вверх значения минут и мегабайтов. Если пользователь проговорил всего 1 секунду, в тарифе засчитывается целая минута."
   ]
  },
  {
   "cell_type": "markdown",
   "metadata": {},
   "source": [
    "## Описание данных\n",
    "\n",
    "### Таблица users (информация о пользователях):\n",
    "\n",
    "+ user_id — уникальный идентификатор пользователя\n",
    "+ first_name — имя пользователя\n",
    "+ last_name — фамилия пользователя\n",
    "+ age — возраст пользователя (годы)\n",
    "+ reg_date — дата подключения тарифа (день, месяц, год)\n",
    "+ churn_date — дата прекращения пользования тарифом (если значение пропущено, то тариф ещё действовал на момент выгрузки данных)\n",
    "+ city — город проживания пользователя\n",
    "+ tariff — название тарифного плана\n",
    "\n",
    "### Таблица calls (информация о звонках):\n",
    "\n",
    "+ id — уникальный номер звонка\n",
    "+ call_date — дата звонка\n",
    "+ duration — длительность звонка в минутах\n",
    "+ user_id — идентификатор пользователя, сделавшего звонок\n",
    "\n",
    "### Таблица messages (информация о сообщениях):\n",
    "\n",
    "+ id — уникальный номер сообщения\n",
    "+ message_date — дата сообщения\n",
    "+ user_id — идентификатор пользователя, отправившего сообщение\n",
    "\n",
    "### Таблица internet (информация об интернет-сессиях):\n",
    "\n",
    "+ id — уникальный номер сессии\n",
    "+ mb_used — объём потраченного за сессию интернет-трафика (в мегабайтах)\n",
    "+ session_date — дата интернет-сессии\n",
    "+ user_id — идентификатор пользователя\n",
    "\n",
    "### Таблица tariffs (информация о тарифах):\n",
    "\n",
    "+ tariff_name — название тарифа\n",
    "+ rub_monthly_fee — ежемесячная абонентская плата в рублях\n",
    "+ minutes_included — количество минут разговора в месяц, включённых в абонентскую плату\n",
    "+ messages_included — количество сообщений в месяц, включённых в абонентскую плату\n",
    "+ mb_per_month_included — объём интернет-трафика, включённого в абонентскую плату (в мегабайтах)\n",
    "+ rub_per_minute — стоимость минуты разговора сверх тарифного пакета (например, если в тарифе 100 минут разговора в месяц, то со 101 минуты будет взиматься плата)\n",
    "+ rub_per_message — стоимость отправки сообщения сверх тарифного пакета\n",
    "+ rub_per_gb — стоимость дополнительного гигабайта интернет-трафика сверх тарифного пакета (1 гигабайт = 1024 мегабайта)"
   ]
  },
  {
   "cell_type": "markdown",
   "metadata": {},
   "source": [
    "<div style=\"border:solid Green 2px; padding: 40px\">\n",
    "<div class=\"alert alert-success\">\n",
    "<h3> Комментарий ревьюера <a class=\"tocSkip\"> </h3>\n",
    "\n",
    "<font color='green'><b>Все отлично! 👍:</b>  </font>\n",
    "\n",
    "    \n",
    "Отличное вступление. Так получатель отчета сможет быстрей его понять.\n",
    "    \n",
    "</div>"
   ]
  },
  {
   "cell_type": "markdown",
   "metadata": {},
   "source": [
    "## Шаг 1\n",
    "\n",
    "Откройте файл с данными и изучите общую информацию"
   ]
  },
  {
   "cell_type": "code",
   "execution_count": 1,
   "metadata": {},
   "outputs": [],
   "source": [
    "import pandas as pd\n",
    "import numpy as np\n",
    "from scipy import stats as st\n",
    "import math\n",
    "import matplotlib.pyplot as plt\n",
    "import plotly.express as px\n",
    "from datetime import datetime\n"
   ]
  },
  {
   "cell_type": "code",
   "execution_count": 2,
   "metadata": {},
   "outputs": [],
   "source": [
    "calls = pd.read_csv('/datasets/calls.csv')\n",
    "internet = pd.read_csv('/datasets/internet.csv', index_col=0) \n",
    "messages = pd.read_csv('/datasets/messages.csv')\n",
    "tariffs = pd.read_csv('/datasets/tariffs.csv')\n",
    "users = pd.read_csv('/datasets/users.csv')"
   ]
  },
  {
   "cell_type": "markdown",
   "metadata": {},
   "source": [
    "<div style=\"border:solid Orange 2px; padding: 40px\">\n",
    "<div class=\"alert alert-warning\">\n",
    "    <h3> Комментарий ревьюера <a class=\"tocSkip\"> </h3>\n",
    "    \n",
    "<font color='Orange'><b>Некоторые рекомендации 💡:</b> </font>\n",
    "        \n",
    "Блок загрузки библиотек лучше размещать в отдельной от остального кода ячейке. Такой подход позволит улучшить читаемость кода, снизит время поиска ошибок (если они есть) и исключит повторное выполнение кода.\n",
    "      \n",
    "Для подгрузки данных рекомендую использовать конструкцию `try-except`, она поможет избежать потенциальных ошибок при загрузке данных, связанных, например, с некорректным указанием путей: try - пути на локальном компьютере, except - пути на сервере. Или применить библиотеку os. Можно почитать про эту библиотеку здесь: https://pythonworld.ru/moduli/modul-os.html\n",
    "\n",
    "        \n",
    "</div>"
   ]
  },
  {
   "cell_type": "code",
   "execution_count": 3,
   "metadata": {},
   "outputs": [],
   "source": [
    "pd.set_option('display.max_columns', None)\n",
    "pd.options.display.float_format = '{:,.2f}'.format"
   ]
  },
  {
   "cell_type": "markdown",
   "metadata": {},
   "source": [
    "### Таблица users"
   ]
  },
  {
   "cell_type": "code",
   "execution_count": 4,
   "metadata": {},
   "outputs": [
    {
     "name": "stdout",
     "output_type": "stream",
     "text": [
      "<class 'pandas.core.frame.DataFrame'>\n",
      "RangeIndex: 500 entries, 0 to 499\n",
      "Data columns (total 8 columns):\n",
      " #   Column      Non-Null Count  Dtype \n",
      "---  ------      --------------  ----- \n",
      " 0   user_id     500 non-null    int64 \n",
      " 1   age         500 non-null    int64 \n",
      " 2   churn_date  38 non-null     object\n",
      " 3   city        500 non-null    object\n",
      " 4   first_name  500 non-null    object\n",
      " 5   last_name   500 non-null    object\n",
      " 6   reg_date    500 non-null    object\n",
      " 7   tariff      500 non-null    object\n",
      "dtypes: int64(2), object(6)\n",
      "memory usage: 31.4+ KB\n",
      "Количество дубликатов: 0\n",
      "Количество уникальных пользоваетелей: 500\n"
     ]
    }
   ],
   "source": [
    "users.info()\n",
    "print('Количество дубликатов:', users.duplicated().sum())\n",
    "print('Количество уникальных пользоваетелей:', len(users['user_id'].unique()))\n"
   ]
  },
  {
   "cell_type": "code",
   "execution_count": 5,
   "metadata": {
    "scrolled": true
   },
   "outputs": [
    {
     "data": {
      "text/html": [
       "<div>\n",
       "<style scoped>\n",
       "    .dataframe tbody tr th:only-of-type {\n",
       "        vertical-align: middle;\n",
       "    }\n",
       "\n",
       "    .dataframe tbody tr th {\n",
       "        vertical-align: top;\n",
       "    }\n",
       "\n",
       "    .dataframe thead th {\n",
       "        text-align: right;\n",
       "    }\n",
       "</style>\n",
       "<table border=\"1\" class=\"dataframe\">\n",
       "  <thead>\n",
       "    <tr style=\"text-align: right;\">\n",
       "      <th></th>\n",
       "      <th>user_id</th>\n",
       "      <th>age</th>\n",
       "      <th>churn_date</th>\n",
       "      <th>city</th>\n",
       "      <th>first_name</th>\n",
       "      <th>last_name</th>\n",
       "      <th>reg_date</th>\n",
       "      <th>tariff</th>\n",
       "    </tr>\n",
       "  </thead>\n",
       "  <tbody>\n",
       "    <tr>\n",
       "      <th>0</th>\n",
       "      <td>1000</td>\n",
       "      <td>52</td>\n",
       "      <td>NaN</td>\n",
       "      <td>Краснодар</td>\n",
       "      <td>Рафаил</td>\n",
       "      <td>Верещагин</td>\n",
       "      <td>2018-05-25</td>\n",
       "      <td>ultra</td>\n",
       "    </tr>\n",
       "    <tr>\n",
       "      <th>1</th>\n",
       "      <td>1001</td>\n",
       "      <td>41</td>\n",
       "      <td>NaN</td>\n",
       "      <td>Москва</td>\n",
       "      <td>Иван</td>\n",
       "      <td>Ежов</td>\n",
       "      <td>2018-11-01</td>\n",
       "      <td>smart</td>\n",
       "    </tr>\n",
       "    <tr>\n",
       "      <th>2</th>\n",
       "      <td>1002</td>\n",
       "      <td>59</td>\n",
       "      <td>NaN</td>\n",
       "      <td>Стерлитамак</td>\n",
       "      <td>Евгений</td>\n",
       "      <td>Абрамович</td>\n",
       "      <td>2018-06-17</td>\n",
       "      <td>smart</td>\n",
       "    </tr>\n",
       "    <tr>\n",
       "      <th>3</th>\n",
       "      <td>1003</td>\n",
       "      <td>23</td>\n",
       "      <td>NaN</td>\n",
       "      <td>Москва</td>\n",
       "      <td>Белла</td>\n",
       "      <td>Белякова</td>\n",
       "      <td>2018-08-17</td>\n",
       "      <td>ultra</td>\n",
       "    </tr>\n",
       "    <tr>\n",
       "      <th>4</th>\n",
       "      <td>1004</td>\n",
       "      <td>68</td>\n",
       "      <td>NaN</td>\n",
       "      <td>Новокузнецк</td>\n",
       "      <td>Татьяна</td>\n",
       "      <td>Авдеенко</td>\n",
       "      <td>2018-05-14</td>\n",
       "      <td>ultra</td>\n",
       "    </tr>\n",
       "  </tbody>\n",
       "</table>\n",
       "</div>"
      ],
      "text/plain": [
       "   user_id  age churn_date         city first_name  last_name    reg_date  \\\n",
       "0     1000   52        NaN    Краснодар     Рафаил  Верещагин  2018-05-25   \n",
       "1     1001   41        NaN       Москва       Иван       Ежов  2018-11-01   \n",
       "2     1002   59        NaN  Стерлитамак    Евгений  Абрамович  2018-06-17   \n",
       "3     1003   23        NaN       Москва      Белла   Белякова  2018-08-17   \n",
       "4     1004   68        NaN  Новокузнецк    Татьяна   Авдеенко  2018-05-14   \n",
       "\n",
       "  tariff  \n",
       "0  ultra  \n",
       "1  smart  \n",
       "2  smart  \n",
       "3  ultra  \n",
       "4  ultra  "
      ]
     },
     "execution_count": 5,
     "metadata": {},
     "output_type": "execute_result"
    }
   ],
   "source": [
    "users.head()"
   ]
  },
  {
   "cell_type": "markdown",
   "metadata": {},
   "source": [
    "<div style=\"border:solid Green 2px; padding: 40px\">\n",
    "<div class=\"alert alert-success\">\n",
    "<h2> Комментарий ревьюера <a class=\"tocSkip\"> </h2>\n",
    "\n",
    "<font color='green'><b>Все отлично! 👍:</b>  </font>\n",
    "    \n",
    "Очень хорошо, что есть проверка на дубликаты. Про это легко забыть. А в некоторых исследованиях дубликаты могут серьезно исказить результаты.\n",
    "    \n",
    "    \n",
    "</div>"
   ]
  },
  {
   "cell_type": "markdown",
   "metadata": {},
   "source": [
    "Пропуски есть в колонке churn_date.Пустые значения в этой колонке значат что тариф еще действует. Оставим как есть, для анализа эта колонка не понадобится. Дубликатов нет. Формат колонок с датой необходимо перевести в datetime. "
   ]
  },
  {
   "cell_type": "markdown",
   "metadata": {},
   "source": [
    "### Таблица calls"
   ]
  },
  {
   "cell_type": "code",
   "execution_count": 6,
   "metadata": {},
   "outputs": [
    {
     "name": "stdout",
     "output_type": "stream",
     "text": [
      "<class 'pandas.core.frame.DataFrame'>\n",
      "RangeIndex: 202607 entries, 0 to 202606\n",
      "Data columns (total 4 columns):\n",
      " #   Column     Non-Null Count   Dtype  \n",
      "---  ------     --------------   -----  \n",
      " 0   id         202607 non-null  object \n",
      " 1   call_date  202607 non-null  object \n",
      " 2   duration   202607 non-null  float64\n",
      " 3   user_id    202607 non-null  int64  \n",
      "dtypes: float64(1), int64(1), object(2)\n",
      "memory usage: 6.2+ MB\n",
      "Количество дубликатов: 0\n",
      "Количество уникальных пользоваетелей: 492\n"
     ]
    }
   ],
   "source": [
    "calls.info()\n",
    "print('Количество дубликатов:',calls.duplicated().sum())\n",
    "print('Количество уникальных пользоваетелей:', len(calls['user_id'].unique()))"
   ]
  },
  {
   "cell_type": "code",
   "execution_count": 7,
   "metadata": {},
   "outputs": [
    {
     "data": {
      "text/html": [
       "<div>\n",
       "<style scoped>\n",
       "    .dataframe tbody tr th:only-of-type {\n",
       "        vertical-align: middle;\n",
       "    }\n",
       "\n",
       "    .dataframe tbody tr th {\n",
       "        vertical-align: top;\n",
       "    }\n",
       "\n",
       "    .dataframe thead th {\n",
       "        text-align: right;\n",
       "    }\n",
       "</style>\n",
       "<table border=\"1\" class=\"dataframe\">\n",
       "  <thead>\n",
       "    <tr style=\"text-align: right;\">\n",
       "      <th></th>\n",
       "      <th>id</th>\n",
       "      <th>call_date</th>\n",
       "      <th>duration</th>\n",
       "      <th>user_id</th>\n",
       "    </tr>\n",
       "  </thead>\n",
       "  <tbody>\n",
       "    <tr>\n",
       "      <th>0</th>\n",
       "      <td>1000_0</td>\n",
       "      <td>2018-07-25</td>\n",
       "      <td>0.00</td>\n",
       "      <td>1000</td>\n",
       "    </tr>\n",
       "    <tr>\n",
       "      <th>1</th>\n",
       "      <td>1000_1</td>\n",
       "      <td>2018-08-17</td>\n",
       "      <td>0.00</td>\n",
       "      <td>1000</td>\n",
       "    </tr>\n",
       "    <tr>\n",
       "      <th>2</th>\n",
       "      <td>1000_2</td>\n",
       "      <td>2018-06-11</td>\n",
       "      <td>2.85</td>\n",
       "      <td>1000</td>\n",
       "    </tr>\n",
       "    <tr>\n",
       "      <th>3</th>\n",
       "      <td>1000_3</td>\n",
       "      <td>2018-09-21</td>\n",
       "      <td>13.80</td>\n",
       "      <td>1000</td>\n",
       "    </tr>\n",
       "    <tr>\n",
       "      <th>4</th>\n",
       "      <td>1000_4</td>\n",
       "      <td>2018-12-15</td>\n",
       "      <td>5.18</td>\n",
       "      <td>1000</td>\n",
       "    </tr>\n",
       "  </tbody>\n",
       "</table>\n",
       "</div>"
      ],
      "text/plain": [
       "       id   call_date  duration  user_id\n",
       "0  1000_0  2018-07-25      0.00     1000\n",
       "1  1000_1  2018-08-17      0.00     1000\n",
       "2  1000_2  2018-06-11      2.85     1000\n",
       "3  1000_3  2018-09-21     13.80     1000\n",
       "4  1000_4  2018-12-15      5.18     1000"
      ]
     },
     "execution_count": 7,
     "metadata": {},
     "output_type": "execute_result"
    }
   ],
   "source": [
    "calls.head()"
   ]
  },
  {
   "cell_type": "markdown",
   "metadata": {},
   "source": [
    "Пропусков и дубликатов нет,но Duration представлена дробными числами, а оператор округляет все данные в большую сторону. Также есть звонки длительностью 0 минут. Это могут быть неотвеченные вызовы или случаи когда связь сразу обрывалась, потому что нулевые звонки не приносят приносят прибыли оператору, то удалим эти строки. Формат колонки с датой необходимо перевести в datetime"
   ]
  },
  {
   "cell_type": "markdown",
   "metadata": {},
   "source": [
    "### Таблица messages"
   ]
  },
  {
   "cell_type": "code",
   "execution_count": 8,
   "metadata": {},
   "outputs": [
    {
     "name": "stdout",
     "output_type": "stream",
     "text": [
      "<class 'pandas.core.frame.DataFrame'>\n",
      "RangeIndex: 123036 entries, 0 to 123035\n",
      "Data columns (total 3 columns):\n",
      " #   Column        Non-Null Count   Dtype \n",
      "---  ------        --------------   ----- \n",
      " 0   id            123036 non-null  object\n",
      " 1   message_date  123036 non-null  object\n",
      " 2   user_id       123036 non-null  int64 \n",
      "dtypes: int64(1), object(2)\n",
      "memory usage: 2.8+ MB\n",
      "Количество дубликатов: 0\n"
     ]
    }
   ],
   "source": [
    "messages.info()\n",
    "print('Количество дубликатов:', messages.duplicated().sum())"
   ]
  },
  {
   "cell_type": "code",
   "execution_count": 9,
   "metadata": {},
   "outputs": [
    {
     "data": {
      "text/html": [
       "<div>\n",
       "<style scoped>\n",
       "    .dataframe tbody tr th:only-of-type {\n",
       "        vertical-align: middle;\n",
       "    }\n",
       "\n",
       "    .dataframe tbody tr th {\n",
       "        vertical-align: top;\n",
       "    }\n",
       "\n",
       "    .dataframe thead th {\n",
       "        text-align: right;\n",
       "    }\n",
       "</style>\n",
       "<table border=\"1\" class=\"dataframe\">\n",
       "  <thead>\n",
       "    <tr style=\"text-align: right;\">\n",
       "      <th></th>\n",
       "      <th>id</th>\n",
       "      <th>message_date</th>\n",
       "      <th>user_id</th>\n",
       "    </tr>\n",
       "  </thead>\n",
       "  <tbody>\n",
       "    <tr>\n",
       "      <th>0</th>\n",
       "      <td>1000_0</td>\n",
       "      <td>2018-06-27</td>\n",
       "      <td>1000</td>\n",
       "    </tr>\n",
       "    <tr>\n",
       "      <th>1</th>\n",
       "      <td>1000_1</td>\n",
       "      <td>2018-10-08</td>\n",
       "      <td>1000</td>\n",
       "    </tr>\n",
       "    <tr>\n",
       "      <th>2</th>\n",
       "      <td>1000_2</td>\n",
       "      <td>2018-08-04</td>\n",
       "      <td>1000</td>\n",
       "    </tr>\n",
       "    <tr>\n",
       "      <th>3</th>\n",
       "      <td>1000_3</td>\n",
       "      <td>2018-06-16</td>\n",
       "      <td>1000</td>\n",
       "    </tr>\n",
       "    <tr>\n",
       "      <th>4</th>\n",
       "      <td>1000_4</td>\n",
       "      <td>2018-12-05</td>\n",
       "      <td>1000</td>\n",
       "    </tr>\n",
       "    <tr>\n",
       "      <th>5</th>\n",
       "      <td>1000_5</td>\n",
       "      <td>2018-06-20</td>\n",
       "      <td>1000</td>\n",
       "    </tr>\n",
       "    <tr>\n",
       "      <th>6</th>\n",
       "      <td>1000_6</td>\n",
       "      <td>2018-11-19</td>\n",
       "      <td>1000</td>\n",
       "    </tr>\n",
       "    <tr>\n",
       "      <th>7</th>\n",
       "      <td>1000_7</td>\n",
       "      <td>2018-10-29</td>\n",
       "      <td>1000</td>\n",
       "    </tr>\n",
       "    <tr>\n",
       "      <th>8</th>\n",
       "      <td>1000_8</td>\n",
       "      <td>2018-06-25</td>\n",
       "      <td>1000</td>\n",
       "    </tr>\n",
       "    <tr>\n",
       "      <th>9</th>\n",
       "      <td>1000_9</td>\n",
       "      <td>2018-12-18</td>\n",
       "      <td>1000</td>\n",
       "    </tr>\n",
       "  </tbody>\n",
       "</table>\n",
       "</div>"
      ],
      "text/plain": [
       "       id message_date  user_id\n",
       "0  1000_0   2018-06-27     1000\n",
       "1  1000_1   2018-10-08     1000\n",
       "2  1000_2   2018-08-04     1000\n",
       "3  1000_3   2018-06-16     1000\n",
       "4  1000_4   2018-12-05     1000\n",
       "5  1000_5   2018-06-20     1000\n",
       "6  1000_6   2018-11-19     1000\n",
       "7  1000_7   2018-10-29     1000\n",
       "8  1000_8   2018-06-25     1000\n",
       "9  1000_9   2018-12-18     1000"
      ]
     },
     "execution_count": 9,
     "metadata": {},
     "output_type": "execute_result"
    }
   ],
   "source": [
    "messages.head(10)"
   ]
  },
  {
   "cell_type": "markdown",
   "metadata": {},
   "source": [
    "Пропусков и дубликатов нет. Формат столбца с датой переведем в datetime."
   ]
  },
  {
   "cell_type": "markdown",
   "metadata": {},
   "source": [
    "### Таблица internet"
   ]
  },
  {
   "cell_type": "code",
   "execution_count": 10,
   "metadata": {
    "scrolled": true
   },
   "outputs": [
    {
     "name": "stdout",
     "output_type": "stream",
     "text": [
      "<class 'pandas.core.frame.DataFrame'>\n",
      "Int64Index: 149396 entries, 0 to 149395\n",
      "Data columns (total 4 columns):\n",
      " #   Column        Non-Null Count   Dtype  \n",
      "---  ------        --------------   -----  \n",
      " 0   id            149396 non-null  object \n",
      " 1   mb_used       149396 non-null  float64\n",
      " 2   session_date  149396 non-null  object \n",
      " 3   user_id       149396 non-null  int64  \n",
      "dtypes: float64(1), int64(1), object(2)\n",
      "memory usage: 5.7+ MB\n",
      "Количество дубликатов: 0\n"
     ]
    }
   ],
   "source": [
    "internet.info()\n",
    "print('Количество дубликатов:',internet.duplicated().sum())"
   ]
  },
  {
   "cell_type": "markdown",
   "metadata": {},
   "source": [
    "<div style=\"border:solid Orange 2px; padding: 40px\">\n",
    "<div class=\"alert alert-warning\">\n",
    "    <h2> Комментарий ревьюера <a class=\"tocSkip\"> </h2>\n",
    "    \n",
    "<font color='Orange'><b>Некоторые рекомендации 💡:</b> </font>        \n",
    "\n",
    "Обрати внимание на лишний столбец в таблице с интернетом. `Unnamed: 0` возникает, когда данные сохраняют с указанием индекса `pd.DataFrame().to_csv(..., index=column)`. Если при чтении указать этот столбец `pd.read_csv(..., index_col=0)` - данные сразу прочитаются корректно.\n",
    "        \n",
    "</div>"
   ]
  },
  {
   "cell_type": "markdown",
   "metadata": {},
   "source": [
    "<div class = \"alert alert-info\" style=\"border-left: 7px solid blue\">\n",
    "<b>Комментарий студента</b>\n",
    "    \n",
    "спасибо, готово✔️\n",
    "    \n",
    "</div>"
   ]
  },
  {
   "cell_type": "markdown",
   "metadata": {},
   "source": [
    "<div style=\"border:solid Green 2px; padding: 40px\">\n",
    "<div class=\"alert alert-success\">\n",
    "<h3> Комментарий ревьюера_V2 <a class=\"tocSkip\"> </h3>\n",
    "\n",
    "<font color='green'><b>Все отлично! 👍:</b>  </font>\n",
    "\n",
    "Хорошо\n",
    "    \n",
    "</div>"
   ]
  },
  {
   "cell_type": "code",
   "execution_count": 11,
   "metadata": {},
   "outputs": [
    {
     "data": {
      "text/html": [
       "<div>\n",
       "<style scoped>\n",
       "    .dataframe tbody tr th:only-of-type {\n",
       "        vertical-align: middle;\n",
       "    }\n",
       "\n",
       "    .dataframe tbody tr th {\n",
       "        vertical-align: top;\n",
       "    }\n",
       "\n",
       "    .dataframe thead th {\n",
       "        text-align: right;\n",
       "    }\n",
       "</style>\n",
       "<table border=\"1\" class=\"dataframe\">\n",
       "  <thead>\n",
       "    <tr style=\"text-align: right;\">\n",
       "      <th></th>\n",
       "      <th>id</th>\n",
       "      <th>mb_used</th>\n",
       "      <th>session_date</th>\n",
       "      <th>user_id</th>\n",
       "    </tr>\n",
       "  </thead>\n",
       "  <tbody>\n",
       "    <tr>\n",
       "      <th>0</th>\n",
       "      <td>1000_0</td>\n",
       "      <td>112.95</td>\n",
       "      <td>2018-11-25</td>\n",
       "      <td>1000</td>\n",
       "    </tr>\n",
       "    <tr>\n",
       "      <th>1</th>\n",
       "      <td>1000_1</td>\n",
       "      <td>1,052.81</td>\n",
       "      <td>2018-09-07</td>\n",
       "      <td>1000</td>\n",
       "    </tr>\n",
       "    <tr>\n",
       "      <th>2</th>\n",
       "      <td>1000_2</td>\n",
       "      <td>1,197.26</td>\n",
       "      <td>2018-06-25</td>\n",
       "      <td>1000</td>\n",
       "    </tr>\n",
       "    <tr>\n",
       "      <th>3</th>\n",
       "      <td>1000_3</td>\n",
       "      <td>550.27</td>\n",
       "      <td>2018-08-22</td>\n",
       "      <td>1000</td>\n",
       "    </tr>\n",
       "    <tr>\n",
       "      <th>4</th>\n",
       "      <td>1000_4</td>\n",
       "      <td>302.56</td>\n",
       "      <td>2018-09-24</td>\n",
       "      <td>1000</td>\n",
       "    </tr>\n",
       "  </tbody>\n",
       "</table>\n",
       "</div>"
      ],
      "text/plain": [
       "       id  mb_used session_date  user_id\n",
       "0  1000_0   112.95   2018-11-25     1000\n",
       "1  1000_1 1,052.81   2018-09-07     1000\n",
       "2  1000_2 1,197.26   2018-06-25     1000\n",
       "3  1000_3   550.27   2018-08-22     1000\n",
       "4  1000_4   302.56   2018-09-24     1000"
      ]
     },
     "execution_count": 11,
     "metadata": {},
     "output_type": "execute_result"
    }
   ],
   "source": [
    "internet.head()"
   ]
  },
  {
   "cell_type": "code",
   "execution_count": 12,
   "metadata": {},
   "outputs": [
    {
     "name": "stdout",
     "output_type": "stream",
     "text": [
      "19598\n"
     ]
    }
   ],
   "source": [
    "# Проверим есть ли нулевые значения\n",
    "print(len(internet.query('mb_used == 0')))"
   ]
  },
  {
   "cell_type": "markdown",
   "metadata": {},
   "source": [
    "Пропусков и дубликатов нет. \n",
    "19 тысяч строк с нулевым трафиком. Это может быть в случаях когда связь сразу обрывается. Нулевой трафик, как и нулевые звонки, не приносит прибыли, поэтому удалим эти строки. Данные по трафику представлены дробными числами, а опретор округляет данные в большую сторону. Формат столбца с датой перевдем в datetime."
   ]
  },
  {
   "cell_type": "markdown",
   "metadata": {},
   "source": [
    "### Таблица tariffs"
   ]
  },
  {
   "cell_type": "code",
   "execution_count": 13,
   "metadata": {},
   "outputs": [
    {
     "name": "stdout",
     "output_type": "stream",
     "text": [
      "<class 'pandas.core.frame.DataFrame'>\n",
      "RangeIndex: 2 entries, 0 to 1\n",
      "Data columns (total 8 columns):\n",
      " #   Column                 Non-Null Count  Dtype \n",
      "---  ------                 --------------  ----- \n",
      " 0   messages_included      2 non-null      int64 \n",
      " 1   mb_per_month_included  2 non-null      int64 \n",
      " 2   minutes_included       2 non-null      int64 \n",
      " 3   rub_monthly_fee        2 non-null      int64 \n",
      " 4   rub_per_gb             2 non-null      int64 \n",
      " 5   rub_per_message        2 non-null      int64 \n",
      " 6   rub_per_minute         2 non-null      int64 \n",
      " 7   tariff_name            2 non-null      object\n",
      "dtypes: int64(7), object(1)\n",
      "memory usage: 256.0+ bytes\n",
      "0\n"
     ]
    }
   ],
   "source": [
    "tariffs.info()\n",
    "print(tariffs.duplicated().sum())"
   ]
  },
  {
   "cell_type": "code",
   "execution_count": 14,
   "metadata": {},
   "outputs": [
    {
     "data": {
      "text/html": [
       "<div>\n",
       "<style scoped>\n",
       "    .dataframe tbody tr th:only-of-type {\n",
       "        vertical-align: middle;\n",
       "    }\n",
       "\n",
       "    .dataframe tbody tr th {\n",
       "        vertical-align: top;\n",
       "    }\n",
       "\n",
       "    .dataframe thead th {\n",
       "        text-align: right;\n",
       "    }\n",
       "</style>\n",
       "<table border=\"1\" class=\"dataframe\">\n",
       "  <thead>\n",
       "    <tr style=\"text-align: right;\">\n",
       "      <th></th>\n",
       "      <th>messages_included</th>\n",
       "      <th>mb_per_month_included</th>\n",
       "      <th>minutes_included</th>\n",
       "      <th>rub_monthly_fee</th>\n",
       "      <th>rub_per_gb</th>\n",
       "      <th>rub_per_message</th>\n",
       "      <th>rub_per_minute</th>\n",
       "      <th>tariff_name</th>\n",
       "    </tr>\n",
       "  </thead>\n",
       "  <tbody>\n",
       "    <tr>\n",
       "      <th>0</th>\n",
       "      <td>50</td>\n",
       "      <td>15360</td>\n",
       "      <td>500</td>\n",
       "      <td>550</td>\n",
       "      <td>200</td>\n",
       "      <td>3</td>\n",
       "      <td>3</td>\n",
       "      <td>smart</td>\n",
       "    </tr>\n",
       "    <tr>\n",
       "      <th>1</th>\n",
       "      <td>1000</td>\n",
       "      <td>30720</td>\n",
       "      <td>3000</td>\n",
       "      <td>1950</td>\n",
       "      <td>150</td>\n",
       "      <td>1</td>\n",
       "      <td>1</td>\n",
       "      <td>ultra</td>\n",
       "    </tr>\n",
       "  </tbody>\n",
       "</table>\n",
       "</div>"
      ],
      "text/plain": [
       "   messages_included  mb_per_month_included  minutes_included  \\\n",
       "0                 50                  15360               500   \n",
       "1               1000                  30720              3000   \n",
       "\n",
       "   rub_monthly_fee  rub_per_gb  rub_per_message  rub_per_minute tariff_name  \n",
       "0              550         200                3               3       smart  \n",
       "1             1950         150                1               1       ultra  "
      ]
     },
     "execution_count": 14,
     "metadata": {},
     "output_type": "execute_result"
    }
   ],
   "source": [
    "tariffs.head()"
   ]
  },
  {
   "cell_type": "markdown",
   "metadata": {},
   "source": [
    "Всего 2 строки с параметрами тарифов"
   ]
  },
  {
   "cell_type": "markdown",
   "metadata": {},
   "source": [
    "Пропуски есть всего в одном столбце, который не понадобится для анализа. Дубликатов нет. Есть нулевые значения, которые не влияют на прибыль. Поэтому их удалим. Данные о длительности звонков и трафике интернета округлим в большую сторону согласно правилам компании. А также поправим формат даты и добавим колонку с месяцем, тк будем объединять данные по месяцам."
   ]
  },
  {
   "cell_type": "markdown",
   "metadata": {},
   "source": [
    "<div style=\"border:solid Green 2px; padding: 40px\">\n",
    "<div class=\"alert alert-success\">\n",
    "<h2> Комментарий ревьюера <a class=\"tocSkip\"> </h2>\n",
    "\n",
    "<font color='green'><b>Все отлично! 👍:</b>  </font>\n",
    "\n",
    "😎 Хороший вывод. Когда есть краткий обзор, понятнее становятся шаги на следуюющем этапе.\n",
    "    \n",
    "</div>"
   ]
  },
  {
   "cell_type": "markdown",
   "metadata": {},
   "source": [
    "## Шаг 2. Подготовим данные\n"
   ]
  },
  {
   "cell_type": "code",
   "execution_count": 15,
   "metadata": {},
   "outputs": [
    {
     "data": {
      "text/html": [
       "<div>\n",
       "<style scoped>\n",
       "    .dataframe tbody tr th:only-of-type {\n",
       "        vertical-align: middle;\n",
       "    }\n",
       "\n",
       "    .dataframe tbody tr th {\n",
       "        vertical-align: top;\n",
       "    }\n",
       "\n",
       "    .dataframe thead th {\n",
       "        text-align: right;\n",
       "    }\n",
       "</style>\n",
       "<table border=\"1\" class=\"dataframe\">\n",
       "  <thead>\n",
       "    <tr style=\"text-align: right;\">\n",
       "      <th></th>\n",
       "      <th>id</th>\n",
       "      <th>call_date</th>\n",
       "      <th>duration</th>\n",
       "      <th>user_id</th>\n",
       "      <th>month</th>\n",
       "    </tr>\n",
       "  </thead>\n",
       "  <tbody>\n",
       "    <tr>\n",
       "      <th>0</th>\n",
       "      <td>1000_0</td>\n",
       "      <td>2018-07-25</td>\n",
       "      <td>0.00</td>\n",
       "      <td>1000</td>\n",
       "      <td>July</td>\n",
       "    </tr>\n",
       "    <tr>\n",
       "      <th>1</th>\n",
       "      <td>1000_1</td>\n",
       "      <td>2018-08-17</td>\n",
       "      <td>0.00</td>\n",
       "      <td>1000</td>\n",
       "      <td>August</td>\n",
       "    </tr>\n",
       "    <tr>\n",
       "      <th>2</th>\n",
       "      <td>1000_2</td>\n",
       "      <td>2018-06-11</td>\n",
       "      <td>2.85</td>\n",
       "      <td>1000</td>\n",
       "      <td>June</td>\n",
       "    </tr>\n",
       "    <tr>\n",
       "      <th>3</th>\n",
       "      <td>1000_3</td>\n",
       "      <td>2018-09-21</td>\n",
       "      <td>13.80</td>\n",
       "      <td>1000</td>\n",
       "      <td>September</td>\n",
       "    </tr>\n",
       "    <tr>\n",
       "      <th>4</th>\n",
       "      <td>1000_4</td>\n",
       "      <td>2018-12-15</td>\n",
       "      <td>5.18</td>\n",
       "      <td>1000</td>\n",
       "      <td>December</td>\n",
       "    </tr>\n",
       "  </tbody>\n",
       "</table>\n",
       "</div>"
      ],
      "text/plain": [
       "       id  call_date  duration  user_id      month\n",
       "0  1000_0 2018-07-25      0.00     1000       July\n",
       "1  1000_1 2018-08-17      0.00     1000     August\n",
       "2  1000_2 2018-06-11      2.85     1000       June\n",
       "3  1000_3 2018-09-21     13.80     1000  September\n",
       "4  1000_4 2018-12-15      5.18     1000   December"
      ]
     },
     "execution_count": 15,
     "metadata": {},
     "output_type": "execute_result"
    }
   ],
   "source": [
    "# Таблица calls\n",
    "# Переведем формат даты и добавим колонку месяца\n",
    "calls['call_date']= pd.to_datetime(calls['call_date'], format ='%Y-%m-%d')\n",
    "calls['month'] = calls['call_date'].dt.month_name()\n",
    "calls.head()"
   ]
  },
  {
   "cell_type": "code",
   "execution_count": 16,
   "metadata": {},
   "outputs": [
    {
     "data": {
      "text/html": [
       "<div>\n",
       "<style scoped>\n",
       "    .dataframe tbody tr th:only-of-type {\n",
       "        vertical-align: middle;\n",
       "    }\n",
       "\n",
       "    .dataframe tbody tr th {\n",
       "        vertical-align: top;\n",
       "    }\n",
       "\n",
       "    .dataframe thead th {\n",
       "        text-align: right;\n",
       "    }\n",
       "</style>\n",
       "<table border=\"1\" class=\"dataframe\">\n",
       "  <thead>\n",
       "    <tr style=\"text-align: right;\">\n",
       "      <th></th>\n",
       "      <th>id</th>\n",
       "      <th>call_date</th>\n",
       "      <th>duration</th>\n",
       "      <th>user_id</th>\n",
       "      <th>month</th>\n",
       "    </tr>\n",
       "  </thead>\n",
       "  <tbody>\n",
       "    <tr>\n",
       "      <th>0</th>\n",
       "      <td>1000_0</td>\n",
       "      <td>2018-07-25</td>\n",
       "      <td>0</td>\n",
       "      <td>1000</td>\n",
       "      <td>July</td>\n",
       "    </tr>\n",
       "    <tr>\n",
       "      <th>1</th>\n",
       "      <td>1000_1</td>\n",
       "      <td>2018-08-17</td>\n",
       "      <td>0</td>\n",
       "      <td>1000</td>\n",
       "      <td>August</td>\n",
       "    </tr>\n",
       "    <tr>\n",
       "      <th>2</th>\n",
       "      <td>1000_2</td>\n",
       "      <td>2018-06-11</td>\n",
       "      <td>3</td>\n",
       "      <td>1000</td>\n",
       "      <td>June</td>\n",
       "    </tr>\n",
       "    <tr>\n",
       "      <th>3</th>\n",
       "      <td>1000_3</td>\n",
       "      <td>2018-09-21</td>\n",
       "      <td>14</td>\n",
       "      <td>1000</td>\n",
       "      <td>September</td>\n",
       "    </tr>\n",
       "    <tr>\n",
       "      <th>4</th>\n",
       "      <td>1000_4</td>\n",
       "      <td>2018-12-15</td>\n",
       "      <td>6</td>\n",
       "      <td>1000</td>\n",
       "      <td>December</td>\n",
       "    </tr>\n",
       "  </tbody>\n",
       "</table>\n",
       "</div>"
      ],
      "text/plain": [
       "       id  call_date  duration  user_id      month\n",
       "0  1000_0 2018-07-25         0     1000       July\n",
       "1  1000_1 2018-08-17         0     1000     August\n",
       "2  1000_2 2018-06-11         3     1000       June\n",
       "3  1000_3 2018-09-21        14     1000  September\n",
       "4  1000_4 2018-12-15         6     1000   December"
      ]
     },
     "execution_count": 16,
     "metadata": {},
     "output_type": "execute_result"
    }
   ],
   "source": [
    "# Округлим данные о длительности звонков в большую сторону\n",
    "#calls['duration']=calls['duration'].apply(np.ceil)\n",
    "#calls['duration'] = calls['duration'].astype('int')\n",
    "calls['duration'] = np.ceil(calls['duration']).astype('int')\n",
    "calls.head()"
   ]
  },
  {
   "cell_type": "markdown",
   "metadata": {},
   "source": [
    "<div style=\"border:solid Orange 2px; padding: 40px\">\n",
    "<div class=\"alert alert-warning\">\n",
    "    <h2> Комментарий ревьюера <a class=\"tocSkip\"> </h2>\n",
    "    \n",
    "<font color='Orange'><b>Некоторые рекомендации 💡:</b> </font>        \n",
    "\n",
    "Округление методом np.ceil с помощью apply - не оптимальный способ. np.ceil не нуждается в apply, т.к. может работать сразу со всем столбцом. \n",
    "        \n",
    "`calls['duration'] = np.ceil(calls['duration']).astype('int')`\n",
    "        \n",
    "</div>"
   ]
  },
  {
   "cell_type": "markdown",
   "metadata": {},
   "source": [
    "<div class = \"alert alert-info\" style=\"border-left: 7px solid blue\">\n",
    "<b>Комментарий студента</b>\n",
    "    \n",
    "спасибо, готово✔️\n",
    "    \n",
    "</div>\n"
   ]
  },
  {
   "cell_type": "markdown",
   "metadata": {},
   "source": [
    "<div style=\"border:solid Green 2px; padding: 40px\">\n",
    "<div class=\"alert alert-success\">\n",
    "<h3> Комментарий ревьюера_V2 <a class=\"tocSkip\"> </h3>\n",
    "\n",
    "<font color='green'><b>Все отлично! 👍:</b>  </font>\n",
    "\n",
    "👍\n",
    "    \n",
    "</div>"
   ]
  },
  {
   "cell_type": "code",
   "execution_count": 17,
   "metadata": {},
   "outputs": [
    {
     "name": "stdout",
     "output_type": "stream",
     "text": [
      "0\n"
     ]
    }
   ],
   "source": [
    "# Удалим строки с нулевыми значениями\n",
    "calls['duration']=calls['duration'].replace(0,np.NaN)\n",
    "calls= calls.dropna()\n",
    "print(len(calls.query('duration==0'))) #проверка на отсутствие нулевых значений"
   ]
  },
  {
   "cell_type": "code",
   "execution_count": 18,
   "metadata": {},
   "outputs": [
    {
     "data": {
      "text/html": [
       "<div>\n",
       "<style scoped>\n",
       "    .dataframe tbody tr th:only-of-type {\n",
       "        vertical-align: middle;\n",
       "    }\n",
       "\n",
       "    .dataframe tbody tr th {\n",
       "        vertical-align: top;\n",
       "    }\n",
       "\n",
       "    .dataframe thead th {\n",
       "        text-align: right;\n",
       "    }\n",
       "</style>\n",
       "<table border=\"1\" class=\"dataframe\">\n",
       "  <thead>\n",
       "    <tr style=\"text-align: right;\">\n",
       "      <th></th>\n",
       "      <th>id</th>\n",
       "      <th>message_date</th>\n",
       "      <th>user_id</th>\n",
       "      <th>month</th>\n",
       "    </tr>\n",
       "  </thead>\n",
       "  <tbody>\n",
       "    <tr>\n",
       "      <th>0</th>\n",
       "      <td>1000_0</td>\n",
       "      <td>2018-06-27</td>\n",
       "      <td>1000</td>\n",
       "      <td>June</td>\n",
       "    </tr>\n",
       "    <tr>\n",
       "      <th>1</th>\n",
       "      <td>1000_1</td>\n",
       "      <td>2018-10-08</td>\n",
       "      <td>1000</td>\n",
       "      <td>October</td>\n",
       "    </tr>\n",
       "    <tr>\n",
       "      <th>2</th>\n",
       "      <td>1000_2</td>\n",
       "      <td>2018-08-04</td>\n",
       "      <td>1000</td>\n",
       "      <td>August</td>\n",
       "    </tr>\n",
       "    <tr>\n",
       "      <th>3</th>\n",
       "      <td>1000_3</td>\n",
       "      <td>2018-06-16</td>\n",
       "      <td>1000</td>\n",
       "      <td>June</td>\n",
       "    </tr>\n",
       "    <tr>\n",
       "      <th>4</th>\n",
       "      <td>1000_4</td>\n",
       "      <td>2018-12-05</td>\n",
       "      <td>1000</td>\n",
       "      <td>December</td>\n",
       "    </tr>\n",
       "  </tbody>\n",
       "</table>\n",
       "</div>"
      ],
      "text/plain": [
       "       id message_date  user_id     month\n",
       "0  1000_0   2018-06-27     1000      June\n",
       "1  1000_1   2018-10-08     1000   October\n",
       "2  1000_2   2018-08-04     1000    August\n",
       "3  1000_3   2018-06-16     1000      June\n",
       "4  1000_4   2018-12-05     1000  December"
      ]
     },
     "execution_count": 18,
     "metadata": {},
     "output_type": "execute_result"
    }
   ],
   "source": [
    "# Таблица messages\n",
    "# Переведем формат даты и добавим колонку месяца\n",
    "messages['message_date']= pd.to_datetime(messages['message_date'], format ='%Y-%m-%d')\n",
    "messages['month'] = messages['message_date'].dt.month_name()\n",
    "messages.head()"
   ]
  },
  {
   "cell_type": "code",
   "execution_count": 19,
   "metadata": {},
   "outputs": [
    {
     "data": {
      "text/html": [
       "<div>\n",
       "<style scoped>\n",
       "    .dataframe tbody tr th:only-of-type {\n",
       "        vertical-align: middle;\n",
       "    }\n",
       "\n",
       "    .dataframe tbody tr th {\n",
       "        vertical-align: top;\n",
       "    }\n",
       "\n",
       "    .dataframe thead th {\n",
       "        text-align: right;\n",
       "    }\n",
       "</style>\n",
       "<table border=\"1\" class=\"dataframe\">\n",
       "  <thead>\n",
       "    <tr style=\"text-align: right;\">\n",
       "      <th></th>\n",
       "      <th>id</th>\n",
       "      <th>mb_used</th>\n",
       "      <th>session_date</th>\n",
       "      <th>user_id</th>\n",
       "      <th>month</th>\n",
       "    </tr>\n",
       "  </thead>\n",
       "  <tbody>\n",
       "    <tr>\n",
       "      <th>0</th>\n",
       "      <td>1000_0</td>\n",
       "      <td>112.95</td>\n",
       "      <td>2018-11-25</td>\n",
       "      <td>1000</td>\n",
       "      <td>November</td>\n",
       "    </tr>\n",
       "    <tr>\n",
       "      <th>1</th>\n",
       "      <td>1000_1</td>\n",
       "      <td>1,052.81</td>\n",
       "      <td>2018-09-07</td>\n",
       "      <td>1000</td>\n",
       "      <td>September</td>\n",
       "    </tr>\n",
       "    <tr>\n",
       "      <th>2</th>\n",
       "      <td>1000_2</td>\n",
       "      <td>1,197.26</td>\n",
       "      <td>2018-06-25</td>\n",
       "      <td>1000</td>\n",
       "      <td>June</td>\n",
       "    </tr>\n",
       "    <tr>\n",
       "      <th>3</th>\n",
       "      <td>1000_3</td>\n",
       "      <td>550.27</td>\n",
       "      <td>2018-08-22</td>\n",
       "      <td>1000</td>\n",
       "      <td>August</td>\n",
       "    </tr>\n",
       "    <tr>\n",
       "      <th>4</th>\n",
       "      <td>1000_4</td>\n",
       "      <td>302.56</td>\n",
       "      <td>2018-09-24</td>\n",
       "      <td>1000</td>\n",
       "      <td>September</td>\n",
       "    </tr>\n",
       "  </tbody>\n",
       "</table>\n",
       "</div>"
      ],
      "text/plain": [
       "       id  mb_used session_date  user_id      month\n",
       "0  1000_0   112.95   2018-11-25     1000   November\n",
       "1  1000_1 1,052.81   2018-09-07     1000  September\n",
       "2  1000_2 1,197.26   2018-06-25     1000       June\n",
       "3  1000_3   550.27   2018-08-22     1000     August\n",
       "4  1000_4   302.56   2018-09-24     1000  September"
      ]
     },
     "execution_count": 19,
     "metadata": {},
     "output_type": "execute_result"
    }
   ],
   "source": [
    "# Таблица internet\n",
    "# Переведем формат даты и добавим колонку месяца\n",
    "internet['session_date']= pd.to_datetime(internet['session_date'], format ='%Y-%m-%d')\n",
    "internet['month'] = internet['session_date'].dt.month_name()\n",
    "internet.head()"
   ]
  },
  {
   "cell_type": "code",
   "execution_count": 20,
   "metadata": {
    "scrolled": true
   },
   "outputs": [
    {
     "data": {
      "text/html": [
       "<div>\n",
       "<style scoped>\n",
       "    .dataframe tbody tr th:only-of-type {\n",
       "        vertical-align: middle;\n",
       "    }\n",
       "\n",
       "    .dataframe tbody tr th {\n",
       "        vertical-align: top;\n",
       "    }\n",
       "\n",
       "    .dataframe thead th {\n",
       "        text-align: right;\n",
       "    }\n",
       "</style>\n",
       "<table border=\"1\" class=\"dataframe\">\n",
       "  <thead>\n",
       "    <tr style=\"text-align: right;\">\n",
       "      <th></th>\n",
       "      <th>id</th>\n",
       "      <th>mb_used</th>\n",
       "      <th>session_date</th>\n",
       "      <th>user_id</th>\n",
       "      <th>month</th>\n",
       "    </tr>\n",
       "  </thead>\n",
       "  <tbody>\n",
       "    <tr>\n",
       "      <th>0</th>\n",
       "      <td>1000_0</td>\n",
       "      <td>112.95</td>\n",
       "      <td>2018-11-25</td>\n",
       "      <td>1000</td>\n",
       "      <td>November</td>\n",
       "    </tr>\n",
       "    <tr>\n",
       "      <th>1</th>\n",
       "      <td>1000_1</td>\n",
       "      <td>1,052.81</td>\n",
       "      <td>2018-09-07</td>\n",
       "      <td>1000</td>\n",
       "      <td>September</td>\n",
       "    </tr>\n",
       "    <tr>\n",
       "      <th>2</th>\n",
       "      <td>1000_2</td>\n",
       "      <td>1,197.26</td>\n",
       "      <td>2018-06-25</td>\n",
       "      <td>1000</td>\n",
       "      <td>June</td>\n",
       "    </tr>\n",
       "    <tr>\n",
       "      <th>3</th>\n",
       "      <td>1000_3</td>\n",
       "      <td>550.27</td>\n",
       "      <td>2018-08-22</td>\n",
       "      <td>1000</td>\n",
       "      <td>August</td>\n",
       "    </tr>\n",
       "    <tr>\n",
       "      <th>4</th>\n",
       "      <td>1000_4</td>\n",
       "      <td>302.56</td>\n",
       "      <td>2018-09-24</td>\n",
       "      <td>1000</td>\n",
       "      <td>September</td>\n",
       "    </tr>\n",
       "  </tbody>\n",
       "</table>\n",
       "</div>"
      ],
      "text/plain": [
       "       id  mb_used session_date  user_id      month\n",
       "0  1000_0   112.95   2018-11-25     1000   November\n",
       "1  1000_1 1,052.81   2018-09-07     1000  September\n",
       "2  1000_2 1,197.26   2018-06-25     1000       June\n",
       "3  1000_3   550.27   2018-08-22     1000     August\n",
       "4  1000_4   302.56   2018-09-24     1000  September"
      ]
     },
     "execution_count": 20,
     "metadata": {},
     "output_type": "execute_result"
    }
   ],
   "source": [
    "# Округлим данные о трафике в большую сторону\n",
    "#internet['mb_used'] = internet['mb_used'].apply(np.ceil)\n",
    "#internet['mb_used'] = internet['mb_used'].astype('int')\n",
    "internet.head()"
   ]
  },
  {
   "cell_type": "markdown",
   "metadata": {},
   "source": [
    "<div style=\"border:solid Red 2px; padding: 40px\">\n",
    "    <div class=\"alert alert-block alert-danger\">\n",
    "<h2> Комментарий ревьюера <a class=\"tocSkip\"></h2>\n",
    "\n",
    "<font color='red'><b>На доработку ❌:</b>  </font>\n",
    "    \n",
    "В задании сказано, что месячный трафик округляем до Гб, а не каждое-интернет соединение. Стоит округление делать в сводной таблице в уже сгруппированных данных по месяцам    \n",
    "    \n",
    "</div> "
   ]
  },
  {
   "cell_type": "markdown",
   "metadata": {},
   "source": [
    "<div class = \"alert alert-info\" style=\"border-left: 7px solid blue\">\n",
    "<b>Комментарий студента</b>\n",
    "  \n",
    "хорошо, сделаю ниже\n",
    "    \n",
    "    \n",
    "</div>\n",
    "\n"
   ]
  },
  {
   "cell_type": "markdown",
   "metadata": {},
   "source": [
    "<div style=\"border:solid Green 2px; padding: 40px\">\n",
    "<div class=\"alert alert-success\">\n",
    "<h3> Комментарий ревьюера_V2 <a class=\"tocSkip\"> </h3>\n",
    "\n",
    "<font color='green'><b>Все отлично! 👍:</b>  </font>\n",
    "\n",
    "Отлично\n",
    "    \n",
    "</div>"
   ]
  },
  {
   "cell_type": "code",
   "execution_count": 21,
   "metadata": {},
   "outputs": [
    {
     "name": "stdout",
     "output_type": "stream",
     "text": [
      "0\n"
     ]
    }
   ],
   "source": [
    "# Удалим строки с нулевыми значениями\n",
    "internet['mb_used']=internet['mb_used'].replace(0,np.NaN)\n",
    "internet= internet.dropna()\n",
    "print(len(internet.query('mb_used==0'))) #проверка на отсутствие нулевых значений"
   ]
  },
  {
   "cell_type": "code",
   "execution_count": 22,
   "metadata": {},
   "outputs": [
    {
     "name": "stdout",
     "output_type": "stream",
     "text": [
      "<class 'pandas.core.frame.DataFrame'>\n",
      "RangeIndex: 500 entries, 0 to 499\n",
      "Data columns (total 8 columns):\n",
      " #   Column      Non-Null Count  Dtype         \n",
      "---  ------      --------------  -----         \n",
      " 0   user_id     500 non-null    int64         \n",
      " 1   age         500 non-null    int64         \n",
      " 2   churn_date  38 non-null     datetime64[ns]\n",
      " 3   city        500 non-null    object        \n",
      " 4   first_name  500 non-null    object        \n",
      " 5   last_name   500 non-null    object        \n",
      " 6   reg_date    500 non-null    datetime64[ns]\n",
      " 7   tariff      500 non-null    object        \n",
      "dtypes: datetime64[ns](2), int64(2), object(4)\n",
      "memory usage: 31.4+ KB\n"
     ]
    }
   ],
   "source": [
    "# Таблица users\n",
    "# Переведем формат даты\n",
    "users['reg_date']= pd.to_datetime(users['reg_date'], format ='%Y-%m-%d')\n",
    "users['churn_date']= pd.to_datetime(users['churn_date'], format ='%Y-%m-%d')\n",
    "users.info()"
   ]
  },
  {
   "cell_type": "code",
   "execution_count": 23,
   "metadata": {},
   "outputs": [
    {
     "data": {
      "text/html": [
       "<div>\n",
       "<style scoped>\n",
       "    .dataframe tbody tr th:only-of-type {\n",
       "        vertical-align: middle;\n",
       "    }\n",
       "\n",
       "    .dataframe tbody tr th {\n",
       "        vertical-align: top;\n",
       "    }\n",
       "\n",
       "    .dataframe thead th {\n",
       "        text-align: right;\n",
       "    }\n",
       "</style>\n",
       "<table border=\"1\" class=\"dataframe\">\n",
       "  <thead>\n",
       "    <tr style=\"text-align: right;\">\n",
       "      <th></th>\n",
       "      <th>messages_included</th>\n",
       "      <th>mb_per_month_included</th>\n",
       "      <th>minutes_included</th>\n",
       "      <th>rub_monthly_fee</th>\n",
       "      <th>rub_per_gb</th>\n",
       "      <th>rub_per_message</th>\n",
       "      <th>rub_per_minute</th>\n",
       "      <th>tariff_name</th>\n",
       "    </tr>\n",
       "  </thead>\n",
       "  <tbody>\n",
       "    <tr>\n",
       "      <th>0</th>\n",
       "      <td>50</td>\n",
       "      <td>15360</td>\n",
       "      <td>500</td>\n",
       "      <td>550</td>\n",
       "      <td>200</td>\n",
       "      <td>3</td>\n",
       "      <td>3</td>\n",
       "      <td>smart</td>\n",
       "    </tr>\n",
       "    <tr>\n",
       "      <th>1</th>\n",
       "      <td>1000</td>\n",
       "      <td>30720</td>\n",
       "      <td>3000</td>\n",
       "      <td>1950</td>\n",
       "      <td>150</td>\n",
       "      <td>1</td>\n",
       "      <td>1</td>\n",
       "      <td>ultra</td>\n",
       "    </tr>\n",
       "  </tbody>\n",
       "</table>\n",
       "</div>"
      ],
      "text/plain": [
       "   messages_included  mb_per_month_included  minutes_included  \\\n",
       "0                 50                  15360               500   \n",
       "1               1000                  30720              3000   \n",
       "\n",
       "   rub_monthly_fee  rub_per_gb  rub_per_message  rub_per_minute tariff_name  \n",
       "0              550         200                3               3       smart  \n",
       "1             1950         150                1               1       ultra  "
      ]
     },
     "execution_count": 23,
     "metadata": {},
     "output_type": "execute_result"
    }
   ],
   "source": [
    "# Таблица tariffs\n",
    "# Проверим заголовки в таблице\n",
    "\n",
    "tariffs.head()"
   ]
  },
  {
   "cell_type": "markdown",
   "metadata": {},
   "source": [
    "Колонка с названием тарифа называется tariff_name, а в таблице users эта колонка называется tariff Для того чтобы их можно было объединить, приведем их к одному названию tariff"
   ]
  },
  {
   "cell_type": "code",
   "execution_count": 24,
   "metadata": {},
   "outputs": [
    {
     "data": {
      "text/html": [
       "<div>\n",
       "<style scoped>\n",
       "    .dataframe tbody tr th:only-of-type {\n",
       "        vertical-align: middle;\n",
       "    }\n",
       "\n",
       "    .dataframe tbody tr th {\n",
       "        vertical-align: top;\n",
       "    }\n",
       "\n",
       "    .dataframe thead th {\n",
       "        text-align: right;\n",
       "    }\n",
       "</style>\n",
       "<table border=\"1\" class=\"dataframe\">\n",
       "  <thead>\n",
       "    <tr style=\"text-align: right;\">\n",
       "      <th></th>\n",
       "      <th>messages_included</th>\n",
       "      <th>mb_per_month_included</th>\n",
       "      <th>minutes_included</th>\n",
       "      <th>rub_monthly_fee</th>\n",
       "      <th>rub_per_gb</th>\n",
       "      <th>rub_per_message</th>\n",
       "      <th>rub_per_minute</th>\n",
       "      <th>tariff</th>\n",
       "    </tr>\n",
       "  </thead>\n",
       "  <tbody>\n",
       "    <tr>\n",
       "      <th>0</th>\n",
       "      <td>50</td>\n",
       "      <td>15360</td>\n",
       "      <td>500</td>\n",
       "      <td>550</td>\n",
       "      <td>200</td>\n",
       "      <td>3</td>\n",
       "      <td>3</td>\n",
       "      <td>smart</td>\n",
       "    </tr>\n",
       "    <tr>\n",
       "      <th>1</th>\n",
       "      <td>1000</td>\n",
       "      <td>30720</td>\n",
       "      <td>3000</td>\n",
       "      <td>1950</td>\n",
       "      <td>150</td>\n",
       "      <td>1</td>\n",
       "      <td>1</td>\n",
       "      <td>ultra</td>\n",
       "    </tr>\n",
       "  </tbody>\n",
       "</table>\n",
       "</div>"
      ],
      "text/plain": [
       "   messages_included  mb_per_month_included  minutes_included  \\\n",
       "0                 50                  15360               500   \n",
       "1               1000                  30720              3000   \n",
       "\n",
       "   rub_monthly_fee  rub_per_gb  rub_per_message  rub_per_minute tariff  \n",
       "0              550         200                3               3  smart  \n",
       "1             1950         150                1               1  ultra  "
      ]
     },
     "execution_count": 24,
     "metadata": {},
     "output_type": "execute_result"
    }
   ],
   "source": [
    "tariffs.rename(columns=lambda x: x.replace('tariff_name', 'tariff'), inplace = True)\n",
    "tariffs.head()"
   ]
  },
  {
   "cell_type": "markdown",
   "metadata": {},
   "source": [
    "### Посчитаем для каждого пользователя:\n",
    "\n",
    "+ количество сделанных звонков и израсходованных минут разговора по месяцам;\n",
    "+ количество отправленных сообщений по месяцам;\n",
    "+ объем израсходованного интернет-трафика по месяцам;"
   ]
  },
  {
   "cell_type": "code",
   "execution_count": 25,
   "metadata": {},
   "outputs": [
    {
     "data": {
      "text/html": [
       "<div>\n",
       "<style scoped>\n",
       "    .dataframe tbody tr th:only-of-type {\n",
       "        vertical-align: middle;\n",
       "    }\n",
       "\n",
       "    .dataframe tbody tr th {\n",
       "        vertical-align: top;\n",
       "    }\n",
       "\n",
       "    .dataframe thead th {\n",
       "        text-align: right;\n",
       "    }\n",
       "</style>\n",
       "<table border=\"1\" class=\"dataframe\">\n",
       "  <thead>\n",
       "    <tr style=\"text-align: right;\">\n",
       "      <th></th>\n",
       "      <th>id</th>\n",
       "      <th>call_date</th>\n",
       "      <th>duration</th>\n",
       "      <th>user_id</th>\n",
       "      <th>month</th>\n",
       "    </tr>\n",
       "  </thead>\n",
       "  <tbody>\n",
       "    <tr>\n",
       "      <th>2</th>\n",
       "      <td>1000_2</td>\n",
       "      <td>2018-06-11</td>\n",
       "      <td>3.00</td>\n",
       "      <td>1000</td>\n",
       "      <td>June</td>\n",
       "    </tr>\n",
       "    <tr>\n",
       "      <th>3</th>\n",
       "      <td>1000_3</td>\n",
       "      <td>2018-09-21</td>\n",
       "      <td>14.00</td>\n",
       "      <td>1000</td>\n",
       "      <td>September</td>\n",
       "    </tr>\n",
       "    <tr>\n",
       "      <th>4</th>\n",
       "      <td>1000_4</td>\n",
       "      <td>2018-12-15</td>\n",
       "      <td>6.00</td>\n",
       "      <td>1000</td>\n",
       "      <td>December</td>\n",
       "    </tr>\n",
       "    <tr>\n",
       "      <th>7</th>\n",
       "      <td>1000_7</td>\n",
       "      <td>2018-08-22</td>\n",
       "      <td>19.00</td>\n",
       "      <td>1000</td>\n",
       "      <td>August</td>\n",
       "    </tr>\n",
       "    <tr>\n",
       "      <th>8</th>\n",
       "      <td>1000_8</td>\n",
       "      <td>2018-09-15</td>\n",
       "      <td>19.00</td>\n",
       "      <td>1000</td>\n",
       "      <td>September</td>\n",
       "    </tr>\n",
       "  </tbody>\n",
       "</table>\n",
       "</div>"
      ],
      "text/plain": [
       "       id  call_date  duration  user_id      month\n",
       "2  1000_2 2018-06-11      3.00     1000       June\n",
       "3  1000_3 2018-09-21     14.00     1000  September\n",
       "4  1000_4 2018-12-15      6.00     1000   December\n",
       "7  1000_7 2018-08-22     19.00     1000     August\n",
       "8  1000_8 2018-09-15     19.00     1000  September"
      ]
     },
     "execution_count": 25,
     "metadata": {},
     "output_type": "execute_result"
    }
   ],
   "source": [
    "# Количество сделанных звонков и израсходованных минут разговора по месяцам\n",
    "calls.head()"
   ]
  },
  {
   "cell_type": "code",
   "execution_count": 26,
   "metadata": {},
   "outputs": [],
   "source": [
    "user_calls = calls.groupby(['user_id', 'month'])\\\n",
    "                  .agg({'duration':'sum', 'id':'count'})\\\n",
    "                  .reset_index()\\\n",
    "\n",
    "user_calls.columns=['user_id', 'month', 'month_calls_duration', 'calls_total_in_month']"
   ]
  },
  {
   "cell_type": "code",
   "execution_count": 27,
   "metadata": {},
   "outputs": [
    {
     "data": {
      "text/html": [
       "<div>\n",
       "<style scoped>\n",
       "    .dataframe tbody tr th:only-of-type {\n",
       "        vertical-align: middle;\n",
       "    }\n",
       "\n",
       "    .dataframe tbody tr th {\n",
       "        vertical-align: top;\n",
       "    }\n",
       "\n",
       "    .dataframe thead th {\n",
       "        text-align: right;\n",
       "    }\n",
       "</style>\n",
       "<table border=\"1\" class=\"dataframe\">\n",
       "  <thead>\n",
       "    <tr style=\"text-align: right;\">\n",
       "      <th></th>\n",
       "      <th>user_id</th>\n",
       "      <th>month</th>\n",
       "      <th>month_calls_duration</th>\n",
       "      <th>calls_total_in_month</th>\n",
       "    </tr>\n",
       "  </thead>\n",
       "  <tbody>\n",
       "    <tr>\n",
       "      <th>0</th>\n",
       "      <td>1000</td>\n",
       "      <td>August</td>\n",
       "      <td>408.00</td>\n",
       "      <td>42</td>\n",
       "    </tr>\n",
       "    <tr>\n",
       "      <th>1</th>\n",
       "      <td>1000</td>\n",
       "      <td>December</td>\n",
       "      <td>333.00</td>\n",
       "      <td>38</td>\n",
       "    </tr>\n",
       "    <tr>\n",
       "      <th>2</th>\n",
       "      <td>1000</td>\n",
       "      <td>July</td>\n",
       "      <td>340.00</td>\n",
       "      <td>41</td>\n",
       "    </tr>\n",
       "    <tr>\n",
       "      <th>3</th>\n",
       "      <td>1000</td>\n",
       "      <td>June</td>\n",
       "      <td>172.00</td>\n",
       "      <td>28</td>\n",
       "    </tr>\n",
       "    <tr>\n",
       "      <th>4</th>\n",
       "      <td>1000</td>\n",
       "      <td>May</td>\n",
       "      <td>159.00</td>\n",
       "      <td>17</td>\n",
       "    </tr>\n",
       "  </tbody>\n",
       "</table>\n",
       "</div>"
      ],
      "text/plain": [
       "   user_id     month  month_calls_duration  calls_total_in_month\n",
       "0     1000    August                408.00                    42\n",
       "1     1000  December                333.00                    38\n",
       "2     1000      July                340.00                    41\n",
       "3     1000      June                172.00                    28\n",
       "4     1000       May                159.00                    17"
      ]
     },
     "execution_count": 27,
     "metadata": {},
     "output_type": "execute_result"
    }
   ],
   "source": [
    "user_calls.head()"
   ]
  },
  {
   "cell_type": "code",
   "execution_count": 28,
   "metadata": {
    "scrolled": true
   },
   "outputs": [
    {
     "data": {
      "text/html": [
       "<div>\n",
       "<style scoped>\n",
       "    .dataframe tbody tr th:only-of-type {\n",
       "        vertical-align: middle;\n",
       "    }\n",
       "\n",
       "    .dataframe tbody tr th {\n",
       "        vertical-align: top;\n",
       "    }\n",
       "\n",
       "    .dataframe thead th {\n",
       "        text-align: right;\n",
       "    }\n",
       "</style>\n",
       "<table border=\"1\" class=\"dataframe\">\n",
       "  <thead>\n",
       "    <tr style=\"text-align: right;\">\n",
       "      <th></th>\n",
       "      <th>id</th>\n",
       "      <th>message_date</th>\n",
       "      <th>user_id</th>\n",
       "      <th>month</th>\n",
       "    </tr>\n",
       "  </thead>\n",
       "  <tbody>\n",
       "    <tr>\n",
       "      <th>0</th>\n",
       "      <td>1000_0</td>\n",
       "      <td>2018-06-27</td>\n",
       "      <td>1000</td>\n",
       "      <td>June</td>\n",
       "    </tr>\n",
       "    <tr>\n",
       "      <th>1</th>\n",
       "      <td>1000_1</td>\n",
       "      <td>2018-10-08</td>\n",
       "      <td>1000</td>\n",
       "      <td>October</td>\n",
       "    </tr>\n",
       "    <tr>\n",
       "      <th>2</th>\n",
       "      <td>1000_2</td>\n",
       "      <td>2018-08-04</td>\n",
       "      <td>1000</td>\n",
       "      <td>August</td>\n",
       "    </tr>\n",
       "    <tr>\n",
       "      <th>3</th>\n",
       "      <td>1000_3</td>\n",
       "      <td>2018-06-16</td>\n",
       "      <td>1000</td>\n",
       "      <td>June</td>\n",
       "    </tr>\n",
       "    <tr>\n",
       "      <th>4</th>\n",
       "      <td>1000_4</td>\n",
       "      <td>2018-12-05</td>\n",
       "      <td>1000</td>\n",
       "      <td>December</td>\n",
       "    </tr>\n",
       "  </tbody>\n",
       "</table>\n",
       "</div>"
      ],
      "text/plain": [
       "       id message_date  user_id     month\n",
       "0  1000_0   2018-06-27     1000      June\n",
       "1  1000_1   2018-10-08     1000   October\n",
       "2  1000_2   2018-08-04     1000    August\n",
       "3  1000_3   2018-06-16     1000      June\n",
       "4  1000_4   2018-12-05     1000  December"
      ]
     },
     "execution_count": 28,
     "metadata": {},
     "output_type": "execute_result"
    }
   ],
   "source": [
    "# Количество отправленных сообщений по месяцам\n",
    "messages.head()"
   ]
  },
  {
   "cell_type": "code",
   "execution_count": 29,
   "metadata": {},
   "outputs": [],
   "source": [
    "user_messages = messages.groupby(['user_id', 'month'])\\\n",
    "                        .agg({'id':'count'})\\\n",
    "                        .reset_index()\\\n",
    "                        .rename(columns={'id':'sms_total_in_month'})"
   ]
  },
  {
   "cell_type": "code",
   "execution_count": 30,
   "metadata": {},
   "outputs": [
    {
     "data": {
      "text/html": [
       "<div>\n",
       "<style scoped>\n",
       "    .dataframe tbody tr th:only-of-type {\n",
       "        vertical-align: middle;\n",
       "    }\n",
       "\n",
       "    .dataframe tbody tr th {\n",
       "        vertical-align: top;\n",
       "    }\n",
       "\n",
       "    .dataframe thead th {\n",
       "        text-align: right;\n",
       "    }\n",
       "</style>\n",
       "<table border=\"1\" class=\"dataframe\">\n",
       "  <thead>\n",
       "    <tr style=\"text-align: right;\">\n",
       "      <th></th>\n",
       "      <th>user_id</th>\n",
       "      <th>month</th>\n",
       "      <th>sms_total_in_month</th>\n",
       "    </tr>\n",
       "  </thead>\n",
       "  <tbody>\n",
       "    <tr>\n",
       "      <th>0</th>\n",
       "      <td>1000</td>\n",
       "      <td>August</td>\n",
       "      <td>81</td>\n",
       "    </tr>\n",
       "    <tr>\n",
       "      <th>1</th>\n",
       "      <td>1000</td>\n",
       "      <td>December</td>\n",
       "      <td>70</td>\n",
       "    </tr>\n",
       "    <tr>\n",
       "      <th>2</th>\n",
       "      <td>1000</td>\n",
       "      <td>July</td>\n",
       "      <td>75</td>\n",
       "    </tr>\n",
       "    <tr>\n",
       "      <th>3</th>\n",
       "      <td>1000</td>\n",
       "      <td>June</td>\n",
       "      <td>60</td>\n",
       "    </tr>\n",
       "    <tr>\n",
       "      <th>4</th>\n",
       "      <td>1000</td>\n",
       "      <td>May</td>\n",
       "      <td>22</td>\n",
       "    </tr>\n",
       "  </tbody>\n",
       "</table>\n",
       "</div>"
      ],
      "text/plain": [
       "   user_id     month  sms_total_in_month\n",
       "0     1000    August                  81\n",
       "1     1000  December                  70\n",
       "2     1000      July                  75\n",
       "3     1000      June                  60\n",
       "4     1000       May                  22"
      ]
     },
     "execution_count": 30,
     "metadata": {},
     "output_type": "execute_result"
    }
   ],
   "source": [
    "user_messages.head()"
   ]
  },
  {
   "cell_type": "code",
   "execution_count": 31,
   "metadata": {},
   "outputs": [
    {
     "data": {
      "text/html": [
       "<div>\n",
       "<style scoped>\n",
       "    .dataframe tbody tr th:only-of-type {\n",
       "        vertical-align: middle;\n",
       "    }\n",
       "\n",
       "    .dataframe tbody tr th {\n",
       "        vertical-align: top;\n",
       "    }\n",
       "\n",
       "    .dataframe thead th {\n",
       "        text-align: right;\n",
       "    }\n",
       "</style>\n",
       "<table border=\"1\" class=\"dataframe\">\n",
       "  <thead>\n",
       "    <tr style=\"text-align: right;\">\n",
       "      <th></th>\n",
       "      <th>id</th>\n",
       "      <th>mb_used</th>\n",
       "      <th>session_date</th>\n",
       "      <th>user_id</th>\n",
       "      <th>month</th>\n",
       "    </tr>\n",
       "  </thead>\n",
       "  <tbody>\n",
       "    <tr>\n",
       "      <th>0</th>\n",
       "      <td>1000_0</td>\n",
       "      <td>112.95</td>\n",
       "      <td>2018-11-25</td>\n",
       "      <td>1000</td>\n",
       "      <td>November</td>\n",
       "    </tr>\n",
       "    <tr>\n",
       "      <th>1</th>\n",
       "      <td>1000_1</td>\n",
       "      <td>1,052.81</td>\n",
       "      <td>2018-09-07</td>\n",
       "      <td>1000</td>\n",
       "      <td>September</td>\n",
       "    </tr>\n",
       "    <tr>\n",
       "      <th>2</th>\n",
       "      <td>1000_2</td>\n",
       "      <td>1,197.26</td>\n",
       "      <td>2018-06-25</td>\n",
       "      <td>1000</td>\n",
       "      <td>June</td>\n",
       "    </tr>\n",
       "    <tr>\n",
       "      <th>3</th>\n",
       "      <td>1000_3</td>\n",
       "      <td>550.27</td>\n",
       "      <td>2018-08-22</td>\n",
       "      <td>1000</td>\n",
       "      <td>August</td>\n",
       "    </tr>\n",
       "    <tr>\n",
       "      <th>4</th>\n",
       "      <td>1000_4</td>\n",
       "      <td>302.56</td>\n",
       "      <td>2018-09-24</td>\n",
       "      <td>1000</td>\n",
       "      <td>September</td>\n",
       "    </tr>\n",
       "  </tbody>\n",
       "</table>\n",
       "</div>"
      ],
      "text/plain": [
       "       id  mb_used session_date  user_id      month\n",
       "0  1000_0   112.95   2018-11-25     1000   November\n",
       "1  1000_1 1,052.81   2018-09-07     1000  September\n",
       "2  1000_2 1,197.26   2018-06-25     1000       June\n",
       "3  1000_3   550.27   2018-08-22     1000     August\n",
       "4  1000_4   302.56   2018-09-24     1000  September"
      ]
     },
     "execution_count": 31,
     "metadata": {},
     "output_type": "execute_result"
    }
   ],
   "source": [
    "# Объем израсходованного интернет-трафика по месяцам\n",
    "internet.head()"
   ]
  },
  {
   "cell_type": "code",
   "execution_count": 32,
   "metadata": {},
   "outputs": [],
   "source": [
    "user_internet = internet.groupby(['user_id', 'month'])\\\n",
    "                        .agg({'mb_used':'sum'})\\\n",
    "                        .reset_index()\\\n",
    "                        .rename(columns={'mb_used':'mb_total_in_month'})"
   ]
  },
  {
   "cell_type": "code",
   "execution_count": 33,
   "metadata": {
    "scrolled": true
   },
   "outputs": [
    {
     "data": {
      "text/html": [
       "<div>\n",
       "<style scoped>\n",
       "    .dataframe tbody tr th:only-of-type {\n",
       "        vertical-align: middle;\n",
       "    }\n",
       "\n",
       "    .dataframe tbody tr th {\n",
       "        vertical-align: top;\n",
       "    }\n",
       "\n",
       "    .dataframe thead th {\n",
       "        text-align: right;\n",
       "    }\n",
       "</style>\n",
       "<table border=\"1\" class=\"dataframe\">\n",
       "  <thead>\n",
       "    <tr style=\"text-align: right;\">\n",
       "      <th></th>\n",
       "      <th>user_id</th>\n",
       "      <th>month</th>\n",
       "      <th>mb_total_in_month</th>\n",
       "    </tr>\n",
       "  </thead>\n",
       "  <tbody>\n",
       "    <tr>\n",
       "      <th>0</th>\n",
       "      <td>1000</td>\n",
       "      <td>August</td>\n",
       "      <td>14,055.93</td>\n",
       "    </tr>\n",
       "    <tr>\n",
       "      <th>1</th>\n",
       "      <td>1000</td>\n",
       "      <td>December</td>\n",
       "      <td>9,817.61</td>\n",
       "    </tr>\n",
       "    <tr>\n",
       "      <th>2</th>\n",
       "      <td>1000</td>\n",
       "      <td>July</td>\n",
       "      <td>14,003.64</td>\n",
       "    </tr>\n",
       "    <tr>\n",
       "      <th>3</th>\n",
       "      <td>1000</td>\n",
       "      <td>June</td>\n",
       "      <td>23,233.77</td>\n",
       "    </tr>\n",
       "    <tr>\n",
       "      <th>4</th>\n",
       "      <td>1000</td>\n",
       "      <td>May</td>\n",
       "      <td>2,253.49</td>\n",
       "    </tr>\n",
       "  </tbody>\n",
       "</table>\n",
       "</div>"
      ],
      "text/plain": [
       "   user_id     month  mb_total_in_month\n",
       "0     1000    August          14,055.93\n",
       "1     1000  December           9,817.61\n",
       "2     1000      July          14,003.64\n",
       "3     1000      June          23,233.77\n",
       "4     1000       May           2,253.49"
      ]
     },
     "execution_count": 33,
     "metadata": {},
     "output_type": "execute_result"
    }
   ],
   "source": [
    "user_internet.head()"
   ]
  },
  {
   "cell_type": "markdown",
   "metadata": {},
   "source": [
    "<div style=\"border:solid Green 2px; padding: 40px\">\n",
    "<div class=\"alert alert-success\">\n",
    "<h2> Комментарий ревьюера <a class=\"tocSkip\"> </h2>\n",
    "\n",
    "<font color='green'><b>Все отлично! 👍:</b>  </font>\n",
    "\n",
    "Хорошие сводные таблицы, довольно оптимальный способ отображения информации.\n",
    "    \n",
    "</div>"
   ]
  },
  {
   "cell_type": "markdown",
   "metadata": {},
   "source": [
    "### Месячная выручка с каждого пользователя"
   ]
  },
  {
   "cell_type": "code",
   "execution_count": 34,
   "metadata": {},
   "outputs": [
    {
     "data": {
      "text/html": [
       "<div>\n",
       "<style scoped>\n",
       "    .dataframe tbody tr th:only-of-type {\n",
       "        vertical-align: middle;\n",
       "    }\n",
       "\n",
       "    .dataframe tbody tr th {\n",
       "        vertical-align: top;\n",
       "    }\n",
       "\n",
       "    .dataframe thead th {\n",
       "        text-align: right;\n",
       "    }\n",
       "</style>\n",
       "<table border=\"1\" class=\"dataframe\">\n",
       "  <thead>\n",
       "    <tr style=\"text-align: right;\">\n",
       "      <th></th>\n",
       "      <th>user_id</th>\n",
       "      <th>month</th>\n",
       "      <th>month_calls_duration</th>\n",
       "      <th>calls_total_in_month</th>\n",
       "      <th>sms_total_in_month</th>\n",
       "    </tr>\n",
       "  </thead>\n",
       "  <tbody>\n",
       "    <tr>\n",
       "      <th>0</th>\n",
       "      <td>1000</td>\n",
       "      <td>August</td>\n",
       "      <td>408.00</td>\n",
       "      <td>42.00</td>\n",
       "      <td>81.00</td>\n",
       "    </tr>\n",
       "    <tr>\n",
       "      <th>1</th>\n",
       "      <td>1000</td>\n",
       "      <td>December</td>\n",
       "      <td>333.00</td>\n",
       "      <td>38.00</td>\n",
       "      <td>70.00</td>\n",
       "    </tr>\n",
       "    <tr>\n",
       "      <th>2</th>\n",
       "      <td>1000</td>\n",
       "      <td>July</td>\n",
       "      <td>340.00</td>\n",
       "      <td>41.00</td>\n",
       "      <td>75.00</td>\n",
       "    </tr>\n",
       "    <tr>\n",
       "      <th>3</th>\n",
       "      <td>1000</td>\n",
       "      <td>June</td>\n",
       "      <td>172.00</td>\n",
       "      <td>28.00</td>\n",
       "      <td>60.00</td>\n",
       "    </tr>\n",
       "    <tr>\n",
       "      <th>4</th>\n",
       "      <td>1000</td>\n",
       "      <td>May</td>\n",
       "      <td>159.00</td>\n",
       "      <td>17.00</td>\n",
       "      <td>22.00</td>\n",
       "    </tr>\n",
       "  </tbody>\n",
       "</table>\n",
       "</div>"
      ],
      "text/plain": [
       "   user_id     month  month_calls_duration  calls_total_in_month  \\\n",
       "0     1000    August                408.00                 42.00   \n",
       "1     1000  December                333.00                 38.00   \n",
       "2     1000      July                340.00                 41.00   \n",
       "3     1000      June                172.00                 28.00   \n",
       "4     1000       May                159.00                 17.00   \n",
       "\n",
       "   sms_total_in_month  \n",
       "0               81.00  \n",
       "1               70.00  \n",
       "2               75.00  \n",
       "3               60.00  \n",
       "4               22.00  "
      ]
     },
     "execution_count": 34,
     "metadata": {},
     "output_type": "execute_result"
    }
   ],
   "source": [
    "# склеим все в одну табличку\n",
    "# Для подсчёта выручки нужно смёрджить три сгруппированные таблички: по звонкам, смс и интернету\n",
    "\n",
    "df = user_calls.merge(user_messages, on=['user_id','month'], how='outer')\n",
    "df.head()"
   ]
  },
  {
   "cell_type": "code",
   "execution_count": 35,
   "metadata": {},
   "outputs": [
    {
     "data": {
      "text/html": [
       "<div>\n",
       "<style scoped>\n",
       "    .dataframe tbody tr th:only-of-type {\n",
       "        vertical-align: middle;\n",
       "    }\n",
       "\n",
       "    .dataframe tbody tr th {\n",
       "        vertical-align: top;\n",
       "    }\n",
       "\n",
       "    .dataframe thead th {\n",
       "        text-align: right;\n",
       "    }\n",
       "</style>\n",
       "<table border=\"1\" class=\"dataframe\">\n",
       "  <thead>\n",
       "    <tr style=\"text-align: right;\">\n",
       "      <th></th>\n",
       "      <th>user_id</th>\n",
       "      <th>month</th>\n",
       "      <th>month_calls_duration</th>\n",
       "      <th>calls_total_in_month</th>\n",
       "      <th>sms_total_in_month</th>\n",
       "      <th>mb_total_in_month</th>\n",
       "    </tr>\n",
       "  </thead>\n",
       "  <tbody>\n",
       "    <tr>\n",
       "      <th>3209</th>\n",
       "      <td>1489</td>\n",
       "      <td>November</td>\n",
       "      <td>NaN</td>\n",
       "      <td>NaN</td>\n",
       "      <td>20.00</td>\n",
       "      <td>17,491.56</td>\n",
       "    </tr>\n",
       "    <tr>\n",
       "      <th>3210</th>\n",
       "      <td>1489</td>\n",
       "      <td>October</td>\n",
       "      <td>NaN</td>\n",
       "      <td>NaN</td>\n",
       "      <td>21.00</td>\n",
       "      <td>19,559.44</td>\n",
       "    </tr>\n",
       "    <tr>\n",
       "      <th>3211</th>\n",
       "      <td>1489</td>\n",
       "      <td>September</td>\n",
       "      <td>NaN</td>\n",
       "      <td>NaN</td>\n",
       "      <td>32.00</td>\n",
       "      <td>17,206.30</td>\n",
       "    </tr>\n",
       "    <tr>\n",
       "      <th>3212</th>\n",
       "      <td>1240</td>\n",
       "      <td>February</td>\n",
       "      <td>NaN</td>\n",
       "      <td>NaN</td>\n",
       "      <td>NaN</td>\n",
       "      <td>959.51</td>\n",
       "    </tr>\n",
       "    <tr>\n",
       "      <th>3213</th>\n",
       "      <td>1476</td>\n",
       "      <td>April</td>\n",
       "      <td>NaN</td>\n",
       "      <td>NaN</td>\n",
       "      <td>NaN</td>\n",
       "      <td>530.78</td>\n",
       "    </tr>\n",
       "  </tbody>\n",
       "</table>\n",
       "</div>"
      ],
      "text/plain": [
       "      user_id      month  month_calls_duration  calls_total_in_month  \\\n",
       "3209     1489   November                   NaN                   NaN   \n",
       "3210     1489    October                   NaN                   NaN   \n",
       "3211     1489  September                   NaN                   NaN   \n",
       "3212     1240   February                   NaN                   NaN   \n",
       "3213     1476      April                   NaN                   NaN   \n",
       "\n",
       "      sms_total_in_month  mb_total_in_month  \n",
       "3209               20.00          17,491.56  \n",
       "3210               21.00          19,559.44  \n",
       "3211               32.00          17,206.30  \n",
       "3212                 NaN             959.51  \n",
       "3213                 NaN             530.78  "
      ]
     },
     "execution_count": 35,
     "metadata": {},
     "output_type": "execute_result"
    }
   ],
   "source": [
    "df = df.merge(user_internet, on=['user_id','month'], how = 'outer')\n",
    "df.tail()"
   ]
  },
  {
   "cell_type": "code",
   "execution_count": 36,
   "metadata": {},
   "outputs": [
    {
     "data": {
      "text/html": [
       "<div>\n",
       "<style scoped>\n",
       "    .dataframe tbody tr th:only-of-type {\n",
       "        vertical-align: middle;\n",
       "    }\n",
       "\n",
       "    .dataframe tbody tr th {\n",
       "        vertical-align: top;\n",
       "    }\n",
       "\n",
       "    .dataframe thead th {\n",
       "        text-align: right;\n",
       "    }\n",
       "</style>\n",
       "<table border=\"1\" class=\"dataframe\">\n",
       "  <thead>\n",
       "    <tr style=\"text-align: right;\">\n",
       "      <th></th>\n",
       "      <th>user_id</th>\n",
       "      <th>month</th>\n",
       "      <th>month_calls_duration</th>\n",
       "      <th>calls_total_in_month</th>\n",
       "      <th>sms_total_in_month</th>\n",
       "      <th>mb_total_in_month</th>\n",
       "      <th>age</th>\n",
       "      <th>churn_date</th>\n",
       "      <th>city</th>\n",
       "      <th>first_name</th>\n",
       "      <th>last_name</th>\n",
       "      <th>reg_date</th>\n",
       "      <th>tariff</th>\n",
       "    </tr>\n",
       "  </thead>\n",
       "  <tbody>\n",
       "    <tr>\n",
       "      <th>0</th>\n",
       "      <td>1000</td>\n",
       "      <td>August</td>\n",
       "      <td>408.00</td>\n",
       "      <td>42.00</td>\n",
       "      <td>81.00</td>\n",
       "      <td>14,055.93</td>\n",
       "      <td>52</td>\n",
       "      <td>NaT</td>\n",
       "      <td>Краснодар</td>\n",
       "      <td>Рафаил</td>\n",
       "      <td>Верещагин</td>\n",
       "      <td>2018-05-25</td>\n",
       "      <td>ultra</td>\n",
       "    </tr>\n",
       "    <tr>\n",
       "      <th>1</th>\n",
       "      <td>1000</td>\n",
       "      <td>December</td>\n",
       "      <td>333.00</td>\n",
       "      <td>38.00</td>\n",
       "      <td>70.00</td>\n",
       "      <td>9,817.61</td>\n",
       "      <td>52</td>\n",
       "      <td>NaT</td>\n",
       "      <td>Краснодар</td>\n",
       "      <td>Рафаил</td>\n",
       "      <td>Верещагин</td>\n",
       "      <td>2018-05-25</td>\n",
       "      <td>ultra</td>\n",
       "    </tr>\n",
       "    <tr>\n",
       "      <th>2</th>\n",
       "      <td>1000</td>\n",
       "      <td>July</td>\n",
       "      <td>340.00</td>\n",
       "      <td>41.00</td>\n",
       "      <td>75.00</td>\n",
       "      <td>14,003.64</td>\n",
       "      <td>52</td>\n",
       "      <td>NaT</td>\n",
       "      <td>Краснодар</td>\n",
       "      <td>Рафаил</td>\n",
       "      <td>Верещагин</td>\n",
       "      <td>2018-05-25</td>\n",
       "      <td>ultra</td>\n",
       "    </tr>\n",
       "    <tr>\n",
       "      <th>3</th>\n",
       "      <td>1000</td>\n",
       "      <td>June</td>\n",
       "      <td>172.00</td>\n",
       "      <td>28.00</td>\n",
       "      <td>60.00</td>\n",
       "      <td>23,233.77</td>\n",
       "      <td>52</td>\n",
       "      <td>NaT</td>\n",
       "      <td>Краснодар</td>\n",
       "      <td>Рафаил</td>\n",
       "      <td>Верещагин</td>\n",
       "      <td>2018-05-25</td>\n",
       "      <td>ultra</td>\n",
       "    </tr>\n",
       "    <tr>\n",
       "      <th>4</th>\n",
       "      <td>1000</td>\n",
       "      <td>May</td>\n",
       "      <td>159.00</td>\n",
       "      <td>17.00</td>\n",
       "      <td>22.00</td>\n",
       "      <td>2,253.49</td>\n",
       "      <td>52</td>\n",
       "      <td>NaT</td>\n",
       "      <td>Краснодар</td>\n",
       "      <td>Рафаил</td>\n",
       "      <td>Верещагин</td>\n",
       "      <td>2018-05-25</td>\n",
       "      <td>ultra</td>\n",
       "    </tr>\n",
       "  </tbody>\n",
       "</table>\n",
       "</div>"
      ],
      "text/plain": [
       "   user_id     month  month_calls_duration  calls_total_in_month  \\\n",
       "0     1000    August                408.00                 42.00   \n",
       "1     1000  December                333.00                 38.00   \n",
       "2     1000      July                340.00                 41.00   \n",
       "3     1000      June                172.00                 28.00   \n",
       "4     1000       May                159.00                 17.00   \n",
       "\n",
       "   sms_total_in_month  mb_total_in_month  age churn_date       city  \\\n",
       "0               81.00          14,055.93   52        NaT  Краснодар   \n",
       "1               70.00           9,817.61   52        NaT  Краснодар   \n",
       "2               75.00          14,003.64   52        NaT  Краснодар   \n",
       "3               60.00          23,233.77   52        NaT  Краснодар   \n",
       "4               22.00           2,253.49   52        NaT  Краснодар   \n",
       "\n",
       "  first_name  last_name   reg_date tariff  \n",
       "0     Рафаил  Верещагин 2018-05-25  ultra  \n",
       "1     Рафаил  Верещагин 2018-05-25  ultra  \n",
       "2     Рафаил  Верещагин 2018-05-25  ultra  \n",
       "3     Рафаил  Верещагин 2018-05-25  ultra  \n",
       "4     Рафаил  Верещагин 2018-05-25  ultra  "
      ]
     },
     "execution_count": 36,
     "metadata": {},
     "output_type": "execute_result"
    }
   ],
   "source": [
    "df = df.merge(users, on='user_id', how='left')\n",
    "df.head()"
   ]
  },
  {
   "cell_type": "code",
   "execution_count": 37,
   "metadata": {
    "scrolled": true
   },
   "outputs": [
    {
     "data": {
      "text/html": [
       "<div>\n",
       "<style scoped>\n",
       "    .dataframe tbody tr th:only-of-type {\n",
       "        vertical-align: middle;\n",
       "    }\n",
       "\n",
       "    .dataframe tbody tr th {\n",
       "        vertical-align: top;\n",
       "    }\n",
       "\n",
       "    .dataframe thead th {\n",
       "        text-align: right;\n",
       "    }\n",
       "</style>\n",
       "<table border=\"1\" class=\"dataframe\">\n",
       "  <thead>\n",
       "    <tr style=\"text-align: right;\">\n",
       "      <th></th>\n",
       "      <th>user_id</th>\n",
       "      <th>month</th>\n",
       "      <th>month_calls_duration</th>\n",
       "      <th>calls_total_in_month</th>\n",
       "      <th>sms_total_in_month</th>\n",
       "      <th>mb_total_in_month</th>\n",
       "      <th>age</th>\n",
       "      <th>churn_date</th>\n",
       "      <th>city</th>\n",
       "      <th>first_name</th>\n",
       "      <th>last_name</th>\n",
       "      <th>reg_date</th>\n",
       "      <th>tariff</th>\n",
       "      <th>messages_included</th>\n",
       "      <th>mb_per_month_included</th>\n",
       "      <th>minutes_included</th>\n",
       "      <th>rub_monthly_fee</th>\n",
       "      <th>rub_per_gb</th>\n",
       "      <th>rub_per_message</th>\n",
       "      <th>rub_per_minute</th>\n",
       "    </tr>\n",
       "  </thead>\n",
       "  <tbody>\n",
       "    <tr>\n",
       "      <th>0</th>\n",
       "      <td>1000</td>\n",
       "      <td>August</td>\n",
       "      <td>408.00</td>\n",
       "      <td>42.00</td>\n",
       "      <td>81.00</td>\n",
       "      <td>14,055.93</td>\n",
       "      <td>52</td>\n",
       "      <td>NaT</td>\n",
       "      <td>Краснодар</td>\n",
       "      <td>Рафаил</td>\n",
       "      <td>Верещагин</td>\n",
       "      <td>2018-05-25</td>\n",
       "      <td>ultra</td>\n",
       "      <td>1000</td>\n",
       "      <td>30720</td>\n",
       "      <td>3000</td>\n",
       "      <td>1950</td>\n",
       "      <td>150</td>\n",
       "      <td>1</td>\n",
       "      <td>1</td>\n",
       "    </tr>\n",
       "    <tr>\n",
       "      <th>1</th>\n",
       "      <td>1000</td>\n",
       "      <td>December</td>\n",
       "      <td>333.00</td>\n",
       "      <td>38.00</td>\n",
       "      <td>70.00</td>\n",
       "      <td>9,817.61</td>\n",
       "      <td>52</td>\n",
       "      <td>NaT</td>\n",
       "      <td>Краснодар</td>\n",
       "      <td>Рафаил</td>\n",
       "      <td>Верещагин</td>\n",
       "      <td>2018-05-25</td>\n",
       "      <td>ultra</td>\n",
       "      <td>1000</td>\n",
       "      <td>30720</td>\n",
       "      <td>3000</td>\n",
       "      <td>1950</td>\n",
       "      <td>150</td>\n",
       "      <td>1</td>\n",
       "      <td>1</td>\n",
       "    </tr>\n",
       "    <tr>\n",
       "      <th>2</th>\n",
       "      <td>1000</td>\n",
       "      <td>July</td>\n",
       "      <td>340.00</td>\n",
       "      <td>41.00</td>\n",
       "      <td>75.00</td>\n",
       "      <td>14,003.64</td>\n",
       "      <td>52</td>\n",
       "      <td>NaT</td>\n",
       "      <td>Краснодар</td>\n",
       "      <td>Рафаил</td>\n",
       "      <td>Верещагин</td>\n",
       "      <td>2018-05-25</td>\n",
       "      <td>ultra</td>\n",
       "      <td>1000</td>\n",
       "      <td>30720</td>\n",
       "      <td>3000</td>\n",
       "      <td>1950</td>\n",
       "      <td>150</td>\n",
       "      <td>1</td>\n",
       "      <td>1</td>\n",
       "    </tr>\n",
       "    <tr>\n",
       "      <th>3</th>\n",
       "      <td>1000</td>\n",
       "      <td>June</td>\n",
       "      <td>172.00</td>\n",
       "      <td>28.00</td>\n",
       "      <td>60.00</td>\n",
       "      <td>23,233.77</td>\n",
       "      <td>52</td>\n",
       "      <td>NaT</td>\n",
       "      <td>Краснодар</td>\n",
       "      <td>Рафаил</td>\n",
       "      <td>Верещагин</td>\n",
       "      <td>2018-05-25</td>\n",
       "      <td>ultra</td>\n",
       "      <td>1000</td>\n",
       "      <td>30720</td>\n",
       "      <td>3000</td>\n",
       "      <td>1950</td>\n",
       "      <td>150</td>\n",
       "      <td>1</td>\n",
       "      <td>1</td>\n",
       "    </tr>\n",
       "    <tr>\n",
       "      <th>4</th>\n",
       "      <td>1000</td>\n",
       "      <td>May</td>\n",
       "      <td>159.00</td>\n",
       "      <td>17.00</td>\n",
       "      <td>22.00</td>\n",
       "      <td>2,253.49</td>\n",
       "      <td>52</td>\n",
       "      <td>NaT</td>\n",
       "      <td>Краснодар</td>\n",
       "      <td>Рафаил</td>\n",
       "      <td>Верещагин</td>\n",
       "      <td>2018-05-25</td>\n",
       "      <td>ultra</td>\n",
       "      <td>1000</td>\n",
       "      <td>30720</td>\n",
       "      <td>3000</td>\n",
       "      <td>1950</td>\n",
       "      <td>150</td>\n",
       "      <td>1</td>\n",
       "      <td>1</td>\n",
       "    </tr>\n",
       "  </tbody>\n",
       "</table>\n",
       "</div>"
      ],
      "text/plain": [
       "   user_id     month  month_calls_duration  calls_total_in_month  \\\n",
       "0     1000    August                408.00                 42.00   \n",
       "1     1000  December                333.00                 38.00   \n",
       "2     1000      July                340.00                 41.00   \n",
       "3     1000      June                172.00                 28.00   \n",
       "4     1000       May                159.00                 17.00   \n",
       "\n",
       "   sms_total_in_month  mb_total_in_month  age churn_date       city  \\\n",
       "0               81.00          14,055.93   52        NaT  Краснодар   \n",
       "1               70.00           9,817.61   52        NaT  Краснодар   \n",
       "2               75.00          14,003.64   52        NaT  Краснодар   \n",
       "3               60.00          23,233.77   52        NaT  Краснодар   \n",
       "4               22.00           2,253.49   52        NaT  Краснодар   \n",
       "\n",
       "  first_name  last_name   reg_date tariff  messages_included  \\\n",
       "0     Рафаил  Верещагин 2018-05-25  ultra               1000   \n",
       "1     Рафаил  Верещагин 2018-05-25  ultra               1000   \n",
       "2     Рафаил  Верещагин 2018-05-25  ultra               1000   \n",
       "3     Рафаил  Верещагин 2018-05-25  ultra               1000   \n",
       "4     Рафаил  Верещагин 2018-05-25  ultra               1000   \n",
       "\n",
       "   mb_per_month_included  minutes_included  rub_monthly_fee  rub_per_gb  \\\n",
       "0                  30720              3000             1950         150   \n",
       "1                  30720              3000             1950         150   \n",
       "2                  30720              3000             1950         150   \n",
       "3                  30720              3000             1950         150   \n",
       "4                  30720              3000             1950         150   \n",
       "\n",
       "   rub_per_message  rub_per_minute  \n",
       "0                1               1  \n",
       "1                1               1  \n",
       "2                1               1  \n",
       "3                1               1  \n",
       "4                1               1  "
      ]
     },
     "execution_count": 37,
     "metadata": {},
     "output_type": "execute_result"
    }
   ],
   "source": [
    "df = df.merge(tariffs, on='tariff', how='left')\n",
    "df.head()"
   ]
  },
  {
   "cell_type": "markdown",
   "metadata": {},
   "source": [
    "<div style=\"border:solid Green 2px; padding: 40px\">\n",
    "<div class=\"alert alert-success\">\n",
    "<h2> Комментарий ревьюера <a class=\"tocSkip\"> </h2>\n",
    "\n",
    "<font color='green'><b>Все отлично! 👍:</b>  </font>\n",
    "\n",
    "Объединение верное. Можно было не дублировать информацию и не добавлять в рабочую таблицу описание тарифов и информации о клиентах, ведь все это есть в таблице с тарифами и юзерами. Не все данные этих таблиц нужны нам в рабочей таблице. Но и такой вариант как у тебя - вполне рабочий.\n",
    "    \n",
    "</div>"
   ]
  },
  {
   "cell_type": "code",
   "execution_count": 38,
   "metadata": {},
   "outputs": [
    {
     "data": {
      "text/plain": [
       "user_id                     0\n",
       "month                       0\n",
       "month_calls_duration       46\n",
       "calls_total_in_month       46\n",
       "sms_total_in_month        497\n",
       "mb_total_in_month          13\n",
       "age                         0\n",
       "churn_date               3027\n",
       "city                        0\n",
       "first_name                  0\n",
       "last_name                   0\n",
       "reg_date                    0\n",
       "tariff                      0\n",
       "messages_included           0\n",
       "mb_per_month_included       0\n",
       "minutes_included            0\n",
       "rub_monthly_fee             0\n",
       "rub_per_gb                  0\n",
       "rub_per_message             0\n",
       "rub_per_minute              0\n",
       "dtype: int64"
      ]
     },
     "execution_count": 38,
     "metadata": {},
     "output_type": "execute_result"
    }
   ],
   "source": [
    "# Check\n",
    "df.isna().sum()"
   ]
  },
  {
   "cell_type": "code",
   "execution_count": 39,
   "metadata": {},
   "outputs": [],
   "source": [
    "# Поставим нули тем, кто не тратят интернет и не пишут смс\n",
    "df['sms_total_in_month'] = df['sms_total_in_month'].fillna(0)\n",
    "df['mb_total_in_month'] = df['mb_total_in_month'].fillna(0)\n",
    "df['month_calls_duration'] = df['month_calls_duration'].fillna(0)\n",
    "df['calls_total_in_month'] = df['calls_total_in_month'].fillna(0)"
   ]
  },
  {
   "cell_type": "markdown",
   "metadata": {},
   "source": [
    "<div style=\"border:solid Green 2px; padding: 40px\">\n",
    "<div class=\"alert alert-success\">\n",
    "<h2> Комментарий ревьюера <a class=\"tocSkip\"> </h2>\n",
    "\n",
    "<font color='green'><b>Все отлично! 👍:</b>  </font>\n",
    "\n",
    "Здорово, что есть проверка пропусков и обработка их. Действительно, есть пользователи, которые не пользуются каким-то видом услуги в определенный месяц, поэтому оптимальнее всего эти пропуски заполнить нулям. \n",
    "    \n",
    "Фактически, удаленные нули в предобработке данных снова стали нулями.\n",
    "    \n",
    "</div>"
   ]
  },
  {
   "cell_type": "code",
   "execution_count": 40,
   "metadata": {
    "scrolled": true
   },
   "outputs": [
    {
     "data": {
      "text/plain": [
       "user_id                     0\n",
       "month                       0\n",
       "month_calls_duration        0\n",
       "calls_total_in_month        0\n",
       "sms_total_in_month          0\n",
       "mb_total_in_month           0\n",
       "age                         0\n",
       "churn_date               3027\n",
       "city                        0\n",
       "first_name                  0\n",
       "last_name                   0\n",
       "reg_date                    0\n",
       "tariff                      0\n",
       "messages_included           0\n",
       "mb_per_month_included       0\n",
       "minutes_included            0\n",
       "rub_monthly_fee             0\n",
       "rub_per_gb                  0\n",
       "rub_per_message             0\n",
       "rub_per_minute              0\n",
       "dtype: int64"
      ]
     },
     "execution_count": 40,
     "metadata": {},
     "output_type": "execute_result"
    }
   ],
   "source": [
    "df.isna().sum()"
   ]
  },
  {
   "cell_type": "code",
   "execution_count": 41,
   "metadata": {},
   "outputs": [
    {
     "data": {
      "text/html": [
       "<div>\n",
       "<style scoped>\n",
       "    .dataframe tbody tr th:only-of-type {\n",
       "        vertical-align: middle;\n",
       "    }\n",
       "\n",
       "    .dataframe tbody tr th {\n",
       "        vertical-align: top;\n",
       "    }\n",
       "\n",
       "    .dataframe thead th {\n",
       "        text-align: right;\n",
       "    }\n",
       "</style>\n",
       "<table border=\"1\" class=\"dataframe\">\n",
       "  <thead>\n",
       "    <tr style=\"text-align: right;\">\n",
       "      <th></th>\n",
       "      <th>user_id</th>\n",
       "      <th>month</th>\n",
       "      <th>month_calls_duration</th>\n",
       "      <th>calls_total_in_month</th>\n",
       "      <th>sms_total_in_month</th>\n",
       "      <th>mb_total_in_month</th>\n",
       "      <th>age</th>\n",
       "      <th>city</th>\n",
       "      <th>tariff</th>\n",
       "      <th>messages_included</th>\n",
       "      <th>mb_per_month_included</th>\n",
       "      <th>minutes_included</th>\n",
       "      <th>rub_monthly_fee</th>\n",
       "      <th>rub_per_gb</th>\n",
       "      <th>rub_per_message</th>\n",
       "      <th>rub_per_minute</th>\n",
       "    </tr>\n",
       "  </thead>\n",
       "  <tbody>\n",
       "    <tr>\n",
       "      <th>3209</th>\n",
       "      <td>1489</td>\n",
       "      <td>November</td>\n",
       "      <td>0.00</td>\n",
       "      <td>0.00</td>\n",
       "      <td>20.00</td>\n",
       "      <td>17,491.56</td>\n",
       "      <td>35</td>\n",
       "      <td>Санкт-Петербург</td>\n",
       "      <td>smart</td>\n",
       "      <td>50</td>\n",
       "      <td>15360</td>\n",
       "      <td>500</td>\n",
       "      <td>550</td>\n",
       "      <td>200</td>\n",
       "      <td>3</td>\n",
       "      <td>3</td>\n",
       "    </tr>\n",
       "    <tr>\n",
       "      <th>3210</th>\n",
       "      <td>1489</td>\n",
       "      <td>October</td>\n",
       "      <td>0.00</td>\n",
       "      <td>0.00</td>\n",
       "      <td>21.00</td>\n",
       "      <td>19,559.44</td>\n",
       "      <td>35</td>\n",
       "      <td>Санкт-Петербург</td>\n",
       "      <td>smart</td>\n",
       "      <td>50</td>\n",
       "      <td>15360</td>\n",
       "      <td>500</td>\n",
       "      <td>550</td>\n",
       "      <td>200</td>\n",
       "      <td>3</td>\n",
       "      <td>3</td>\n",
       "    </tr>\n",
       "    <tr>\n",
       "      <th>3211</th>\n",
       "      <td>1489</td>\n",
       "      <td>September</td>\n",
       "      <td>0.00</td>\n",
       "      <td>0.00</td>\n",
       "      <td>32.00</td>\n",
       "      <td>17,206.30</td>\n",
       "      <td>35</td>\n",
       "      <td>Санкт-Петербург</td>\n",
       "      <td>smart</td>\n",
       "      <td>50</td>\n",
       "      <td>15360</td>\n",
       "      <td>500</td>\n",
       "      <td>550</td>\n",
       "      <td>200</td>\n",
       "      <td>3</td>\n",
       "      <td>3</td>\n",
       "    </tr>\n",
       "    <tr>\n",
       "      <th>3212</th>\n",
       "      <td>1240</td>\n",
       "      <td>February</td>\n",
       "      <td>0.00</td>\n",
       "      <td>0.00</td>\n",
       "      <td>0.00</td>\n",
       "      <td>959.51</td>\n",
       "      <td>30</td>\n",
       "      <td>Воронеж</td>\n",
       "      <td>ultra</td>\n",
       "      <td>1000</td>\n",
       "      <td>30720</td>\n",
       "      <td>3000</td>\n",
       "      <td>1950</td>\n",
       "      <td>150</td>\n",
       "      <td>1</td>\n",
       "      <td>1</td>\n",
       "    </tr>\n",
       "    <tr>\n",
       "      <th>3213</th>\n",
       "      <td>1476</td>\n",
       "      <td>April</td>\n",
       "      <td>0.00</td>\n",
       "      <td>0.00</td>\n",
       "      <td>0.00</td>\n",
       "      <td>530.78</td>\n",
       "      <td>50</td>\n",
       "      <td>Москва</td>\n",
       "      <td>ultra</td>\n",
       "      <td>1000</td>\n",
       "      <td>30720</td>\n",
       "      <td>3000</td>\n",
       "      <td>1950</td>\n",
       "      <td>150</td>\n",
       "      <td>1</td>\n",
       "      <td>1</td>\n",
       "    </tr>\n",
       "  </tbody>\n",
       "</table>\n",
       "</div>"
      ],
      "text/plain": [
       "      user_id      month  month_calls_duration  calls_total_in_month  \\\n",
       "3209     1489   November                  0.00                  0.00   \n",
       "3210     1489    October                  0.00                  0.00   \n",
       "3211     1489  September                  0.00                  0.00   \n",
       "3212     1240   February                  0.00                  0.00   \n",
       "3213     1476      April                  0.00                  0.00   \n",
       "\n",
       "      sms_total_in_month  mb_total_in_month  age             city tariff  \\\n",
       "3209               20.00          17,491.56   35  Санкт-Петербург  smart   \n",
       "3210               21.00          19,559.44   35  Санкт-Петербург  smart   \n",
       "3211               32.00          17,206.30   35  Санкт-Петербург  smart   \n",
       "3212                0.00             959.51   30          Воронеж  ultra   \n",
       "3213                0.00             530.78   50           Москва  ultra   \n",
       "\n",
       "      messages_included  mb_per_month_included  minutes_included  \\\n",
       "3209                 50                  15360               500   \n",
       "3210                 50                  15360               500   \n",
       "3211                 50                  15360               500   \n",
       "3212               1000                  30720              3000   \n",
       "3213               1000                  30720              3000   \n",
       "\n",
       "      rub_monthly_fee  rub_per_gb  rub_per_message  rub_per_minute  \n",
       "3209              550         200                3               3  \n",
       "3210              550         200                3               3  \n",
       "3211              550         200                3               3  \n",
       "3212             1950         150                1               1  \n",
       "3213             1950         150                1               1  "
      ]
     },
     "execution_count": 41,
     "metadata": {},
     "output_type": "execute_result"
    }
   ],
   "source": [
    "# удалим колонки, которые не потребуются для анализа\n",
    "df.drop(['churn_date','first_name','last_name', 'reg_date'], axis = 1, inplace=True)\n",
    "df.tail()"
   ]
  },
  {
   "cell_type": "code",
   "execution_count": 42,
   "metadata": {},
   "outputs": [],
   "source": [
    "def revenue_per_month(row):\n",
    "    sms = (row['sms_total_in_month'] - row['messages_included']) * row['rub_per_message']\n",
    "    mins = (row['month_calls_duration'] - row['minutes_included']) * row['rub_per_minute']\n",
    "    mbs = np.ceil((row['mb_total_in_month'] - row['mb_per_month_included']) * row['rub_per_gb'] / 1024)\n",
    "    total = 0\n",
    "    for i in [sms, mins, mbs]:\n",
    "        if i > 0:\n",
    "            total += i\n",
    "    return total"
   ]
  },
  {
   "cell_type": "code",
   "execution_count": 43,
   "metadata": {
    "scrolled": true
   },
   "outputs": [
    {
     "data": {
      "text/html": [
       "<div>\n",
       "<style scoped>\n",
       "    .dataframe tbody tr th:only-of-type {\n",
       "        vertical-align: middle;\n",
       "    }\n",
       "\n",
       "    .dataframe tbody tr th {\n",
       "        vertical-align: top;\n",
       "    }\n",
       "\n",
       "    .dataframe thead th {\n",
       "        text-align: right;\n",
       "    }\n",
       "</style>\n",
       "<table border=\"1\" class=\"dataframe\">\n",
       "  <thead>\n",
       "    <tr style=\"text-align: right;\">\n",
       "      <th></th>\n",
       "      <th>user_id</th>\n",
       "      <th>month</th>\n",
       "      <th>month_calls_duration</th>\n",
       "      <th>calls_total_in_month</th>\n",
       "      <th>sms_total_in_month</th>\n",
       "      <th>mb_total_in_month</th>\n",
       "      <th>age</th>\n",
       "      <th>city</th>\n",
       "      <th>tariff</th>\n",
       "      <th>messages_included</th>\n",
       "      <th>mb_per_month_included</th>\n",
       "      <th>minutes_included</th>\n",
       "      <th>rub_monthly_fee</th>\n",
       "      <th>rub_per_gb</th>\n",
       "      <th>rub_per_message</th>\n",
       "      <th>rub_per_minute</th>\n",
       "      <th>revenue_excess</th>\n",
       "      <th>revenue</th>\n",
       "    </tr>\n",
       "  </thead>\n",
       "  <tbody>\n",
       "    <tr>\n",
       "      <th>1086</th>\n",
       "      <td>1174</td>\n",
       "      <td>February</td>\n",
       "      <td>118.00</td>\n",
       "      <td>16.00</td>\n",
       "      <td>19.00</td>\n",
       "      <td>11,333.39</td>\n",
       "      <td>29</td>\n",
       "      <td>Санкт-Петербург</td>\n",
       "      <td>smart</td>\n",
       "      <td>50</td>\n",
       "      <td>15360</td>\n",
       "      <td>500</td>\n",
       "      <td>550</td>\n",
       "      <td>200</td>\n",
       "      <td>3</td>\n",
       "      <td>3</td>\n",
       "      <td>0</td>\n",
       "      <td>550</td>\n",
       "    </tr>\n",
       "    <tr>\n",
       "      <th>1540</th>\n",
       "      <td>1247</td>\n",
       "      <td>May</td>\n",
       "      <td>179.00</td>\n",
       "      <td>23.00</td>\n",
       "      <td>8.00</td>\n",
       "      <td>6,974.12</td>\n",
       "      <td>19</td>\n",
       "      <td>Москва</td>\n",
       "      <td>smart</td>\n",
       "      <td>50</td>\n",
       "      <td>15360</td>\n",
       "      <td>500</td>\n",
       "      <td>550</td>\n",
       "      <td>200</td>\n",
       "      <td>3</td>\n",
       "      <td>3</td>\n",
       "      <td>0</td>\n",
       "      <td>550</td>\n",
       "    </tr>\n",
       "    <tr>\n",
       "      <th>647</th>\n",
       "      <td>1103</td>\n",
       "      <td>December</td>\n",
       "      <td>448.00</td>\n",
       "      <td>49.00</td>\n",
       "      <td>25.00</td>\n",
       "      <td>13,947.37</td>\n",
       "      <td>52</td>\n",
       "      <td>Екатеринбург</td>\n",
       "      <td>smart</td>\n",
       "      <td>50</td>\n",
       "      <td>15360</td>\n",
       "      <td>500</td>\n",
       "      <td>550</td>\n",
       "      <td>200</td>\n",
       "      <td>3</td>\n",
       "      <td>3</td>\n",
       "      <td>0</td>\n",
       "      <td>550</td>\n",
       "    </tr>\n",
       "    <tr>\n",
       "      <th>2876</th>\n",
       "      <td>1454</td>\n",
       "      <td>November</td>\n",
       "      <td>444.00</td>\n",
       "      <td>52.00</td>\n",
       "      <td>17.00</td>\n",
       "      <td>9,613.32</td>\n",
       "      <td>29</td>\n",
       "      <td>Томск</td>\n",
       "      <td>smart</td>\n",
       "      <td>50</td>\n",
       "      <td>15360</td>\n",
       "      <td>500</td>\n",
       "      <td>550</td>\n",
       "      <td>200</td>\n",
       "      <td>3</td>\n",
       "      <td>3</td>\n",
       "      <td>0</td>\n",
       "      <td>550</td>\n",
       "    </tr>\n",
       "    <tr>\n",
       "      <th>2875</th>\n",
       "      <td>1454</td>\n",
       "      <td>May</td>\n",
       "      <td>381.00</td>\n",
       "      <td>58.00</td>\n",
       "      <td>26.00</td>\n",
       "      <td>12,820.87</td>\n",
       "      <td>29</td>\n",
       "      <td>Томск</td>\n",
       "      <td>smart</td>\n",
       "      <td>50</td>\n",
       "      <td>15360</td>\n",
       "      <td>500</td>\n",
       "      <td>550</td>\n",
       "      <td>200</td>\n",
       "      <td>3</td>\n",
       "      <td>3</td>\n",
       "      <td>0</td>\n",
       "      <td>550</td>\n",
       "    </tr>\n",
       "  </tbody>\n",
       "</table>\n",
       "</div>"
      ],
      "text/plain": [
       "      user_id     month  month_calls_duration  calls_total_in_month  \\\n",
       "1086     1174  February                118.00                 16.00   \n",
       "1540     1247       May                179.00                 23.00   \n",
       "647      1103  December                448.00                 49.00   \n",
       "2876     1454  November                444.00                 52.00   \n",
       "2875     1454       May                381.00                 58.00   \n",
       "\n",
       "      sms_total_in_month  mb_total_in_month  age             city tariff  \\\n",
       "1086               19.00          11,333.39   29  Санкт-Петербург  smart   \n",
       "1540                8.00           6,974.12   19           Москва  smart   \n",
       "647                25.00          13,947.37   52     Екатеринбург  smart   \n",
       "2876               17.00           9,613.32   29            Томск  smart   \n",
       "2875               26.00          12,820.87   29            Томск  smart   \n",
       "\n",
       "      messages_included  mb_per_month_included  minutes_included  \\\n",
       "1086                 50                  15360               500   \n",
       "1540                 50                  15360               500   \n",
       "647                  50                  15360               500   \n",
       "2876                 50                  15360               500   \n",
       "2875                 50                  15360               500   \n",
       "\n",
       "      rub_monthly_fee  rub_per_gb  rub_per_message  rub_per_minute  \\\n",
       "1086              550         200                3               3   \n",
       "1540              550         200                3               3   \n",
       "647               550         200                3               3   \n",
       "2876              550         200                3               3   \n",
       "2875              550         200                3               3   \n",
       "\n",
       "      revenue_excess  revenue  \n",
       "1086               0      550  \n",
       "1540               0      550  \n",
       "647                0      550  \n",
       "2876               0      550  \n",
       "2875               0      550  "
      ]
     },
     "execution_count": 43,
     "metadata": {},
     "output_type": "execute_result"
    }
   ],
   "source": [
    "df['revenue_excess'] = df.apply(revenue_per_month, axis=1)#прибыль за превышение тарифа\n",
    "df['revenue_excess'] = df['revenue_excess'].astype('int')\n",
    "df['revenue'] = df['revenue_excess'] + df['rub_monthly_fee'] #общая прибыль(ежемес.плата + плата за превышение)\n",
    "df['revenue'] = df['revenue'].astype('int')\n",
    "df.sort_values(by='revenue').head()"
   ]
  },
  {
   "cell_type": "code",
   "execution_count": 44,
   "metadata": {
    "scrolled": false
   },
   "outputs": [
    {
     "data": {
      "text/html": [
       "<div>\n",
       "<style scoped>\n",
       "    .dataframe tbody tr th:only-of-type {\n",
       "        vertical-align: middle;\n",
       "    }\n",
       "\n",
       "    .dataframe tbody tr th {\n",
       "        vertical-align: top;\n",
       "    }\n",
       "\n",
       "    .dataframe thead th {\n",
       "        text-align: right;\n",
       "    }\n",
       "</style>\n",
       "<table border=\"1\" class=\"dataframe\">\n",
       "  <thead>\n",
       "    <tr style=\"text-align: right;\">\n",
       "      <th></th>\n",
       "      <th>user_id</th>\n",
       "      <th>month</th>\n",
       "      <th>month_calls_duration</th>\n",
       "      <th>calls_total_in_month</th>\n",
       "      <th>sms_total_in_month</th>\n",
       "      <th>mb_total_in_month</th>\n",
       "      <th>age</th>\n",
       "      <th>city</th>\n",
       "      <th>tariff</th>\n",
       "      <th>messages_included</th>\n",
       "      <th>mb_per_month_included</th>\n",
       "      <th>minutes_included</th>\n",
       "      <th>rub_monthly_fee</th>\n",
       "      <th>rub_per_gb</th>\n",
       "      <th>rub_per_message</th>\n",
       "      <th>rub_per_minute</th>\n",
       "      <th>revenue_excess</th>\n",
       "      <th>revenue</th>\n",
       "    </tr>\n",
       "  </thead>\n",
       "  <tbody>\n",
       "    <tr>\n",
       "      <th>8</th>\n",
       "      <td>1001</td>\n",
       "      <td>December</td>\n",
       "      <td>414.00</td>\n",
       "      <td>47.00</td>\n",
       "      <td>0.00</td>\n",
       "      <td>14,036.66</td>\n",
       "      <td>41</td>\n",
       "      <td>Москва</td>\n",
       "      <td>smart</td>\n",
       "      <td>50</td>\n",
       "      <td>15360</td>\n",
       "      <td>500</td>\n",
       "      <td>550</td>\n",
       "      <td>200</td>\n",
       "      <td>3</td>\n",
       "      <td>3</td>\n",
       "      <td>0</td>\n",
       "      <td>550</td>\n",
       "    </tr>\n",
       "    <tr>\n",
       "      <th>9</th>\n",
       "      <td>1001</td>\n",
       "      <td>November</td>\n",
       "      <td>430.00</td>\n",
       "      <td>45.00</td>\n",
       "      <td>0.00</td>\n",
       "      <td>18,429.34</td>\n",
       "      <td>41</td>\n",
       "      <td>Москва</td>\n",
       "      <td>smart</td>\n",
       "      <td>50</td>\n",
       "      <td>15360</td>\n",
       "      <td>500</td>\n",
       "      <td>550</td>\n",
       "      <td>200</td>\n",
       "      <td>3</td>\n",
       "      <td>3</td>\n",
       "      <td>600</td>\n",
       "      <td>1150</td>\n",
       "    </tr>\n",
       "  </tbody>\n",
       "</table>\n",
       "</div>"
      ],
      "text/plain": [
       "   user_id     month  month_calls_duration  calls_total_in_month  \\\n",
       "8     1001  December                414.00                 47.00   \n",
       "9     1001  November                430.00                 45.00   \n",
       "\n",
       "   sms_total_in_month  mb_total_in_month  age    city tariff  \\\n",
       "8                0.00          14,036.66   41  Москва  smart   \n",
       "9                0.00          18,429.34   41  Москва  smart   \n",
       "\n",
       "   messages_included  mb_per_month_included  minutes_included  \\\n",
       "8                 50                  15360               500   \n",
       "9                 50                  15360               500   \n",
       "\n",
       "   rub_monthly_fee  rub_per_gb  rub_per_message  rub_per_minute  \\\n",
       "8              550         200                3               3   \n",
       "9              550         200                3               3   \n",
       "\n",
       "   revenue_excess  revenue  \n",
       "8               0      550  \n",
       "9             600     1150  "
      ]
     },
     "execution_count": 44,
     "metadata": {},
     "output_type": "execute_result"
    }
   ],
   "source": [
    "df[df['user_id']==1001]"
   ]
  },
  {
   "cell_type": "markdown",
   "metadata": {},
   "source": [
    "<div style=\"border:solid Red 2px; padding: 40px\">\n",
    "    <div class=\"alert alert-block alert-danger\">\n",
    "<h2> Комментарий ревьюера <a class=\"tocSkip\"></h2>\n",
    "\n",
    "<font color='red'><b>На доработку ❌:</b>  </font>\n",
    "  \n",
    "Перепроверь еще раз расчет выручки в части начисления доплаты за интернет. По заданию только общая сумма за месяц округляется в бо́льшую сторону не в Мб, а в Гб. Если абонент использует 1025 мегабайт в этом месяце, с него возьмут плату за 2 гигабайта. Только в этом случае начислится плата согласно условиям задачи. У тебя нет округления месячного расхода до целого Гб, а это условие начисления выручки из ТЗ. А также есть округление отдельных интернет-сессии до целого Мб, чего по заданию быть не должно. \n",
    "    \n",
    "</div>"
   ]
  },
  {
   "cell_type": "markdown",
   "metadata": {},
   "source": [
    "<div class = \"alert alert-info\" style=\"border-left: 7px solid blue\">\n",
    "<b>Комментарий студента</b>\n",
    "  \n",
    "КАК ПОСОВЕТОВАЛ НАШ ПРЕПОДАВАТЕЛЬ В СЛАКЕ, ДЕЛАЮ ОКРУГЛЕНИЕ НА ЭТАПЕ РАСЧЕТА ВЫРУЧКИ - ПРЯМО В ФУНКЦИИ ОПРЕДЕЛЕНИЯ ВЫРУЧКИ, СМ. ВЫШЕ \n",
    "    \n",
    "    \n",
    "</div>"
   ]
  },
  {
   "cell_type": "markdown",
   "metadata": {},
   "source": [
    "<div style=\"border:solid Green 2px; padding: 40px\">\n",
    "<div class=\"alert alert-success\">\n",
    "<h3> Комментарий ревьюера_V2 <a class=\"tocSkip\"> </h3>\n",
    "\n",
    "<font color='green'><b>Все отлично! 👍:</b>  </font>\n",
    "\n",
    "👍\n",
    "    \n",
    "</div>"
   ]
  },
  {
   "cell_type": "markdown",
   "metadata": {},
   "source": [
    "#### Вывод\n",
    "\n",
    "В исходных файлах изменен тип данных, удалены нулевые значения, значения округлены в большую сторону.\n",
    "\n",
    "Файлы объеденены в один общий файл и добавлены данные о помесячной выручке с каждого пользователя."
   ]
  },
  {
   "cell_type": "markdown",
   "metadata": {},
   "source": [
    "## Шаг 3. Анализ данных\n",
    "\n",
    "- Опишите поведение клиентов оператора, исходя из выборки\n",
    "- Сколько минут разговора, сколько сообщений и какой объём интернет-трафика требуется пользователям каждого тарифа\n",
    "в месяц? \n",
    "- Посчитайте среднее количество, дисперсию и стандартное отклонение\n",
    "- Постройте гистограммы. Опишите распределения\n"
   ]
  },
  {
   "cell_type": "markdown",
   "metadata": {},
   "source": [
    "### Количество абонентов по каждому тарифу"
   ]
  },
  {
   "cell_type": "code",
   "execution_count": 45,
   "metadata": {},
   "outputs": [
    {
     "name": "stdout",
     "output_type": "stream",
     "text": [
      "Количество аббонентов тарифа Smart: 350 чел.\n"
     ]
    }
   ],
   "source": [
    "print('Количество аббонентов тарифа Smart:',len(df[df['tariff']=='smart']['user_id'].unique()),'чел.')"
   ]
  },
  {
   "cell_type": "code",
   "execution_count": 46,
   "metadata": {},
   "outputs": [
    {
     "name": "stdout",
     "output_type": "stream",
     "text": [
      "Количество аббонентов тарифа Ultra: 148 чел.\n"
     ]
    }
   ],
   "source": [
    "print('Количество аббонентов тарифа Ultra:',len(df[df['tariff']=='ultra']['user_id'].unique()),'чел.')"
   ]
  },
  {
   "cell_type": "markdown",
   "metadata": {},
   "source": [
    "Вывод - Абонентов с тарифом Smart более чем в 2 раза больше чем аббонетов с тарифом Ultra"
   ]
  },
  {
   "cell_type": "code",
   "execution_count": 47,
   "metadata": {},
   "outputs": [
    {
     "data": {
      "image/png": "[encoded data removed]",
      "text/plain": [
       "<Figure size 504x504 with 1 Axes>"
      ]
     },
     "metadata": {},
     "output_type": "display_data"
    }
   ],
   "source": [
    "explode=(0.03, 0)\n",
    "df.pivot_table(index='tariff', values='revenue', \n",
    "                 aggfunc = 'sum').plot( subplots = True, shadow = True, kind='pie', fontsize=15,\n",
    "                figsize= (7,7), explode= explode,  startangle =12, title = 'Выручка по тарифам', \n",
    "                                       autopct =lambda p: '{:.0f}%'.format(p))\n",
    "plt.show()"
   ]
  },
  {
   "cell_type": "markdown",
   "metadata": {},
   "source": [
    "Вывод - Разница в выручке не такая большая как разница в абонентах. Но все же выручка по тарифу Smart больше, на 16% чем по тарифу Ultra."
   ]
  },
  {
   "cell_type": "code",
   "execution_count": 48,
   "metadata": {
    "scrolled": true
   },
   "outputs": [
    {
     "data": {
      "image/png": "[encoded data removed]",
      "text/plain": [
       "<Figure size 432x288 with 1 Axes>"
      ]
     },
     "metadata": {
      "needs_background": "light"
     },
     "output_type": "display_data"
    }
   ],
   "source": [
    "df[df['tariff'] == 'ultra']['revenue'].plot(kind='hist', bins=10);"
   ]
  },
  {
   "cell_type": "markdown",
   "metadata": {},
   "source": [
    "<div style=\"border:solid Green 2px; padding: 40px\">\n",
    "<div class=\"alert alert-success\">\n",
    "<h2> Комментарий ревьюера <a class=\"tocSkip\"> </h2>\n",
    "\n",
    "<font color='green'><b>Все отлично! 👍:</b>  </font>\n",
    "    \n",
    "Если ты используешь визуализацию в проекте, стоит уделять больше времени ее оформлению: ко всем графикам в проекте важно добавлять общий заголовок, подписи к осям, убрать технические строчки . Это помогает сразу считать информацию. Пожалуйста, скорректируй графики во всем проекте:)\n",
    "\n",
    "Ниже добавляю ссылки по оформления графиков в библиотеках seaborn и matplotlib:\n",
    "\n",
    "https://pyprog.pro/mpl/mpl_title.html\n",
    "\n",
    "https://pyprog.pro/mpl/mpl_axis_signatures.html\n",
    "    \n",
    "https://pythobyte.com/matplotlib-bar-80584/\n",
    "\n",
    "https://devpractice.ru/matplotlib-lesson-3-3-text-elements/\n",
    "\n",
    "https://pythobyte.com/matplotlib-bar-80584/\n",
    "\n",
    "https://www.dataforeverybody.com/change-seaborn-title-chart-axes-font/\n",
    "\n",
    "https://stackoverflow.com/questions/12444716/how-do-i-set-the-figure-title-and-axes-labels-font-size-in-matplotlib\n",
    "\n",
    "https://seaborn.pydata.org/generated/seaborn.boxplot.html\n",
    "\n",
    "https://www.python-graph-gallery.com/4-add-title-and-axis-label\n",
    "    \n",
    "</div>"
   ]
  },
  {
   "cell_type": "code",
   "execution_count": 49,
   "metadata": {
    "scrolled": true
   },
   "outputs": [
    {
     "data": {
      "image/png": "[encoded data removed]",
      "text/plain": [
       "<Figure size 432x288 with 1 Axes>"
      ]
     },
     "metadata": {
      "needs_background": "light"
     },
     "output_type": "display_data"
    }
   ],
   "source": [
    "df[df['tariff'] == 'smart']['revenue'].plot(kind='hist', bins=10);"
   ]
  },
  {
   "cell_type": "markdown",
   "metadata": {},
   "source": [
    "<div style=\"border:solid Orange 2px; padding: 40px\">\n",
    "<div class=\"alert alert-warning\">\n",
    "    <h2> Комментарий ревьюера <a class=\"tocSkip\"> </h2>\n",
    "    \n",
    "<font color='Orange'><b>Некоторые рекомендации 💡:</b> </font>        \n",
    "\n",
    "Можно расположить гистограммы выручки, наложив их одну на другую, чтобы проще их было сопоставить пользователей разных тарифов между собой. А то из-за разницы в метках на графике визуально сложно оценить различие графиков. Сделать это можно просто расположив код гистограмм в одной ячейке. В таком случае надо ввести аргумент alpha, чтобы контролировать прозрачность графиков.\n",
    "        \n",
    "Так же можно сделать и для следующих гистограмм.\n",
    "        \n",
    "</div>"
   ]
  },
  {
   "cell_type": "code",
   "execution_count": 50,
   "metadata": {},
   "outputs": [
    {
     "data": {
      "text/html": [
       "<style  type=\"text/css\" >\n",
       "</style><table id=\"T_3df1b_\" ><thead>    <tr>        <th class=\"blank level0\" ></th>        <th class=\"col_heading level0 col0\" colspan=\"4\">revenue</th>    </tr>    <tr>        <th class=\"blank level1\" ></th>        <th class=\"col_heading level1 col0\" >median</th>        <th class=\"col_heading level1 col1\" >mean</th>        <th class=\"col_heading level1 col2\" >var</th>        <th class=\"col_heading level1 col3\" >std</th>    </tr>    <tr>        <th class=\"index_name level0\" >tariff</th>        <th class=\"blank\" ></th>        <th class=\"blank\" ></th>        <th class=\"blank\" ></th>        <th class=\"blank\" ></th>    </tr></thead><tbody>\n",
       "                <tr>\n",
       "                        <th id=\"T_3df1b_level0_row0\" class=\"row_heading level0 row0\" >smart</th>\n",
       "                        <td id=\"T_3df1b_row0_col0\" class=\"data row0 col0\" >958.00</td>\n",
       "                        <td id=\"T_3df1b_row0_col1\" class=\"data row0 col1\" >1230.74</td>\n",
       "                        <td id=\"T_3df1b_row0_col2\" class=\"data row0 col2\" >617599.00</td>\n",
       "                        <td id=\"T_3df1b_row0_col3\" class=\"data row0 col3\" >785.87</td>\n",
       "            </tr>\n",
       "            <tr>\n",
       "                        <th id=\"T_3df1b_level0_row1\" class=\"row_heading level0 row1\" >ultra</th>\n",
       "                        <td id=\"T_3df1b_row1_col0\" class=\"data row1 col0\" >1950.00</td>\n",
       "                        <td id=\"T_3df1b_row1_col1\" class=\"data row1 col1\" >2059.94</td>\n",
       "                        <td id=\"T_3df1b_row1_col2\" class=\"data row1 col2\" >126033.25</td>\n",
       "                        <td id=\"T_3df1b_row1_col3\" class=\"data row1 col3\" >355.01</td>\n",
       "            </tr>\n",
       "    </tbody></table>"
      ],
      "text/plain": [
       "<pandas.io.formats.style.Styler at 0x7f01a432b3d0>"
      ]
     },
     "execution_count": 50,
     "metadata": {},
     "output_type": "execute_result"
    }
   ],
   "source": [
    "df.groupby('tariff')\\\n",
    "  .agg({'revenue':['median','mean','var','std']})\\\n",
    "  .style.format(\"{:.2f}\")"
   ]
  },
  {
   "cell_type": "markdown",
   "metadata": {},
   "source": [
    "В тарифе \"Ультрa\" в основном платят по тарифу и мелкими группами вылазят на каждую тысячу рублей. А у тарифа \"Смарт\" люди выходят за абонентскую плату чаще, для них это как будто дело привычное."
   ]
  },
  {
   "cell_type": "code",
   "execution_count": 51,
   "metadata": {},
   "outputs": [
    {
     "data": {
      "text/html": [
       "<style  type=\"text/css\" >\n",
       "</style><table id=\"T_0ce8d_\" ><thead>    <tr>        <th class=\"blank level0\" ></th>        <th class=\"col_heading level0 col0\" colspan=\"4\">month_calls_duration</th>    </tr>    <tr>        <th class=\"blank level1\" ></th>        <th class=\"col_heading level1 col0\" >median</th>        <th class=\"col_heading level1 col1\" >mean</th>        <th class=\"col_heading level1 col2\" >var</th>        <th class=\"col_heading level1 col3\" >std</th>    </tr>    <tr>        <th class=\"index_name level0\" >tariff</th>        <th class=\"blank\" ></th>        <th class=\"blank\" ></th>        <th class=\"blank\" ></th>        <th class=\"blank\" ></th>    </tr></thead><tbody>\n",
       "                <tr>\n",
       "                        <th id=\"T_0ce8d_level0_row0\" class=\"row_heading level0 row0\" >smart</th>\n",
       "                        <td id=\"T_0ce8d_row0_col0\" class=\"data row0 col0\" >422.00</td>\n",
       "                        <td id=\"T_0ce8d_row0_col1\" class=\"data row0 col1\" >417.93</td>\n",
       "                        <td id=\"T_0ce8d_row0_col2\" class=\"data row0 col2\" >36219.32</td>\n",
       "                        <td id=\"T_0ce8d_row0_col3\" class=\"data row0 col3\" >190.31</td>\n",
       "            </tr>\n",
       "            <tr>\n",
       "                        <th id=\"T_0ce8d_level0_row1\" class=\"row_heading level0 row1\" >ultra</th>\n",
       "                        <td id=\"T_0ce8d_row1_col0\" class=\"data row1 col0\" >518.00</td>\n",
       "                        <td id=\"T_0ce8d_row1_col1\" class=\"data row1 col1\" >526.62</td>\n",
       "                        <td id=\"T_0ce8d_row1_col2\" class=\"data row1 col2\" >100873.63</td>\n",
       "                        <td id=\"T_0ce8d_row1_col3\" class=\"data row1 col3\" >317.61</td>\n",
       "            </tr>\n",
       "    </tbody></table>"
      ],
      "text/plain": [
       "<pandas.io.formats.style.Styler at 0x7f01a41d0640>"
      ]
     },
     "execution_count": 51,
     "metadata": {},
     "output_type": "execute_result"
    }
   ],
   "source": [
    "df.groupby('tariff')\\\n",
    "  .agg({'month_calls_duration':['median','mean','var','std']})\\\n",
    "  .style.format(\"{:.2f}\")"
   ]
  },
  {
   "cell_type": "code",
   "execution_count": 52,
   "metadata": {},
   "outputs": [
    {
     "data": {
      "image/png": "[encoded data removed]",
      "text/plain": [
       "<Figure size 432x288 with 1 Axes>"
      ]
     },
     "metadata": {
      "needs_background": "light"
     },
     "output_type": "display_data"
    }
   ],
   "source": [
    "df[df['tariff'] == 'smart']['month_calls_duration'].plot(kind='hist', bins=10)\n",
    "plt.title('Смарт — Звонки в минутах в месяц');"
   ]
  },
  {
   "cell_type": "code",
   "execution_count": 53,
   "metadata": {},
   "outputs": [
    {
     "data": {
      "image/png": "[encoded data removed]",
      "text/plain": [
       "<Figure size 432x288 with 1 Axes>"
      ]
     },
     "metadata": {
      "needs_background": "light"
     },
     "output_type": "display_data"
    }
   ],
   "source": [
    "df[df['tariff'] == 'ultra']['month_calls_duration'].plot(kind='hist', bins=10)\n",
    "plt.title('Ультра — Звонки в минутах в месяц');"
   ]
  },
  {
   "cell_type": "markdown",
   "metadata": {},
   "source": [
    "На \"Смарте\" люди в месяц говорят около 450 минут, на \"Ультре\" 550 минут в месяц. Можно сказать, что на \"Смарте\" люди подходят к краю своего тарифа, а на \"Ультре' у них остается запас 2500 минут. Среднее и медиана лежат рядом и там и там."
   ]
  },
  {
   "cell_type": "code",
   "execution_count": 54,
   "metadata": {},
   "outputs": [
    {
     "data": {
      "text/html": [
       "<style  type=\"text/css\" >\n",
       "</style><table id=\"T_42d3f_\" ><thead>    <tr>        <th class=\"blank level0\" ></th>        <th class=\"col_heading level0 col0\" colspan=\"4\">mb_total_in_month</th>    </tr>    <tr>        <th class=\"blank level1\" ></th>        <th class=\"col_heading level1 col0\" >median</th>        <th class=\"col_heading level1 col1\" >mean</th>        <th class=\"col_heading level1 col2\" >var</th>        <th class=\"col_heading level1 col3\" >std</th>    </tr>    <tr>        <th class=\"index_name level0\" >tariff</th>        <th class=\"blank\" ></th>        <th class=\"blank\" ></th>        <th class=\"blank\" ></th>        <th class=\"blank\" ></th>    </tr></thead><tbody>\n",
       "                <tr>\n",
       "                        <th id=\"T_42d3f_level0_row0\" class=\"row_heading level0 row0\" >smart</th>\n",
       "                        <td id=\"T_42d3f_row0_col0\" class=\"data row0 col0\" >16506.84</td>\n",
       "                        <td id=\"T_42d3f_row0_col1\" class=\"data row0 col1\" >16208.39</td>\n",
       "                        <td id=\"T_42d3f_row0_col2\" class=\"data row0 col2\" >34462496.46</td>\n",
       "                        <td id=\"T_42d3f_row0_col3\" class=\"data row0 col3\" >5870.48</td>\n",
       "            </tr>\n",
       "            <tr>\n",
       "                        <th id=\"T_42d3f_level0_row1\" class=\"row_heading level0 row1\" >ultra</th>\n",
       "                        <td id=\"T_42d3f_row1_col0\" class=\"data row1 col0\" >19308.01</td>\n",
       "                        <td id=\"T_42d3f_row1_col1\" class=\"data row1 col1\" >19468.81</td>\n",
       "                        <td id=\"T_42d3f_row1_col2\" class=\"data row1 col2\" >101751013.78</td>\n",
       "                        <td id=\"T_42d3f_row1_col3\" class=\"data row1 col3\" >10087.17</td>\n",
       "            </tr>\n",
       "    </tbody></table>"
      ],
      "text/plain": [
       "<pandas.io.formats.style.Styler at 0x7f01a4126fd0>"
      ]
     },
     "execution_count": 54,
     "metadata": {},
     "output_type": "execute_result"
    }
   ],
   "source": [
    "df.groupby('tariff')\\\n",
    "  .agg({'mb_total_in_month':['median','mean','var','std']})\\\n",
    "  .style.format(\"{:.2f}\")"
   ]
  },
  {
   "cell_type": "code",
   "execution_count": 55,
   "metadata": {
    "scrolled": true
   },
   "outputs": [
    {
     "data": {
      "image/png": "[encoded data removed]",
      "text/plain": [
       "<Figure size 432x288 with 1 Axes>"
      ]
     },
     "metadata": {
      "needs_background": "light"
     },
     "output_type": "display_data"
    }
   ],
   "source": [
    "df[df['tariff'] == 'smart']['mb_total_in_month'].plot(kind='hist', bins=10)\n",
    "plt.title('Смарт — Интернет в МБ в месяц');"
   ]
  },
  {
   "cell_type": "code",
   "execution_count": 56,
   "metadata": {
    "scrolled": true
   },
   "outputs": [
    {
     "data": {
      "image/png": "[encoded data removed]",
      "text/plain": [
       "<Figure size 432x288 with 1 Axes>"
      ]
     },
     "metadata": {
      "needs_background": "light"
     },
     "output_type": "display_data"
    }
   ],
   "source": [
    "df[df['tariff'] == 'ultra']['mb_total_in_month'].plot(kind='hist', bins=10)\n",
    "plt.title('Ультра — Интернет в МБ в месяц');"
   ]
  },
  {
   "cell_type": "markdown",
   "metadata": {},
   "source": [
    "<div style=\"border:solid Green 2px; padding: 40px\">\n",
    "<div class=\"alert alert-success\">\n",
    "<h2> Комментарий ревьюера <a class=\"tocSkip\"> </h2>\n",
    "\n",
    "<font color='green'><b>Все отлично! 👍:</b>  </font>\n",
    "    \n",
    "Техническую строку `<AxesSubplot:...>` можно убрать с помощью метода plt.show() или добавления в конце кода `;`\n",
    "  \n",
    "</div>"
   ]
  },
  {
   "cell_type": "markdown",
   "metadata": {},
   "source": [
    "Среднее и медиана лежат рядом так же. На Смарте люди выходят за пределы тарифа больше, у Ультры снова запас — в 10 Гб, но и разброс больше"
   ]
  },
  {
   "cell_type": "code",
   "execution_count": 57,
   "metadata": {},
   "outputs": [
    {
     "data": {
      "text/html": [
       "<style  type=\"text/css\" >\n",
       "</style><table id=\"T_47aaa_\" ><thead>    <tr>        <th class=\"blank level0\" ></th>        <th class=\"col_heading level0 col0\" colspan=\"4\">sms_total_in_month</th>    </tr>    <tr>        <th class=\"blank level1\" ></th>        <th class=\"col_heading level1 col0\" >median</th>        <th class=\"col_heading level1 col1\" >mean</th>        <th class=\"col_heading level1 col2\" >var</th>        <th class=\"col_heading level1 col3\" >std</th>    </tr>    <tr>        <th class=\"index_name level0\" >tariff</th>        <th class=\"blank\" ></th>        <th class=\"blank\" ></th>        <th class=\"blank\" ></th>        <th class=\"blank\" ></th>    </tr></thead><tbody>\n",
       "                <tr>\n",
       "                        <th id=\"T_47aaa_level0_row0\" class=\"row_heading level0 row0\" >smart</th>\n",
       "                        <td id=\"T_47aaa_row0_col0\" class=\"data row0 col0\" >28.00</td>\n",
       "                        <td id=\"T_47aaa_row0_col1\" class=\"data row0 col1\" >33.38</td>\n",
       "                        <td id=\"T_47aaa_row0_col2\" class=\"data row0 col2\" >796.81</td>\n",
       "                        <td id=\"T_47aaa_row0_col3\" class=\"data row0 col3\" >28.23</td>\n",
       "            </tr>\n",
       "            <tr>\n",
       "                        <th id=\"T_47aaa_level0_row1\" class=\"row_heading level0 row1\" >ultra</th>\n",
       "                        <td id=\"T_47aaa_row1_col0\" class=\"data row1 col0\" >38.00</td>\n",
       "                        <td id=\"T_47aaa_row1_col1\" class=\"data row1 col1\" >49.36</td>\n",
       "                        <td id=\"T_47aaa_row1_col2\" class=\"data row1 col2\" >2285.27</td>\n",
       "                        <td id=\"T_47aaa_row1_col3\" class=\"data row1 col3\" >47.80</td>\n",
       "            </tr>\n",
       "    </tbody></table>"
      ],
      "text/plain": [
       "<pandas.io.formats.style.Styler at 0x7f01a4061550>"
      ]
     },
     "execution_count": 57,
     "metadata": {},
     "output_type": "execute_result"
    }
   ],
   "source": [
    "df.groupby('tariff')\\\n",
    "  .agg({'sms_total_in_month':['median','mean','var','std']})\\\n",
    "  .style.format(\"{:.2f}\")"
   ]
  },
  {
   "cell_type": "code",
   "execution_count": 58,
   "metadata": {},
   "outputs": [
    {
     "data": {
      "image/png": "[encoded data removed]",
      "text/plain": [
       "<Figure size 432x288 with 1 Axes>"
      ]
     },
     "metadata": {
      "needs_background": "light"
     },
     "output_type": "display_data"
    }
   ],
   "source": [
    "df[df['tariff'] == 'smart']['sms_total_in_month'].plot(kind='hist', bins=10)\n",
    "plt.title('Смарт — СМС в месяц');"
   ]
  },
  {
   "cell_type": "code",
   "execution_count": 59,
   "metadata": {},
   "outputs": [
    {
     "data": {
      "image/png": "[encoded data removed]",
      "text/plain": [
       "<Figure size 432x288 with 1 Axes>"
      ]
     },
     "metadata": {
      "needs_background": "light"
     },
     "output_type": "display_data"
    }
   ],
   "source": [
    "df[df['tariff'] == 'ultra']['sms_total_in_month'].plot(kind='hist', bins=10)\n",
    "plt.title('Ультра — СМС в месяц');"
   ]
  },
  {
   "cell_type": "markdown",
   "metadata": {},
   "source": [
    "Поведение клиентов обоих тарифов выглядит похожим, разве что смски особо никому не нужны."
   ]
  },
  {
   "cell_type": "markdown",
   "metadata": {},
   "source": [
    "#### Вывод: \n",
    "Клиенты \"Смарта\" стараются получить максимум от тарифа. СМС в наше время не так актуальны ввиду мессенджеров и социальных сетей, которые \"отбирают\" клиентов у СМС. Клиенты тарифа \"Ультра\" не пользуются во всю меру своим тарифом. Ну разве что по СМС и минутам.\n",
    "\n",
    "Как итог, люди тарифа \"Смарт\" часто докупают пакеты минут и ГБ, так как им их не хватает, а люди тарифа \"Ультра\" очень редко пользуются такой опцией."
   ]
  },
  {
   "cell_type": "markdown",
   "metadata": {},
   "source": [
    "<div style=\"border:solid Green 2px; padding: 40px\">\n",
    "<div class=\"alert alert-success\">\n",
    "<h2> Комментарий ревьюера <a class=\"tocSkip\"> </h2>\n",
    "\n",
    "<font color='green'><b>Все отлично! 👍:</b>  </font>\n",
    "    \n",
    "Молодец.\n",
    "    \n",
    "</div>"
   ]
  },
  {
   "cell_type": "markdown",
   "metadata": {},
   "source": [
    "## Шаг 4. Проверим гипотезы"
   ]
  },
  {
   "cell_type": "code",
   "execution_count": 60,
   "metadata": {},
   "outputs": [],
   "source": [
    "# Напишем функцию для удаления выбросов\n",
    "\n",
    "def delete_outliers(df, column, graphic=0, x = 10, y = 10):\n",
    "    q1 = df[column].quantile(0.25)                 \n",
    "    q3 = df[column].quantile(0.75)\n",
    "    iqr = q3 - q1\n",
    "    iqr_test = (df[column] >= (q1 - 1.5 * iqr)) & (df[column] <= (q3 + 1.5 * iqr))\n",
    "    if graphic == 1:\n",
    "        return df.loc[iqr_test].boxplot([column], figsize=(x,y))\n",
    "    else:\n",
    "        return df.loc[iqr_test]"
   ]
  },
  {
   "cell_type": "markdown",
   "metadata": {},
   "source": [
    "Будем использовать t-критерий Стьюдента, так как сравниваемые выборки независимы между собой.\n",
    "\n",
    "### Гипотеза о равенстве средних двух генеральных совокупностей №1\n",
    "\n",
    "Сформулируем гипотезы:\n",
    "\n",
    "+ H0: выручка пользователей тарифов «Ультра» и «Смарт» не различается\n",
    "+ H1: выручка пользователей тарифов «Ультра» и «Смарт» различается\n"
   ]
  },
  {
   "cell_type": "code",
   "execution_count": 61,
   "metadata": {},
   "outputs": [],
   "source": [
    "ultra = df[df['tariff'] == 'ultra']\n",
    "smart = df[df['tariff'] == 'smart']\n"
   ]
  },
  {
   "cell_type": "code",
   "execution_count": 62,
   "metadata": {},
   "outputs": [],
   "source": [
    "ultra = delete_outliers(ultra, 'revenue', 0)\n",
    "ultra = ultra['revenue']\n",
    "smart = delete_outliers(smart, 'revenue', 0)\n",
    "smart = smart['revenue']"
   ]
  },
  {
   "cell_type": "code",
   "execution_count": 63,
   "metadata": {},
   "outputs": [
    {
     "name": "stdout",
     "output_type": "stream",
     "text": [
      "p-значение: 7.855133009292105e-203\n",
      "Отвергаем нулевую гипотезу\n"
     ]
    }
   ],
   "source": [
    "alpha = 0.05\n",
    "results = st.ttest_ind(ultra, smart)\n",
    "# equal_var = False\n",
    "\n",
    "print('p-значение:', results.pvalue)\n",
    "\n",
    "if (results.pvalue < alpha):\n",
    "    print(\"Отвергаем нулевую гипотезу\")\n",
    "else:\n",
    "    print(\"Не получилось отвергнуть нулевую гипотезу\")"
   ]
  },
  {
   "cell_type": "markdown",
   "metadata": {},
   "source": [
    "Разница не случайна, в среднем по выручке тарифов имеются статистически значимые различия.\n"
   ]
  },
  {
   "cell_type": "code",
   "execution_count": 64,
   "metadata": {},
   "outputs": [
    {
     "name": "stdout",
     "output_type": "stream",
     "text": [
      "Средняя выручка по тарифу Smart: 1179.53\n",
      "Средняя выручка по тарифу Ultra: 1950.00\n"
     ]
    }
   ],
   "source": [
    "#Проверим у кого больше.\n",
    "\n",
    "print('Средняя выручка по тарифу Smart: {:.2f}'.format(smart.mean()))\n",
    "print('Средняя выручка по тарифу Ultra: {:.2f}'.format(ultra.mean()))"
   ]
  },
  {
   "cell_type": "markdown",
   "metadata": {},
   "source": [
    "Выручка у тарифа Ultra больше чем у тарифа Smart."
   ]
  },
  {
   "cell_type": "markdown",
   "metadata": {},
   "source": [
    "Гипотеза о равенстве средних двух генеральных совокупностей №2\n",
    "\n",
    "### Сформулируем гипотезы:\n",
    "\n",
    "+ H0: средняя выручка пользователей из Москвы не отличается от выручки пользователей из других регионов\n",
    "+ H1: средняя выручка пользователей из Москвы отличается от выручки пользователей из других регионов"
   ]
  },
  {
   "cell_type": "code",
   "execution_count": 65,
   "metadata": {},
   "outputs": [
    {
     "data": {
      "text/plain": [
       "array(['Краснодар', 'Москва', 'Стерлитамак', 'Новокузнецк',\n",
       "       'Набережные Челны', 'Ульяновск', 'Челябинск', 'Пермь', 'Тюмень',\n",
       "       'Самара', 'Санкт-Петербург', 'Иваново', 'Чебоксары', 'Омск', 'Уфа',\n",
       "       'Томск', 'Чита', 'Мурманск', 'Петрозаводск', 'Тверь',\n",
       "       'Екатеринбург', 'Махачкала', 'Вологда', 'Череповец', 'Ярославль',\n",
       "       'Сочи', 'Хабаровск', 'Ставрополь', 'Рязань', 'Улан-Удэ', 'Тула',\n",
       "       'Саратов', 'Ростов-на-Дону', 'Казань', 'Иркутск', 'Курск',\n",
       "       'Калуга', 'Якутск', 'Астрахань', 'Химки', 'Владикавказ',\n",
       "       'Волгоград', 'Саранск', 'Ижевск', 'Новосибирск', 'Брянск',\n",
       "       'Тольятти', 'Нижний Тагил', 'Орёл', 'Белгород', 'Воронеж',\n",
       "       'Курган', 'Барнаул', 'Красноярск', 'Архангельск', 'Липецк',\n",
       "       'Кемерово', 'Киров', 'Сургут', 'Пенза', 'Волжский', 'Магнитогорск',\n",
       "       'Нижний Новгород', 'Кострома', 'Владивосток', 'Тамбов', 'Балашиха',\n",
       "       'Севастополь', 'Калининград', 'Оренбург', 'Смоленск',\n",
       "       'Нижневартовск', 'Владимир', 'Новороссийск', 'Грозный', 'Подольск'],\n",
       "      dtype=object)"
      ]
     },
     "execution_count": 65,
     "metadata": {},
     "output_type": "execute_result"
    }
   ],
   "source": [
    "df['city'].unique()"
   ]
  },
  {
   "cell_type": "code",
   "execution_count": 66,
   "metadata": {},
   "outputs": [],
   "source": [
    "df['region'] = np.where(df['city'] == 'Москва', 'Москва', 'Провинция')\n",
    "moscow = df[df['region'] == 'Москва']\n",
    "province = df[df['region'] == 'Провинция']"
   ]
  },
  {
   "cell_type": "code",
   "execution_count": 67,
   "metadata": {},
   "outputs": [],
   "source": [
    "moscow = delete_outliers(moscow, 'revenue', 0)\n",
    "moscow = moscow['revenue']"
   ]
  },
  {
   "cell_type": "code",
   "execution_count": 68,
   "metadata": {},
   "outputs": [],
   "source": [
    "province = delete_outliers(province, 'revenue', 0)\n",
    "province = province['revenue']\n"
   ]
  },
  {
   "cell_type": "code",
   "execution_count": 69,
   "metadata": {},
   "outputs": [
    {
     "name": "stdout",
     "output_type": "stream",
     "text": [
      "p-значение: 0.27741835756809463\n",
      "Не получилось отвергнуть нулевую гипотезу\n"
     ]
    }
   ],
   "source": [
    "results = st.ttest_ind(moscow, province)\n",
    "# equal_var = False\n",
    "\n",
    "print('p-значение:', results.pvalue)\n",
    "\n",
    "if (results.pvalue < alpha):\n",
    "    print(\"Отвергаем нулевую гипотезу\")\n",
    "else:\n",
    "    print(\"Не получилось отвергнуть нулевую гипотезу\")"
   ]
  },
  {
   "cell_type": "markdown",
   "metadata": {},
   "source": [
    "С вероятностью в 28% такой результат может быть получен случайно. Значимых различий нет.\n",
    "\n"
   ]
  },
  {
   "cell_type": "code",
   "execution_count": 70,
   "metadata": {},
   "outputs": [
    {
     "name": "stdout",
     "output_type": "stream",
     "text": [
      "Средняя выручка по Москве: 1487.45\n",
      "Средняя выручка по регионам: 1451.64\n"
     ]
    }
   ],
   "source": [
    "#Посмотрим чему они равны.\n",
    "\n",
    "print('Средняя выручка по Москве: {:.2f}'.format(moscow.mean()))\n",
    "print('Средняя выручка по регионам: {:.2f}'.format(province.mean()))"
   ]
  },
  {
   "cell_type": "markdown",
   "metadata": {},
   "source": [
    "Разница 30 рублей"
   ]
  },
  {
   "cell_type": "markdown",
   "metadata": {},
   "source": [
    "<div style=\"border:solid Green 2px; padding: 40px\">\n",
    "<div class=\"alert alert-success\">\n",
    "<h2> Комментарий ревьюера <a class=\"tocSkip\"> </h2>\n",
    "\n",
    "<font color='green'><b>Все отлично! 👍:</b>  </font>\n",
    "\n",
    "Верно выбран двусторонний тест. Отлично, что выводишь значение `results.pvalue`, в случае, если оно расчиталось не верно (например, равно NaN) - это можно сразу увидеть. Результат проверки верный. У нас действительно есть основания отвергнуть гипотезу о том, что выручки по тарифам одинаковы, но нет оснований считать что выручка с Москвы и регионов существенно отличается\n",
    "    \n",
    "    \n",
    "</div>"
   ]
  },
  {
   "cell_type": "markdown",
   "metadata": {},
   "source": [
    "## 5. Общий вывод\n",
    "\n",
    "У тарифа Смарт более чем в 2 раза больше абонентов - приносит компании 58% выручки. На тариф Ультра приходится 42% выручки. Тариф Смарт побеждает за счет численности абонентов.\n",
    "Люди на разных тарифах ведут себя по-разному, что наверно и хорошо. Так и должно работать сегментирование. Но Смарт  переплачивают -  это может приводить к разочарованию и оттоку клиентов.\n",
    "\n",
    "Абонентам тарифа Смарт часто не хватает выделенных лимитов и они покупают дополнительный пакет услуг. 53% прибыли на этом тарифе приходитя на платежы сверх абонентской платы. Абоненты тарифа Ультра в среднем используют больше трафика интернета и дольше разговаривают, но они не выходят за рамки тарифа, лишь 6% прибыли это платежы сверх аббонентской платы. В обоих тарифах есть большое число клиентов, которые не отправляют (или почти не отправляют) сообщения. \n",
    "\n",
    "Деньги одинаково текут и из регионов и из Москвы, и вероятно это не связано с уровнем жизни, а с поведением: ~8-10 часов в месяц — это предел у среднего клиента на обоих тарифах.\n",
    "\n",
    "\n",
    "В ходе проекта, была произведена работа с данными - удалены \"шумы\" из данных, которые бы повлияли на дальнейший ход анализа. Также было проверено две гипотезы о том, что люди из разных городов платят разные суммы денег и о том, что на разных тарифах в среднем люди платят одинаково.\n",
    "\n",
    "В качестве рекомендации, могу предложить пересмотр тарифных сеток. По Ультра часть услуг можно снизить, так как люди их всё равно не используют и им можно продать их в том случае, когда они реально нужны в качестве доп.опции. Клиентам Смарт можно предложить единый доп.пакет, который бы включал Гб и минуты, так как это две опции, которые они используют по полной, по скидочной цене.\n",
    "\n",
    "\n",
    "Также на обоих тарифах можно сократить/убрать СМС, так как ими мало кто пользуется. СМС можно в дальнейшем продавать как доп.опцию, но не пакетом, а в стоимости за штуку, например."
   ]
  },
  {
   "cell_type": "markdown",
   "metadata": {},
   "source": [
    "<div style=\"border:solid Orange 2px; padding: 40px\">\n",
    "<div class=\"alert alert-warning\">\n",
    "    <h2> Комментарий ревьюера <a class=\"tocSkip\"> </h2>\n",
    "    \n",
    "<font color='Orange'><b>Некоторые рекомендации 💡:</b> </font>   \n",
    "\n",
    "Я правильно поняла, исходя из твоего вывода, что из этих двух тарифов, тариф Смарт выгоднее для сотового оператора? Немного размыто написан ответ на главный вопрос. \n",
    "        \n",
    "</div>"
   ]
  },
  {
   "cell_type": "markdown",
   "metadata": {},
   "source": [
    "<div style=\"border:solid Chocolate 2px; padding: 40px\">\n",
    "\n",
    "**Общий вывод по проекту**\n",
    "\n",
    "Спасибо за твой проект! Проделана большая работа, и видно твое внимательное отношение к содержанию анализа и к оформлению. Ты молодец! Все ключевые этапы работы над проектом выполнены, код логичен и понятен, комментарии и выводы написаны, так что в целом справиться с задачей тебе удалось. Возле моментов, на которые стоит обратить внимание, я оставила комментарии.\n",
    "    \n",
    "**Отдельно хочу отметить положительные моменты в твоей работе:**\n",
    "    \n",
    "* Очень хорошо расписаны комментарии и план решения на каждом этапе проекта, становится понятен твой ход мысли. В будущем при необходимости вернуться к проекту, тебе тоже будет легко вспомнить логику анализа.\n",
    "* На всех этапах тобой предложены интересные решения и методы для их реализации.\n",
    "* Ты активно используешь визуализацию. Это здорово, т.к. помогает быстро считать информацию получателю отчета.\n",
    "* Ты логично делаешь выводы, на основе полученной информации.\n",
    "    \n",
    "\n",
    "**Моменты, требующие внимания:**\n",
    "    \n",
    "* Пересмотри подход к округлению минут и интернет-трафика, а также к переводу Мб в Гб.\n",
    "* Перепроверь расчет выручки.\n",
    "* Обязательно соотнеси итоговый вывод, после учета всех комментарий.\n",
    "* Остальные рекомендации ты найдешь в моих комментариях! \n",
    "    \n",
    "\n",
    "    \n",
    "**Желаю удачи и жду твой проект на повторное ревью!** "
   ]
  },
  {
   "cell_type": "markdown",
   "metadata": {},
   "source": [
    "<div style=\"border:solid Green 2px; padding: 40px\">\n",
    "\n",
    "<h3> Комментарий ревьюера_V2 <a class=\"tocSkip\"> </h3>\n",
    "\n",
    "\n",
    "Спасибо за доработку. Проект принят. Желаю удачи в дальнейшем обучении.\n",
    "    \n",
    "</div>"
   ]
  },
  {
   "cell_type": "code",
   "execution_count": null,
   "metadata": {},
   "outputs": [],
   "source": []
  }
 ],
 "metadata": {
  "ExecuteTimeLog": [
   {
    "duration": 2332,
    "start_time": "2022-06-02T09:23:40.201Z"
   },
   {
    "duration": 40,
    "start_time": "2022-06-02T09:24:18.417Z"
   },
   {
    "duration": 40,
    "start_time": "2022-06-02T09:25:02.354Z"
   },
   {
    "duration": 28,
    "start_time": "2022-06-02T09:25:14.283Z"
   },
   {
    "duration": 3,
    "start_time": "2022-06-02T10:21:16.151Z"
   },
   {
    "duration": 2,
    "start_time": "2022-06-02T13:38:55.404Z"
   },
   {
    "duration": 15,
    "start_time": "2022-06-02T13:39:34.192Z"
   },
   {
    "duration": 11,
    "start_time": "2022-06-02T13:40:00.968Z"
   },
   {
    "duration": 15,
    "start_time": "2022-06-02T13:40:25.457Z"
   },
   {
    "duration": 1201,
    "start_time": "2022-06-02T13:41:32.774Z"
   },
   {
    "duration": 3,
    "start_time": "2022-06-02T13:41:33.977Z"
   },
   {
    "duration": 22,
    "start_time": "2022-06-02T13:41:33.981Z"
   },
   {
    "duration": 13,
    "start_time": "2022-06-02T13:41:34.005Z"
   },
   {
    "duration": 138,
    "start_time": "2022-06-02T13:45:45.923Z"
   },
   {
    "duration": 9,
    "start_time": "2022-06-02T13:46:07.935Z"
   },
   {
    "duration": 137,
    "start_time": "2022-06-02T13:46:30.079Z"
   },
   {
    "duration": 140,
    "start_time": "2022-06-02T13:46:36.167Z"
   },
   {
    "duration": 166,
    "start_time": "2022-06-02T13:46:49.225Z"
   },
   {
    "duration": 140,
    "start_time": "2022-06-02T13:46:54.908Z"
   },
   {
    "duration": 146,
    "start_time": "2022-06-02T13:47:53.591Z"
   },
   {
    "duration": 77,
    "start_time": "2022-06-02T13:51:01.934Z"
   },
   {
    "duration": 3,
    "start_time": "2022-06-02T13:51:19.483Z"
   },
   {
    "duration": 8,
    "start_time": "2022-06-02T13:51:23.593Z"
   },
   {
    "duration": 9,
    "start_time": "2022-06-02T13:51:30.252Z"
   },
   {
    "duration": 69,
    "start_time": "2022-06-02T13:51:46.894Z"
   },
   {
    "duration": 14,
    "start_time": "2022-06-02T13:51:55.526Z"
   },
   {
    "duration": 97,
    "start_time": "2022-06-02T14:01:13.604Z"
   },
   {
    "duration": 9,
    "start_time": "2022-06-02T14:01:31.071Z"
   },
   {
    "duration": 238,
    "start_time": "2022-06-02T14:02:23.757Z"
   },
   {
    "duration": 9,
    "start_time": "2022-06-02T14:02:44.439Z"
   },
   {
    "duration": 13,
    "start_time": "2022-06-02T14:06:16.294Z"
   },
   {
    "duration": 9,
    "start_time": "2022-06-02T14:06:37.188Z"
   },
   {
    "duration": 85,
    "start_time": "2022-06-02T14:45:51.593Z"
   },
   {
    "duration": 16,
    "start_time": "2022-06-02T14:46:56.746Z"
   },
   {
    "duration": 75,
    "start_time": "2022-06-02T14:47:44.646Z"
   },
   {
    "duration": 3,
    "start_time": "2022-06-02T14:48:10.942Z"
   },
   {
    "duration": 43,
    "start_time": "2022-06-02T14:48:16.802Z"
   },
   {
    "duration": 42,
    "start_time": "2022-06-02T14:48:37.870Z"
   },
   {
    "duration": 49,
    "start_time": "2022-06-02T14:49:20.062Z"
   },
   {
    "duration": 14,
    "start_time": "2022-06-02T14:49:48.168Z"
   },
   {
    "duration": 74,
    "start_time": "2022-06-02T14:50:18.603Z"
   },
   {
    "duration": 15,
    "start_time": "2022-06-02T14:50:51.048Z"
   },
   {
    "duration": 8,
    "start_time": "2022-06-02T14:51:50.057Z"
   },
   {
    "duration": 80,
    "start_time": "2022-06-02T14:54:20.936Z"
   },
   {
    "duration": 116,
    "start_time": "2022-06-02T14:55:04.836Z"
   },
   {
    "duration": 437,
    "start_time": "2022-06-02T14:55:14.577Z"
   },
   {
    "duration": 3,
    "start_time": "2022-06-02T14:55:15.016Z"
   },
   {
    "duration": 25,
    "start_time": "2022-06-02T14:55:15.021Z"
   },
   {
    "duration": 14,
    "start_time": "2022-06-02T14:55:15.048Z"
   },
   {
    "duration": 161,
    "start_time": "2022-06-02T14:55:15.064Z"
   },
   {
    "duration": 9,
    "start_time": "2022-06-02T14:55:15.227Z"
   },
   {
    "duration": 94,
    "start_time": "2022-06-02T14:55:15.237Z"
   },
   {
    "duration": 8,
    "start_time": "2022-06-02T14:55:15.333Z"
   },
   {
    "duration": 116,
    "start_time": "2022-06-02T14:55:15.344Z"
   },
   {
    "duration": 10,
    "start_time": "2022-06-02T14:55:15.463Z"
   },
   {
    "duration": 15,
    "start_time": "2022-06-02T14:55:15.475Z"
   },
   {
    "duration": 44,
    "start_time": "2022-06-02T14:55:15.492Z"
   },
   {
    "duration": 12,
    "start_time": "2022-06-02T14:55:15.537Z"
   },
   {
    "duration": 84,
    "start_time": "2022-06-02T14:55:15.551Z"
   },
   {
    "duration": 14,
    "start_time": "2022-06-02T14:55:15.637Z"
   },
   {
    "duration": 107,
    "start_time": "2022-06-02T14:55:15.653Z"
   },
   {
    "duration": 63,
    "start_time": "2022-06-02T14:55:15.763Z"
   },
   {
    "duration": 51,
    "start_time": "2022-06-02T14:55:15.829Z"
   },
   {
    "duration": 12,
    "start_time": "2022-06-02T14:55:15.882Z"
   },
   {
    "duration": 89,
    "start_time": "2022-06-02T14:55:15.895Z"
   },
   {
    "duration": 13,
    "start_time": "2022-06-02T14:55:15.986Z"
   },
   {
    "duration": 30,
    "start_time": "2022-06-02T14:55:16.001Z"
   },
   {
    "duration": 75,
    "start_time": "2022-06-02T14:55:16.033Z"
   },
   {
    "duration": 26,
    "start_time": "2022-06-02T14:55:43.903Z"
   },
   {
    "duration": 1412,
    "start_time": "2022-06-02T14:55:57.917Z"
   },
   {
    "duration": 3,
    "start_time": "2022-06-02T14:55:59.331Z"
   },
   {
    "duration": 23,
    "start_time": "2022-06-02T14:55:59.336Z"
   },
   {
    "duration": 18,
    "start_time": "2022-06-02T14:55:59.361Z"
   },
   {
    "duration": 163,
    "start_time": "2022-06-02T14:55:59.380Z"
   },
   {
    "duration": 8,
    "start_time": "2022-06-02T14:55:59.545Z"
   },
   {
    "duration": 84,
    "start_time": "2022-06-02T14:55:59.554Z"
   },
   {
    "duration": 9,
    "start_time": "2022-06-02T14:55:59.640Z"
   },
   {
    "duration": 111,
    "start_time": "2022-06-02T14:55:59.650Z"
   },
   {
    "duration": 9,
    "start_time": "2022-06-02T14:55:59.765Z"
   },
   {
    "duration": 13,
    "start_time": "2022-06-02T14:55:59.776Z"
   },
   {
    "duration": 38,
    "start_time": "2022-06-02T14:55:59.791Z"
   },
   {
    "duration": 7,
    "start_time": "2022-06-02T14:55:59.831Z"
   },
   {
    "duration": 61,
    "start_time": "2022-06-02T14:55:59.840Z"
   },
   {
    "duration": 33,
    "start_time": "2022-06-02T14:55:59.903Z"
   },
   {
    "duration": 101,
    "start_time": "2022-06-02T14:55:59.938Z"
   },
   {
    "duration": 43,
    "start_time": "2022-06-02T14:56:00.041Z"
   },
   {
    "duration": 63,
    "start_time": "2022-06-02T14:56:00.086Z"
   },
   {
    "duration": 12,
    "start_time": "2022-06-02T14:56:00.151Z"
   },
   {
    "duration": 82,
    "start_time": "2022-06-02T14:56:00.165Z"
   },
   {
    "duration": 16,
    "start_time": "2022-06-02T14:56:00.249Z"
   },
   {
    "duration": 26,
    "start_time": "2022-06-02T14:56:00.266Z"
   },
   {
    "duration": 105,
    "start_time": "2022-06-02T14:56:00.294Z"
   },
   {
    "duration": 116,
    "start_time": "2022-06-02T14:56:12.044Z"
   },
   {
    "duration": 415,
    "start_time": "2022-06-02T14:57:10.978Z"
   },
   {
    "duration": 3,
    "start_time": "2022-06-02T14:57:11.395Z"
   },
   {
    "duration": 17,
    "start_time": "2022-06-02T14:57:11.400Z"
   },
   {
    "duration": 13,
    "start_time": "2022-06-02T14:57:11.420Z"
   },
   {
    "duration": 143,
    "start_time": "2022-06-02T14:57:11.435Z"
   },
   {
    "duration": 9,
    "start_time": "2022-06-02T14:57:11.580Z"
   },
   {
    "duration": 90,
    "start_time": "2022-06-02T14:57:11.590Z"
   },
   {
    "duration": 9,
    "start_time": "2022-06-02T14:57:11.681Z"
   },
   {
    "duration": 104,
    "start_time": "2022-06-02T14:57:11.691Z"
   },
   {
    "duration": 9,
    "start_time": "2022-06-02T14:57:11.797Z"
   },
   {
    "duration": 25,
    "start_time": "2022-06-02T14:57:11.807Z"
   },
   {
    "duration": 13,
    "start_time": "2022-06-02T14:57:11.833Z"
   },
   {
    "duration": 12,
    "start_time": "2022-06-02T14:57:11.847Z"
   },
   {
    "duration": 84,
    "start_time": "2022-06-02T14:57:11.861Z"
   },
   {
    "duration": 11,
    "start_time": "2022-06-02T14:57:11.947Z"
   },
   {
    "duration": 94,
    "start_time": "2022-06-02T14:57:11.960Z"
   },
   {
    "duration": 42,
    "start_time": "2022-06-02T14:57:12.056Z"
   },
   {
    "duration": 62,
    "start_time": "2022-06-02T14:57:12.100Z"
   },
   {
    "duration": 11,
    "start_time": "2022-06-02T14:57:12.164Z"
   },
   {
    "duration": 81,
    "start_time": "2022-06-02T14:57:12.177Z"
   },
   {
    "duration": 15,
    "start_time": "2022-06-02T14:57:12.259Z"
   },
   {
    "duration": 12,
    "start_time": "2022-06-02T14:57:12.276Z"
   },
   {
    "duration": 98,
    "start_time": "2022-06-02T14:57:12.289Z"
   },
   {
    "duration": 25,
    "start_time": "2022-06-02T14:59:58.900Z"
   },
   {
    "duration": 433,
    "start_time": "2022-06-02T15:00:13.027Z"
   },
   {
    "duration": 3,
    "start_time": "2022-06-02T15:00:13.462Z"
   },
   {
    "duration": 18,
    "start_time": "2022-06-02T15:00:13.466Z"
   },
   {
    "duration": 11,
    "start_time": "2022-06-02T15:00:13.486Z"
   },
   {
    "duration": 132,
    "start_time": "2022-06-02T15:00:13.499Z"
   },
   {
    "duration": 9,
    "start_time": "2022-06-02T15:00:13.633Z"
   },
   {
    "duration": 84,
    "start_time": "2022-06-02T15:00:13.643Z"
   },
   {
    "duration": 7,
    "start_time": "2022-06-02T15:00:13.729Z"
   },
   {
    "duration": 103,
    "start_time": "2022-06-02T15:00:13.738Z"
   },
   {
    "duration": 9,
    "start_time": "2022-06-02T15:00:13.842Z"
   },
   {
    "duration": 50,
    "start_time": "2022-06-02T15:00:13.852Z"
   },
   {
    "duration": 17,
    "start_time": "2022-06-02T15:00:13.904Z"
   },
   {
    "duration": 15,
    "start_time": "2022-06-02T15:00:13.922Z"
   },
   {
    "duration": 62,
    "start_time": "2022-06-02T15:00:13.939Z"
   },
   {
    "duration": 12,
    "start_time": "2022-06-02T15:00:14.003Z"
   },
   {
    "duration": 67,
    "start_time": "2022-06-02T15:00:14.026Z"
   },
   {
    "duration": 58,
    "start_time": "2022-06-02T15:00:14.095Z"
   },
   {
    "duration": 46,
    "start_time": "2022-06-02T15:00:14.154Z"
   },
   {
    "duration": 35,
    "start_time": "2022-06-02T15:00:14.201Z"
   },
   {
    "duration": 142,
    "start_time": "2022-06-02T15:00:14.238Z"
   },
   {
    "duration": 17,
    "start_time": "2022-06-02T15:00:14.382Z"
   },
   {
    "duration": 38,
    "start_time": "2022-06-02T15:00:14.401Z"
   },
   {
    "duration": 71,
    "start_time": "2022-06-02T15:00:14.441Z"
   },
   {
    "duration": 28,
    "start_time": "2022-06-02T15:11:07.945Z"
   },
   {
    "duration": 502,
    "start_time": "2022-06-02T15:11:12.258Z"
   },
   {
    "duration": 3,
    "start_time": "2022-06-02T15:11:12.762Z"
   },
   {
    "duration": 18,
    "start_time": "2022-06-02T15:11:12.767Z"
   },
   {
    "duration": 12,
    "start_time": "2022-06-02T15:11:12.786Z"
   },
   {
    "duration": 159,
    "start_time": "2022-06-02T15:11:12.801Z"
   },
   {
    "duration": 8,
    "start_time": "2022-06-02T15:11:12.962Z"
   },
   {
    "duration": 92,
    "start_time": "2022-06-02T15:11:12.972Z"
   },
   {
    "duration": 9,
    "start_time": "2022-06-02T15:11:13.065Z"
   },
   {
    "duration": 135,
    "start_time": "2022-06-02T15:11:13.077Z"
   },
   {
    "duration": 13,
    "start_time": "2022-06-02T15:11:13.214Z"
   },
   {
    "duration": 13,
    "start_time": "2022-06-02T15:11:13.228Z"
   },
   {
    "duration": 13,
    "start_time": "2022-06-02T15:11:13.242Z"
   },
   {
    "duration": 11,
    "start_time": "2022-06-02T15:11:13.257Z"
   },
   {
    "duration": 102,
    "start_time": "2022-06-02T15:11:13.271Z"
   },
   {
    "duration": 14,
    "start_time": "2022-06-02T15:11:13.375Z"
   },
   {
    "duration": 102,
    "start_time": "2022-06-02T15:11:13.391Z"
   },
   {
    "duration": 50,
    "start_time": "2022-06-02T15:11:13.495Z"
   },
   {
    "duration": 44,
    "start_time": "2022-06-02T15:11:13.547Z"
   },
   {
    "duration": 34,
    "start_time": "2022-06-02T15:11:13.593Z"
   },
   {
    "duration": 60,
    "start_time": "2022-06-02T15:11:13.629Z"
   },
   {
    "duration": 36,
    "start_time": "2022-06-02T15:11:13.690Z"
   },
   {
    "duration": 17,
    "start_time": "2022-06-02T15:11:13.729Z"
   },
   {
    "duration": 110,
    "start_time": "2022-06-02T15:11:13.748Z"
   },
   {
    "duration": 25,
    "start_time": "2022-06-02T15:13:25.312Z"
   },
   {
    "duration": 10,
    "start_time": "2022-06-02T15:13:32.697Z"
   },
   {
    "duration": 433,
    "start_time": "2022-06-02T15:13:47.560Z"
   },
   {
    "duration": 3,
    "start_time": "2022-06-02T15:13:47.995Z"
   },
   {
    "duration": 37,
    "start_time": "2022-06-02T15:13:47.999Z"
   },
   {
    "duration": 14,
    "start_time": "2022-06-02T15:13:48.038Z"
   },
   {
    "duration": 153,
    "start_time": "2022-06-02T15:13:48.053Z"
   },
   {
    "duration": 18,
    "start_time": "2022-06-02T15:13:48.209Z"
   },
   {
    "duration": 74,
    "start_time": "2022-06-02T15:13:48.230Z"
   },
   {
    "duration": 10,
    "start_time": "2022-06-02T15:13:48.325Z"
   },
   {
    "duration": 111,
    "start_time": "2022-06-02T15:13:48.338Z"
   },
   {
    "duration": 9,
    "start_time": "2022-06-02T15:13:48.451Z"
   },
   {
    "duration": 13,
    "start_time": "2022-06-02T15:13:48.461Z"
   },
   {
    "duration": 13,
    "start_time": "2022-06-02T15:13:48.476Z"
   },
   {
    "duration": 41,
    "start_time": "2022-06-02T15:13:48.491Z"
   },
   {
    "duration": 57,
    "start_time": "2022-06-02T15:13:48.534Z"
   },
   {
    "duration": 9,
    "start_time": "2022-06-02T15:13:48.593Z"
   },
   {
    "duration": 89,
    "start_time": "2022-06-02T15:13:48.604Z"
   },
   {
    "duration": 52,
    "start_time": "2022-06-02T15:13:48.695Z"
   },
   {
    "duration": 45,
    "start_time": "2022-06-02T15:13:48.749Z"
   },
   {
    "duration": 38,
    "start_time": "2022-06-02T15:13:48.796Z"
   },
   {
    "duration": 63,
    "start_time": "2022-06-02T15:13:48.836Z"
   },
   {
    "duration": 38,
    "start_time": "2022-06-02T15:13:48.901Z"
   },
   {
    "duration": 18,
    "start_time": "2022-06-02T15:13:48.942Z"
   },
   {
    "duration": 88,
    "start_time": "2022-06-02T15:13:48.962Z"
   },
   {
    "duration": 0,
    "start_time": "2022-06-02T15:13:49.051Z"
   },
   {
    "duration": 9,
    "start_time": "2022-06-02T15:15:03.497Z"
   },
   {
    "duration": 440,
    "start_time": "2022-06-02T15:15:09.027Z"
   },
   {
    "duration": 3,
    "start_time": "2022-06-02T15:15:09.469Z"
   },
   {
    "duration": 18,
    "start_time": "2022-06-02T15:15:09.473Z"
   },
   {
    "duration": 10,
    "start_time": "2022-06-02T15:15:09.494Z"
   },
   {
    "duration": 140,
    "start_time": "2022-06-02T15:15:09.506Z"
   },
   {
    "duration": 8,
    "start_time": "2022-06-02T15:15:09.648Z"
   },
   {
    "duration": 87,
    "start_time": "2022-06-02T15:15:09.658Z"
   },
   {
    "duration": 9,
    "start_time": "2022-06-02T15:15:09.747Z"
   },
   {
    "duration": 114,
    "start_time": "2022-06-02T15:15:09.757Z"
   },
   {
    "duration": 11,
    "start_time": "2022-06-02T15:15:09.874Z"
   },
   {
    "duration": 13,
    "start_time": "2022-06-02T15:15:09.887Z"
   },
   {
    "duration": 34,
    "start_time": "2022-06-02T15:15:09.901Z"
   },
   {
    "duration": 22,
    "start_time": "2022-06-02T15:15:09.937Z"
   },
   {
    "duration": 83,
    "start_time": "2022-06-02T15:15:09.961Z"
   },
   {
    "duration": 15,
    "start_time": "2022-06-02T15:15:10.046Z"
   },
   {
    "duration": 102,
    "start_time": "2022-06-02T15:15:10.064Z"
   },
   {
    "duration": 37,
    "start_time": "2022-06-02T15:15:10.168Z"
   },
   {
    "duration": 61,
    "start_time": "2022-06-02T15:15:10.207Z"
   },
   {
    "duration": 12,
    "start_time": "2022-06-02T15:15:10.269Z"
   },
   {
    "duration": 95,
    "start_time": "2022-06-02T15:15:10.283Z"
   },
   {
    "duration": 15,
    "start_time": "2022-06-02T15:15:10.380Z"
   },
   {
    "duration": 30,
    "start_time": "2022-06-02T15:15:10.397Z"
   },
   {
    "duration": 18,
    "start_time": "2022-06-02T15:15:10.429Z"
   },
   {
    "duration": 79,
    "start_time": "2022-06-02T15:15:10.449Z"
   },
   {
    "duration": 0,
    "start_time": "2022-06-02T15:15:10.531Z"
   },
   {
    "duration": 1463,
    "start_time": "2022-06-02T15:15:25.922Z"
   },
   {
    "duration": 2,
    "start_time": "2022-06-02T15:15:27.387Z"
   },
   {
    "duration": 19,
    "start_time": "2022-06-02T15:15:27.391Z"
   },
   {
    "duration": 18,
    "start_time": "2022-06-02T15:15:27.413Z"
   },
   {
    "duration": 164,
    "start_time": "2022-06-02T15:15:27.433Z"
   },
   {
    "duration": 11,
    "start_time": "2022-06-02T15:15:27.599Z"
   },
   {
    "duration": 76,
    "start_time": "2022-06-02T15:15:27.626Z"
   },
   {
    "duration": 25,
    "start_time": "2022-06-02T15:15:27.703Z"
   },
   {
    "duration": 127,
    "start_time": "2022-06-02T15:15:27.730Z"
   },
   {
    "duration": 9,
    "start_time": "2022-06-02T15:15:27.860Z"
   },
   {
    "duration": 15,
    "start_time": "2022-06-02T15:15:27.871Z"
   },
   {
    "duration": 43,
    "start_time": "2022-06-02T15:15:27.888Z"
   },
   {
    "duration": 13,
    "start_time": "2022-06-02T15:15:27.933Z"
   },
   {
    "duration": 79,
    "start_time": "2022-06-02T15:15:27.948Z"
   },
   {
    "duration": 14,
    "start_time": "2022-06-02T15:15:28.029Z"
   },
   {
    "duration": 101,
    "start_time": "2022-06-02T15:15:28.045Z"
   },
   {
    "duration": 39,
    "start_time": "2022-06-02T15:15:28.148Z"
   },
   {
    "duration": 72,
    "start_time": "2022-06-02T15:15:28.189Z"
   },
   {
    "duration": 13,
    "start_time": "2022-06-02T15:15:28.263Z"
   },
   {
    "duration": 89,
    "start_time": "2022-06-02T15:15:28.277Z"
   },
   {
    "duration": 21,
    "start_time": "2022-06-02T15:15:28.369Z"
   },
   {
    "duration": 10,
    "start_time": "2022-06-02T15:15:28.391Z"
   },
   {
    "duration": 16,
    "start_time": "2022-06-02T15:15:28.426Z"
   },
   {
    "duration": 170,
    "start_time": "2022-06-02T15:15:28.444Z"
   },
   {
    "duration": 0,
    "start_time": "2022-06-02T15:15:28.616Z"
   },
   {
    "duration": 27,
    "start_time": "2022-06-02T15:15:54.922Z"
   },
   {
    "duration": 434,
    "start_time": "2022-06-02T15:15:59.749Z"
   },
   {
    "duration": 3,
    "start_time": "2022-06-02T15:16:00.185Z"
   },
   {
    "duration": 26,
    "start_time": "2022-06-02T15:16:00.189Z"
   },
   {
    "duration": 16,
    "start_time": "2022-06-02T15:16:00.218Z"
   },
   {
    "duration": 169,
    "start_time": "2022-06-02T15:16:00.237Z"
   },
   {
    "duration": 20,
    "start_time": "2022-06-02T15:16:00.408Z"
   },
   {
    "duration": 84,
    "start_time": "2022-06-02T15:16:00.430Z"
   },
   {
    "duration": 9,
    "start_time": "2022-06-02T15:16:00.526Z"
   },
   {
    "duration": 114,
    "start_time": "2022-06-02T15:16:00.536Z"
   },
   {
    "duration": 10,
    "start_time": "2022-06-02T15:16:00.653Z"
   },
   {
    "duration": 24,
    "start_time": "2022-06-02T15:16:00.664Z"
   },
   {
    "duration": 13,
    "start_time": "2022-06-02T15:16:00.690Z"
   },
   {
    "duration": 12,
    "start_time": "2022-06-02T15:16:00.725Z"
   },
   {
    "duration": 66,
    "start_time": "2022-06-02T15:16:00.739Z"
   },
   {
    "duration": 14,
    "start_time": "2022-06-02T15:16:00.827Z"
   },
   {
    "duration": 112,
    "start_time": "2022-06-02T15:16:00.844Z"
   },
   {
    "duration": 43,
    "start_time": "2022-06-02T15:16:00.959Z"
   },
   {
    "duration": 68,
    "start_time": "2022-06-02T15:16:01.004Z"
   },
   {
    "duration": 13,
    "start_time": "2022-06-02T15:16:01.074Z"
   },
   {
    "duration": 92,
    "start_time": "2022-06-02T15:16:01.089Z"
   },
   {
    "duration": 16,
    "start_time": "2022-06-02T15:16:01.182Z"
   },
   {
    "duration": 47,
    "start_time": "2022-06-02T15:16:01.199Z"
   },
   {
    "duration": 13,
    "start_time": "2022-06-02T15:16:01.248Z"
   },
   {
    "duration": 81,
    "start_time": "2022-06-02T15:16:01.263Z"
   },
   {
    "duration": 0,
    "start_time": "2022-06-02T15:16:01.346Z"
   },
   {
    "duration": 1380,
    "start_time": "2022-06-02T15:16:13.046Z"
   },
   {
    "duration": 3,
    "start_time": "2022-06-02T15:16:14.429Z"
   },
   {
    "duration": 27,
    "start_time": "2022-06-02T15:16:14.433Z"
   },
   {
    "duration": 20,
    "start_time": "2022-06-02T15:16:14.463Z"
   },
   {
    "duration": 176,
    "start_time": "2022-06-02T15:16:14.485Z"
   },
   {
    "duration": 8,
    "start_time": "2022-06-02T15:16:14.663Z"
   },
   {
    "duration": 95,
    "start_time": "2022-06-02T15:16:14.672Z"
   },
   {
    "duration": 9,
    "start_time": "2022-06-02T15:16:14.768Z"
   },
   {
    "duration": 125,
    "start_time": "2022-06-02T15:16:14.779Z"
   },
   {
    "duration": 21,
    "start_time": "2022-06-02T15:16:14.908Z"
   },
   {
    "duration": 16,
    "start_time": "2022-06-02T15:16:14.931Z"
   },
   {
    "duration": 12,
    "start_time": "2022-06-02T15:16:14.949Z"
   },
   {
    "duration": 26,
    "start_time": "2022-06-02T15:16:14.963Z"
   },
   {
    "duration": 84,
    "start_time": "2022-06-02T15:16:14.990Z"
   },
   {
    "duration": 13,
    "start_time": "2022-06-02T15:16:15.075Z"
   },
   {
    "duration": 103,
    "start_time": "2022-06-02T15:16:15.091Z"
   },
   {
    "duration": 45,
    "start_time": "2022-06-02T15:16:15.196Z"
   },
   {
    "duration": 43,
    "start_time": "2022-06-02T15:16:15.243Z"
   },
   {
    "duration": 12,
    "start_time": "2022-06-02T15:16:15.288Z"
   },
   {
    "duration": 63,
    "start_time": "2022-06-02T15:16:15.327Z"
   },
   {
    "duration": 13,
    "start_time": "2022-06-02T15:16:15.392Z"
   },
   {
    "duration": 14,
    "start_time": "2022-06-02T15:16:15.425Z"
   },
   {
    "duration": 10,
    "start_time": "2022-06-02T15:16:15.441Z"
   },
   {
    "duration": 201,
    "start_time": "2022-06-02T15:16:15.453Z"
   },
   {
    "duration": 0,
    "start_time": "2022-06-02T15:16:15.656Z"
   },
   {
    "duration": 27,
    "start_time": "2022-06-02T15:16:27.780Z"
   },
   {
    "duration": 1401,
    "start_time": "2022-06-02T15:16:37.587Z"
   },
   {
    "duration": 3,
    "start_time": "2022-06-02T15:16:38.990Z"
   },
   {
    "duration": 21,
    "start_time": "2022-06-02T15:16:38.994Z"
   },
   {
    "duration": 23,
    "start_time": "2022-06-02T15:16:39.017Z"
   },
   {
    "duration": 168,
    "start_time": "2022-06-02T15:16:39.042Z"
   },
   {
    "duration": 20,
    "start_time": "2022-06-02T15:16:39.212Z"
   },
   {
    "duration": 97,
    "start_time": "2022-06-02T15:16:39.234Z"
   },
   {
    "duration": 11,
    "start_time": "2022-06-02T15:16:39.333Z"
   },
   {
    "duration": 120,
    "start_time": "2022-06-02T15:16:39.346Z"
   },
   {
    "duration": 9,
    "start_time": "2022-06-02T15:16:39.468Z"
   },
   {
    "duration": 19,
    "start_time": "2022-06-02T15:16:39.480Z"
   },
   {
    "duration": 34,
    "start_time": "2022-06-02T15:16:39.501Z"
   },
   {
    "duration": 13,
    "start_time": "2022-06-02T15:16:39.537Z"
   },
   {
    "duration": 82,
    "start_time": "2022-06-02T15:16:39.551Z"
   },
   {
    "duration": 13,
    "start_time": "2022-06-02T15:16:39.635Z"
   },
   {
    "duration": 102,
    "start_time": "2022-06-02T15:16:39.650Z"
   },
   {
    "duration": 40,
    "start_time": "2022-06-02T15:16:39.754Z"
   },
   {
    "duration": 68,
    "start_time": "2022-06-02T15:16:39.795Z"
   },
   {
    "duration": 14,
    "start_time": "2022-06-02T15:16:39.866Z"
   },
   {
    "duration": 96,
    "start_time": "2022-06-02T15:16:39.883Z"
   },
   {
    "duration": 16,
    "start_time": "2022-06-02T15:16:39.981Z"
   },
   {
    "duration": 30,
    "start_time": "2022-06-02T15:16:39.998Z"
   },
   {
    "duration": 14,
    "start_time": "2022-06-02T15:16:40.030Z"
   },
   {
    "duration": 100,
    "start_time": "2022-06-02T15:16:40.046Z"
   },
   {
    "duration": 14,
    "start_time": "2022-06-02T15:16:40.147Z"
   },
   {
    "duration": 108,
    "start_time": "2022-06-02T15:17:23.394Z"
   },
   {
    "duration": 436,
    "start_time": "2022-06-02T15:17:31.106Z"
   },
   {
    "duration": 3,
    "start_time": "2022-06-02T15:17:31.544Z"
   },
   {
    "duration": 28,
    "start_time": "2022-06-02T15:17:31.549Z"
   },
   {
    "duration": 16,
    "start_time": "2022-06-02T15:17:31.579Z"
   },
   {
    "duration": 152,
    "start_time": "2022-06-02T15:17:31.597Z"
   },
   {
    "duration": 8,
    "start_time": "2022-06-02T15:17:31.751Z"
   },
   {
    "duration": 102,
    "start_time": "2022-06-02T15:17:31.761Z"
   },
   {
    "duration": 8,
    "start_time": "2022-06-02T15:17:31.865Z"
   },
   {
    "duration": 116,
    "start_time": "2022-06-02T15:17:31.875Z"
   },
   {
    "duration": 10,
    "start_time": "2022-06-02T15:17:31.993Z"
   },
   {
    "duration": 26,
    "start_time": "2022-06-02T15:17:32.005Z"
   },
   {
    "duration": 13,
    "start_time": "2022-06-02T15:17:32.034Z"
   },
   {
    "duration": 14,
    "start_time": "2022-06-02T15:17:32.050Z"
   },
   {
    "duration": 90,
    "start_time": "2022-06-02T15:17:32.068Z"
   },
   {
    "duration": 13,
    "start_time": "2022-06-02T15:17:32.160Z"
   },
   {
    "duration": 100,
    "start_time": "2022-06-02T15:17:32.176Z"
   },
   {
    "duration": 49,
    "start_time": "2022-06-02T15:17:32.277Z"
   },
   {
    "duration": 46,
    "start_time": "2022-06-02T15:17:32.327Z"
   },
   {
    "duration": 13,
    "start_time": "2022-06-02T15:17:32.375Z"
   },
   {
    "duration": 90,
    "start_time": "2022-06-02T15:17:32.389Z"
   },
   {
    "duration": 16,
    "start_time": "2022-06-02T15:17:32.481Z"
   },
   {
    "duration": 29,
    "start_time": "2022-06-02T15:17:32.499Z"
   },
   {
    "duration": 15,
    "start_time": "2022-06-02T15:17:32.530Z"
   },
   {
    "duration": 105,
    "start_time": "2022-06-02T15:17:32.548Z"
   },
   {
    "duration": 13,
    "start_time": "2022-06-02T15:17:32.655Z"
   },
   {
    "duration": 15,
    "start_time": "2022-06-02T15:17:41.224Z"
   },
   {
    "duration": 448,
    "start_time": "2022-06-02T15:17:44.889Z"
   },
   {
    "duration": 3,
    "start_time": "2022-06-02T15:17:45.339Z"
   },
   {
    "duration": 30,
    "start_time": "2022-06-02T15:17:45.344Z"
   },
   {
    "duration": 16,
    "start_time": "2022-06-02T15:17:45.376Z"
   },
   {
    "duration": 162,
    "start_time": "2022-06-02T15:17:45.394Z"
   },
   {
    "duration": 9,
    "start_time": "2022-06-02T15:17:45.558Z"
   },
   {
    "duration": 85,
    "start_time": "2022-06-02T15:17:45.568Z"
   },
   {
    "duration": 9,
    "start_time": "2022-06-02T15:17:45.656Z"
   },
   {
    "duration": 135,
    "start_time": "2022-06-02T15:17:45.668Z"
   },
   {
    "duration": 21,
    "start_time": "2022-06-02T15:17:45.805Z"
   },
   {
    "duration": 11,
    "start_time": "2022-06-02T15:17:45.828Z"
   },
   {
    "duration": 21,
    "start_time": "2022-06-02T15:17:45.842Z"
   },
   {
    "duration": 16,
    "start_time": "2022-06-02T15:17:45.865Z"
   },
   {
    "duration": 89,
    "start_time": "2022-06-02T15:17:45.885Z"
   },
   {
    "duration": 12,
    "start_time": "2022-06-02T15:17:45.976Z"
   },
   {
    "duration": 100,
    "start_time": "2022-06-02T15:17:45.990Z"
   },
   {
    "duration": 50,
    "start_time": "2022-06-02T15:17:46.091Z"
   },
   {
    "duration": 45,
    "start_time": "2022-06-02T15:17:46.142Z"
   },
   {
    "duration": 12,
    "start_time": "2022-06-02T15:17:46.189Z"
   },
   {
    "duration": 89,
    "start_time": "2022-06-02T15:17:46.202Z"
   },
   {
    "duration": 37,
    "start_time": "2022-06-02T15:17:46.292Z"
   },
   {
    "duration": 8,
    "start_time": "2022-06-02T15:17:46.331Z"
   },
   {
    "duration": 11,
    "start_time": "2022-06-02T15:17:46.341Z"
   },
   {
    "duration": 112,
    "start_time": "2022-06-02T15:17:46.354Z"
   },
   {
    "duration": 18,
    "start_time": "2022-06-02T15:17:46.468Z"
   },
   {
    "duration": 12,
    "start_time": "2022-06-02T15:20:38.281Z"
   },
   {
    "duration": 19,
    "start_time": "2022-06-02T15:26:16.337Z"
   },
   {
    "duration": 462,
    "start_time": "2022-06-02T15:26:20.166Z"
   },
   {
    "duration": 3,
    "start_time": "2022-06-02T15:26:20.631Z"
   },
   {
    "duration": 30,
    "start_time": "2022-06-02T15:26:20.636Z"
   },
   {
    "duration": 29,
    "start_time": "2022-06-02T15:26:20.669Z"
   },
   {
    "duration": 186,
    "start_time": "2022-06-02T15:26:20.700Z"
   },
   {
    "duration": 92,
    "start_time": "2022-06-02T15:26:20.888Z"
   },
   {
    "duration": 92,
    "start_time": "2022-06-02T15:26:20.982Z"
   },
   {
    "duration": 9,
    "start_time": "2022-06-02T15:26:21.075Z"
   },
   {
    "duration": 110,
    "start_time": "2022-06-02T15:26:21.085Z"
   },
   {
    "duration": 9,
    "start_time": "2022-06-02T15:26:21.198Z"
   },
   {
    "duration": 25,
    "start_time": "2022-06-02T15:26:21.209Z"
   },
   {
    "duration": 20,
    "start_time": "2022-06-02T15:26:21.236Z"
   },
   {
    "duration": 21,
    "start_time": "2022-06-02T15:26:21.257Z"
   },
   {
    "duration": 72,
    "start_time": "2022-06-02T15:26:21.280Z"
   },
   {
    "duration": 11,
    "start_time": "2022-06-02T15:26:21.353Z"
   },
   {
    "duration": 101,
    "start_time": "2022-06-02T15:26:21.366Z"
   },
   {
    "duration": 38,
    "start_time": "2022-06-02T15:26:21.469Z"
   },
   {
    "duration": 62,
    "start_time": "2022-06-02T15:26:21.508Z"
   },
   {
    "duration": 20,
    "start_time": "2022-06-02T15:26:21.572Z"
   },
   {
    "duration": 82,
    "start_time": "2022-06-02T15:26:21.594Z"
   },
   {
    "duration": 15,
    "start_time": "2022-06-02T15:26:21.677Z"
   },
   {
    "duration": 20,
    "start_time": "2022-06-02T15:26:21.693Z"
   },
   {
    "duration": 25,
    "start_time": "2022-06-02T15:26:21.715Z"
   },
   {
    "duration": 105,
    "start_time": "2022-06-02T15:26:21.743Z"
   },
   {
    "duration": 22,
    "start_time": "2022-06-02T15:26:21.850Z"
   },
   {
    "duration": 883,
    "start_time": "2022-06-02T15:31:16.524Z"
   },
   {
    "duration": 196,
    "start_time": "2022-06-02T15:31:56.668Z"
   },
   {
    "duration": 568,
    "start_time": "2022-06-02T15:33:57.306Z"
   },
   {
    "duration": 3,
    "start_time": "2022-06-02T15:43:59.382Z"
   },
   {
    "duration": 457,
    "start_time": "2022-06-02T15:44:05.169Z"
   },
   {
    "duration": 3,
    "start_time": "2022-06-02T15:44:05.629Z"
   },
   {
    "duration": 30,
    "start_time": "2022-06-02T15:44:05.634Z"
   },
   {
    "duration": 32,
    "start_time": "2022-06-02T15:44:05.668Z"
   },
   {
    "duration": 180,
    "start_time": "2022-06-02T15:44:05.702Z"
   },
   {
    "duration": 9,
    "start_time": "2022-06-02T15:44:05.884Z"
   },
   {
    "duration": 83,
    "start_time": "2022-06-02T15:44:05.894Z"
   },
   {
    "duration": 8,
    "start_time": "2022-06-02T15:44:05.979Z"
   },
   {
    "duration": 113,
    "start_time": "2022-06-02T15:44:05.988Z"
   },
   {
    "duration": 9,
    "start_time": "2022-06-02T15:44:06.104Z"
   },
   {
    "duration": 9,
    "start_time": "2022-06-02T15:44:06.126Z"
   },
   {
    "duration": 15,
    "start_time": "2022-06-02T15:44:06.137Z"
   },
   {
    "duration": 12,
    "start_time": "2022-06-02T15:44:06.154Z"
   },
   {
    "duration": 95,
    "start_time": "2022-06-02T15:44:06.168Z"
   },
   {
    "duration": 15,
    "start_time": "2022-06-02T15:44:06.265Z"
   },
   {
    "duration": 105,
    "start_time": "2022-06-02T15:44:06.283Z"
   },
   {
    "duration": 55,
    "start_time": "2022-06-02T15:44:06.390Z"
   },
   {
    "duration": 47,
    "start_time": "2022-06-02T15:44:06.447Z"
   },
   {
    "duration": 36,
    "start_time": "2022-06-02T15:44:06.495Z"
   },
   {
    "duration": 58,
    "start_time": "2022-06-02T15:44:06.533Z"
   },
   {
    "duration": 33,
    "start_time": "2022-06-02T15:44:06.593Z"
   },
   {
    "duration": 8,
    "start_time": "2022-06-02T15:44:06.628Z"
   },
   {
    "duration": 11,
    "start_time": "2022-06-02T15:44:06.638Z"
   },
   {
    "duration": 43,
    "start_time": "2022-06-02T15:44:06.651Z"
   },
   {
    "duration": 0,
    "start_time": "2022-06-02T15:44:06.697Z"
   },
   {
    "duration": 23,
    "start_time": "2022-06-02T15:44:13.876Z"
   },
   {
    "duration": 2,
    "start_time": "2022-06-02T15:44:33.576Z"
   },
   {
    "duration": 1351,
    "start_time": "2022-06-02T15:46:27.745Z"
   },
   {
    "duration": 3,
    "start_time": "2022-06-02T15:46:29.098Z"
   },
   {
    "duration": 20,
    "start_time": "2022-06-02T15:46:29.103Z"
   },
   {
    "duration": 18,
    "start_time": "2022-06-02T15:46:29.125Z"
   },
   {
    "duration": 175,
    "start_time": "2022-06-02T15:46:29.146Z"
   },
   {
    "duration": 8,
    "start_time": "2022-06-02T15:46:29.326Z"
   },
   {
    "duration": 90,
    "start_time": "2022-06-02T15:46:29.336Z"
   },
   {
    "duration": 9,
    "start_time": "2022-06-02T15:46:29.428Z"
   },
   {
    "duration": 122,
    "start_time": "2022-06-02T15:46:29.439Z"
   },
   {
    "duration": 9,
    "start_time": "2022-06-02T15:46:29.562Z"
   },
   {
    "duration": 32,
    "start_time": "2022-06-02T15:46:29.573Z"
   },
   {
    "duration": 23,
    "start_time": "2022-06-02T15:46:29.606Z"
   },
   {
    "duration": 21,
    "start_time": "2022-06-02T15:46:29.631Z"
   },
   {
    "duration": 72,
    "start_time": "2022-06-02T15:46:29.654Z"
   },
   {
    "duration": 14,
    "start_time": "2022-06-02T15:46:29.728Z"
   },
   {
    "duration": 102,
    "start_time": "2022-06-02T15:46:29.744Z"
   },
   {
    "duration": 41,
    "start_time": "2022-06-02T15:46:29.848Z"
   },
   {
    "duration": 70,
    "start_time": "2022-06-02T15:46:29.891Z"
   },
   {
    "duration": 15,
    "start_time": "2022-06-02T15:46:29.963Z"
   },
   {
    "duration": 93,
    "start_time": "2022-06-02T15:46:29.980Z"
   },
   {
    "duration": 18,
    "start_time": "2022-06-02T15:46:30.075Z"
   },
   {
    "duration": 34,
    "start_time": "2022-06-02T15:46:30.095Z"
   },
   {
    "duration": 14,
    "start_time": "2022-06-02T15:46:30.131Z"
   },
   {
    "duration": 15,
    "start_time": "2022-06-02T15:46:30.147Z"
   },
   {
    "duration": 19,
    "start_time": "2022-06-02T15:46:30.163Z"
   },
   {
    "duration": 48,
    "start_time": "2022-06-02T15:48:00.927Z"
   },
   {
    "duration": 28,
    "start_time": "2022-06-02T15:48:38.851Z"
   },
   {
    "duration": 1384,
    "start_time": "2022-06-02T15:48:56.587Z"
   },
   {
    "duration": 4,
    "start_time": "2022-06-02T15:48:57.973Z"
   },
   {
    "duration": 18,
    "start_time": "2022-06-02T15:48:57.978Z"
   },
   {
    "duration": 17,
    "start_time": "2022-06-02T15:48:57.998Z"
   },
   {
    "duration": 143,
    "start_time": "2022-06-02T15:48:58.017Z"
   },
   {
    "duration": 9,
    "start_time": "2022-06-02T15:48:58.161Z"
   },
   {
    "duration": 93,
    "start_time": "2022-06-02T15:48:58.172Z"
   },
   {
    "duration": 9,
    "start_time": "2022-06-02T15:48:58.266Z"
   },
   {
    "duration": 121,
    "start_time": "2022-06-02T15:48:58.277Z"
   },
   {
    "duration": 15,
    "start_time": "2022-06-02T15:48:58.401Z"
   },
   {
    "duration": 11,
    "start_time": "2022-06-02T15:48:58.426Z"
   },
   {
    "duration": 14,
    "start_time": "2022-06-02T15:48:58.438Z"
   },
   {
    "duration": 11,
    "start_time": "2022-06-02T15:48:58.454Z"
   },
   {
    "duration": 95,
    "start_time": "2022-06-02T15:48:58.467Z"
   },
   {
    "duration": 12,
    "start_time": "2022-06-02T15:48:58.564Z"
   },
   {
    "duration": 100,
    "start_time": "2022-06-02T15:48:58.577Z"
   },
   {
    "duration": 50,
    "start_time": "2022-06-02T15:48:58.679Z"
   },
   {
    "duration": 44,
    "start_time": "2022-06-02T15:48:58.731Z"
   },
   {
    "duration": 12,
    "start_time": "2022-06-02T15:48:58.777Z"
   },
   {
    "duration": 96,
    "start_time": "2022-06-02T15:48:58.791Z"
   },
   {
    "duration": 15,
    "start_time": "2022-06-02T15:48:58.889Z"
   },
   {
    "duration": 24,
    "start_time": "2022-06-02T15:48:58.907Z"
   },
   {
    "duration": 16,
    "start_time": "2022-06-02T15:48:58.933Z"
   },
   {
    "duration": 10,
    "start_time": "2022-06-02T15:48:58.950Z"
   },
   {
    "duration": 11,
    "start_time": "2022-06-02T15:48:58.962Z"
   },
   {
    "duration": 6,
    "start_time": "2022-06-02T15:48:58.975Z"
   },
   {
    "duration": 101,
    "start_time": "2022-06-02T15:49:10.142Z"
   },
   {
    "duration": 1395,
    "start_time": "2022-06-02T15:49:31.246Z"
   },
   {
    "duration": 2,
    "start_time": "2022-06-02T15:49:32.643Z"
   },
   {
    "duration": 20,
    "start_time": "2022-06-02T15:49:32.647Z"
   },
   {
    "duration": 19,
    "start_time": "2022-06-02T15:49:32.670Z"
   },
   {
    "duration": 172,
    "start_time": "2022-06-02T15:49:32.691Z"
   },
   {
    "duration": 10,
    "start_time": "2022-06-02T15:49:32.866Z"
   },
   {
    "duration": 98,
    "start_time": "2022-06-02T15:49:32.878Z"
   },
   {
    "duration": 9,
    "start_time": "2022-06-02T15:49:32.978Z"
   },
   {
    "duration": 143,
    "start_time": "2022-06-02T15:49:32.989Z"
   },
   {
    "duration": 10,
    "start_time": "2022-06-02T15:49:33.135Z"
   },
   {
    "duration": 16,
    "start_time": "2022-06-02T15:49:33.147Z"
   },
   {
    "duration": 13,
    "start_time": "2022-06-02T15:49:33.165Z"
   },
   {
    "duration": 47,
    "start_time": "2022-06-02T15:49:33.180Z"
   },
   {
    "duration": 65,
    "start_time": "2022-06-02T15:49:33.230Z"
   },
   {
    "duration": 39,
    "start_time": "2022-06-02T15:49:33.297Z"
   },
   {
    "duration": 108,
    "start_time": "2022-06-02T15:49:33.338Z"
   },
   {
    "duration": 38,
    "start_time": "2022-06-02T15:49:33.448Z"
   },
   {
    "duration": 73,
    "start_time": "2022-06-02T15:49:33.488Z"
   },
   {
    "duration": 11,
    "start_time": "2022-06-02T15:49:33.563Z"
   },
   {
    "duration": 84,
    "start_time": "2022-06-02T15:49:33.576Z"
   },
   {
    "duration": 15,
    "start_time": "2022-06-02T15:49:33.661Z"
   },
   {
    "duration": 12,
    "start_time": "2022-06-02T15:49:33.677Z"
   },
   {
    "duration": 42,
    "start_time": "2022-06-02T15:49:33.690Z"
   },
   {
    "duration": 3,
    "start_time": "2022-06-02T15:49:33.733Z"
   },
   {
    "duration": 10,
    "start_time": "2022-06-02T15:49:33.738Z"
   },
   {
    "duration": 9,
    "start_time": "2022-06-02T15:49:33.750Z"
   },
   {
    "duration": 0,
    "start_time": "2022-06-02T15:49:33.761Z"
   },
   {
    "duration": 26,
    "start_time": "2022-06-02T15:50:22.014Z"
   },
   {
    "duration": 8,
    "start_time": "2022-06-02T15:50:27.831Z"
   },
   {
    "duration": 79,
    "start_time": "2022-06-02T15:51:28.649Z"
   },
   {
    "duration": 9,
    "start_time": "2022-06-02T15:56:16.824Z"
   },
   {
    "duration": 9,
    "start_time": "2022-06-02T15:56:25.953Z"
   },
   {
    "duration": 10,
    "start_time": "2022-06-02T15:56:32.277Z"
   },
   {
    "duration": 25,
    "start_time": "2022-06-02T15:56:35.600Z"
   },
   {
    "duration": 19,
    "start_time": "2022-06-02T15:57:23.914Z"
   },
   {
    "duration": 8,
    "start_time": "2022-06-02T15:57:39.669Z"
   },
   {
    "duration": 14,
    "start_time": "2022-06-02T15:58:56.514Z"
   },
   {
    "duration": 8,
    "start_time": "2022-06-02T15:59:13.561Z"
   },
   {
    "duration": 85,
    "start_time": "2022-06-02T16:01:14.606Z"
   },
   {
    "duration": 1413,
    "start_time": "2022-06-02T16:01:40.195Z"
   },
   {
    "duration": 2,
    "start_time": "2022-06-02T16:01:41.611Z"
   },
   {
    "duration": 22,
    "start_time": "2022-06-02T16:01:41.615Z"
   },
   {
    "duration": 18,
    "start_time": "2022-06-02T16:01:41.640Z"
   },
   {
    "duration": 168,
    "start_time": "2022-06-02T16:01:41.659Z"
   },
   {
    "duration": 9,
    "start_time": "2022-06-02T16:01:41.829Z"
   },
   {
    "duration": 98,
    "start_time": "2022-06-02T16:01:41.839Z"
   },
   {
    "duration": 8,
    "start_time": "2022-06-02T16:01:41.939Z"
   },
   {
    "duration": 118,
    "start_time": "2022-06-02T16:01:41.949Z"
   },
   {
    "duration": 9,
    "start_time": "2022-06-02T16:01:42.069Z"
   },
   {
    "duration": 13,
    "start_time": "2022-06-02T16:01:42.080Z"
   },
   {
    "duration": 36,
    "start_time": "2022-06-02T16:01:42.095Z"
   },
   {
    "duration": 12,
    "start_time": "2022-06-02T16:01:42.133Z"
   },
   {
    "duration": 64,
    "start_time": "2022-06-02T16:01:42.147Z"
   },
   {
    "duration": 13,
    "start_time": "2022-06-02T16:01:42.225Z"
   },
   {
    "duration": 92,
    "start_time": "2022-06-02T16:01:42.240Z"
   },
   {
    "duration": 37,
    "start_time": "2022-06-02T16:01:42.334Z"
   },
   {
    "duration": 67,
    "start_time": "2022-06-02T16:01:42.373Z"
   },
   {
    "duration": 14,
    "start_time": "2022-06-02T16:01:42.441Z"
   },
   {
    "duration": 90,
    "start_time": "2022-06-02T16:01:42.461Z"
   },
   {
    "duration": 19,
    "start_time": "2022-06-02T16:01:42.553Z"
   },
   {
    "duration": 14,
    "start_time": "2022-06-02T16:01:42.574Z"
   },
   {
    "duration": 37,
    "start_time": "2022-06-02T16:01:42.590Z"
   },
   {
    "duration": 8,
    "start_time": "2022-06-02T16:01:42.629Z"
   },
   {
    "duration": 6,
    "start_time": "2022-06-02T16:01:42.639Z"
   },
   {
    "duration": 28,
    "start_time": "2022-06-02T16:01:42.646Z"
   },
   {
    "duration": 8,
    "start_time": "2022-06-02T16:01:42.676Z"
   },
   {
    "duration": 43,
    "start_time": "2022-06-02T16:01:42.687Z"
   },
   {
    "duration": 7,
    "start_time": "2022-06-02T16:01:42.732Z"
   },
   {
    "duration": 17,
    "start_time": "2022-06-02T16:01:42.741Z"
   },
   {
    "duration": 8,
    "start_time": "2022-06-02T16:01:42.760Z"
   },
   {
    "duration": 106,
    "start_time": "2022-06-02T16:01:42.769Z"
   },
   {
    "duration": 98,
    "start_time": "2022-06-02T16:08:25.190Z"
   },
   {
    "duration": 485,
    "start_time": "2022-06-02T16:08:32.300Z"
   },
   {
    "duration": 3,
    "start_time": "2022-06-02T16:08:32.787Z"
   },
   {
    "duration": 16,
    "start_time": "2022-06-02T16:08:32.792Z"
   },
   {
    "duration": 11,
    "start_time": "2022-06-02T16:08:32.810Z"
   },
   {
    "duration": 155,
    "start_time": "2022-06-02T16:08:32.823Z"
   },
   {
    "duration": 8,
    "start_time": "2022-06-02T16:08:32.980Z"
   },
   {
    "duration": 90,
    "start_time": "2022-06-02T16:08:32.990Z"
   },
   {
    "duration": 9,
    "start_time": "2022-06-02T16:08:33.082Z"
   },
   {
    "duration": 123,
    "start_time": "2022-06-02T16:08:33.093Z"
   },
   {
    "duration": 9,
    "start_time": "2022-06-02T16:08:33.225Z"
   },
   {
    "duration": 13,
    "start_time": "2022-06-02T16:08:33.236Z"
   },
   {
    "duration": 13,
    "start_time": "2022-06-02T16:08:33.251Z"
   },
   {
    "duration": 11,
    "start_time": "2022-06-02T16:08:33.266Z"
   },
   {
    "duration": 92,
    "start_time": "2022-06-02T16:08:33.279Z"
   },
   {
    "duration": 13,
    "start_time": "2022-06-02T16:08:33.373Z"
   },
   {
    "duration": 111,
    "start_time": "2022-06-02T16:08:33.388Z"
   },
   {
    "duration": 48,
    "start_time": "2022-06-02T16:08:33.501Z"
   },
   {
    "duration": 46,
    "start_time": "2022-06-02T16:08:33.551Z"
   },
   {
    "duration": 35,
    "start_time": "2022-06-02T16:08:33.599Z"
   },
   {
    "duration": 61,
    "start_time": "2022-06-02T16:08:33.636Z"
   },
   {
    "duration": 34,
    "start_time": "2022-06-02T16:08:33.699Z"
   },
   {
    "duration": 13,
    "start_time": "2022-06-02T16:08:33.734Z"
   },
   {
    "duration": 17,
    "start_time": "2022-06-02T16:08:33.749Z"
   },
   {
    "duration": 5,
    "start_time": "2022-06-02T16:08:33.768Z"
   },
   {
    "duration": 10,
    "start_time": "2022-06-02T16:08:33.774Z"
   },
   {
    "duration": 64,
    "start_time": "2022-06-02T16:08:33.786Z"
   },
   {
    "duration": 9,
    "start_time": "2022-06-02T16:08:33.852Z"
   },
   {
    "duration": 19,
    "start_time": "2022-06-02T16:08:33.863Z"
   },
   {
    "duration": 7,
    "start_time": "2022-06-02T16:08:33.884Z"
   },
   {
    "duration": 39,
    "start_time": "2022-06-02T16:08:33.892Z"
   },
   {
    "duration": 8,
    "start_time": "2022-06-02T16:08:33.933Z"
   },
   {
    "duration": 16,
    "start_time": "2022-06-02T16:08:33.943Z"
   },
   {
    "duration": 1427,
    "start_time": "2022-06-02T16:08:46.506Z"
   },
   {
    "duration": 4,
    "start_time": "2022-06-02T16:08:47.936Z"
   },
   {
    "duration": 21,
    "start_time": "2022-06-02T16:08:47.942Z"
   },
   {
    "duration": 19,
    "start_time": "2022-06-02T16:08:47.966Z"
   },
   {
    "duration": 171,
    "start_time": "2022-06-02T16:08:47.988Z"
   },
   {
    "duration": 9,
    "start_time": "2022-06-02T16:08:48.161Z"
   },
   {
    "duration": 87,
    "start_time": "2022-06-02T16:08:48.172Z"
   },
   {
    "duration": 8,
    "start_time": "2022-06-02T16:08:48.261Z"
   },
   {
    "duration": 124,
    "start_time": "2022-06-02T16:08:48.271Z"
   },
   {
    "duration": 9,
    "start_time": "2022-06-02T16:08:48.399Z"
   },
   {
    "duration": 27,
    "start_time": "2022-06-02T16:08:48.410Z"
   },
   {
    "duration": 13,
    "start_time": "2022-06-02T16:08:48.438Z"
   },
   {
    "duration": 15,
    "start_time": "2022-06-02T16:08:48.453Z"
   },
   {
    "duration": 92,
    "start_time": "2022-06-02T16:08:48.470Z"
   },
   {
    "duration": 12,
    "start_time": "2022-06-02T16:08:48.564Z"
   },
   {
    "duration": 101,
    "start_time": "2022-06-02T16:08:48.578Z"
   },
   {
    "duration": 48,
    "start_time": "2022-06-02T16:08:48.682Z"
   },
   {
    "duration": 43,
    "start_time": "2022-06-02T16:08:48.732Z"
   },
   {
    "duration": 13,
    "start_time": "2022-06-02T16:08:48.776Z"
   },
   {
    "duration": 93,
    "start_time": "2022-06-02T16:08:48.790Z"
   },
   {
    "duration": 16,
    "start_time": "2022-06-02T16:08:48.885Z"
   },
   {
    "duration": 12,
    "start_time": "2022-06-02T16:08:48.925Z"
   },
   {
    "duration": 13,
    "start_time": "2022-06-02T16:08:48.939Z"
   },
   {
    "duration": 11,
    "start_time": "2022-06-02T16:08:48.953Z"
   },
   {
    "duration": 12,
    "start_time": "2022-06-02T16:08:48.966Z"
   },
   {
    "duration": 31,
    "start_time": "2022-06-02T16:08:48.980Z"
   },
   {
    "duration": 20,
    "start_time": "2022-06-02T16:08:49.013Z"
   },
   {
    "duration": 21,
    "start_time": "2022-06-02T16:08:49.036Z"
   },
   {
    "duration": 7,
    "start_time": "2022-06-02T16:08:49.059Z"
   },
   {
    "duration": 20,
    "start_time": "2022-06-02T16:08:49.067Z"
   },
   {
    "duration": 7,
    "start_time": "2022-06-02T16:08:49.089Z"
   },
   {
    "duration": 153,
    "start_time": "2022-06-02T16:08:49.097Z"
   },
   {
    "duration": 76,
    "start_time": "2022-06-02T16:09:21.240Z"
   },
   {
    "duration": 72,
    "start_time": "2022-06-02T19:48:12.179Z"
   },
   {
    "duration": 7,
    "start_time": "2022-06-02T19:48:51.716Z"
   },
   {
    "duration": 7,
    "start_time": "2022-06-02T19:49:00.308Z"
   },
   {
    "duration": 2287,
    "start_time": "2022-06-02T19:49:06.849Z"
   },
   {
    "duration": 3,
    "start_time": "2022-06-02T19:49:09.138Z"
   },
   {
    "duration": 21,
    "start_time": "2022-06-02T19:49:09.143Z"
   },
   {
    "duration": 23,
    "start_time": "2022-06-02T19:49:09.166Z"
   },
   {
    "duration": 134,
    "start_time": "2022-06-02T19:49:09.192Z"
   },
   {
    "duration": 14,
    "start_time": "2022-06-02T19:49:09.329Z"
   },
   {
    "duration": 76,
    "start_time": "2022-06-02T19:49:09.345Z"
   },
   {
    "duration": 16,
    "start_time": "2022-06-02T19:49:09.423Z"
   },
   {
    "duration": 117,
    "start_time": "2022-06-02T19:49:09.440Z"
   },
   {
    "duration": 8,
    "start_time": "2022-06-02T19:49:09.559Z"
   },
   {
    "duration": 16,
    "start_time": "2022-06-02T19:49:09.569Z"
   },
   {
    "duration": 10,
    "start_time": "2022-06-02T19:49:09.587Z"
   },
   {
    "duration": 11,
    "start_time": "2022-06-02T19:49:09.599Z"
   },
   {
    "duration": 69,
    "start_time": "2022-06-02T19:49:09.626Z"
   },
   {
    "duration": 10,
    "start_time": "2022-06-02T19:49:09.697Z"
   },
   {
    "duration": 90,
    "start_time": "2022-06-02T19:49:09.709Z"
   },
   {
    "duration": 48,
    "start_time": "2022-06-02T19:49:09.801Z"
   },
   {
    "duration": 41,
    "start_time": "2022-06-02T19:49:09.851Z"
   },
   {
    "duration": 11,
    "start_time": "2022-06-02T19:49:09.894Z"
   },
   {
    "duration": 94,
    "start_time": "2022-06-02T19:49:09.907Z"
   },
   {
    "duration": 17,
    "start_time": "2022-06-02T19:49:10.004Z"
   },
   {
    "duration": 28,
    "start_time": "2022-06-02T19:49:10.023Z"
   },
   {
    "duration": 14,
    "start_time": "2022-06-02T19:49:10.052Z"
   },
   {
    "duration": 125,
    "start_time": "2022-06-02T19:49:10.068Z"
   },
   {
    "duration": 0,
    "start_time": "2022-06-02T19:49:10.196Z"
   },
   {
    "duration": 1481,
    "start_time": "2022-06-02T19:49:17.907Z"
   },
   {
    "duration": 4,
    "start_time": "2022-06-02T19:49:19.390Z"
   },
   {
    "duration": 26,
    "start_time": "2022-06-02T19:49:19.395Z"
   },
   {
    "duration": 45,
    "start_time": "2022-06-02T19:49:19.423Z"
   },
   {
    "duration": 154,
    "start_time": "2022-06-02T19:49:19.470Z"
   },
   {
    "duration": 14,
    "start_time": "2022-06-02T19:49:19.625Z"
   },
   {
    "duration": 71,
    "start_time": "2022-06-02T19:49:19.641Z"
   },
   {
    "duration": 17,
    "start_time": "2022-06-02T19:49:19.714Z"
   },
   {
    "duration": 106,
    "start_time": "2022-06-02T19:49:19.733Z"
   },
   {
    "duration": 8,
    "start_time": "2022-06-02T19:49:19.842Z"
   },
   {
    "duration": 18,
    "start_time": "2022-06-02T19:49:19.852Z"
   },
   {
    "duration": 13,
    "start_time": "2022-06-02T19:49:19.871Z"
   },
   {
    "duration": 10,
    "start_time": "2022-06-02T19:49:19.886Z"
   },
   {
    "duration": 76,
    "start_time": "2022-06-02T19:49:19.898Z"
   },
   {
    "duration": 11,
    "start_time": "2022-06-02T19:49:19.975Z"
   },
   {
    "duration": 95,
    "start_time": "2022-06-02T19:49:19.987Z"
   },
   {
    "duration": 56,
    "start_time": "2022-06-02T19:49:20.084Z"
   },
   {
    "duration": 46,
    "start_time": "2022-06-02T19:49:20.143Z"
   },
   {
    "duration": 11,
    "start_time": "2022-06-02T19:49:20.190Z"
   },
   {
    "duration": 82,
    "start_time": "2022-06-02T19:49:20.203Z"
   },
   {
    "duration": 14,
    "start_time": "2022-06-02T19:49:20.286Z"
   },
   {
    "duration": 25,
    "start_time": "2022-06-02T19:49:20.302Z"
   },
   {
    "duration": 11,
    "start_time": "2022-06-02T19:49:20.329Z"
   },
   {
    "duration": 173,
    "start_time": "2022-06-02T19:49:20.342Z"
   },
   {
    "duration": 0,
    "start_time": "2022-06-02T19:49:20.517Z"
   },
   {
    "duration": 27,
    "start_time": "2022-06-02T19:49:48.374Z"
   },
   {
    "duration": 1453,
    "start_time": "2022-06-02T19:49:58.123Z"
   },
   {
    "duration": 2,
    "start_time": "2022-06-02T19:49:59.578Z"
   },
   {
    "duration": 18,
    "start_time": "2022-06-02T19:49:59.582Z"
   },
   {
    "duration": 15,
    "start_time": "2022-06-02T19:49:59.601Z"
   },
   {
    "duration": 149,
    "start_time": "2022-06-02T19:49:59.619Z"
   },
   {
    "duration": 9,
    "start_time": "2022-06-02T19:49:59.769Z"
   },
   {
    "duration": 88,
    "start_time": "2022-06-02T19:49:59.779Z"
   },
   {
    "duration": 9,
    "start_time": "2022-06-02T19:49:59.869Z"
   },
   {
    "duration": 120,
    "start_time": "2022-06-02T19:49:59.879Z"
   },
   {
    "duration": 8,
    "start_time": "2022-06-02T19:50:00.001Z"
   },
   {
    "duration": 43,
    "start_time": "2022-06-02T19:50:00.011Z"
   },
   {
    "duration": 22,
    "start_time": "2022-06-02T19:50:00.056Z"
   },
   {
    "duration": 33,
    "start_time": "2022-06-02T19:50:00.080Z"
   },
   {
    "duration": 89,
    "start_time": "2022-06-02T19:50:00.116Z"
   },
   {
    "duration": 12,
    "start_time": "2022-06-02T19:50:00.206Z"
   },
   {
    "duration": 82,
    "start_time": "2022-06-02T19:50:00.220Z"
   },
   {
    "duration": 50,
    "start_time": "2022-06-02T19:50:00.304Z"
   },
   {
    "duration": 44,
    "start_time": "2022-06-02T19:50:00.356Z"
   },
   {
    "duration": 41,
    "start_time": "2022-06-02T19:50:00.402Z"
   },
   {
    "duration": 67,
    "start_time": "2022-06-02T19:50:00.445Z"
   },
   {
    "duration": 27,
    "start_time": "2022-06-02T19:50:00.513Z"
   },
   {
    "duration": 46,
    "start_time": "2022-06-02T19:50:00.542Z"
   },
   {
    "duration": 56,
    "start_time": "2022-06-02T19:50:00.590Z"
   },
   {
    "duration": 102,
    "start_time": "2022-06-02T19:50:00.648Z"
   },
   {
    "duration": 13,
    "start_time": "2022-06-02T19:50:00.751Z"
   },
   {
    "duration": 60,
    "start_time": "2022-06-03T07:38:32.569Z"
   },
   {
    "duration": 1935,
    "start_time": "2022-06-03T07:38:43.553Z"
   },
   {
    "duration": 3,
    "start_time": "2022-06-03T07:38:45.491Z"
   },
   {
    "duration": 16,
    "start_time": "2022-06-03T07:38:45.496Z"
   },
   {
    "duration": 16,
    "start_time": "2022-06-03T07:38:45.514Z"
   },
   {
    "duration": 143,
    "start_time": "2022-06-03T07:38:45.533Z"
   },
   {
    "duration": 8,
    "start_time": "2022-06-03T07:38:45.678Z"
   },
   {
    "duration": 81,
    "start_time": "2022-06-03T07:38:45.687Z"
   },
   {
    "duration": 8,
    "start_time": "2022-06-03T07:38:45.770Z"
   },
   {
    "duration": 101,
    "start_time": "2022-06-03T07:38:45.779Z"
   },
   {
    "duration": 9,
    "start_time": "2022-06-03T07:38:45.882Z"
   },
   {
    "duration": 13,
    "start_time": "2022-06-03T07:38:45.893Z"
   },
   {
    "duration": 13,
    "start_time": "2022-06-03T07:38:45.908Z"
   },
   {
    "duration": 11,
    "start_time": "2022-06-03T07:38:45.923Z"
   },
   {
    "duration": 68,
    "start_time": "2022-06-03T07:38:45.960Z"
   },
   {
    "duration": 14,
    "start_time": "2022-06-03T07:38:46.030Z"
   },
   {
    "duration": 101,
    "start_time": "2022-06-03T07:38:46.045Z"
   },
   {
    "duration": 45,
    "start_time": "2022-06-03T07:38:46.148Z"
   },
   {
    "duration": 42,
    "start_time": "2022-06-03T07:38:46.195Z"
   },
   {
    "duration": 34,
    "start_time": "2022-06-03T07:38:46.239Z"
   },
   {
    "duration": 66,
    "start_time": "2022-06-03T07:38:46.275Z"
   },
   {
    "duration": 27,
    "start_time": "2022-06-03T07:38:46.343Z"
   },
   {
    "duration": 12,
    "start_time": "2022-06-03T07:38:46.372Z"
   },
   {
    "duration": 11,
    "start_time": "2022-06-03T07:38:46.386Z"
   },
   {
    "duration": 87,
    "start_time": "2022-06-03T07:38:46.399Z"
   },
   {
    "duration": 18,
    "start_time": "2022-06-03T07:38:46.488Z"
   },
   {
    "duration": 73,
    "start_time": "2022-06-03T07:38:57.642Z"
   },
   {
    "duration": 453,
    "start_time": "2022-06-03T07:39:01.649Z"
   },
   {
    "duration": 2,
    "start_time": "2022-06-03T07:39:02.104Z"
   },
   {
    "duration": 33,
    "start_time": "2022-06-03T07:39:02.108Z"
   },
   {
    "duration": 25,
    "start_time": "2022-06-03T07:39:02.143Z"
   },
   {
    "duration": 152,
    "start_time": "2022-06-03T07:39:02.171Z"
   },
   {
    "duration": 8,
    "start_time": "2022-06-03T07:39:02.324Z"
   },
   {
    "duration": 75,
    "start_time": "2022-06-03T07:39:02.333Z"
   },
   {
    "duration": 8,
    "start_time": "2022-06-03T07:39:02.409Z"
   },
   {
    "duration": 97,
    "start_time": "2022-06-03T07:39:02.418Z"
   },
   {
    "duration": 7,
    "start_time": "2022-06-03T07:39:02.518Z"
   },
   {
    "duration": 25,
    "start_time": "2022-06-03T07:39:02.527Z"
   },
   {
    "duration": 22,
    "start_time": "2022-06-03T07:39:02.553Z"
   },
   {
    "duration": 25,
    "start_time": "2022-06-03T07:39:02.576Z"
   },
   {
    "duration": 69,
    "start_time": "2022-06-03T07:39:02.603Z"
   },
   {
    "duration": 10,
    "start_time": "2022-06-03T07:39:02.674Z"
   },
   {
    "duration": 91,
    "start_time": "2022-06-03T07:39:02.686Z"
   },
   {
    "duration": 35,
    "start_time": "2022-06-03T07:39:02.779Z"
   },
   {
    "duration": 64,
    "start_time": "2022-06-03T07:39:02.816Z"
   },
   {
    "duration": 12,
    "start_time": "2022-06-03T07:39:02.881Z"
   },
   {
    "duration": 80,
    "start_time": "2022-06-03T07:39:02.895Z"
   },
   {
    "duration": 16,
    "start_time": "2022-06-03T07:39:02.977Z"
   },
   {
    "duration": 52,
    "start_time": "2022-06-03T07:39:02.996Z"
   },
   {
    "duration": 47,
    "start_time": "2022-06-03T07:39:03.051Z"
   },
   {
    "duration": 95,
    "start_time": "2022-06-03T07:39:03.100Z"
   },
   {
    "duration": 22,
    "start_time": "2022-06-03T07:39:03.197Z"
   },
   {
    "duration": 1444,
    "start_time": "2022-06-03T07:52:12.671Z"
   },
   {
    "duration": 3,
    "start_time": "2022-06-03T07:52:14.118Z"
   },
   {
    "duration": 27,
    "start_time": "2022-06-03T07:52:14.123Z"
   },
   {
    "duration": 18,
    "start_time": "2022-06-03T07:52:14.152Z"
   },
   {
    "duration": 224,
    "start_time": "2022-06-03T07:52:14.173Z"
   },
   {
    "duration": 9,
    "start_time": "2022-06-03T07:52:14.399Z"
   },
   {
    "duration": 137,
    "start_time": "2022-06-03T07:52:14.410Z"
   },
   {
    "duration": 17,
    "start_time": "2022-06-03T07:52:14.548Z"
   },
   {
    "duration": 110,
    "start_time": "2022-06-03T07:52:14.567Z"
   },
   {
    "duration": 9,
    "start_time": "2022-06-03T07:52:14.679Z"
   },
   {
    "duration": 13,
    "start_time": "2022-06-03T07:52:14.690Z"
   },
   {
    "duration": 13,
    "start_time": "2022-06-03T07:52:14.705Z"
   },
   {
    "duration": 40,
    "start_time": "2022-06-03T07:52:14.720Z"
   },
   {
    "duration": 65,
    "start_time": "2022-06-03T07:52:14.764Z"
   },
   {
    "duration": 33,
    "start_time": "2022-06-03T07:52:14.831Z"
   },
   {
    "duration": 76,
    "start_time": "2022-06-03T07:52:14.866Z"
   },
   {
    "duration": 57,
    "start_time": "2022-06-03T07:52:14.944Z"
   },
   {
    "duration": 57,
    "start_time": "2022-06-03T07:52:15.003Z"
   },
   {
    "duration": 13,
    "start_time": "2022-06-03T07:52:15.061Z"
   },
   {
    "duration": 58,
    "start_time": "2022-06-03T07:52:15.076Z"
   },
   {
    "duration": 16,
    "start_time": "2022-06-03T07:52:15.158Z"
   },
   {
    "duration": 16,
    "start_time": "2022-06-03T07:52:15.176Z"
   },
   {
    "duration": 15,
    "start_time": "2022-06-03T07:52:15.194Z"
   },
   {
    "duration": 15,
    "start_time": "2022-06-03T07:53:47.111Z"
   },
   {
    "duration": 1396,
    "start_time": "2022-06-03T07:55:48.508Z"
   },
   {
    "duration": 4,
    "start_time": "2022-06-03T07:55:49.907Z"
   },
   {
    "duration": 24,
    "start_time": "2022-06-03T07:55:49.912Z"
   },
   {
    "duration": 19,
    "start_time": "2022-06-03T07:55:49.939Z"
   },
   {
    "duration": 182,
    "start_time": "2022-06-03T07:55:49.960Z"
   },
   {
    "duration": 24,
    "start_time": "2022-06-03T07:55:50.144Z"
   },
   {
    "duration": 89,
    "start_time": "2022-06-03T07:55:50.170Z"
   },
   {
    "duration": 9,
    "start_time": "2022-06-03T07:55:50.260Z"
   },
   {
    "duration": 117,
    "start_time": "2022-06-03T07:55:50.271Z"
   },
   {
    "duration": 8,
    "start_time": "2022-06-03T07:55:50.392Z"
   },
   {
    "duration": 23,
    "start_time": "2022-06-03T07:55:50.402Z"
   },
   {
    "duration": 13,
    "start_time": "2022-06-03T07:55:50.427Z"
   },
   {
    "duration": 9,
    "start_time": "2022-06-03T07:55:50.458Z"
   },
   {
    "duration": 93,
    "start_time": "2022-06-03T07:55:50.469Z"
   },
   {
    "duration": 12,
    "start_time": "2022-06-03T07:55:50.564Z"
   },
   {
    "duration": 102,
    "start_time": "2022-06-03T07:55:50.579Z"
   },
   {
    "duration": 38,
    "start_time": "2022-06-03T07:55:50.682Z"
   },
   {
    "duration": 73,
    "start_time": "2022-06-03T07:55:50.723Z"
   },
   {
    "duration": 17,
    "start_time": "2022-06-03T07:55:50.798Z"
   },
   {
    "duration": 79,
    "start_time": "2022-06-03T07:55:50.816Z"
   },
   {
    "duration": 14,
    "start_time": "2022-06-03T07:55:50.897Z"
   },
   {
    "duration": 15,
    "start_time": "2022-06-03T07:55:50.913Z"
   },
   {
    "duration": 29,
    "start_time": "2022-06-03T07:55:50.931Z"
   },
   {
    "duration": 12,
    "start_time": "2022-06-03T07:55:50.962Z"
   },
   {
    "duration": 10,
    "start_time": "2022-06-03T07:56:20.633Z"
   },
   {
    "duration": 654,
    "start_time": "2022-06-03T07:56:32.397Z"
   },
   {
    "duration": 7,
    "start_time": "2022-06-03T07:56:33.053Z"
   },
   {
    "duration": 94,
    "start_time": "2022-06-03T07:56:33.062Z"
   },
   {
    "duration": 45,
    "start_time": "2022-06-03T07:56:33.158Z"
   },
   {
    "duration": 223,
    "start_time": "2022-06-03T07:56:33.206Z"
   },
   {
    "duration": 11,
    "start_time": "2022-06-03T07:56:33.432Z"
   },
   {
    "duration": 123,
    "start_time": "2022-06-03T07:56:33.446Z"
   },
   {
    "duration": 15,
    "start_time": "2022-06-03T07:56:33.571Z"
   },
   {
    "duration": 140,
    "start_time": "2022-06-03T07:56:33.589Z"
   },
   {
    "duration": 27,
    "start_time": "2022-06-03T07:56:33.732Z"
   },
   {
    "duration": 14,
    "start_time": "2022-06-03T07:56:33.763Z"
   },
   {
    "duration": 19,
    "start_time": "2022-06-03T07:56:33.780Z"
   },
   {
    "duration": 19,
    "start_time": "2022-06-03T07:56:33.801Z"
   },
   {
    "duration": 118,
    "start_time": "2022-06-03T07:56:33.824Z"
   },
   {
    "duration": 24,
    "start_time": "2022-06-03T07:56:33.944Z"
   },
   {
    "duration": 125,
    "start_time": "2022-06-03T07:56:33.970Z"
   },
   {
    "duration": 62,
    "start_time": "2022-06-03T07:56:34.098Z"
   },
   {
    "duration": 66,
    "start_time": "2022-06-03T07:56:34.163Z"
   },
   {
    "duration": 35,
    "start_time": "2022-06-03T07:56:34.231Z"
   },
   {
    "duration": 108,
    "start_time": "2022-06-03T07:56:34.269Z"
   },
   {
    "duration": 21,
    "start_time": "2022-06-03T07:56:34.380Z"
   },
   {
    "duration": 27,
    "start_time": "2022-06-03T07:56:34.404Z"
   },
   {
    "duration": 41,
    "start_time": "2022-06-03T07:56:34.433Z"
   },
   {
    "duration": 39,
    "start_time": "2022-06-03T07:56:34.477Z"
   },
   {
    "duration": 31,
    "start_time": "2022-06-03T07:56:34.520Z"
   },
   {
    "duration": 39,
    "start_time": "2022-06-03T07:58:16.018Z"
   },
   {
    "duration": 28,
    "start_time": "2022-06-03T07:58:23.005Z"
   },
   {
    "duration": 9,
    "start_time": "2022-06-03T07:58:35.172Z"
   },
   {
    "duration": 21,
    "start_time": "2022-06-03T07:59:55.254Z"
   },
   {
    "duration": 21,
    "start_time": "2022-06-03T07:59:58.570Z"
   },
   {
    "duration": 9,
    "start_time": "2022-06-03T08:00:00.889Z"
   },
   {
    "duration": 9,
    "start_time": "2022-06-03T08:00:59.772Z"
   },
   {
    "duration": 101,
    "start_time": "2022-06-03T08:01:38.237Z"
   },
   {
    "duration": 17,
    "start_time": "2022-06-03T08:01:44.024Z"
   },
   {
    "duration": 7,
    "start_time": "2022-06-03T08:01:45.996Z"
   },
   {
    "duration": 14,
    "start_time": "2022-06-03T08:02:22.308Z"
   },
   {
    "duration": 8,
    "start_time": "2022-06-03T08:07:53.812Z"
   },
   {
    "duration": 19,
    "start_time": "2022-06-03T08:07:56.084Z"
   },
   {
    "duration": 21,
    "start_time": "2022-06-03T08:08:17.219Z"
   },
   {
    "duration": 18,
    "start_time": "2022-06-03T08:08:26.402Z"
   },
   {
    "duration": 12,
    "start_time": "2022-06-03T08:08:41.485Z"
   },
   {
    "duration": 442,
    "start_time": "2022-06-03T08:08:51.542Z"
   },
   {
    "duration": 3,
    "start_time": "2022-06-03T08:08:51.987Z"
   },
   {
    "duration": 28,
    "start_time": "2022-06-03T08:08:51.992Z"
   },
   {
    "duration": 21,
    "start_time": "2022-06-03T08:08:52.021Z"
   },
   {
    "duration": 140,
    "start_time": "2022-06-03T08:08:52.044Z"
   },
   {
    "duration": 8,
    "start_time": "2022-06-03T08:08:52.186Z"
   },
   {
    "duration": 95,
    "start_time": "2022-06-03T08:08:52.196Z"
   },
   {
    "duration": 10,
    "start_time": "2022-06-03T08:08:52.292Z"
   },
   {
    "duration": 130,
    "start_time": "2022-06-03T08:08:52.303Z"
   },
   {
    "duration": 9,
    "start_time": "2022-06-03T08:08:52.434Z"
   },
   {
    "duration": 13,
    "start_time": "2022-06-03T08:08:52.458Z"
   },
   {
    "duration": 12,
    "start_time": "2022-06-03T08:08:52.474Z"
   },
   {
    "duration": 14,
    "start_time": "2022-06-03T08:08:52.488Z"
   },
   {
    "duration": 92,
    "start_time": "2022-06-03T08:08:52.506Z"
   },
   {
    "duration": 11,
    "start_time": "2022-06-03T08:08:52.600Z"
   },
   {
    "duration": 97,
    "start_time": "2022-06-03T08:08:52.613Z"
   },
   {
    "duration": 53,
    "start_time": "2022-06-03T08:08:52.712Z"
   },
   {
    "duration": 42,
    "start_time": "2022-06-03T08:08:52.767Z"
   },
   {
    "duration": 12,
    "start_time": "2022-06-03T08:08:52.811Z"
   },
   {
    "duration": 90,
    "start_time": "2022-06-03T08:08:52.825Z"
   },
   {
    "duration": 20,
    "start_time": "2022-06-03T08:08:52.917Z"
   },
   {
    "duration": 14,
    "start_time": "2022-06-03T08:08:52.959Z"
   },
   {
    "duration": 14,
    "start_time": "2022-06-03T08:08:52.975Z"
   },
   {
    "duration": 18,
    "start_time": "2022-06-03T08:08:52.991Z"
   },
   {
    "duration": 53,
    "start_time": "2022-06-03T08:08:53.015Z"
   },
   {
    "duration": 12,
    "start_time": "2022-06-03T08:08:53.070Z"
   },
   {
    "duration": 18,
    "start_time": "2022-06-03T08:08:53.087Z"
   },
   {
    "duration": 123,
    "start_time": "2022-06-03T08:08:53.108Z"
   },
   {
    "duration": 7,
    "start_time": "2022-06-03T08:08:53.233Z"
   },
   {
    "duration": 26,
    "start_time": "2022-06-03T08:08:53.242Z"
   },
   {
    "duration": 12,
    "start_time": "2022-06-03T08:09:08.378Z"
   },
   {
    "duration": 9,
    "start_time": "2022-06-03T08:09:20.628Z"
   },
   {
    "duration": 24,
    "start_time": "2022-06-03T08:10:24.059Z"
   },
   {
    "duration": 492,
    "start_time": "2022-06-03T08:10:30.450Z"
   },
   {
    "duration": 4,
    "start_time": "2022-06-03T08:10:30.945Z"
   },
   {
    "duration": 56,
    "start_time": "2022-06-03T08:10:30.951Z"
   },
   {
    "duration": 31,
    "start_time": "2022-06-03T08:10:31.009Z"
   },
   {
    "duration": 144,
    "start_time": "2022-06-03T08:10:31.044Z"
   },
   {
    "duration": 9,
    "start_time": "2022-06-03T08:10:31.190Z"
   },
   {
    "duration": 100,
    "start_time": "2022-06-03T08:10:31.201Z"
   },
   {
    "duration": 9,
    "start_time": "2022-06-03T08:10:31.303Z"
   },
   {
    "duration": 121,
    "start_time": "2022-06-03T08:10:31.313Z"
   },
   {
    "duration": 9,
    "start_time": "2022-06-03T08:10:31.436Z"
   },
   {
    "duration": 19,
    "start_time": "2022-06-03T08:10:31.447Z"
   },
   {
    "duration": 42,
    "start_time": "2022-06-03T08:10:31.468Z"
   },
   {
    "duration": 31,
    "start_time": "2022-06-03T08:10:31.512Z"
   },
   {
    "duration": 53,
    "start_time": "2022-06-03T08:10:31.547Z"
   },
   {
    "duration": 20,
    "start_time": "2022-06-03T08:10:31.602Z"
   },
   {
    "duration": 114,
    "start_time": "2022-06-03T08:10:31.624Z"
   },
   {
    "duration": 58,
    "start_time": "2022-06-03T08:10:31.740Z"
   },
   {
    "duration": 71,
    "start_time": "2022-06-03T08:10:31.800Z"
   },
   {
    "duration": 13,
    "start_time": "2022-06-03T08:10:31.873Z"
   },
   {
    "duration": 109,
    "start_time": "2022-06-03T08:10:31.888Z"
   },
   {
    "duration": 23,
    "start_time": "2022-06-03T08:10:32.000Z"
   },
   {
    "duration": 42,
    "start_time": "2022-06-03T08:10:32.025Z"
   },
   {
    "duration": 44,
    "start_time": "2022-06-03T08:10:32.069Z"
   },
   {
    "duration": 37,
    "start_time": "2022-06-03T08:10:32.115Z"
   },
   {
    "duration": 78,
    "start_time": "2022-06-03T08:10:32.154Z"
   },
   {
    "duration": 11,
    "start_time": "2022-06-03T08:10:32.234Z"
   },
   {
    "duration": 22,
    "start_time": "2022-06-03T08:10:32.248Z"
   },
   {
    "duration": 52,
    "start_time": "2022-06-03T08:10:32.272Z"
   },
   {
    "duration": 9,
    "start_time": "2022-06-03T08:10:32.327Z"
   },
   {
    "duration": 54,
    "start_time": "2022-06-03T08:10:32.338Z"
   },
   {
    "duration": 54,
    "start_time": "2022-06-03T08:10:32.394Z"
   },
   {
    "duration": 20,
    "start_time": "2022-06-03T08:10:32.450Z"
   },
   {
    "duration": 603,
    "start_time": "2022-06-03T08:12:27.139Z"
   },
   {
    "duration": 1474,
    "start_time": "2022-06-03T08:12:39.598Z"
   },
   {
    "duration": 3,
    "start_time": "2022-06-03T08:12:41.075Z"
   },
   {
    "duration": 29,
    "start_time": "2022-06-03T08:12:41.080Z"
   },
   {
    "duration": 40,
    "start_time": "2022-06-03T08:12:41.111Z"
   },
   {
    "duration": 158,
    "start_time": "2022-06-03T08:12:41.153Z"
   },
   {
    "duration": 12,
    "start_time": "2022-06-03T08:12:41.313Z"
   },
   {
    "duration": 96,
    "start_time": "2022-06-03T08:12:41.327Z"
   },
   {
    "duration": 33,
    "start_time": "2022-06-03T08:12:41.426Z"
   },
   {
    "duration": 115,
    "start_time": "2022-06-03T08:12:41.462Z"
   },
   {
    "duration": 10,
    "start_time": "2022-06-03T08:12:41.580Z"
   },
   {
    "duration": 18,
    "start_time": "2022-06-03T08:12:41.592Z"
   },
   {
    "duration": 47,
    "start_time": "2022-06-03T08:12:41.612Z"
   },
   {
    "duration": 9,
    "start_time": "2022-06-03T08:12:41.661Z"
   },
   {
    "duration": 44,
    "start_time": "2022-06-03T08:12:41.671Z"
   },
   {
    "duration": 48,
    "start_time": "2022-06-03T08:12:41.717Z"
   },
   {
    "duration": 125,
    "start_time": "2022-06-03T08:12:41.768Z"
   },
   {
    "duration": 41,
    "start_time": "2022-06-03T08:12:41.895Z"
   },
   {
    "duration": 66,
    "start_time": "2022-06-03T08:12:41.938Z"
   },
   {
    "duration": 13,
    "start_time": "2022-06-03T08:12:42.006Z"
   },
   {
    "duration": 97,
    "start_time": "2022-06-03T08:12:42.021Z"
   },
   {
    "duration": 15,
    "start_time": "2022-06-03T08:12:42.120Z"
   },
   {
    "duration": 26,
    "start_time": "2022-06-03T08:12:42.138Z"
   },
   {
    "duration": 14,
    "start_time": "2022-06-03T08:12:42.166Z"
   },
   {
    "duration": 22,
    "start_time": "2022-06-03T08:12:42.183Z"
   },
   {
    "duration": 66,
    "start_time": "2022-06-03T08:12:42.207Z"
   },
   {
    "duration": 8,
    "start_time": "2022-06-03T08:12:42.276Z"
   },
   {
    "duration": 15,
    "start_time": "2022-06-03T08:12:42.287Z"
   },
   {
    "duration": 52,
    "start_time": "2022-06-03T08:12:42.307Z"
   },
   {
    "duration": 9,
    "start_time": "2022-06-03T08:12:42.362Z"
   },
   {
    "duration": 13,
    "start_time": "2022-06-03T08:12:42.373Z"
   },
   {
    "duration": 18,
    "start_time": "2022-06-03T08:12:42.388Z"
   },
   {
    "duration": 10,
    "start_time": "2022-06-03T08:12:42.409Z"
   },
   {
    "duration": 90,
    "start_time": "2022-06-03T08:13:07.593Z"
   },
   {
    "duration": 70,
    "start_time": "2022-06-03T08:13:12.189Z"
   },
   {
    "duration": 16,
    "start_time": "2022-06-03T08:13:19.848Z"
   },
   {
    "duration": 75,
    "start_time": "2022-06-03T08:13:30.385Z"
   },
   {
    "duration": 60,
    "start_time": "2022-06-03T08:13:39.002Z"
   },
   {
    "duration": 9,
    "start_time": "2022-06-03T08:13:54.594Z"
   },
   {
    "duration": 36,
    "start_time": "2022-06-03T08:14:00.053Z"
   },
   {
    "duration": 8,
    "start_time": "2022-06-03T08:14:02.239Z"
   },
   {
    "duration": 9,
    "start_time": "2022-06-03T08:14:07.663Z"
   },
   {
    "duration": 41,
    "start_time": "2022-06-03T08:14:10.976Z"
   },
   {
    "duration": 12,
    "start_time": "2022-06-03T08:14:13.271Z"
   },
   {
    "duration": 13,
    "start_time": "2022-06-03T08:14:17.716Z"
   },
   {
    "duration": 22,
    "start_time": "2022-06-03T08:14:21.033Z"
   },
   {
    "duration": 9,
    "start_time": "2022-06-03T08:14:24.623Z"
   },
   {
    "duration": 13,
    "start_time": "2022-06-03T08:16:47.251Z"
   },
   {
    "duration": 16,
    "start_time": "2022-06-03T08:16:58.323Z"
   },
   {
    "duration": 26,
    "start_time": "2022-06-03T08:17:50.887Z"
   },
   {
    "duration": 18,
    "start_time": "2022-06-03T08:18:20.146Z"
   },
   {
    "duration": 23,
    "start_time": "2022-06-03T08:18:33.900Z"
   },
   {
    "duration": 25,
    "start_time": "2022-06-03T08:19:49.811Z"
   },
   {
    "duration": 26,
    "start_time": "2022-06-03T08:20:16.484Z"
   },
   {
    "duration": 10,
    "start_time": "2022-06-03T08:20:51.204Z"
   },
   {
    "duration": 8,
    "start_time": "2022-06-03T08:21:38.841Z"
   },
   {
    "duration": 5,
    "start_time": "2022-06-03T08:21:41.830Z"
   },
   {
    "duration": 13,
    "start_time": "2022-06-03T08:21:52.546Z"
   },
   {
    "duration": 100,
    "start_time": "2022-06-03T08:22:24.937Z"
   },
   {
    "duration": 20,
    "start_time": "2022-06-03T08:22:32.133Z"
   },
   {
    "duration": 568,
    "start_time": "2022-06-03T08:22:53.638Z"
   },
   {
    "duration": 3,
    "start_time": "2022-06-03T08:22:54.208Z"
   },
   {
    "duration": 29,
    "start_time": "2022-06-03T08:22:54.213Z"
   },
   {
    "duration": 12,
    "start_time": "2022-06-03T08:22:54.244Z"
   },
   {
    "duration": 163,
    "start_time": "2022-06-03T08:22:54.259Z"
   },
   {
    "duration": 10,
    "start_time": "2022-06-03T08:22:54.423Z"
   },
   {
    "duration": 102,
    "start_time": "2022-06-03T08:22:54.434Z"
   },
   {
    "duration": 23,
    "start_time": "2022-06-03T08:22:54.539Z"
   },
   {
    "duration": 135,
    "start_time": "2022-06-03T08:22:54.565Z"
   },
   {
    "duration": 10,
    "start_time": "2022-06-03T08:22:54.701Z"
   },
   {
    "duration": 21,
    "start_time": "2022-06-03T08:22:54.714Z"
   },
   {
    "duration": 16,
    "start_time": "2022-06-03T08:22:54.759Z"
   },
   {
    "duration": 21,
    "start_time": "2022-06-03T08:22:54.777Z"
   },
   {
    "duration": 120,
    "start_time": "2022-06-03T08:22:54.802Z"
   },
   {
    "duration": 17,
    "start_time": "2022-06-03T08:22:54.924Z"
   },
   {
    "duration": 106,
    "start_time": "2022-06-03T08:22:54.958Z"
   },
   {
    "duration": 114,
    "start_time": "2022-06-03T08:22:55.066Z"
   },
   {
    "duration": 120,
    "start_time": "2022-06-03T08:22:55.183Z"
   },
   {
    "duration": 22,
    "start_time": "2022-06-03T08:22:55.305Z"
   },
   {
    "duration": 94,
    "start_time": "2022-06-03T08:22:55.330Z"
   },
   {
    "duration": 32,
    "start_time": "2022-06-03T08:22:55.427Z"
   },
   {
    "duration": 17,
    "start_time": "2022-06-03T08:22:55.462Z"
   },
   {
    "duration": 15,
    "start_time": "2022-06-03T08:22:55.481Z"
   },
   {
    "duration": 19,
    "start_time": "2022-06-03T08:22:55.498Z"
   },
   {
    "duration": 78,
    "start_time": "2022-06-03T08:22:55.519Z"
   },
   {
    "duration": 9,
    "start_time": "2022-06-03T08:22:55.599Z"
   },
   {
    "duration": 24,
    "start_time": "2022-06-03T08:22:55.611Z"
   },
   {
    "duration": 57,
    "start_time": "2022-06-03T08:22:55.637Z"
   },
   {
    "duration": 10,
    "start_time": "2022-06-03T08:22:55.698Z"
   },
   {
    "duration": 16,
    "start_time": "2022-06-03T08:22:55.710Z"
   },
   {
    "duration": 49,
    "start_time": "2022-06-03T08:22:55.728Z"
   },
   {
    "duration": 9,
    "start_time": "2022-06-03T08:22:55.779Z"
   },
   {
    "duration": 26,
    "start_time": "2022-06-03T08:22:55.790Z"
   },
   {
    "duration": 46,
    "start_time": "2022-06-03T08:22:55.818Z"
   },
   {
    "duration": 36,
    "start_time": "2022-06-03T08:22:55.867Z"
   },
   {
    "duration": 27,
    "start_time": "2022-06-03T08:22:55.907Z"
   },
   {
    "duration": 31,
    "start_time": "2022-06-03T08:22:55.936Z"
   },
   {
    "duration": 8,
    "start_time": "2022-06-03T08:22:55.969Z"
   },
   {
    "duration": 15,
    "start_time": "2022-06-03T08:22:55.979Z"
   },
   {
    "duration": 19,
    "start_time": "2022-06-03T08:22:55.996Z"
   },
   {
    "duration": 18,
    "start_time": "2022-06-03T08:23:05.996Z"
   },
   {
    "duration": 490,
    "start_time": "2022-06-03T08:23:10.194Z"
   },
   {
    "duration": 3,
    "start_time": "2022-06-03T08:23:10.686Z"
   },
   {
    "duration": 23,
    "start_time": "2022-06-03T08:23:10.691Z"
   },
   {
    "duration": 17,
    "start_time": "2022-06-03T08:23:10.717Z"
   },
   {
    "duration": 208,
    "start_time": "2022-06-03T08:23:10.737Z"
   },
   {
    "duration": 18,
    "start_time": "2022-06-03T08:23:10.947Z"
   },
   {
    "duration": 104,
    "start_time": "2022-06-03T08:23:10.968Z"
   },
   {
    "duration": 9,
    "start_time": "2022-06-03T08:23:11.074Z"
   },
   {
    "duration": 109,
    "start_time": "2022-06-03T08:23:11.084Z"
   },
   {
    "duration": 13,
    "start_time": "2022-06-03T08:23:11.195Z"
   },
   {
    "duration": 26,
    "start_time": "2022-06-03T08:23:11.210Z"
   },
   {
    "duration": 34,
    "start_time": "2022-06-03T08:23:11.239Z"
   },
   {
    "duration": 12,
    "start_time": "2022-06-03T08:23:11.276Z"
   },
   {
    "duration": 188,
    "start_time": "2022-06-03T08:23:11.293Z"
   },
   {
    "duration": 13,
    "start_time": "2022-06-03T08:23:11.483Z"
   },
   {
    "duration": 127,
    "start_time": "2022-06-03T08:23:11.498Z"
   },
   {
    "duration": 75,
    "start_time": "2022-06-03T08:23:11.627Z"
   },
   {
    "duration": 93,
    "start_time": "2022-06-03T08:23:11.704Z"
   },
   {
    "duration": 12,
    "start_time": "2022-06-03T08:23:11.799Z"
   },
   {
    "duration": 95,
    "start_time": "2022-06-03T08:23:11.813Z"
   },
   {
    "duration": 19,
    "start_time": "2022-06-03T08:23:11.910Z"
   },
   {
    "duration": 36,
    "start_time": "2022-06-03T08:23:11.932Z"
   },
   {
    "duration": 18,
    "start_time": "2022-06-03T08:23:11.971Z"
   },
   {
    "duration": 14,
    "start_time": "2022-06-03T08:23:11.991Z"
   },
   {
    "duration": 86,
    "start_time": "2022-06-03T08:23:12.008Z"
   },
   {
    "duration": 12,
    "start_time": "2022-06-03T08:23:12.096Z"
   },
   {
    "duration": 16,
    "start_time": "2022-06-03T08:23:12.110Z"
   },
   {
    "duration": 69,
    "start_time": "2022-06-03T08:23:12.128Z"
   },
   {
    "duration": 10,
    "start_time": "2022-06-03T08:23:12.199Z"
   },
   {
    "duration": 40,
    "start_time": "2022-06-03T08:23:12.212Z"
   },
   {
    "duration": 51,
    "start_time": "2022-06-03T08:23:12.254Z"
   },
   {
    "duration": 15,
    "start_time": "2022-06-03T08:23:12.307Z"
   },
   {
    "duration": 32,
    "start_time": "2022-06-03T08:23:12.324Z"
   },
   {
    "duration": 34,
    "start_time": "2022-06-03T08:23:12.359Z"
   },
   {
    "duration": 36,
    "start_time": "2022-06-03T08:23:12.396Z"
   },
   {
    "duration": 42,
    "start_time": "2022-06-03T08:23:12.434Z"
   },
   {
    "duration": 12,
    "start_time": "2022-06-03T08:23:12.478Z"
   },
   {
    "duration": 12,
    "start_time": "2022-06-03T08:23:12.492Z"
   },
   {
    "duration": 29,
    "start_time": "2022-06-03T08:23:12.507Z"
   },
   {
    "duration": 52,
    "start_time": "2022-06-03T08:23:12.538Z"
   },
   {
    "duration": 18,
    "start_time": "2022-06-03T08:23:33.198Z"
   },
   {
    "duration": 519,
    "start_time": "2022-06-03T08:23:40.287Z"
   },
   {
    "duration": 4,
    "start_time": "2022-06-03T08:23:40.808Z"
   },
   {
    "duration": 25,
    "start_time": "2022-06-03T08:23:40.813Z"
   },
   {
    "duration": 16,
    "start_time": "2022-06-03T08:23:40.840Z"
   },
   {
    "duration": 154,
    "start_time": "2022-06-03T08:23:40.859Z"
   },
   {
    "duration": 9,
    "start_time": "2022-06-03T08:23:41.016Z"
   },
   {
    "duration": 93,
    "start_time": "2022-06-03T08:23:41.028Z"
   },
   {
    "duration": 10,
    "start_time": "2022-06-03T08:23:41.123Z"
   },
   {
    "duration": 84,
    "start_time": "2022-06-03T08:23:41.159Z"
   },
   {
    "duration": 22,
    "start_time": "2022-06-03T08:23:41.245Z"
   },
   {
    "duration": 26,
    "start_time": "2022-06-03T08:23:41.268Z"
   },
   {
    "duration": 17,
    "start_time": "2022-06-03T08:23:41.296Z"
   },
   {
    "duration": 24,
    "start_time": "2022-06-03T08:23:41.315Z"
   },
   {
    "duration": 121,
    "start_time": "2022-06-03T08:23:41.343Z"
   },
   {
    "duration": 18,
    "start_time": "2022-06-03T08:23:41.466Z"
   },
   {
    "duration": 135,
    "start_time": "2022-06-03T08:23:41.487Z"
   },
   {
    "duration": 105,
    "start_time": "2022-06-03T08:23:41.624Z"
   },
   {
    "duration": 81,
    "start_time": "2022-06-03T08:23:41.731Z"
   },
   {
    "duration": 14,
    "start_time": "2022-06-03T08:23:41.814Z"
   },
   {
    "duration": 102,
    "start_time": "2022-06-03T08:23:41.830Z"
   },
   {
    "duration": 37,
    "start_time": "2022-06-03T08:23:41.934Z"
   },
   {
    "duration": 39,
    "start_time": "2022-06-03T08:23:41.973Z"
   },
   {
    "duration": 27,
    "start_time": "2022-06-03T08:23:42.014Z"
   },
   {
    "duration": 34,
    "start_time": "2022-06-03T08:23:42.043Z"
   },
   {
    "duration": 57,
    "start_time": "2022-06-03T08:23:42.079Z"
   },
   {
    "duration": 7,
    "start_time": "2022-06-03T08:23:42.138Z"
   },
   {
    "duration": 18,
    "start_time": "2022-06-03T08:23:42.147Z"
   },
   {
    "duration": 36,
    "start_time": "2022-06-03T08:23:42.167Z"
   },
   {
    "duration": 7,
    "start_time": "2022-06-03T08:23:42.205Z"
   },
   {
    "duration": 21,
    "start_time": "2022-06-03T08:23:42.214Z"
   },
   {
    "duration": 52,
    "start_time": "2022-06-03T08:23:42.237Z"
   },
   {
    "duration": 10,
    "start_time": "2022-06-03T08:23:42.291Z"
   },
   {
    "duration": 36,
    "start_time": "2022-06-03T08:23:42.303Z"
   },
   {
    "duration": 33,
    "start_time": "2022-06-03T08:23:42.340Z"
   },
   {
    "duration": 27,
    "start_time": "2022-06-03T08:23:42.375Z"
   },
   {
    "duration": 37,
    "start_time": "2022-06-03T08:23:42.404Z"
   },
   {
    "duration": 10,
    "start_time": "2022-06-03T08:23:42.459Z"
   },
   {
    "duration": 21,
    "start_time": "2022-06-03T08:23:42.471Z"
   },
   {
    "duration": 50,
    "start_time": "2022-06-03T08:23:42.494Z"
   },
   {
    "duration": 29,
    "start_time": "2022-06-03T08:23:42.545Z"
   },
   {
    "duration": 15,
    "start_time": "2022-06-03T08:24:46.639Z"
   },
   {
    "duration": 536,
    "start_time": "2022-06-03T08:24:55.615Z"
   },
   {
    "duration": 4,
    "start_time": "2022-06-03T08:24:56.153Z"
   },
   {
    "duration": 29,
    "start_time": "2022-06-03T08:24:56.158Z"
   },
   {
    "duration": 45,
    "start_time": "2022-06-03T08:24:56.190Z"
   },
   {
    "duration": 157,
    "start_time": "2022-06-03T08:24:56.237Z"
   },
   {
    "duration": 12,
    "start_time": "2022-06-03T08:24:56.397Z"
   },
   {
    "duration": 104,
    "start_time": "2022-06-03T08:24:56.411Z"
   },
   {
    "duration": 12,
    "start_time": "2022-06-03T08:24:56.518Z"
   },
   {
    "duration": 106,
    "start_time": "2022-06-03T08:24:56.532Z"
   },
   {
    "duration": 12,
    "start_time": "2022-06-03T08:24:56.658Z"
   },
   {
    "duration": 17,
    "start_time": "2022-06-03T08:24:56.672Z"
   },
   {
    "duration": 14,
    "start_time": "2022-06-03T08:24:56.691Z"
   },
   {
    "duration": 17,
    "start_time": "2022-06-03T08:24:56.707Z"
   },
   {
    "duration": 119,
    "start_time": "2022-06-03T08:24:56.758Z"
   },
   {
    "duration": 18,
    "start_time": "2022-06-03T08:24:56.878Z"
   },
   {
    "duration": 158,
    "start_time": "2022-06-03T08:24:56.898Z"
   },
   {
    "duration": 100,
    "start_time": "2022-06-03T08:24:57.060Z"
   },
   {
    "duration": 108,
    "start_time": "2022-06-03T08:24:57.162Z"
   },
   {
    "duration": 18,
    "start_time": "2022-06-03T08:24:57.272Z"
   },
   {
    "duration": 118,
    "start_time": "2022-06-03T08:24:57.291Z"
   },
   {
    "duration": 22,
    "start_time": "2022-06-03T08:24:57.411Z"
   },
   {
    "duration": 45,
    "start_time": "2022-06-03T08:24:57.435Z"
   },
   {
    "duration": 22,
    "start_time": "2022-06-03T08:24:57.482Z"
   },
   {
    "duration": 23,
    "start_time": "2022-06-03T08:24:57.506Z"
   },
   {
    "duration": 59,
    "start_time": "2022-06-03T08:24:57.531Z"
   },
   {
    "duration": 8,
    "start_time": "2022-06-03T08:24:57.592Z"
   },
   {
    "duration": 28,
    "start_time": "2022-06-03T08:24:57.602Z"
   },
   {
    "duration": 50,
    "start_time": "2022-06-03T08:24:57.634Z"
   },
   {
    "duration": 9,
    "start_time": "2022-06-03T08:24:57.687Z"
   },
   {
    "duration": 62,
    "start_time": "2022-06-03T08:24:57.698Z"
   },
   {
    "duration": 58,
    "start_time": "2022-06-03T08:24:57.762Z"
   },
   {
    "duration": 9,
    "start_time": "2022-06-03T08:24:57.822Z"
   },
   {
    "duration": 35,
    "start_time": "2022-06-03T08:24:57.834Z"
   },
   {
    "duration": 21,
    "start_time": "2022-06-03T08:24:57.871Z"
   },
   {
    "duration": 22,
    "start_time": "2022-06-03T08:24:57.894Z"
   },
   {
    "duration": 31,
    "start_time": "2022-06-03T08:24:57.919Z"
   },
   {
    "duration": 11,
    "start_time": "2022-06-03T08:24:57.960Z"
   },
   {
    "duration": 24,
    "start_time": "2022-06-03T08:24:57.973Z"
   },
   {
    "duration": 33,
    "start_time": "2022-06-03T08:24:58.000Z"
   },
   {
    "duration": 37,
    "start_time": "2022-06-03T08:24:58.035Z"
   },
   {
    "duration": 16,
    "start_time": "2022-06-03T08:26:41.633Z"
   },
   {
    "duration": 31,
    "start_time": "2022-06-03T08:26:46.757Z"
   },
   {
    "duration": 20,
    "start_time": "2022-06-03T08:26:50.641Z"
   },
   {
    "duration": 6,
    "start_time": "2022-06-03T08:29:05.374Z"
   },
   {
    "duration": 807,
    "start_time": "2022-06-03T08:29:52.388Z"
   },
   {
    "duration": 6,
    "start_time": "2022-06-03T08:30:09.132Z"
   },
   {
    "duration": 527,
    "start_time": "2022-06-03T08:30:11.928Z"
   },
   {
    "duration": 529,
    "start_time": "2022-06-03T08:30:15.889Z"
   },
   {
    "duration": 4,
    "start_time": "2022-06-03T08:30:16.420Z"
   },
   {
    "duration": 45,
    "start_time": "2022-06-03T08:30:16.425Z"
   },
   {
    "duration": 37,
    "start_time": "2022-06-03T08:30:16.474Z"
   },
   {
    "duration": 173,
    "start_time": "2022-06-03T08:30:16.513Z"
   },
   {
    "duration": 9,
    "start_time": "2022-06-03T08:30:16.688Z"
   },
   {
    "duration": 100,
    "start_time": "2022-06-03T08:30:16.698Z"
   },
   {
    "duration": 12,
    "start_time": "2022-06-03T08:30:16.800Z"
   },
   {
    "duration": 168,
    "start_time": "2022-06-03T08:30:16.814Z"
   },
   {
    "duration": 11,
    "start_time": "2022-06-03T08:30:16.986Z"
   },
   {
    "duration": 29,
    "start_time": "2022-06-03T08:30:17.000Z"
   },
   {
    "duration": 29,
    "start_time": "2022-06-03T08:30:17.031Z"
   },
   {
    "duration": 36,
    "start_time": "2022-06-03T08:30:17.069Z"
   },
   {
    "duration": 161,
    "start_time": "2022-06-03T08:30:17.108Z"
   },
   {
    "duration": 14,
    "start_time": "2022-06-03T08:30:17.271Z"
   },
   {
    "duration": 170,
    "start_time": "2022-06-03T08:30:17.287Z"
   },
   {
    "duration": 113,
    "start_time": "2022-06-03T08:30:17.459Z"
   },
   {
    "duration": 85,
    "start_time": "2022-06-03T08:30:17.575Z"
   },
   {
    "duration": 18,
    "start_time": "2022-06-03T08:30:17.662Z"
   },
   {
    "duration": 119,
    "start_time": "2022-06-03T08:30:17.683Z"
   },
   {
    "duration": 20,
    "start_time": "2022-06-03T08:30:17.804Z"
   },
   {
    "duration": 26,
    "start_time": "2022-06-03T08:30:17.826Z"
   },
   {
    "duration": 39,
    "start_time": "2022-06-03T08:30:17.859Z"
   },
   {
    "duration": 39,
    "start_time": "2022-06-03T08:30:17.901Z"
   },
   {
    "duration": 77,
    "start_time": "2022-06-03T08:30:17.943Z"
   },
   {
    "duration": 10,
    "start_time": "2022-06-03T08:30:18.022Z"
   },
   {
    "duration": 31,
    "start_time": "2022-06-03T08:30:18.035Z"
   },
   {
    "duration": 70,
    "start_time": "2022-06-03T08:30:18.073Z"
   },
   {
    "duration": 10,
    "start_time": "2022-06-03T08:30:18.146Z"
   },
   {
    "duration": 62,
    "start_time": "2022-06-03T08:30:18.159Z"
   },
   {
    "duration": 93,
    "start_time": "2022-06-03T08:30:18.224Z"
   },
   {
    "duration": 11,
    "start_time": "2022-06-03T08:30:18.320Z"
   },
   {
    "duration": 40,
    "start_time": "2022-06-03T08:30:18.333Z"
   },
   {
    "duration": 46,
    "start_time": "2022-06-03T08:30:18.375Z"
   },
   {
    "duration": 30,
    "start_time": "2022-06-03T08:30:18.424Z"
   },
   {
    "duration": 45,
    "start_time": "2022-06-03T08:30:18.456Z"
   },
   {
    "duration": 12,
    "start_time": "2022-06-03T08:30:18.503Z"
   },
   {
    "duration": 14,
    "start_time": "2022-06-03T08:30:18.518Z"
   },
   {
    "duration": 18,
    "start_time": "2022-06-03T08:30:18.534Z"
   },
   {
    "duration": 26,
    "start_time": "2022-06-03T08:30:18.554Z"
   },
   {
    "duration": 19,
    "start_time": "2022-06-03T08:30:18.583Z"
   },
   {
    "duration": 674,
    "start_time": "2022-06-03T08:30:18.605Z"
   },
   {
    "duration": 1697,
    "start_time": "2022-06-03T08:30:36.611Z"
   },
   {
    "duration": 2,
    "start_time": "2022-06-03T08:30:38.311Z"
   },
   {
    "duration": 16,
    "start_time": "2022-06-03T08:30:38.315Z"
   },
   {
    "duration": 34,
    "start_time": "2022-06-03T08:30:38.333Z"
   },
   {
    "duration": 210,
    "start_time": "2022-06-03T08:30:38.373Z"
   },
   {
    "duration": 10,
    "start_time": "2022-06-03T08:30:38.586Z"
   },
   {
    "duration": 144,
    "start_time": "2022-06-03T08:30:38.598Z"
   },
   {
    "duration": 13,
    "start_time": "2022-06-03T08:30:38.745Z"
   },
   {
    "duration": 201,
    "start_time": "2022-06-03T08:30:38.766Z"
   },
   {
    "duration": 18,
    "start_time": "2022-06-03T08:30:38.971Z"
   },
   {
    "duration": 56,
    "start_time": "2022-06-03T08:30:38.991Z"
   },
   {
    "duration": 51,
    "start_time": "2022-06-03T08:30:39.049Z"
   },
   {
    "duration": 32,
    "start_time": "2022-06-03T08:30:39.103Z"
   },
   {
    "duration": 169,
    "start_time": "2022-06-03T08:30:39.140Z"
   },
   {
    "duration": 17,
    "start_time": "2022-06-03T08:30:39.311Z"
   },
   {
    "duration": 206,
    "start_time": "2022-06-03T08:30:39.331Z"
   },
   {
    "duration": 79,
    "start_time": "2022-06-03T08:30:39.540Z"
   },
   {
    "duration": 102,
    "start_time": "2022-06-03T08:30:39.621Z"
   },
   {
    "duration": 16,
    "start_time": "2022-06-03T08:30:39.726Z"
   },
   {
    "duration": 97,
    "start_time": "2022-06-03T08:30:39.763Z"
   },
   {
    "duration": 31,
    "start_time": "2022-06-03T08:30:39.863Z"
   },
   {
    "duration": 28,
    "start_time": "2022-06-03T08:30:39.903Z"
   },
   {
    "duration": 19,
    "start_time": "2022-06-03T08:30:39.934Z"
   },
   {
    "duration": 53,
    "start_time": "2022-06-03T08:30:39.956Z"
   },
   {
    "duration": 78,
    "start_time": "2022-06-03T08:30:40.012Z"
   },
   {
    "duration": 22,
    "start_time": "2022-06-03T08:30:40.095Z"
   },
   {
    "duration": 34,
    "start_time": "2022-06-03T08:30:40.123Z"
   },
   {
    "duration": 76,
    "start_time": "2022-06-03T08:30:40.161Z"
   },
   {
    "duration": 15,
    "start_time": "2022-06-03T08:30:40.239Z"
   },
   {
    "duration": 48,
    "start_time": "2022-06-03T08:30:40.257Z"
   },
   {
    "duration": 43,
    "start_time": "2022-06-03T08:30:40.306Z"
   },
   {
    "duration": 14,
    "start_time": "2022-06-03T08:30:40.352Z"
   },
   {
    "duration": 48,
    "start_time": "2022-06-03T08:30:40.368Z"
   },
   {
    "duration": 18,
    "start_time": "2022-06-03T08:30:40.419Z"
   },
   {
    "duration": 34,
    "start_time": "2022-06-03T08:30:40.440Z"
   },
   {
    "duration": 25,
    "start_time": "2022-06-03T08:30:40.480Z"
   },
   {
    "duration": 10,
    "start_time": "2022-06-03T08:30:40.507Z"
   },
   {
    "duration": 12,
    "start_time": "2022-06-03T08:30:40.519Z"
   },
   {
    "duration": 41,
    "start_time": "2022-06-03T08:30:40.533Z"
   },
   {
    "duration": 18,
    "start_time": "2022-06-03T08:30:40.576Z"
   },
   {
    "duration": 5,
    "start_time": "2022-06-03T08:30:40.597Z"
   },
   {
    "duration": 223,
    "start_time": "2022-06-03T08:30:40.604Z"
   },
   {
    "duration": 5,
    "start_time": "2022-06-03T08:35:15.001Z"
   },
   {
    "duration": 570,
    "start_time": "2022-06-03T08:35:19.665Z"
   },
   {
    "duration": 3,
    "start_time": "2022-06-03T08:35:20.238Z"
   },
   {
    "duration": 32,
    "start_time": "2022-06-03T08:35:20.243Z"
   },
   {
    "duration": 35,
    "start_time": "2022-06-03T08:35:20.277Z"
   },
   {
    "duration": 168,
    "start_time": "2022-06-03T08:35:20.315Z"
   },
   {
    "duration": 12,
    "start_time": "2022-06-03T08:35:20.486Z"
   },
   {
    "duration": 147,
    "start_time": "2022-06-03T08:35:20.500Z"
   },
   {
    "duration": 25,
    "start_time": "2022-06-03T08:35:20.650Z"
   },
   {
    "duration": 143,
    "start_time": "2022-06-03T08:35:20.679Z"
   },
   {
    "duration": 10,
    "start_time": "2022-06-03T08:35:20.824Z"
   },
   {
    "duration": 54,
    "start_time": "2022-06-03T08:35:20.836Z"
   },
   {
    "duration": 14,
    "start_time": "2022-06-03T08:35:20.892Z"
   },
   {
    "duration": 21,
    "start_time": "2022-06-03T08:35:20.909Z"
   },
   {
    "duration": 129,
    "start_time": "2022-06-03T08:35:20.935Z"
   },
   {
    "duration": 20,
    "start_time": "2022-06-03T08:35:21.071Z"
   },
   {
    "duration": 143,
    "start_time": "2022-06-03T08:35:21.093Z"
   },
   {
    "duration": 75,
    "start_time": "2022-06-03T08:35:21.238Z"
   },
   {
    "duration": 111,
    "start_time": "2022-06-03T08:35:21.315Z"
   },
   {
    "duration": 15,
    "start_time": "2022-06-03T08:35:21.428Z"
   },
   {
    "duration": 160,
    "start_time": "2022-06-03T08:35:21.445Z"
   },
   {
    "duration": 16,
    "start_time": "2022-06-03T08:35:21.607Z"
   },
   {
    "duration": 35,
    "start_time": "2022-06-03T08:35:21.625Z"
   },
   {
    "duration": 36,
    "start_time": "2022-06-03T08:35:21.662Z"
   },
   {
    "duration": 11,
    "start_time": "2022-06-03T08:35:21.700Z"
   },
   {
    "duration": 117,
    "start_time": "2022-06-03T08:35:21.713Z"
   },
   {
    "duration": 11,
    "start_time": "2022-06-03T08:35:21.832Z"
   },
   {
    "duration": 24,
    "start_time": "2022-06-03T08:35:21.845Z"
   },
   {
    "duration": 43,
    "start_time": "2022-06-03T08:35:21.873Z"
   },
   {
    "duration": 7,
    "start_time": "2022-06-03T08:35:21.919Z"
   },
   {
    "duration": 24,
    "start_time": "2022-06-03T08:35:21.928Z"
   },
   {
    "duration": 39,
    "start_time": "2022-06-03T08:35:21.959Z"
   },
   {
    "duration": 8,
    "start_time": "2022-06-03T08:35:22.000Z"
   },
   {
    "duration": 24,
    "start_time": "2022-06-03T08:35:22.010Z"
   },
   {
    "duration": 39,
    "start_time": "2022-06-03T08:35:22.036Z"
   },
   {
    "duration": 38,
    "start_time": "2022-06-03T08:35:22.077Z"
   },
   {
    "duration": 29,
    "start_time": "2022-06-03T08:35:22.117Z"
   },
   {
    "duration": 18,
    "start_time": "2022-06-03T08:35:22.148Z"
   },
   {
    "duration": 7,
    "start_time": "2022-06-03T08:35:22.168Z"
   },
   {
    "duration": 30,
    "start_time": "2022-06-03T08:35:22.177Z"
   },
   {
    "duration": 19,
    "start_time": "2022-06-03T08:35:22.209Z"
   },
   {
    "duration": 33,
    "start_time": "2022-06-03T08:35:22.233Z"
   },
   {
    "duration": 157,
    "start_time": "2022-06-03T08:35:22.269Z"
   },
   {
    "duration": 134,
    "start_time": "2022-06-03T08:37:00.017Z"
   },
   {
    "duration": 135,
    "start_time": "2022-06-03T08:38:45.263Z"
   },
   {
    "duration": 494,
    "start_time": "2022-06-03T08:40:47.276Z"
   },
   {
    "duration": 3,
    "start_time": "2022-06-03T08:40:47.772Z"
   },
   {
    "duration": 67,
    "start_time": "2022-06-03T08:40:47.777Z"
   },
   {
    "duration": 36,
    "start_time": "2022-06-03T08:40:47.846Z"
   },
   {
    "duration": 180,
    "start_time": "2022-06-03T08:40:47.885Z"
   },
   {
    "duration": 8,
    "start_time": "2022-06-03T08:40:48.067Z"
   },
   {
    "duration": 95,
    "start_time": "2022-06-03T08:40:48.077Z"
   },
   {
    "duration": 8,
    "start_time": "2022-06-03T08:40:48.174Z"
   },
   {
    "duration": 109,
    "start_time": "2022-06-03T08:40:48.184Z"
   },
   {
    "duration": 8,
    "start_time": "2022-06-03T08:40:48.295Z"
   },
   {
    "duration": 29,
    "start_time": "2022-06-03T08:40:48.305Z"
   },
   {
    "duration": 39,
    "start_time": "2022-06-03T08:40:48.335Z"
   },
   {
    "duration": 14,
    "start_time": "2022-06-03T08:40:48.376Z"
   },
   {
    "duration": 123,
    "start_time": "2022-06-03T08:40:48.393Z"
   },
   {
    "duration": 11,
    "start_time": "2022-06-03T08:40:48.518Z"
   },
   {
    "duration": 104,
    "start_time": "2022-06-03T08:40:48.531Z"
   },
   {
    "duration": 71,
    "start_time": "2022-06-03T08:40:48.636Z"
   },
   {
    "duration": 92,
    "start_time": "2022-06-03T08:40:48.709Z"
   },
   {
    "duration": 12,
    "start_time": "2022-06-03T08:40:48.803Z"
   },
   {
    "duration": 100,
    "start_time": "2022-06-03T08:40:48.817Z"
   },
   {
    "duration": 15,
    "start_time": "2022-06-03T08:40:48.919Z"
   },
   {
    "duration": 30,
    "start_time": "2022-06-03T08:40:48.936Z"
   },
   {
    "duration": 32,
    "start_time": "2022-06-03T08:40:48.968Z"
   },
   {
    "duration": 25,
    "start_time": "2022-06-03T08:40:49.001Z"
   },
   {
    "duration": 70,
    "start_time": "2022-06-03T08:40:49.028Z"
   },
   {
    "duration": 8,
    "start_time": "2022-06-03T08:40:49.101Z"
   },
   {
    "duration": 34,
    "start_time": "2022-06-03T08:40:49.111Z"
   },
   {
    "duration": 31,
    "start_time": "2022-06-03T08:40:49.147Z"
   },
   {
    "duration": 8,
    "start_time": "2022-06-03T08:40:49.180Z"
   },
   {
    "duration": 45,
    "start_time": "2022-06-03T08:40:49.190Z"
   },
   {
    "duration": 53,
    "start_time": "2022-06-03T08:40:49.237Z"
   },
   {
    "duration": 13,
    "start_time": "2022-06-03T08:40:49.292Z"
   },
   {
    "duration": 43,
    "start_time": "2022-06-03T08:40:49.307Z"
   },
   {
    "duration": 40,
    "start_time": "2022-06-03T08:40:49.352Z"
   },
   {
    "duration": 23,
    "start_time": "2022-06-03T08:40:49.393Z"
   },
   {
    "duration": 42,
    "start_time": "2022-06-03T08:40:49.419Z"
   },
   {
    "duration": 16,
    "start_time": "2022-06-03T08:40:49.464Z"
   },
   {
    "duration": 16,
    "start_time": "2022-06-03T08:40:49.482Z"
   },
   {
    "duration": 21,
    "start_time": "2022-06-03T08:40:49.500Z"
   },
   {
    "duration": 19,
    "start_time": "2022-06-03T08:40:49.523Z"
   },
   {
    "duration": 4,
    "start_time": "2022-06-03T08:40:49.558Z"
   },
   {
    "duration": 138,
    "start_time": "2022-06-03T08:40:49.563Z"
   },
   {
    "duration": 7,
    "start_time": "2022-06-03T08:42:30.560Z"
   },
   {
    "duration": 7,
    "start_time": "2022-06-03T08:42:53.057Z"
   },
   {
    "duration": 28,
    "start_time": "2022-06-03T08:44:36.944Z"
   },
   {
    "duration": 474,
    "start_time": "2022-06-03T08:46:15.433Z"
   },
   {
    "duration": 4,
    "start_time": "2022-06-03T08:46:15.909Z"
   },
   {
    "duration": 31,
    "start_time": "2022-06-03T08:46:15.915Z"
   },
   {
    "duration": 17,
    "start_time": "2022-06-03T08:46:15.949Z"
   },
   {
    "duration": 157,
    "start_time": "2022-06-03T08:46:15.967Z"
   },
   {
    "duration": 10,
    "start_time": "2022-06-03T08:46:16.126Z"
   },
   {
    "duration": 87,
    "start_time": "2022-06-03T08:46:16.138Z"
   },
   {
    "duration": 8,
    "start_time": "2022-06-03T08:46:16.227Z"
   },
   {
    "duration": 107,
    "start_time": "2022-06-03T08:46:16.236Z"
   },
   {
    "duration": 14,
    "start_time": "2022-06-03T08:46:16.346Z"
   },
   {
    "duration": 31,
    "start_time": "2022-06-03T08:46:16.362Z"
   },
   {
    "duration": 20,
    "start_time": "2022-06-03T08:46:16.395Z"
   },
   {
    "duration": 25,
    "start_time": "2022-06-03T08:46:16.417Z"
   },
   {
    "duration": 117,
    "start_time": "2022-06-03T08:46:16.445Z"
   },
   {
    "duration": 14,
    "start_time": "2022-06-03T08:46:16.563Z"
   },
   {
    "duration": 128,
    "start_time": "2022-06-03T08:46:16.579Z"
   },
   {
    "duration": 96,
    "start_time": "2022-06-03T08:46:16.709Z"
   },
   {
    "duration": 97,
    "start_time": "2022-06-03T08:46:16.808Z"
   },
   {
    "duration": 18,
    "start_time": "2022-06-03T08:46:16.907Z"
   },
   {
    "duration": 137,
    "start_time": "2022-06-03T08:46:16.928Z"
   },
   {
    "duration": 17,
    "start_time": "2022-06-03T08:46:17.067Z"
   },
   {
    "duration": 63,
    "start_time": "2022-06-03T08:46:17.086Z"
   },
   {
    "duration": 77,
    "start_time": "2022-06-03T08:46:17.152Z"
   },
   {
    "duration": 65,
    "start_time": "2022-06-03T08:46:17.232Z"
   },
   {
    "duration": 100,
    "start_time": "2022-06-03T08:46:17.299Z"
   },
   {
    "duration": 12,
    "start_time": "2022-06-03T08:46:17.402Z"
   },
   {
    "duration": 49,
    "start_time": "2022-06-03T08:46:17.416Z"
   },
   {
    "duration": 46,
    "start_time": "2022-06-03T08:46:17.469Z"
   },
   {
    "duration": 11,
    "start_time": "2022-06-03T08:46:17.517Z"
   },
   {
    "duration": 40,
    "start_time": "2022-06-03T08:46:17.530Z"
   },
   {
    "duration": 54,
    "start_time": "2022-06-03T08:46:17.573Z"
   },
   {
    "duration": 39,
    "start_time": "2022-06-03T08:46:17.629Z"
   },
   {
    "duration": 42,
    "start_time": "2022-06-03T08:46:17.669Z"
   },
   {
    "duration": 31,
    "start_time": "2022-06-03T08:46:17.713Z"
   },
   {
    "duration": 22,
    "start_time": "2022-06-03T08:46:17.746Z"
   },
   {
    "duration": 29,
    "start_time": "2022-06-03T08:46:17.770Z"
   },
   {
    "duration": 20,
    "start_time": "2022-06-03T08:46:17.800Z"
   },
   {
    "duration": 33,
    "start_time": "2022-06-03T08:46:17.822Z"
   },
   {
    "duration": 40,
    "start_time": "2022-06-03T08:46:17.857Z"
   },
   {
    "duration": 33,
    "start_time": "2022-06-03T08:46:17.899Z"
   },
   {
    "duration": 16,
    "start_time": "2022-06-03T08:46:17.934Z"
   },
   {
    "duration": 621,
    "start_time": "2022-06-03T08:46:17.951Z"
   },
   {
    "duration": 0,
    "start_time": "2022-06-03T08:46:18.573Z"
   },
   {
    "duration": 0,
    "start_time": "2022-06-03T08:46:18.574Z"
   },
   {
    "duration": 0,
    "start_time": "2022-06-03T08:46:18.577Z"
   },
   {
    "duration": 10,
    "start_time": "2022-06-03T08:46:27.731Z"
   },
   {
    "duration": 15,
    "start_time": "2022-06-03T08:46:35.845Z"
   },
   {
    "duration": 21,
    "start_time": "2022-06-03T08:46:40.570Z"
   },
   {
    "duration": 121,
    "start_time": "2022-06-03T08:47:04.639Z"
   },
   {
    "duration": 464,
    "start_time": "2022-06-03T08:48:10.022Z"
   },
   {
    "duration": 4,
    "start_time": "2022-06-03T08:48:10.488Z"
   },
   {
    "duration": 26,
    "start_time": "2022-06-03T08:48:10.494Z"
   },
   {
    "duration": 19,
    "start_time": "2022-06-03T08:48:10.523Z"
   },
   {
    "duration": 180,
    "start_time": "2022-06-03T08:48:10.544Z"
   },
   {
    "duration": 12,
    "start_time": "2022-06-03T08:48:10.727Z"
   },
   {
    "duration": 131,
    "start_time": "2022-06-03T08:48:10.742Z"
   },
   {
    "duration": 9,
    "start_time": "2022-06-03T08:48:10.876Z"
   },
   {
    "duration": 165,
    "start_time": "2022-06-03T08:48:10.887Z"
   },
   {
    "duration": 10,
    "start_time": "2022-06-03T08:48:11.061Z"
   },
   {
    "duration": 13,
    "start_time": "2022-06-03T08:48:11.074Z"
   },
   {
    "duration": 19,
    "start_time": "2022-06-03T08:48:11.089Z"
   },
   {
    "duration": 53,
    "start_time": "2022-06-03T08:48:11.110Z"
   },
   {
    "duration": 153,
    "start_time": "2022-06-03T08:48:11.166Z"
   },
   {
    "duration": 14,
    "start_time": "2022-06-03T08:48:11.320Z"
   },
   {
    "duration": 129,
    "start_time": "2022-06-03T08:48:11.335Z"
   },
   {
    "duration": 94,
    "start_time": "2022-06-03T08:48:11.466Z"
   },
   {
    "duration": 123,
    "start_time": "2022-06-03T08:48:11.562Z"
   },
   {
    "duration": 17,
    "start_time": "2022-06-03T08:48:11.687Z"
   },
   {
    "duration": 114,
    "start_time": "2022-06-03T08:48:11.707Z"
   },
   {
    "duration": 17,
    "start_time": "2022-06-03T08:48:11.823Z"
   },
   {
    "duration": 25,
    "start_time": "2022-06-03T08:48:11.842Z"
   },
   {
    "duration": 15,
    "start_time": "2022-06-03T08:48:11.869Z"
   },
   {
    "duration": 19,
    "start_time": "2022-06-03T08:48:11.886Z"
   },
   {
    "duration": 73,
    "start_time": "2022-06-03T08:48:11.908Z"
   },
   {
    "duration": 8,
    "start_time": "2022-06-03T08:48:11.983Z"
   },
   {
    "duration": 23,
    "start_time": "2022-06-03T08:48:11.993Z"
   },
   {
    "duration": 57,
    "start_time": "2022-06-03T08:48:12.021Z"
   },
   {
    "duration": 9,
    "start_time": "2022-06-03T08:48:12.079Z"
   },
   {
    "duration": 27,
    "start_time": "2022-06-03T08:48:12.090Z"
   },
   {
    "duration": 33,
    "start_time": "2022-06-03T08:48:12.120Z"
   },
   {
    "duration": 10,
    "start_time": "2022-06-03T08:48:12.155Z"
   },
   {
    "duration": 31,
    "start_time": "2022-06-03T08:48:12.166Z"
   },
   {
    "duration": 21,
    "start_time": "2022-06-03T08:48:12.199Z"
   },
   {
    "duration": 55,
    "start_time": "2022-06-03T08:48:12.222Z"
   },
   {
    "duration": 25,
    "start_time": "2022-06-03T08:48:12.279Z"
   },
   {
    "duration": 10,
    "start_time": "2022-06-03T08:48:12.307Z"
   },
   {
    "duration": 44,
    "start_time": "2022-06-03T08:48:12.318Z"
   },
   {
    "duration": 15,
    "start_time": "2022-06-03T08:48:12.364Z"
   },
   {
    "duration": 22,
    "start_time": "2022-06-03T08:48:12.381Z"
   },
   {
    "duration": 8,
    "start_time": "2022-06-03T08:48:12.405Z"
   },
   {
    "duration": 184,
    "start_time": "2022-06-03T08:48:12.416Z"
   },
   {
    "duration": 8,
    "start_time": "2022-06-03T08:48:12.602Z"
   },
   {
    "duration": 14,
    "start_time": "2022-06-03T08:48:12.612Z"
   },
   {
    "duration": 1064,
    "start_time": "2022-06-03T08:48:12.628Z"
   },
   {
    "duration": 1421,
    "start_time": "2022-06-03T08:52:48.093Z"
   },
   {
    "duration": 3,
    "start_time": "2022-06-03T08:52:49.516Z"
   },
   {
    "duration": 36,
    "start_time": "2022-06-03T08:52:49.521Z"
   },
   {
    "duration": 32,
    "start_time": "2022-06-03T08:52:49.560Z"
   },
   {
    "duration": 164,
    "start_time": "2022-06-03T08:52:49.595Z"
   },
   {
    "duration": 8,
    "start_time": "2022-06-03T08:52:49.761Z"
   },
   {
    "duration": 97,
    "start_time": "2022-06-03T08:52:49.771Z"
   },
   {
    "duration": 8,
    "start_time": "2022-06-03T08:52:49.870Z"
   },
   {
    "duration": 123,
    "start_time": "2022-06-03T08:52:49.880Z"
   },
   {
    "duration": 10,
    "start_time": "2022-06-03T08:52:50.007Z"
   },
   {
    "duration": 45,
    "start_time": "2022-06-03T08:52:50.019Z"
   },
   {
    "duration": 21,
    "start_time": "2022-06-03T08:52:50.066Z"
   },
   {
    "duration": 36,
    "start_time": "2022-06-03T08:52:50.090Z"
   },
   {
    "duration": 142,
    "start_time": "2022-06-03T08:52:50.129Z"
   },
   {
    "duration": 13,
    "start_time": "2022-06-03T08:52:50.273Z"
   },
   {
    "duration": 130,
    "start_time": "2022-06-03T08:52:50.288Z"
   },
   {
    "duration": 89,
    "start_time": "2022-06-03T08:52:50.419Z"
   },
   {
    "duration": 95,
    "start_time": "2022-06-03T08:52:50.509Z"
   },
   {
    "duration": 13,
    "start_time": "2022-06-03T08:52:50.606Z"
   },
   {
    "duration": 101,
    "start_time": "2022-06-03T08:52:50.621Z"
   },
   {
    "duration": 19,
    "start_time": "2022-06-03T08:52:50.723Z"
   },
   {
    "duration": 43,
    "start_time": "2022-06-03T08:52:50.760Z"
   },
   {
    "duration": 32,
    "start_time": "2022-06-03T08:52:50.806Z"
   },
   {
    "duration": 46,
    "start_time": "2022-06-03T08:52:50.840Z"
   },
   {
    "duration": 53,
    "start_time": "2022-06-03T08:52:50.888Z"
   },
   {
    "duration": 9,
    "start_time": "2022-06-03T08:52:50.943Z"
   },
   {
    "duration": 42,
    "start_time": "2022-06-03T08:52:50.955Z"
   },
   {
    "duration": 32,
    "start_time": "2022-06-03T08:52:51.003Z"
   },
   {
    "duration": 10,
    "start_time": "2022-06-03T08:52:51.038Z"
   },
   {
    "duration": 22,
    "start_time": "2022-06-03T08:52:51.051Z"
   },
   {
    "duration": 34,
    "start_time": "2022-06-03T08:52:51.075Z"
   },
   {
    "duration": 9,
    "start_time": "2022-06-03T08:52:51.111Z"
   },
   {
    "duration": 38,
    "start_time": "2022-06-03T08:52:51.122Z"
   },
   {
    "duration": 23,
    "start_time": "2022-06-03T08:52:51.163Z"
   },
   {
    "duration": 23,
    "start_time": "2022-06-03T08:52:51.188Z"
   },
   {
    "duration": 60,
    "start_time": "2022-06-03T08:52:51.213Z"
   },
   {
    "duration": 11,
    "start_time": "2022-06-03T08:52:51.275Z"
   },
   {
    "duration": 11,
    "start_time": "2022-06-03T08:52:51.288Z"
   },
   {
    "duration": 12,
    "start_time": "2022-06-03T08:52:51.301Z"
   },
   {
    "duration": 55,
    "start_time": "2022-06-03T08:52:51.316Z"
   },
   {
    "duration": 3,
    "start_time": "2022-06-03T08:52:51.374Z"
   },
   {
    "duration": 140,
    "start_time": "2022-06-03T08:52:51.380Z"
   },
   {
    "duration": 0,
    "start_time": "2022-06-03T08:52:51.522Z"
   },
   {
    "duration": 0,
    "start_time": "2022-06-03T08:52:51.524Z"
   },
   {
    "duration": 0,
    "start_time": "2022-06-03T08:52:51.525Z"
   },
   {
    "duration": 21,
    "start_time": "2022-06-03T08:52:56.096Z"
   },
   {
    "duration": 25,
    "start_time": "2022-06-03T08:53:17.453Z"
   },
   {
    "duration": 21,
    "start_time": "2022-06-03T09:32:45.574Z"
   },
   {
    "duration": 15,
    "start_time": "2022-06-03T09:32:49.599Z"
   },
   {
    "duration": 475,
    "start_time": "2022-06-03T09:32:53.289Z"
   },
   {
    "duration": 3,
    "start_time": "2022-06-03T09:32:53.770Z"
   },
   {
    "duration": 33,
    "start_time": "2022-06-03T09:32:53.774Z"
   },
   {
    "duration": 13,
    "start_time": "2022-06-03T09:32:53.809Z"
   },
   {
    "duration": 169,
    "start_time": "2022-06-03T09:32:53.825Z"
   },
   {
    "duration": 8,
    "start_time": "2022-06-03T09:32:53.996Z"
   },
   {
    "duration": 90,
    "start_time": "2022-06-03T09:32:54.006Z"
   },
   {
    "duration": 10,
    "start_time": "2022-06-03T09:32:54.098Z"
   },
   {
    "duration": 152,
    "start_time": "2022-06-03T09:32:54.110Z"
   },
   {
    "duration": 20,
    "start_time": "2022-06-03T09:32:54.269Z"
   },
   {
    "duration": 11,
    "start_time": "2022-06-03T09:32:54.291Z"
   },
   {
    "duration": 12,
    "start_time": "2022-06-03T09:32:54.304Z"
   },
   {
    "duration": 10,
    "start_time": "2022-06-03T09:32:54.318Z"
   },
   {
    "duration": 141,
    "start_time": "2022-06-03T09:32:54.331Z"
   },
   {
    "duration": 20,
    "start_time": "2022-06-03T09:32:54.478Z"
   },
   {
    "duration": 133,
    "start_time": "2022-06-03T09:32:54.501Z"
   },
   {
    "duration": 81,
    "start_time": "2022-06-03T09:32:54.636Z"
   },
   {
    "duration": 105,
    "start_time": "2022-06-03T09:32:54.719Z"
   },
   {
    "duration": 16,
    "start_time": "2022-06-03T09:32:54.826Z"
   },
   {
    "duration": 99,
    "start_time": "2022-06-03T09:32:54.844Z"
   },
   {
    "duration": 51,
    "start_time": "2022-06-03T09:32:54.946Z"
   },
   {
    "duration": 14,
    "start_time": "2022-06-03T09:32:54.999Z"
   },
   {
    "duration": 15,
    "start_time": "2022-06-03T09:32:55.015Z"
   },
   {
    "duration": 99,
    "start_time": "2022-06-03T09:32:55.033Z"
   },
   {
    "duration": 86,
    "start_time": "2022-06-03T09:32:55.135Z"
   },
   {
    "duration": 11,
    "start_time": "2022-06-03T09:32:55.223Z"
   },
   {
    "duration": 43,
    "start_time": "2022-06-03T09:32:55.236Z"
   },
   {
    "duration": 58,
    "start_time": "2022-06-03T09:32:55.282Z"
   },
   {
    "duration": 8,
    "start_time": "2022-06-03T09:32:55.342Z"
   },
   {
    "duration": 86,
    "start_time": "2022-06-03T09:32:55.352Z"
   },
   {
    "duration": 33,
    "start_time": "2022-06-03T09:32:55.440Z"
   },
   {
    "duration": 13,
    "start_time": "2022-06-03T09:32:55.477Z"
   },
   {
    "duration": 26,
    "start_time": "2022-06-03T09:32:55.492Z"
   },
   {
    "duration": 16,
    "start_time": "2022-06-03T09:32:55.521Z"
   },
   {
    "duration": 38,
    "start_time": "2022-06-03T09:32:55.539Z"
   },
   {
    "duration": 32,
    "start_time": "2022-06-03T09:32:55.578Z"
   },
   {
    "duration": 12,
    "start_time": "2022-06-03T09:32:55.612Z"
   },
   {
    "duration": 45,
    "start_time": "2022-06-03T09:32:55.626Z"
   },
   {
    "duration": 38,
    "start_time": "2022-06-03T09:32:55.677Z"
   },
   {
    "duration": 15,
    "start_time": "2022-06-03T09:32:55.717Z"
   },
   {
    "duration": 4,
    "start_time": "2022-06-03T09:32:55.735Z"
   },
   {
    "duration": 147,
    "start_time": "2022-06-03T09:32:55.740Z"
   },
   {
    "duration": 7,
    "start_time": "2022-06-03T09:32:55.891Z"
   },
   {
    "duration": 22,
    "start_time": "2022-06-03T09:32:55.900Z"
   },
   {
    "duration": 583,
    "start_time": "2022-06-03T09:32:55.924Z"
   },
   {
    "duration": 148,
    "start_time": "2022-06-03T09:34:35.158Z"
   },
   {
    "duration": 316,
    "start_time": "2022-06-03T09:35:03.012Z"
   },
   {
    "duration": 517,
    "start_time": "2022-06-03T09:35:41.300Z"
   },
   {
    "duration": 514,
    "start_time": "2022-06-03T09:35:44.751Z"
   },
   {
    "duration": 4,
    "start_time": "2022-06-03T09:35:45.267Z"
   },
   {
    "duration": 28,
    "start_time": "2022-06-03T09:35:45.278Z"
   },
   {
    "duration": 22,
    "start_time": "2022-06-03T09:35:45.308Z"
   },
   {
    "duration": 154,
    "start_time": "2022-06-03T09:35:45.333Z"
   },
   {
    "duration": 9,
    "start_time": "2022-06-03T09:35:45.489Z"
   },
   {
    "duration": 81,
    "start_time": "2022-06-03T09:35:45.499Z"
   },
   {
    "duration": 15,
    "start_time": "2022-06-03T09:35:45.583Z"
   },
   {
    "duration": 109,
    "start_time": "2022-06-03T09:35:45.599Z"
   },
   {
    "duration": 9,
    "start_time": "2022-06-03T09:35:45.710Z"
   },
   {
    "duration": 17,
    "start_time": "2022-06-03T09:35:45.720Z"
   },
   {
    "duration": 25,
    "start_time": "2022-06-03T09:35:45.759Z"
   },
   {
    "duration": 15,
    "start_time": "2022-06-03T09:35:45.791Z"
   },
   {
    "duration": 113,
    "start_time": "2022-06-03T09:35:45.809Z"
   },
   {
    "duration": 13,
    "start_time": "2022-06-03T09:35:45.923Z"
   },
   {
    "duration": 140,
    "start_time": "2022-06-03T09:35:45.938Z"
   },
   {
    "duration": 97,
    "start_time": "2022-06-03T09:35:46.080Z"
   },
   {
    "duration": 87,
    "start_time": "2022-06-03T09:35:46.179Z"
   },
   {
    "duration": 21,
    "start_time": "2022-06-03T09:35:46.274Z"
   },
   {
    "duration": 108,
    "start_time": "2022-06-03T09:35:46.296Z"
   },
   {
    "duration": 14,
    "start_time": "2022-06-03T09:35:46.406Z"
   },
   {
    "duration": 13,
    "start_time": "2022-06-03T09:35:46.422Z"
   },
   {
    "duration": 60,
    "start_time": "2022-06-03T09:35:46.436Z"
   },
   {
    "duration": 14,
    "start_time": "2022-06-03T09:35:46.497Z"
   },
   {
    "duration": 53,
    "start_time": "2022-06-03T09:35:46.512Z"
   },
   {
    "duration": 17,
    "start_time": "2022-06-03T09:35:46.571Z"
   },
   {
    "duration": 20,
    "start_time": "2022-06-03T09:35:46.591Z"
   },
   {
    "duration": 54,
    "start_time": "2022-06-03T09:35:46.614Z"
   },
   {
    "duration": 7,
    "start_time": "2022-06-03T09:35:46.670Z"
   },
   {
    "duration": 46,
    "start_time": "2022-06-03T09:35:46.679Z"
   },
   {
    "duration": 48,
    "start_time": "2022-06-03T09:35:46.726Z"
   },
   {
    "duration": 15,
    "start_time": "2022-06-03T09:35:46.781Z"
   },
   {
    "duration": 19,
    "start_time": "2022-06-03T09:35:46.798Z"
   },
   {
    "duration": 32,
    "start_time": "2022-06-03T09:35:46.819Z"
   },
   {
    "duration": 44,
    "start_time": "2022-06-03T09:35:46.854Z"
   },
   {
    "duration": 22,
    "start_time": "2022-06-03T09:35:46.900Z"
   },
   {
    "duration": 8,
    "start_time": "2022-06-03T09:35:46.925Z"
   },
   {
    "duration": 29,
    "start_time": "2022-06-03T09:35:46.935Z"
   },
   {
    "duration": 34,
    "start_time": "2022-06-03T09:35:46.965Z"
   },
   {
    "duration": 17,
    "start_time": "2022-06-03T09:35:47.001Z"
   },
   {
    "duration": 4,
    "start_time": "2022-06-03T09:35:47.022Z"
   },
   {
    "duration": 171,
    "start_time": "2022-06-03T09:35:47.028Z"
   },
   {
    "duration": 7,
    "start_time": "2022-06-03T09:35:47.203Z"
   },
   {
    "duration": 44,
    "start_time": "2022-06-03T09:35:47.212Z"
   },
   {
    "duration": 289,
    "start_time": "2022-06-03T09:35:47.261Z"
   },
   {
    "duration": 146,
    "start_time": "2022-06-03T09:41:57.687Z"
   },
   {
    "duration": 168,
    "start_time": "2022-06-03T09:42:30.706Z"
   },
   {
    "duration": 87,
    "start_time": "2022-06-03T09:42:58.019Z"
   },
   {
    "duration": 11,
    "start_time": "2022-06-03T09:45:32.637Z"
   },
   {
    "duration": 165,
    "start_time": "2022-06-03T09:45:47.747Z"
   },
   {
    "duration": 182,
    "start_time": "2022-06-03T09:45:58.617Z"
   },
   {
    "duration": 166,
    "start_time": "2022-06-03T09:46:26.627Z"
   },
   {
    "duration": 174,
    "start_time": "2022-06-03T09:46:32.075Z"
   },
   {
    "duration": 11,
    "start_time": "2022-06-03T09:49:26.611Z"
   },
   {
    "duration": 173,
    "start_time": "2022-06-03T09:49:42.573Z"
   },
   {
    "duration": 211,
    "start_time": "2022-06-03T09:49:59.704Z"
   },
   {
    "duration": 304,
    "start_time": "2022-06-03T09:50:07.050Z"
   },
   {
    "duration": 11,
    "start_time": "2022-06-03T09:53:36.542Z"
   },
   {
    "duration": 162,
    "start_time": "2022-06-03T09:53:51.749Z"
   },
   {
    "duration": 230,
    "start_time": "2022-06-03T09:54:11.047Z"
   },
   {
    "duration": 5,
    "start_time": "2022-06-03T10:05:38.490Z"
   },
   {
    "duration": 6,
    "start_time": "2022-06-03T10:07:24.317Z"
   },
   {
    "duration": 480,
    "start_time": "2022-06-03T10:08:11.177Z"
   },
   {
    "duration": 20,
    "start_time": "2022-06-03T10:08:17.958Z"
   },
   {
    "duration": 432,
    "start_time": "2022-06-03T10:08:21.323Z"
   },
   {
    "duration": 413,
    "start_time": "2022-06-03T10:09:03.452Z"
   },
   {
    "duration": 463,
    "start_time": "2022-06-03T10:09:25.982Z"
   },
   {
    "duration": 4,
    "start_time": "2022-06-03T10:09:26.447Z"
   },
   {
    "duration": 44,
    "start_time": "2022-06-03T10:09:26.452Z"
   },
   {
    "duration": 11,
    "start_time": "2022-06-03T10:09:26.498Z"
   },
   {
    "duration": 156,
    "start_time": "2022-06-03T10:09:26.512Z"
   },
   {
    "duration": 10,
    "start_time": "2022-06-03T10:09:26.674Z"
   },
   {
    "duration": 104,
    "start_time": "2022-06-03T10:09:26.686Z"
   },
   {
    "duration": 9,
    "start_time": "2022-06-03T10:09:26.793Z"
   },
   {
    "duration": 112,
    "start_time": "2022-06-03T10:09:26.804Z"
   },
   {
    "duration": 10,
    "start_time": "2022-06-03T10:09:26.918Z"
   },
   {
    "duration": 53,
    "start_time": "2022-06-03T10:09:26.929Z"
   },
   {
    "duration": 13,
    "start_time": "2022-06-03T10:09:26.984Z"
   },
   {
    "duration": 38,
    "start_time": "2022-06-03T10:09:26.999Z"
   },
   {
    "duration": 155,
    "start_time": "2022-06-03T10:09:27.042Z"
   },
   {
    "duration": 16,
    "start_time": "2022-06-03T10:09:27.199Z"
   },
   {
    "duration": 147,
    "start_time": "2022-06-03T10:09:27.217Z"
   },
   {
    "duration": 110,
    "start_time": "2022-06-03T10:09:27.368Z"
   },
   {
    "duration": 96,
    "start_time": "2022-06-03T10:09:27.480Z"
   },
   {
    "duration": 11,
    "start_time": "2022-06-03T10:09:27.578Z"
   },
   {
    "duration": 89,
    "start_time": "2022-06-03T10:09:27.591Z"
   },
   {
    "duration": 15,
    "start_time": "2022-06-03T10:09:27.682Z"
   },
   {
    "duration": 22,
    "start_time": "2022-06-03T10:09:27.699Z"
   },
   {
    "duration": 18,
    "start_time": "2022-06-03T10:09:27.723Z"
   },
   {
    "duration": 47,
    "start_time": "2022-06-03T10:09:27.743Z"
   },
   {
    "duration": 83,
    "start_time": "2022-06-03T10:09:27.792Z"
   },
   {
    "duration": 9,
    "start_time": "2022-06-03T10:09:27.877Z"
   },
   {
    "duration": 22,
    "start_time": "2022-06-03T10:09:27.888Z"
   },
   {
    "duration": 79,
    "start_time": "2022-06-03T10:09:27.912Z"
   },
   {
    "duration": 9,
    "start_time": "2022-06-03T10:09:27.993Z"
   },
   {
    "duration": 38,
    "start_time": "2022-06-03T10:09:28.004Z"
   },
   {
    "duration": 65,
    "start_time": "2022-06-03T10:09:28.044Z"
   },
   {
    "duration": 24,
    "start_time": "2022-06-03T10:09:28.111Z"
   },
   {
    "duration": 68,
    "start_time": "2022-06-03T10:09:28.137Z"
   },
   {
    "duration": 50,
    "start_time": "2022-06-03T10:09:28.206Z"
   },
   {
    "duration": 74,
    "start_time": "2022-06-03T10:09:28.258Z"
   },
   {
    "duration": 21,
    "start_time": "2022-06-03T10:09:28.333Z"
   },
   {
    "duration": 45,
    "start_time": "2022-06-03T10:09:28.356Z"
   },
   {
    "duration": 15,
    "start_time": "2022-06-03T10:09:28.403Z"
   },
   {
    "duration": 62,
    "start_time": "2022-06-03T10:09:28.420Z"
   },
   {
    "duration": 35,
    "start_time": "2022-06-03T10:09:28.484Z"
   },
   {
    "duration": 21,
    "start_time": "2022-06-03T10:09:28.524Z"
   },
   {
    "duration": 151,
    "start_time": "2022-06-03T10:09:28.548Z"
   },
   {
    "duration": 7,
    "start_time": "2022-06-03T10:09:28.701Z"
   },
   {
    "duration": 29,
    "start_time": "2022-06-03T10:09:28.710Z"
   },
   {
    "duration": 238,
    "start_time": "2022-06-03T10:09:28.741Z"
   },
   {
    "duration": 151,
    "start_time": "2022-06-03T10:09:28.982Z"
   },
   {
    "duration": 158,
    "start_time": "2022-06-03T10:09:29.135Z"
   },
   {
    "duration": 17,
    "start_time": "2022-06-03T10:09:29.295Z"
   },
   {
    "duration": 21,
    "start_time": "2022-06-03T10:09:29.314Z"
   },
   {
    "duration": 185,
    "start_time": "2022-06-03T10:09:29.337Z"
   },
   {
    "duration": 181,
    "start_time": "2022-06-03T10:09:29.524Z"
   },
   {
    "duration": 11,
    "start_time": "2022-06-03T10:09:29.707Z"
   },
   {
    "duration": 206,
    "start_time": "2022-06-03T10:09:29.720Z"
   },
   {
    "duration": 162,
    "start_time": "2022-06-03T10:09:29.928Z"
   },
   {
    "duration": 12,
    "start_time": "2022-06-03T10:09:30.092Z"
   },
   {
    "duration": 207,
    "start_time": "2022-06-03T10:09:30.106Z"
   },
   {
    "duration": 195,
    "start_time": "2022-06-03T10:09:30.315Z"
   },
   {
    "duration": 5,
    "start_time": "2022-06-03T10:09:30.512Z"
   },
   {
    "duration": 65,
    "start_time": "2022-06-03T10:09:30.519Z"
   },
   {
    "duration": 38,
    "start_time": "2022-06-03T10:09:30.586Z"
   },
   {
    "duration": 5,
    "start_time": "2022-06-03T10:10:09.923Z"
   },
   {
    "duration": 6,
    "start_time": "2022-06-03T10:13:22.577Z"
   },
   {
    "duration": 5,
    "start_time": "2022-06-03T10:13:46.483Z"
   },
   {
    "duration": 12,
    "start_time": "2022-06-03T10:14:03.407Z"
   },
   {
    "duration": 8,
    "start_time": "2022-06-03T10:14:38.673Z"
   },
   {
    "duration": 8,
    "start_time": "2022-06-03T10:15:04.281Z"
   },
   {
    "duration": 5,
    "start_time": "2022-06-03T10:15:34.806Z"
   },
   {
    "duration": 64,
    "start_time": "2022-06-03T10:33:18.779Z"
   },
   {
    "duration": 5,
    "start_time": "2022-06-03T10:33:25.246Z"
   },
   {
    "duration": 5,
    "start_time": "2022-06-03T10:37:32.128Z"
   },
   {
    "duration": 1886,
    "start_time": "2022-06-03T10:53:32.441Z"
   },
   {
    "duration": 3,
    "start_time": "2022-06-03T10:53:34.329Z"
   },
   {
    "duration": 21,
    "start_time": "2022-06-03T10:53:34.334Z"
   },
   {
    "duration": 50,
    "start_time": "2022-06-03T10:53:34.357Z"
   },
   {
    "duration": 151,
    "start_time": "2022-06-03T10:53:34.408Z"
   },
   {
    "duration": 19,
    "start_time": "2022-06-03T10:53:34.563Z"
   },
   {
    "duration": 116,
    "start_time": "2022-06-03T10:53:34.584Z"
   },
   {
    "duration": 10,
    "start_time": "2022-06-03T10:53:34.706Z"
   },
   {
    "duration": 124,
    "start_time": "2022-06-03T10:53:34.718Z"
   },
   {
    "duration": 34,
    "start_time": "2022-06-03T10:53:34.844Z"
   },
   {
    "duration": 31,
    "start_time": "2022-06-03T10:53:34.880Z"
   },
   {
    "duration": 17,
    "start_time": "2022-06-03T10:53:34.913Z"
   },
   {
    "duration": 13,
    "start_time": "2022-06-03T10:53:34.932Z"
   },
   {
    "duration": 126,
    "start_time": "2022-06-03T10:53:34.946Z"
   },
   {
    "duration": 29,
    "start_time": "2022-06-03T10:53:35.073Z"
   },
   {
    "duration": 126,
    "start_time": "2022-06-03T10:53:35.105Z"
   },
   {
    "duration": 90,
    "start_time": "2022-06-03T10:53:35.233Z"
   },
   {
    "duration": 102,
    "start_time": "2022-06-03T10:53:35.324Z"
   },
   {
    "duration": 12,
    "start_time": "2022-06-03T10:53:35.428Z"
   },
   {
    "duration": 123,
    "start_time": "2022-06-03T10:53:35.442Z"
   },
   {
    "duration": 23,
    "start_time": "2022-06-03T10:53:35.567Z"
   },
   {
    "duration": 31,
    "start_time": "2022-06-03T10:53:35.592Z"
   },
   {
    "duration": 14,
    "start_time": "2022-06-03T10:53:35.625Z"
   },
   {
    "duration": 13,
    "start_time": "2022-06-03T10:53:35.640Z"
   },
   {
    "duration": 85,
    "start_time": "2022-06-03T10:53:35.660Z"
   },
   {
    "duration": 9,
    "start_time": "2022-06-03T10:53:35.747Z"
   },
   {
    "duration": 65,
    "start_time": "2022-06-03T10:53:35.759Z"
   },
   {
    "duration": 28,
    "start_time": "2022-06-03T10:53:35.829Z"
   },
   {
    "duration": 25,
    "start_time": "2022-06-03T10:53:35.859Z"
   },
   {
    "duration": 38,
    "start_time": "2022-06-03T10:53:35.887Z"
   },
   {
    "duration": 52,
    "start_time": "2022-06-03T10:53:35.928Z"
   },
   {
    "duration": 11,
    "start_time": "2022-06-03T10:53:35.982Z"
   },
   {
    "duration": 40,
    "start_time": "2022-06-03T10:53:35.995Z"
   },
   {
    "duration": 26,
    "start_time": "2022-06-03T10:53:36.037Z"
   },
   {
    "duration": 28,
    "start_time": "2022-06-03T10:53:36.065Z"
   },
   {
    "duration": 42,
    "start_time": "2022-06-03T10:53:36.096Z"
   },
   {
    "duration": 12,
    "start_time": "2022-06-03T10:53:36.140Z"
   },
   {
    "duration": 8,
    "start_time": "2022-06-03T10:53:36.162Z"
   },
   {
    "duration": 18,
    "start_time": "2022-06-03T10:53:36.171Z"
   },
   {
    "duration": 35,
    "start_time": "2022-06-03T10:53:36.191Z"
   },
   {
    "duration": 5,
    "start_time": "2022-06-03T10:53:36.228Z"
   },
   {
    "duration": 197,
    "start_time": "2022-06-03T10:53:36.236Z"
   },
   {
    "duration": 8,
    "start_time": "2022-06-03T10:53:36.435Z"
   },
   {
    "duration": 57,
    "start_time": "2022-06-03T10:53:36.445Z"
   },
   {
    "duration": 329,
    "start_time": "2022-06-03T10:53:36.504Z"
   },
   {
    "duration": 332,
    "start_time": "2022-06-03T10:53:36.840Z"
   },
   {
    "duration": 202,
    "start_time": "2022-06-03T10:53:37.174Z"
   },
   {
    "duration": 69,
    "start_time": "2022-06-03T10:53:37.385Z"
   },
   {
    "duration": 17,
    "start_time": "2022-06-03T10:53:37.456Z"
   },
   {
    "duration": 256,
    "start_time": "2022-06-03T10:53:37.475Z"
   },
   {
    "duration": 216,
    "start_time": "2022-06-03T10:53:37.733Z"
   },
   {
    "duration": 29,
    "start_time": "2022-06-03T10:53:37.951Z"
   },
   {
    "duration": 212,
    "start_time": "2022-06-03T10:53:37.989Z"
   },
   {
    "duration": 194,
    "start_time": "2022-06-03T10:53:38.208Z"
   },
   {
    "duration": 13,
    "start_time": "2022-06-03T10:53:38.405Z"
   },
   {
    "duration": 205,
    "start_time": "2022-06-03T10:53:38.422Z"
   },
   {
    "duration": 175,
    "start_time": "2022-06-03T10:53:38.628Z"
   },
   {
    "duration": 6,
    "start_time": "2022-06-03T10:53:38.805Z"
   },
   {
    "duration": 6,
    "start_time": "2022-06-03T10:53:38.813Z"
   },
   {
    "duration": 21,
    "start_time": "2022-06-03T10:53:38.821Z"
   },
   {
    "duration": 33,
    "start_time": "2022-06-03T10:53:38.845Z"
   },
   {
    "duration": 40,
    "start_time": "2022-06-03T10:53:38.883Z"
   },
   {
    "duration": 69,
    "start_time": "2022-06-03T10:53:38.925Z"
   },
   {
    "duration": 42,
    "start_time": "2022-06-03T10:53:38.996Z"
   },
   {
    "duration": 15,
    "start_time": "2022-06-03T10:53:39.040Z"
   },
   {
    "duration": 68,
    "start_time": "2022-06-03T10:53:39.057Z"
   },
   {
    "duration": 10,
    "start_time": "2022-06-03T10:53:39.127Z"
   },
   {
    "duration": 6,
    "start_time": "2022-06-03T10:53:39.139Z"
   },
   {
    "duration": 63,
    "start_time": "2022-06-03T18:20:42.359Z"
   },
   {
    "duration": 1855,
    "start_time": "2022-06-03T18:20:50.096Z"
   },
   {
    "duration": 3,
    "start_time": "2022-06-03T18:20:51.953Z"
   },
   {
    "duration": 19,
    "start_time": "2022-06-03T18:20:51.958Z"
   },
   {
    "duration": 23,
    "start_time": "2022-06-03T18:20:51.980Z"
   },
   {
    "duration": 172,
    "start_time": "2022-06-03T18:20:52.004Z"
   },
   {
    "duration": 9,
    "start_time": "2022-06-03T18:20:52.178Z"
   },
   {
    "duration": 129,
    "start_time": "2022-06-03T18:20:52.189Z"
   },
   {
    "duration": 26,
    "start_time": "2022-06-03T18:20:52.325Z"
   },
   {
    "duration": 106,
    "start_time": "2022-06-03T18:20:52.357Z"
   },
   {
    "duration": 9,
    "start_time": "2022-06-03T18:20:52.466Z"
   },
   {
    "duration": 13,
    "start_time": "2022-06-03T18:20:52.477Z"
   },
   {
    "duration": 12,
    "start_time": "2022-06-03T18:20:52.492Z"
   },
   {
    "duration": 13,
    "start_time": "2022-06-03T18:20:52.532Z"
   },
   {
    "duration": 116,
    "start_time": "2022-06-03T18:20:52.547Z"
   },
   {
    "duration": 13,
    "start_time": "2022-06-03T18:20:52.664Z"
   },
   {
    "duration": 139,
    "start_time": "2022-06-03T18:20:52.679Z"
   },
   {
    "duration": 121,
    "start_time": "2022-06-03T18:20:52.819Z"
   },
   {
    "duration": 105,
    "start_time": "2022-06-03T18:20:52.943Z"
   },
   {
    "duration": 14,
    "start_time": "2022-06-03T18:20:53.050Z"
   },
   {
    "duration": 134,
    "start_time": "2022-06-03T18:20:53.067Z"
   },
   {
    "duration": 30,
    "start_time": "2022-06-03T18:20:53.204Z"
   },
   {
    "duration": 19,
    "start_time": "2022-06-03T18:20:53.236Z"
   },
   {
    "duration": 14,
    "start_time": "2022-06-03T18:20:53.256Z"
   },
   {
    "duration": 16,
    "start_time": "2022-06-03T18:20:53.272Z"
   },
   {
    "duration": 53,
    "start_time": "2022-06-03T18:20:53.290Z"
   },
   {
    "duration": 7,
    "start_time": "2022-06-03T18:20:53.346Z"
   },
   {
    "duration": 15,
    "start_time": "2022-06-03T18:20:53.355Z"
   },
   {
    "duration": 29,
    "start_time": "2022-06-03T18:20:53.374Z"
   },
   {
    "duration": 11,
    "start_time": "2022-06-03T18:20:53.428Z"
   },
   {
    "duration": 21,
    "start_time": "2022-06-03T18:20:53.443Z"
   },
   {
    "duration": 36,
    "start_time": "2022-06-03T18:20:53.466Z"
   },
   {
    "duration": 10,
    "start_time": "2022-06-03T18:20:53.505Z"
   },
   {
    "duration": 27,
    "start_time": "2022-06-03T18:20:53.525Z"
   },
   {
    "duration": 23,
    "start_time": "2022-06-03T18:20:53.554Z"
   },
   {
    "duration": 20,
    "start_time": "2022-06-03T18:20:53.579Z"
   },
   {
    "duration": 57,
    "start_time": "2022-06-03T18:20:53.601Z"
   },
   {
    "duration": 10,
    "start_time": "2022-06-03T18:20:53.660Z"
   },
   {
    "duration": 6,
    "start_time": "2022-06-03T18:20:53.672Z"
   },
   {
    "duration": 11,
    "start_time": "2022-06-03T18:20:53.679Z"
   },
   {
    "duration": 46,
    "start_time": "2022-06-03T18:20:53.691Z"
   },
   {
    "duration": 6,
    "start_time": "2022-06-03T18:20:53.741Z"
   },
   {
    "duration": 138,
    "start_time": "2022-06-03T18:20:53.749Z"
   },
   {
    "duration": 6,
    "start_time": "2022-06-03T18:20:53.888Z"
   },
   {
    "duration": 12,
    "start_time": "2022-06-03T18:20:53.896Z"
   },
   {
    "duration": 374,
    "start_time": "2022-06-03T18:20:53.925Z"
   },
   {
    "duration": 231,
    "start_time": "2022-06-03T18:20:54.300Z"
   },
   {
    "duration": 183,
    "start_time": "2022-06-03T18:20:54.535Z"
   },
   {
    "duration": 74,
    "start_time": "2022-06-03T18:20:54.720Z"
   },
   {
    "duration": 14,
    "start_time": "2022-06-03T18:20:54.796Z"
   },
   {
    "duration": 273,
    "start_time": "2022-06-03T18:20:54.812Z"
   },
   {
    "duration": 191,
    "start_time": "2022-06-03T18:20:55.087Z"
   },
   {
    "duration": 17,
    "start_time": "2022-06-03T18:20:55.280Z"
   },
   {
    "duration": 195,
    "start_time": "2022-06-03T18:20:55.300Z"
   },
   {
    "duration": 178,
    "start_time": "2022-06-03T18:20:55.499Z"
   },
   {
    "duration": 149,
    "start_time": "2022-06-03T18:21:20.746Z"
   },
   {
    "duration": 66,
    "start_time": "2022-06-03T18:22:19.860Z"
   },
   {
    "duration": 13,
    "start_time": "2022-06-03T18:22:27.086Z"
   },
   {
    "duration": 6,
    "start_time": "2022-06-03T18:26:55.983Z"
   },
   {
    "duration": 6,
    "start_time": "2022-06-03T18:27:05.610Z"
   },
   {
    "duration": 6,
    "start_time": "2022-06-03T18:27:16.463Z"
   },
   {
    "duration": 7,
    "start_time": "2022-06-03T18:27:47.745Z"
   },
   {
    "duration": 7,
    "start_time": "2022-06-03T18:27:53.856Z"
   },
   {
    "duration": 11,
    "start_time": "2022-06-03T18:28:08.160Z"
   },
   {
    "duration": 16,
    "start_time": "2022-06-03T18:28:13.130Z"
   },
   {
    "duration": 6,
    "start_time": "2022-06-03T18:28:20.191Z"
   },
   {
    "duration": 1934,
    "start_time": "2022-06-03T18:39:12.739Z"
   },
   {
    "duration": 4,
    "start_time": "2022-06-03T18:39:14.675Z"
   },
   {
    "duration": 30,
    "start_time": "2022-06-03T18:39:14.681Z"
   },
   {
    "duration": 33,
    "start_time": "2022-06-03T18:39:14.714Z"
   },
   {
    "duration": 201,
    "start_time": "2022-06-03T18:39:14.749Z"
   },
   {
    "duration": 14,
    "start_time": "2022-06-03T18:39:14.952Z"
   },
   {
    "duration": 99,
    "start_time": "2022-06-03T18:39:14.968Z"
   },
   {
    "duration": 12,
    "start_time": "2022-06-03T18:39:15.069Z"
   },
   {
    "duration": 139,
    "start_time": "2022-06-03T18:39:15.083Z"
   },
   {
    "duration": 17,
    "start_time": "2022-06-03T18:39:15.226Z"
   },
   {
    "duration": 12,
    "start_time": "2022-06-03T18:39:15.245Z"
   },
   {
    "duration": 18,
    "start_time": "2022-06-03T18:39:15.260Z"
   },
   {
    "duration": 18,
    "start_time": "2022-06-03T18:39:15.280Z"
   },
   {
    "duration": 142,
    "start_time": "2022-06-03T18:39:15.300Z"
   },
   {
    "duration": 13,
    "start_time": "2022-06-03T18:39:15.444Z"
   },
   {
    "duration": 123,
    "start_time": "2022-06-03T18:39:15.459Z"
   },
   {
    "duration": 78,
    "start_time": "2022-06-03T18:39:15.584Z"
   },
   {
    "duration": 90,
    "start_time": "2022-06-03T18:39:15.664Z"
   },
   {
    "duration": 12,
    "start_time": "2022-06-03T18:39:15.756Z"
   },
   {
    "duration": 104,
    "start_time": "2022-06-03T18:39:15.770Z"
   },
   {
    "duration": 15,
    "start_time": "2022-06-03T18:39:15.876Z"
   },
   {
    "duration": 14,
    "start_time": "2022-06-03T18:39:15.893Z"
   },
   {
    "duration": 37,
    "start_time": "2022-06-03T18:39:15.909Z"
   },
   {
    "duration": 12,
    "start_time": "2022-06-03T18:39:15.948Z"
   },
   {
    "duration": 45,
    "start_time": "2022-06-03T18:39:15.961Z"
   },
   {
    "duration": 9,
    "start_time": "2022-06-03T18:39:16.008Z"
   },
   {
    "duration": 22,
    "start_time": "2022-06-03T18:39:16.019Z"
   },
   {
    "duration": 24,
    "start_time": "2022-06-03T18:39:16.046Z"
   },
   {
    "duration": 8,
    "start_time": "2022-06-03T18:39:16.071Z"
   },
   {
    "duration": 11,
    "start_time": "2022-06-03T18:39:16.081Z"
   },
   {
    "duration": 48,
    "start_time": "2022-06-03T18:39:16.093Z"
   },
   {
    "duration": 8,
    "start_time": "2022-06-03T18:39:16.146Z"
   },
   {
    "duration": 17,
    "start_time": "2022-06-03T18:39:16.155Z"
   },
   {
    "duration": 14,
    "start_time": "2022-06-03T18:39:16.173Z"
   },
   {
    "duration": 49,
    "start_time": "2022-06-03T18:39:16.189Z"
   },
   {
    "duration": 23,
    "start_time": "2022-06-03T18:39:16.240Z"
   },
   {
    "duration": 9,
    "start_time": "2022-06-03T18:39:16.264Z"
   },
   {
    "duration": 6,
    "start_time": "2022-06-03T18:39:16.274Z"
   },
   {
    "duration": 11,
    "start_time": "2022-06-03T18:39:16.282Z"
   },
   {
    "duration": 46,
    "start_time": "2022-06-03T18:39:16.295Z"
   },
   {
    "duration": 4,
    "start_time": "2022-06-03T18:39:16.343Z"
   },
   {
    "duration": 151,
    "start_time": "2022-06-03T18:39:16.349Z"
   },
   {
    "duration": 12,
    "start_time": "2022-06-03T18:39:16.502Z"
   },
   {
    "duration": 27,
    "start_time": "2022-06-03T18:39:16.515Z"
   },
   {
    "duration": 6,
    "start_time": "2022-06-03T18:39:16.544Z"
   },
   {
    "duration": 237,
    "start_time": "2022-06-03T18:39:16.551Z"
   },
   {
    "duration": 265,
    "start_time": "2022-06-03T18:39:16.790Z"
   },
   {
    "duration": 189,
    "start_time": "2022-06-03T18:39:17.063Z"
   },
   {
    "duration": 89,
    "start_time": "2022-06-03T18:39:17.254Z"
   },
   {
    "duration": 11,
    "start_time": "2022-06-03T18:39:17.346Z"
   },
   {
    "duration": 207,
    "start_time": "2022-06-03T18:39:17.358Z"
   },
   {
    "duration": 186,
    "start_time": "2022-06-03T18:39:17.567Z"
   },
   {
    "duration": 11,
    "start_time": "2022-06-03T18:39:17.755Z"
   },
   {
    "duration": 236,
    "start_time": "2022-06-03T18:39:17.768Z"
   },
   {
    "duration": 183,
    "start_time": "2022-06-03T18:39:18.006Z"
   },
   {
    "duration": 11,
    "start_time": "2022-06-03T18:39:18.191Z"
   },
   {
    "duration": 189,
    "start_time": "2022-06-03T18:39:18.204Z"
   },
   {
    "duration": 181,
    "start_time": "2022-06-03T18:39:18.395Z"
   },
   {
    "duration": 5,
    "start_time": "2022-06-03T18:39:18.578Z"
   },
   {
    "duration": 12,
    "start_time": "2022-06-03T18:39:18.584Z"
   },
   {
    "duration": 13,
    "start_time": "2022-06-03T18:39:18.598Z"
   },
   {
    "duration": 24,
    "start_time": "2022-06-03T18:39:18.625Z"
   },
   {
    "duration": 5,
    "start_time": "2022-06-03T18:39:18.651Z"
   },
   {
    "duration": 7,
    "start_time": "2022-06-03T18:39:18.658Z"
   },
   {
    "duration": 11,
    "start_time": "2022-06-03T18:39:18.667Z"
   },
   {
    "duration": 9,
    "start_time": "2022-06-03T18:39:18.680Z"
   },
   {
    "duration": 11,
    "start_time": "2022-06-03T18:39:18.690Z"
   },
   {
    "duration": 6,
    "start_time": "2022-06-03T18:39:18.703Z"
   },
   {
    "duration": 30,
    "start_time": "2022-06-03T18:39:18.711Z"
   },
   {
    "duration": 53,
    "start_time": "2022-06-05T08:40:27.885Z"
   },
   {
    "duration": 2340,
    "start_time": "2022-06-05T08:40:36.483Z"
   },
   {
    "duration": 2,
    "start_time": "2022-06-05T08:40:38.826Z"
   },
   {
    "duration": 17,
    "start_time": "2022-06-05T08:40:38.830Z"
   },
   {
    "duration": 14,
    "start_time": "2022-06-05T08:40:38.848Z"
   },
   {
    "duration": 129,
    "start_time": "2022-06-05T08:40:38.863Z"
   },
   {
    "duration": 7,
    "start_time": "2022-06-05T08:40:38.994Z"
   },
   {
    "duration": 69,
    "start_time": "2022-06-05T08:40:39.002Z"
   },
   {
    "duration": 7,
    "start_time": "2022-06-05T08:40:39.073Z"
   },
   {
    "duration": 103,
    "start_time": "2022-06-05T08:40:39.082Z"
   },
   {
    "duration": 7,
    "start_time": "2022-06-05T08:40:39.186Z"
   },
   {
    "duration": 10,
    "start_time": "2022-06-05T08:40:39.195Z"
   },
   {
    "duration": 23,
    "start_time": "2022-06-05T08:40:39.206Z"
   },
   {
    "duration": 7,
    "start_time": "2022-06-05T08:40:39.230Z"
   },
   {
    "duration": 105,
    "start_time": "2022-06-05T08:40:39.240Z"
   },
   {
    "duration": 10,
    "start_time": "2022-06-05T08:40:39.347Z"
   },
   {
    "duration": 107,
    "start_time": "2022-06-05T08:40:39.358Z"
   },
   {
    "duration": 66,
    "start_time": "2022-06-05T08:40:39.466Z"
   },
   {
    "duration": 69,
    "start_time": "2022-06-05T08:40:39.534Z"
   },
   {
    "duration": 24,
    "start_time": "2022-06-05T08:40:39.605Z"
   },
   {
    "duration": 66,
    "start_time": "2022-06-05T08:40:39.631Z"
   },
   {
    "duration": 13,
    "start_time": "2022-06-05T08:40:39.699Z"
   },
   {
    "duration": 21,
    "start_time": "2022-06-05T08:40:39.713Z"
   },
   {
    "duration": 11,
    "start_time": "2022-06-05T08:40:39.736Z"
   },
   {
    "duration": 12,
    "start_time": "2022-06-05T08:40:39.749Z"
   },
   {
    "duration": 37,
    "start_time": "2022-06-05T08:40:39.762Z"
   },
   {
    "duration": 9,
    "start_time": "2022-06-05T08:40:39.801Z"
   },
   {
    "duration": 23,
    "start_time": "2022-06-05T08:40:39.812Z"
   },
   {
    "duration": 24,
    "start_time": "2022-06-05T08:40:39.837Z"
   },
   {
    "duration": 6,
    "start_time": "2022-06-05T08:40:39.862Z"
   },
   {
    "duration": 13,
    "start_time": "2022-06-05T08:40:39.870Z"
   },
   {
    "duration": 20,
    "start_time": "2022-06-05T08:40:39.884Z"
   },
   {
    "duration": 26,
    "start_time": "2022-06-05T08:40:39.906Z"
   },
   {
    "duration": 24,
    "start_time": "2022-06-05T08:40:39.933Z"
   },
   {
    "duration": 12,
    "start_time": "2022-06-05T08:40:39.959Z"
   },
   {
    "duration": 16,
    "start_time": "2022-06-05T08:40:39.973Z"
   },
   {
    "duration": 18,
    "start_time": "2022-06-05T08:40:39.990Z"
   },
   {
    "duration": 8,
    "start_time": "2022-06-05T08:40:40.029Z"
   },
   {
    "duration": 10,
    "start_time": "2022-06-05T08:40:40.038Z"
   },
   {
    "duration": 13,
    "start_time": "2022-06-05T08:40:40.049Z"
   },
   {
    "duration": 19,
    "start_time": "2022-06-05T08:40:40.064Z"
   },
   {
    "duration": 4,
    "start_time": "2022-06-05T08:40:40.087Z"
   },
   {
    "duration": 131,
    "start_time": "2022-06-05T08:40:40.092Z"
   },
   {
    "duration": 13,
    "start_time": "2022-06-05T08:40:40.224Z"
   },
   {
    "duration": 7,
    "start_time": "2022-06-05T08:40:40.239Z"
   },
   {
    "duration": 6,
    "start_time": "2022-06-05T08:40:40.247Z"
   },
   {
    "duration": 220,
    "start_time": "2022-06-05T08:40:40.255Z"
   },
   {
    "duration": 195,
    "start_time": "2022-06-05T08:40:40.476Z"
   },
   {
    "duration": 132,
    "start_time": "2022-06-05T08:40:40.673Z"
   },
   {
    "duration": 53,
    "start_time": "2022-06-05T08:40:40.806Z"
   },
   {
    "duration": 9,
    "start_time": "2022-06-05T08:40:40.860Z"
   },
   {
    "duration": 148,
    "start_time": "2022-06-05T08:40:40.870Z"
   },
   {
    "duration": 146,
    "start_time": "2022-06-05T08:40:41.020Z"
   },
   {
    "duration": 9,
    "start_time": "2022-06-05T08:40:41.167Z"
   },
   {
    "duration": 144,
    "start_time": "2022-06-05T08:40:41.178Z"
   },
   {
    "duration": 132,
    "start_time": "2022-06-05T08:40:41.328Z"
   },
   {
    "duration": 10,
    "start_time": "2022-06-05T08:40:41.461Z"
   },
   {
    "duration": 146,
    "start_time": "2022-06-05T08:40:41.472Z"
   },
   {
    "duration": 136,
    "start_time": "2022-06-05T08:40:41.620Z"
   },
   {
    "duration": 4,
    "start_time": "2022-06-05T08:40:41.758Z"
   },
   {
    "duration": 12,
    "start_time": "2022-06-05T08:40:41.763Z"
   },
   {
    "duration": 11,
    "start_time": "2022-06-05T08:40:41.776Z"
   },
   {
    "duration": 5,
    "start_time": "2022-06-05T08:40:41.788Z"
   },
   {
    "duration": 5,
    "start_time": "2022-06-05T08:40:41.794Z"
   },
   {
    "duration": 29,
    "start_time": "2022-06-05T08:40:41.800Z"
   },
   {
    "duration": 7,
    "start_time": "2022-06-05T08:40:41.831Z"
   },
   {
    "duration": 6,
    "start_time": "2022-06-05T08:40:41.839Z"
   },
   {
    "duration": 7,
    "start_time": "2022-06-05T08:40:41.847Z"
   },
   {
    "duration": 7,
    "start_time": "2022-06-05T08:40:41.856Z"
   },
   {
    "duration": 5,
    "start_time": "2022-06-05T08:40:41.864Z"
   },
   {
    "duration": 395,
    "start_time": "2022-06-05T08:43:51.987Z"
   },
   {
    "duration": 186,
    "start_time": "2022-06-05T08:51:59.903Z"
   },
   {
    "duration": 36,
    "start_time": "2022-06-05T08:53:01.891Z"
   },
   {
    "duration": 130,
    "start_time": "2022-06-05T08:53:07.849Z"
   },
   {
    "duration": 62,
    "start_time": "2022-06-06T09:04:59.742Z"
   },
   {
    "duration": 1457,
    "start_time": "2022-06-06T09:05:07.535Z"
   },
   {
    "duration": 954,
    "start_time": "2022-06-06T09:05:08.994Z"
   },
   {
    "duration": 4,
    "start_time": "2022-06-06T09:05:09.949Z"
   },
   {
    "duration": 24,
    "start_time": "2022-06-06T09:05:09.954Z"
   },
   {
    "duration": 22,
    "start_time": "2022-06-06T09:05:09.979Z"
   },
   {
    "duration": 129,
    "start_time": "2022-06-06T09:05:10.003Z"
   },
   {
    "duration": 8,
    "start_time": "2022-06-06T09:05:10.133Z"
   },
   {
    "duration": 89,
    "start_time": "2022-06-06T09:05:10.143Z"
   },
   {
    "duration": 7,
    "start_time": "2022-06-06T09:05:10.234Z"
   },
   {
    "duration": 97,
    "start_time": "2022-06-06T09:05:10.244Z"
   },
   {
    "duration": 7,
    "start_time": "2022-06-06T09:05:10.343Z"
   },
   {
    "duration": 19,
    "start_time": "2022-06-06T09:05:10.352Z"
   },
   {
    "duration": 14,
    "start_time": "2022-06-06T09:05:10.373Z"
   },
   {
    "duration": 17,
    "start_time": "2022-06-06T09:05:10.388Z"
   },
   {
    "duration": 109,
    "start_time": "2022-06-06T09:05:10.406Z"
   },
   {
    "duration": 10,
    "start_time": "2022-06-06T09:05:10.527Z"
   },
   {
    "duration": 108,
    "start_time": "2022-06-06T09:05:10.539Z"
   },
   {
    "duration": 58,
    "start_time": "2022-06-06T09:05:10.648Z"
   },
   {
    "duration": 81,
    "start_time": "2022-06-06T09:05:10.708Z"
   },
   {
    "duration": 10,
    "start_time": "2022-06-06T09:05:10.791Z"
   },
   {
    "duration": 90,
    "start_time": "2022-06-06T09:05:10.802Z"
   },
   {
    "duration": 14,
    "start_time": "2022-06-06T09:05:10.893Z"
   },
   {
    "duration": 18,
    "start_time": "2022-06-06T09:05:10.909Z"
   },
   {
    "duration": 35,
    "start_time": "2022-06-06T09:05:10.929Z"
   },
   {
    "duration": 20,
    "start_time": "2022-06-06T09:05:10.965Z"
   },
   {
    "duration": 41,
    "start_time": "2022-06-06T09:05:10.987Z"
   },
   {
    "duration": 7,
    "start_time": "2022-06-06T09:05:11.030Z"
   },
   {
    "duration": 14,
    "start_time": "2022-06-06T09:05:11.041Z"
   },
   {
    "duration": 30,
    "start_time": "2022-06-06T09:05:11.056Z"
   },
   {
    "duration": 7,
    "start_time": "2022-06-06T09:05:11.087Z"
   },
   {
    "duration": 18,
    "start_time": "2022-06-06T09:05:11.096Z"
   },
   {
    "duration": 30,
    "start_time": "2022-06-06T09:05:11.115Z"
   },
   {
    "duration": 7,
    "start_time": "2022-06-06T09:05:11.146Z"
   },
   {
    "duration": 16,
    "start_time": "2022-06-06T09:05:11.155Z"
   },
   {
    "duration": 13,
    "start_time": "2022-06-06T09:05:11.173Z"
   },
   {
    "duration": 16,
    "start_time": "2022-06-06T09:05:11.188Z"
   },
   {
    "duration": 21,
    "start_time": "2022-06-06T09:05:11.226Z"
   },
   {
    "duration": 8,
    "start_time": "2022-06-06T09:05:11.249Z"
   },
   {
    "duration": 15,
    "start_time": "2022-06-06T09:05:11.258Z"
   },
   {
    "duration": 16,
    "start_time": "2022-06-06T09:05:11.274Z"
   },
   {
    "duration": 18,
    "start_time": "2022-06-06T09:05:11.292Z"
   },
   {
    "duration": 18,
    "start_time": "2022-06-06T09:05:11.311Z"
   },
   {
    "duration": 132,
    "start_time": "2022-06-06T09:05:11.331Z"
   },
   {
    "duration": 12,
    "start_time": "2022-06-06T09:05:11.465Z"
   },
   {
    "duration": 8,
    "start_time": "2022-06-06T09:05:11.479Z"
   },
   {
    "duration": 11,
    "start_time": "2022-06-06T09:05:11.489Z"
   },
   {
    "duration": 215,
    "start_time": "2022-06-06T09:05:11.502Z"
   },
   {
    "duration": 223,
    "start_time": "2022-06-06T09:05:11.718Z"
   },
   {
    "duration": 148,
    "start_time": "2022-06-06T09:05:11.943Z"
   },
   {
    "duration": 59,
    "start_time": "2022-06-06T09:05:12.093Z"
   },
   {
    "duration": 10,
    "start_time": "2022-06-06T09:05:12.154Z"
   },
   {
    "duration": 166,
    "start_time": "2022-06-06T09:05:12.166Z"
   },
   {
    "duration": 153,
    "start_time": "2022-06-06T09:05:12.334Z"
   },
   {
    "duration": 11,
    "start_time": "2022-06-06T09:05:12.489Z"
   },
   {
    "duration": 166,
    "start_time": "2022-06-06T09:05:12.501Z"
   },
   {
    "duration": 159,
    "start_time": "2022-06-06T09:05:12.669Z"
   },
   {
    "duration": 13,
    "start_time": "2022-06-06T09:05:12.831Z"
   },
   {
    "duration": 181,
    "start_time": "2022-06-06T09:05:12.845Z"
   },
   {
    "duration": 170,
    "start_time": "2022-06-06T09:05:13.028Z"
   },
   {
    "duration": 4,
    "start_time": "2022-06-06T09:05:13.200Z"
   },
   {
    "duration": 20,
    "start_time": "2022-06-06T09:05:13.206Z"
   },
   {
    "duration": 11,
    "start_time": "2022-06-06T09:05:13.227Z"
   },
   {
    "duration": 6,
    "start_time": "2022-06-06T09:05:13.239Z"
   },
   {
    "duration": 13,
    "start_time": "2022-06-06T09:05:13.246Z"
   },
   {
    "duration": 9,
    "start_time": "2022-06-06T09:05:13.261Z"
   },
   {
    "duration": 10,
    "start_time": "2022-06-06T09:05:13.272Z"
   },
   {
    "duration": 10,
    "start_time": "2022-06-06T09:05:13.283Z"
   },
   {
    "duration": 9,
    "start_time": "2022-06-06T09:05:13.295Z"
   },
   {
    "duration": 8,
    "start_time": "2022-06-06T09:05:13.306Z"
   },
   {
    "duration": 4,
    "start_time": "2022-06-06T09:05:13.326Z"
   },
   {
    "duration": 161,
    "start_time": "2022-06-06T09:06:13.827Z"
   },
   {
    "duration": 153,
    "start_time": "2022-06-06T09:06:21.829Z"
   },
   {
    "duration": 249,
    "start_time": "2022-06-06T09:06:27.625Z"
   },
   {
    "duration": 153,
    "start_time": "2022-06-06T09:06:32.790Z"
   },
   {
    "duration": 131,
    "start_time": "2022-06-06T09:06:36.764Z"
   },
   {
    "duration": 151,
    "start_time": "2022-06-06T09:06:43.724Z"
   },
   {
    "duration": 158,
    "start_time": "2022-06-06T09:06:47.251Z"
   },
   {
    "duration": 166,
    "start_time": "2022-06-06T09:06:50.056Z"
   },
   {
    "duration": 158,
    "start_time": "2022-06-06T09:06:54.271Z"
   },
   {
    "duration": 127,
    "start_time": "2022-06-06T09:07:57.067Z"
   },
   {
    "duration": 126,
    "start_time": "2022-06-06T09:08:02.405Z"
   },
   {
    "duration": 4,
    "start_time": "2022-06-06T09:13:44.057Z"
   },
   {
    "duration": 123,
    "start_time": "2022-06-06T09:13:47.589Z"
   },
   {
    "duration": 3,
    "start_time": "2022-06-06T09:14:28.894Z"
   },
   {
    "duration": 464,
    "start_time": "2022-06-06T09:14:28.900Z"
   },
   {
    "duration": 3,
    "start_time": "2022-06-06T09:14:29.367Z"
   },
   {
    "duration": 28,
    "start_time": "2022-06-06T09:14:29.371Z"
   },
   {
    "duration": 36,
    "start_time": "2022-06-06T09:14:29.401Z"
   },
   {
    "duration": 175,
    "start_time": "2022-06-06T09:14:29.439Z"
   },
   {
    "duration": 10,
    "start_time": "2022-06-06T09:14:29.626Z"
   },
   {
    "duration": 94,
    "start_time": "2022-06-06T09:14:29.638Z"
   },
   {
    "duration": 11,
    "start_time": "2022-06-06T09:14:29.734Z"
   },
   {
    "duration": 117,
    "start_time": "2022-06-06T09:14:29.747Z"
   },
   {
    "duration": 9,
    "start_time": "2022-06-06T09:14:29.866Z"
   },
   {
    "duration": 18,
    "start_time": "2022-06-06T09:14:29.876Z"
   },
   {
    "duration": 13,
    "start_time": "2022-06-06T09:14:29.896Z"
   },
   {
    "duration": 12,
    "start_time": "2022-06-06T09:14:29.927Z"
   },
   {
    "duration": 121,
    "start_time": "2022-06-06T09:14:29.942Z"
   },
   {
    "duration": 12,
    "start_time": "2022-06-06T09:14:30.066Z"
   },
   {
    "duration": 139,
    "start_time": "2022-06-06T09:14:30.080Z"
   },
   {
    "duration": 60,
    "start_time": "2022-06-06T09:14:30.220Z"
   },
   {
    "duration": 90,
    "start_time": "2022-06-06T09:14:30.281Z"
   },
   {
    "duration": 12,
    "start_time": "2022-06-06T09:14:30.373Z"
   },
   {
    "duration": 88,
    "start_time": "2022-06-06T09:14:30.386Z"
   },
   {
    "duration": 15,
    "start_time": "2022-06-06T09:14:30.476Z"
   },
   {
    "duration": 23,
    "start_time": "2022-06-06T09:14:30.493Z"
   },
   {
    "duration": 27,
    "start_time": "2022-06-06T09:14:30.517Z"
   },
   {
    "duration": 29,
    "start_time": "2022-06-06T09:14:30.548Z"
   },
   {
    "duration": 46,
    "start_time": "2022-06-06T09:14:30.579Z"
   },
   {
    "duration": 8,
    "start_time": "2022-06-06T09:14:30.627Z"
   },
   {
    "duration": 16,
    "start_time": "2022-06-06T09:14:30.637Z"
   },
   {
    "duration": 34,
    "start_time": "2022-06-06T09:14:30.655Z"
   },
   {
    "duration": 11,
    "start_time": "2022-06-06T09:14:30.690Z"
   },
   {
    "duration": 26,
    "start_time": "2022-06-06T09:14:30.703Z"
   },
   {
    "duration": 40,
    "start_time": "2022-06-06T09:14:30.731Z"
   },
   {
    "duration": 7,
    "start_time": "2022-06-06T09:14:30.773Z"
   },
   {
    "duration": 43,
    "start_time": "2022-06-06T09:14:30.782Z"
   },
   {
    "duration": 64,
    "start_time": "2022-06-06T09:14:30.826Z"
   },
   {
    "duration": 45,
    "start_time": "2022-06-06T09:14:30.892Z"
   },
   {
    "duration": 87,
    "start_time": "2022-06-06T09:14:30.939Z"
   },
   {
    "duration": 93,
    "start_time": "2022-06-06T09:14:31.028Z"
   },
   {
    "duration": 60,
    "start_time": "2022-06-06T09:14:31.123Z"
   },
   {
    "duration": 37,
    "start_time": "2022-06-06T09:14:31.185Z"
   },
   {
    "duration": 39,
    "start_time": "2022-06-06T09:14:31.223Z"
   },
   {
    "duration": 66,
    "start_time": "2022-06-06T09:14:31.266Z"
   },
   {
    "duration": 192,
    "start_time": "2022-06-06T09:14:31.334Z"
   },
   {
    "duration": 12,
    "start_time": "2022-06-06T09:14:31.528Z"
   },
   {
    "duration": 14,
    "start_time": "2022-06-06T09:14:31.541Z"
   },
   {
    "duration": 22,
    "start_time": "2022-06-06T09:14:31.557Z"
   },
   {
    "duration": 222,
    "start_time": "2022-06-06T09:14:31.580Z"
   },
   {
    "duration": 140,
    "start_time": "2022-06-06T09:14:31.804Z"
   },
   {
    "duration": 163,
    "start_time": "2022-06-06T09:14:31.945Z"
   },
   {
    "duration": 23,
    "start_time": "2022-06-06T09:14:32.110Z"
   },
   {
    "duration": 10,
    "start_time": "2022-06-06T09:14:32.135Z"
   },
   {
    "duration": 165,
    "start_time": "2022-06-06T09:14:32.147Z"
   },
   {
    "duration": 277,
    "start_time": "2022-06-06T09:14:32.314Z"
   },
   {
    "duration": 10,
    "start_time": "2022-06-06T09:14:32.593Z"
   },
   {
    "duration": 171,
    "start_time": "2022-06-06T09:14:32.605Z"
   },
   {
    "duration": 163,
    "start_time": "2022-06-06T09:14:32.778Z"
   },
   {
    "duration": 13,
    "start_time": "2022-06-06T09:14:32.943Z"
   },
   {
    "duration": 168,
    "start_time": "2022-06-06T09:14:32.958Z"
   },
   {
    "duration": 141,
    "start_time": "2022-06-06T09:14:33.127Z"
   },
   {
    "duration": 4,
    "start_time": "2022-06-06T09:14:33.270Z"
   },
   {
    "duration": 17,
    "start_time": "2022-06-06T09:14:33.276Z"
   },
   {
    "duration": 17,
    "start_time": "2022-06-06T09:14:33.294Z"
   },
   {
    "duration": 19,
    "start_time": "2022-06-06T09:14:33.313Z"
   },
   {
    "duration": 33,
    "start_time": "2022-06-06T09:14:33.334Z"
   },
   {
    "duration": 16,
    "start_time": "2022-06-06T09:14:33.369Z"
   },
   {
    "duration": 25,
    "start_time": "2022-06-06T09:14:33.387Z"
   },
   {
    "duration": 21,
    "start_time": "2022-06-06T09:14:33.414Z"
   },
   {
    "duration": 34,
    "start_time": "2022-06-06T09:14:33.437Z"
   },
   {
    "duration": 17,
    "start_time": "2022-06-06T09:14:33.473Z"
   },
   {
    "duration": 18,
    "start_time": "2022-06-06T09:14:33.492Z"
   },
   {
    "duration": 5,
    "start_time": "2022-06-06T09:15:18.406Z"
   },
   {
    "duration": 1246,
    "start_time": "2022-06-06T09:16:42.337Z"
   },
   {
    "duration": 452,
    "start_time": "2022-06-06T09:16:43.585Z"
   },
   {
    "duration": 2,
    "start_time": "2022-06-06T09:16:44.039Z"
   },
   {
    "duration": 22,
    "start_time": "2022-06-06T09:16:44.043Z"
   },
   {
    "duration": 15,
    "start_time": "2022-06-06T09:16:44.067Z"
   },
   {
    "duration": 143,
    "start_time": "2022-06-06T09:16:44.083Z"
   },
   {
    "duration": 8,
    "start_time": "2022-06-06T09:16:44.227Z"
   },
   {
    "duration": 74,
    "start_time": "2022-06-06T09:16:44.237Z"
   },
   {
    "duration": 19,
    "start_time": "2022-06-06T09:16:44.312Z"
   },
   {
    "duration": 123,
    "start_time": "2022-06-06T09:16:44.334Z"
   },
   {
    "duration": 11,
    "start_time": "2022-06-06T09:16:44.459Z"
   },
   {
    "duration": 15,
    "start_time": "2022-06-06T09:16:44.472Z"
   },
   {
    "duration": 16,
    "start_time": "2022-06-06T09:16:44.490Z"
   },
   {
    "duration": 11,
    "start_time": "2022-06-06T09:16:44.528Z"
   },
   {
    "duration": 143,
    "start_time": "2022-06-06T09:16:44.542Z"
   },
   {
    "duration": 11,
    "start_time": "2022-06-06T09:16:44.687Z"
   },
   {
    "duration": 132,
    "start_time": "2022-06-06T09:16:44.700Z"
   },
   {
    "duration": 66,
    "start_time": "2022-06-06T09:16:44.834Z"
   },
   {
    "duration": 86,
    "start_time": "2022-06-06T09:16:44.902Z"
   },
   {
    "duration": 11,
    "start_time": "2022-06-06T09:16:44.990Z"
   },
   {
    "duration": 95,
    "start_time": "2022-06-06T09:16:45.002Z"
   },
   {
    "duration": 27,
    "start_time": "2022-06-06T09:16:45.099Z"
   },
   {
    "duration": 13,
    "start_time": "2022-06-06T09:16:45.128Z"
   },
   {
    "duration": 15,
    "start_time": "2022-06-06T09:16:45.143Z"
   },
   {
    "duration": 12,
    "start_time": "2022-06-06T09:16:45.160Z"
   },
   {
    "duration": 53,
    "start_time": "2022-06-06T09:16:45.173Z"
   },
   {
    "duration": 8,
    "start_time": "2022-06-06T09:16:45.228Z"
   },
   {
    "duration": 9,
    "start_time": "2022-06-06T09:16:45.240Z"
   },
   {
    "duration": 27,
    "start_time": "2022-06-06T09:16:45.251Z"
   },
   {
    "duration": 8,
    "start_time": "2022-06-06T09:16:45.280Z"
   },
   {
    "duration": 40,
    "start_time": "2022-06-06T09:16:45.290Z"
   },
   {
    "duration": 28,
    "start_time": "2022-06-06T09:16:45.331Z"
   },
   {
    "duration": 8,
    "start_time": "2022-06-06T09:16:45.361Z"
   },
   {
    "duration": 23,
    "start_time": "2022-06-06T09:16:45.370Z"
   },
   {
    "duration": 34,
    "start_time": "2022-06-06T09:16:45.395Z"
   },
   {
    "duration": 18,
    "start_time": "2022-06-06T09:16:45.431Z"
   },
   {
    "duration": 18,
    "start_time": "2022-06-06T09:16:45.450Z"
   },
   {
    "duration": 9,
    "start_time": "2022-06-06T09:16:45.470Z"
   },
   {
    "duration": 9,
    "start_time": "2022-06-06T09:16:45.480Z"
   },
   {
    "duration": 36,
    "start_time": "2022-06-06T09:16:45.491Z"
   },
   {
    "duration": 15,
    "start_time": "2022-06-06T09:16:45.528Z"
   },
   {
    "duration": 4,
    "start_time": "2022-06-06T09:16:45.545Z"
   },
   {
    "duration": 123,
    "start_time": "2022-06-06T09:16:45.550Z"
   },
   {
    "duration": 12,
    "start_time": "2022-06-06T09:16:45.674Z"
   },
   {
    "duration": 13,
    "start_time": "2022-06-06T09:16:45.687Z"
   },
   {
    "duration": 6,
    "start_time": "2022-06-06T09:16:45.701Z"
   },
   {
    "duration": 223,
    "start_time": "2022-06-06T09:16:45.709Z"
   },
   {
    "duration": 206,
    "start_time": "2022-06-06T09:16:45.933Z"
   },
   {
    "duration": 136,
    "start_time": "2022-06-06T09:16:46.140Z"
   },
   {
    "duration": 51,
    "start_time": "2022-06-06T09:16:46.277Z"
   },
   {
    "duration": 10,
    "start_time": "2022-06-06T09:16:46.329Z"
   },
   {
    "duration": 160,
    "start_time": "2022-06-06T09:16:46.341Z"
   },
   {
    "duration": 146,
    "start_time": "2022-06-06T09:16:46.502Z"
   },
   {
    "duration": 10,
    "start_time": "2022-06-06T09:16:46.650Z"
   },
   {
    "duration": 160,
    "start_time": "2022-06-06T09:16:46.661Z"
   },
   {
    "duration": 163,
    "start_time": "2022-06-06T09:16:46.823Z"
   },
   {
    "duration": 11,
    "start_time": "2022-06-06T09:16:46.988Z"
   },
   {
    "duration": 155,
    "start_time": "2022-06-06T09:16:47.001Z"
   },
   {
    "duration": 140,
    "start_time": "2022-06-06T09:16:47.159Z"
   },
   {
    "duration": 5,
    "start_time": "2022-06-06T09:16:47.301Z"
   },
   {
    "duration": 10,
    "start_time": "2022-06-06T09:16:47.307Z"
   },
   {
    "duration": 21,
    "start_time": "2022-06-06T09:16:47.326Z"
   },
   {
    "duration": 13,
    "start_time": "2022-06-06T09:16:47.349Z"
   },
   {
    "duration": 8,
    "start_time": "2022-06-06T09:16:47.364Z"
   },
   {
    "duration": 13,
    "start_time": "2022-06-06T09:16:47.374Z"
   },
   {
    "duration": 14,
    "start_time": "2022-06-06T09:16:47.394Z"
   },
   {
    "duration": 26,
    "start_time": "2022-06-06T09:16:47.409Z"
   },
   {
    "duration": 11,
    "start_time": "2022-06-06T09:16:47.437Z"
   },
   {
    "duration": 21,
    "start_time": "2022-06-06T09:16:47.450Z"
   },
   {
    "duration": 10,
    "start_time": "2022-06-06T09:16:47.473Z"
   },
   {
    "duration": 109,
    "start_time": "2022-06-06T09:20:08.669Z"
   },
   {
    "duration": 66,
    "start_time": "2022-06-06T09:20:43.996Z"
   },
   {
    "duration": 15,
    "start_time": "2022-06-06T09:20:59.518Z"
   },
   {
    "duration": 11,
    "start_time": "2022-06-06T09:21:19.028Z"
   },
   {
    "duration": 12,
    "start_time": "2022-06-06T09:21:26.998Z"
   },
   {
    "duration": 165,
    "start_time": "2022-06-06T09:21:30.990Z"
   },
   {
    "duration": 13,
    "start_time": "2022-06-06T09:21:35.164Z"
   },
   {
    "duration": 80,
    "start_time": "2022-06-06T09:21:44.584Z"
   },
   {
    "duration": 10,
    "start_time": "2022-06-06T09:21:48.760Z"
   },
   {
    "duration": 4,
    "start_time": "2022-06-06T09:21:54.540Z"
   },
   {
    "duration": 446,
    "start_time": "2022-06-06T09:21:54.546Z"
   },
   {
    "duration": 2,
    "start_time": "2022-06-06T09:21:54.994Z"
   },
   {
    "duration": 22,
    "start_time": "2022-06-06T09:21:54.998Z"
   },
   {
    "duration": 11,
    "start_time": "2022-06-06T09:21:55.022Z"
   },
   {
    "duration": 134,
    "start_time": "2022-06-06T09:21:55.034Z"
   },
   {
    "duration": 8,
    "start_time": "2022-06-06T09:21:55.170Z"
   },
   {
    "duration": 74,
    "start_time": "2022-06-06T09:21:55.180Z"
   },
   {
    "duration": 7,
    "start_time": "2022-06-06T09:21:55.256Z"
   },
   {
    "duration": 94,
    "start_time": "2022-06-06T09:21:55.267Z"
   },
   {
    "duration": 8,
    "start_time": "2022-06-06T09:21:55.363Z"
   },
   {
    "duration": 14,
    "start_time": "2022-06-06T09:21:55.373Z"
   },
   {
    "duration": 19,
    "start_time": "2022-06-06T09:21:55.389Z"
   },
   {
    "duration": 14,
    "start_time": "2022-06-06T09:21:55.426Z"
   },
   {
    "duration": 111,
    "start_time": "2022-06-06T09:21:55.441Z"
   },
   {
    "duration": 10,
    "start_time": "2022-06-06T09:21:55.553Z"
   },
   {
    "duration": 96,
    "start_time": "2022-06-06T09:21:55.565Z"
   },
   {
    "duration": 65,
    "start_time": "2022-06-06T09:21:55.663Z"
   },
   {
    "duration": 70,
    "start_time": "2022-06-06T09:21:55.730Z"
   },
   {
    "duration": 24,
    "start_time": "2022-06-06T09:21:55.802Z"
   },
   {
    "duration": 51,
    "start_time": "2022-06-06T09:21:55.827Z"
   },
   {
    "duration": 13,
    "start_time": "2022-06-06T09:21:55.880Z"
   },
   {
    "duration": 17,
    "start_time": "2022-06-06T09:21:55.894Z"
   },
   {
    "duration": 26,
    "start_time": "2022-06-06T09:21:55.913Z"
   },
   {
    "duration": 11,
    "start_time": "2022-06-06T09:21:55.941Z"
   },
   {
    "duration": 40,
    "start_time": "2022-06-06T09:21:55.954Z"
   },
   {
    "duration": 8,
    "start_time": "2022-06-06T09:21:55.996Z"
   },
   {
    "duration": 22,
    "start_time": "2022-06-06T09:21:56.009Z"
   },
   {
    "duration": 38,
    "start_time": "2022-06-06T09:21:56.033Z"
   },
   {
    "duration": 7,
    "start_time": "2022-06-06T09:21:56.073Z"
   },
   {
    "duration": 12,
    "start_time": "2022-06-06T09:21:56.082Z"
   },
   {
    "duration": 34,
    "start_time": "2022-06-06T09:21:56.096Z"
   },
   {
    "duration": 8,
    "start_time": "2022-06-06T09:21:56.131Z"
   },
   {
    "duration": 26,
    "start_time": "2022-06-06T09:21:56.140Z"
   },
   {
    "duration": 47,
    "start_time": "2022-06-06T09:21:56.170Z"
   },
   {
    "duration": 17,
    "start_time": "2022-06-06T09:21:56.219Z"
   },
   {
    "duration": 20,
    "start_time": "2022-06-06T09:21:56.238Z"
   },
   {
    "duration": 8,
    "start_time": "2022-06-06T09:21:56.260Z"
   },
   {
    "duration": 6,
    "start_time": "2022-06-06T09:21:56.269Z"
   },
   {
    "duration": 10,
    "start_time": "2022-06-06T09:21:56.277Z"
   },
   {
    "duration": 15,
    "start_time": "2022-06-06T09:21:56.288Z"
   },
   {
    "duration": 6,
    "start_time": "2022-06-06T09:21:56.327Z"
   },
   {
    "duration": 120,
    "start_time": "2022-06-06T09:21:56.335Z"
   },
   {
    "duration": 12,
    "start_time": "2022-06-06T09:21:56.457Z"
   },
   {
    "duration": 39,
    "start_time": "2022-06-06T09:21:56.471Z"
   },
   {
    "duration": 7,
    "start_time": "2022-06-06T09:21:56.512Z"
   },
   {
    "duration": 197,
    "start_time": "2022-06-06T09:21:56.521Z"
   },
   {
    "duration": 139,
    "start_time": "2022-06-06T09:21:56.721Z"
   },
   {
    "duration": 149,
    "start_time": "2022-06-06T09:21:56.862Z"
   },
   {
    "duration": 20,
    "start_time": "2022-06-06T09:21:57.013Z"
   },
   {
    "duration": 23,
    "start_time": "2022-06-06T09:21:57.035Z"
   },
   {
    "duration": 169,
    "start_time": "2022-06-06T09:21:57.059Z"
   },
   {
    "duration": 154,
    "start_time": "2022-06-06T09:21:57.230Z"
   },
   {
    "duration": 13,
    "start_time": "2022-06-06T09:21:57.386Z"
   },
   {
    "duration": 175,
    "start_time": "2022-06-06T09:21:57.401Z"
   },
   {
    "duration": 157,
    "start_time": "2022-06-06T09:21:57.577Z"
   },
   {
    "duration": 12,
    "start_time": "2022-06-06T09:21:57.737Z"
   },
   {
    "duration": 176,
    "start_time": "2022-06-06T09:21:57.751Z"
   },
   {
    "duration": 147,
    "start_time": "2022-06-06T09:21:57.928Z"
   },
   {
    "duration": 4,
    "start_time": "2022-06-06T09:21:58.077Z"
   },
   {
    "duration": 9,
    "start_time": "2022-06-06T09:21:58.083Z"
   },
   {
    "duration": 41,
    "start_time": "2022-06-06T09:21:58.093Z"
   },
   {
    "duration": 31,
    "start_time": "2022-06-06T09:21:58.136Z"
   },
   {
    "duration": 11,
    "start_time": "2022-06-06T09:21:58.169Z"
   },
   {
    "duration": 16,
    "start_time": "2022-06-06T09:21:58.182Z"
   },
   {
    "duration": 21,
    "start_time": "2022-06-06T09:21:58.200Z"
   },
   {
    "duration": 17,
    "start_time": "2022-06-06T09:21:58.223Z"
   },
   {
    "duration": 31,
    "start_time": "2022-06-06T09:21:58.243Z"
   },
   {
    "duration": 16,
    "start_time": "2022-06-06T09:21:58.276Z"
   },
   {
    "duration": 19,
    "start_time": "2022-06-06T09:21:58.293Z"
   },
   {
    "duration": 9,
    "start_time": "2022-06-06T09:22:35.900Z"
   },
   {
    "duration": 10,
    "start_time": "2022-06-06T09:22:43.502Z"
   },
   {
    "duration": 9,
    "start_time": "2022-06-06T09:23:31.379Z"
   },
   {
    "duration": 1253,
    "start_time": "2022-06-06T09:24:04.027Z"
   },
   {
    "duration": 453,
    "start_time": "2022-06-06T09:24:05.282Z"
   },
   {
    "duration": 3,
    "start_time": "2022-06-06T09:24:05.736Z"
   },
   {
    "duration": 31,
    "start_time": "2022-06-06T09:24:05.741Z"
   },
   {
    "duration": 15,
    "start_time": "2022-06-06T09:24:05.774Z"
   },
   {
    "duration": 149,
    "start_time": "2022-06-06T09:24:05.791Z"
   },
   {
    "duration": 9,
    "start_time": "2022-06-06T09:24:05.942Z"
   },
   {
    "duration": 85,
    "start_time": "2022-06-06T09:24:05.953Z"
   },
   {
    "duration": 8,
    "start_time": "2022-06-06T09:24:06.040Z"
   },
   {
    "duration": 130,
    "start_time": "2022-06-06T09:24:06.051Z"
   },
   {
    "duration": 9,
    "start_time": "2022-06-06T09:24:06.182Z"
   },
   {
    "duration": 20,
    "start_time": "2022-06-06T09:24:06.193Z"
   },
   {
    "duration": 14,
    "start_time": "2022-06-06T09:24:06.226Z"
   },
   {
    "duration": 30,
    "start_time": "2022-06-06T09:24:06.242Z"
   },
   {
    "duration": 109,
    "start_time": "2022-06-06T09:24:06.274Z"
   },
   {
    "duration": 11,
    "start_time": "2022-06-06T09:24:06.384Z"
   },
   {
    "duration": 124,
    "start_time": "2022-06-06T09:24:06.397Z"
   },
   {
    "duration": 63,
    "start_time": "2022-06-06T09:24:06.526Z"
   },
   {
    "duration": 93,
    "start_time": "2022-06-06T09:24:06.591Z"
   },
   {
    "duration": 9,
    "start_time": "2022-06-06T09:24:06.686Z"
   },
   {
    "duration": 65,
    "start_time": "2022-06-06T09:24:06.697Z"
   },
   {
    "duration": 14,
    "start_time": "2022-06-06T09:24:06.763Z"
   },
   {
    "duration": 39,
    "start_time": "2022-06-06T09:24:06.779Z"
   },
   {
    "duration": 22,
    "start_time": "2022-06-06T09:24:06.821Z"
   },
   {
    "duration": 15,
    "start_time": "2022-06-06T09:24:06.845Z"
   },
   {
    "duration": 43,
    "start_time": "2022-06-06T09:24:06.861Z"
   },
   {
    "duration": 9,
    "start_time": "2022-06-06T09:24:06.906Z"
   },
   {
    "duration": 10,
    "start_time": "2022-06-06T09:24:06.919Z"
   },
   {
    "duration": 30,
    "start_time": "2022-06-06T09:24:06.931Z"
   },
   {
    "duration": 7,
    "start_time": "2022-06-06T09:24:06.963Z"
   },
   {
    "duration": 17,
    "start_time": "2022-06-06T09:24:06.972Z"
   },
   {
    "duration": 45,
    "start_time": "2022-06-06T09:24:06.991Z"
   },
   {
    "duration": 7,
    "start_time": "2022-06-06T09:24:07.038Z"
   },
   {
    "duration": 21,
    "start_time": "2022-06-06T09:24:07.047Z"
   },
   {
    "duration": 14,
    "start_time": "2022-06-06T09:24:07.070Z"
   },
   {
    "duration": 18,
    "start_time": "2022-06-06T09:24:07.086Z"
   },
   {
    "duration": 40,
    "start_time": "2022-06-06T09:24:07.105Z"
   },
   {
    "duration": 12,
    "start_time": "2022-06-06T09:24:07.147Z"
   },
   {
    "duration": 6,
    "start_time": "2022-06-06T09:24:07.161Z"
   },
   {
    "duration": 9,
    "start_time": "2022-06-06T09:24:07.169Z"
   },
   {
    "duration": 18,
    "start_time": "2022-06-06T09:24:07.180Z"
   },
   {
    "duration": 5,
    "start_time": "2022-06-06T09:24:07.225Z"
   },
   {
    "duration": 116,
    "start_time": "2022-06-06T09:24:07.232Z"
   },
   {
    "duration": 13,
    "start_time": "2022-06-06T09:24:07.350Z"
   },
   {
    "duration": 12,
    "start_time": "2022-06-06T09:24:07.364Z"
   },
   {
    "duration": 7,
    "start_time": "2022-06-06T09:24:07.378Z"
   },
   {
    "duration": 244,
    "start_time": "2022-06-06T09:24:07.387Z"
   },
   {
    "duration": 210,
    "start_time": "2022-06-06T09:24:07.633Z"
   },
   {
    "duration": 151,
    "start_time": "2022-06-06T09:24:07.844Z"
   },
   {
    "duration": 61,
    "start_time": "2022-06-06T09:24:07.998Z"
   },
   {
    "duration": 12,
    "start_time": "2022-06-06T09:24:08.061Z"
   },
   {
    "duration": 165,
    "start_time": "2022-06-06T09:24:08.075Z"
   },
   {
    "duration": 162,
    "start_time": "2022-06-06T09:24:08.242Z"
   },
   {
    "duration": 21,
    "start_time": "2022-06-06T09:24:08.406Z"
   },
   {
    "duration": 159,
    "start_time": "2022-06-06T09:24:08.429Z"
   },
   {
    "duration": 159,
    "start_time": "2022-06-06T09:24:08.589Z"
   },
   {
    "duration": 10,
    "start_time": "2022-06-06T09:24:08.750Z"
   },
   {
    "duration": 168,
    "start_time": "2022-06-06T09:24:08.762Z"
   },
   {
    "duration": 151,
    "start_time": "2022-06-06T09:24:08.932Z"
   },
   {
    "duration": 4,
    "start_time": "2022-06-06T09:24:09.086Z"
   },
   {
    "duration": 8,
    "start_time": "2022-06-06T09:24:09.092Z"
   },
   {
    "duration": 25,
    "start_time": "2022-06-06T09:24:09.101Z"
   },
   {
    "duration": 5,
    "start_time": "2022-06-06T09:24:09.128Z"
   },
   {
    "duration": 8,
    "start_time": "2022-06-06T09:24:09.135Z"
   },
   {
    "duration": 14,
    "start_time": "2022-06-06T09:24:09.145Z"
   },
   {
    "duration": 11,
    "start_time": "2022-06-06T09:24:09.161Z"
   },
   {
    "duration": 10,
    "start_time": "2022-06-06T09:24:09.174Z"
   },
   {
    "duration": 9,
    "start_time": "2022-06-06T09:24:09.185Z"
   },
   {
    "duration": 20,
    "start_time": "2022-06-06T09:24:09.205Z"
   },
   {
    "duration": 7,
    "start_time": "2022-06-06T09:24:09.227Z"
   },
   {
    "duration": 115,
    "start_time": "2022-06-06T09:25:17.460Z"
   },
   {
    "duration": 5,
    "start_time": "2022-06-06T09:25:37.290Z"
   },
   {
    "duration": 35,
    "start_time": "2022-06-06T09:35:31.998Z"
   },
   {
    "duration": 458,
    "start_time": "2022-06-06T09:35:39.916Z"
   },
   {
    "duration": 4,
    "start_time": "2022-06-06T09:35:44.671Z"
   },
   {
    "duration": 489,
    "start_time": "2022-06-06T09:35:44.677Z"
   },
   {
    "duration": 4,
    "start_time": "2022-06-06T09:35:45.168Z"
   },
   {
    "duration": 28,
    "start_time": "2022-06-06T09:35:45.174Z"
   },
   {
    "duration": 15,
    "start_time": "2022-06-06T09:35:45.204Z"
   },
   {
    "duration": 134,
    "start_time": "2022-06-06T09:35:45.221Z"
   },
   {
    "duration": 9,
    "start_time": "2022-06-06T09:35:45.357Z"
   },
   {
    "duration": 97,
    "start_time": "2022-06-06T09:35:45.368Z"
   },
   {
    "duration": 8,
    "start_time": "2022-06-06T09:35:45.467Z"
   },
   {
    "duration": 82,
    "start_time": "2022-06-06T09:35:45.478Z"
   },
   {
    "duration": 9,
    "start_time": "2022-06-06T09:35:45.562Z"
   },
   {
    "duration": 15,
    "start_time": "2022-06-06T09:35:45.573Z"
   },
   {
    "duration": 22,
    "start_time": "2022-06-06T09:35:45.590Z"
   },
   {
    "duration": 19,
    "start_time": "2022-06-06T09:35:45.614Z"
   },
   {
    "duration": 108,
    "start_time": "2022-06-06T09:35:45.634Z"
   },
   {
    "duration": 10,
    "start_time": "2022-06-06T09:35:45.744Z"
   },
   {
    "duration": 109,
    "start_time": "2022-06-06T09:35:45.756Z"
   },
   {
    "duration": 72,
    "start_time": "2022-06-06T09:35:45.867Z"
   },
   {
    "duration": 73,
    "start_time": "2022-06-06T09:35:45.941Z"
   },
   {
    "duration": 10,
    "start_time": "2022-06-06T09:35:46.026Z"
   },
   {
    "duration": 47,
    "start_time": "2022-06-06T09:35:46.038Z"
   },
   {
    "duration": 15,
    "start_time": "2022-06-06T09:35:46.086Z"
   },
   {
    "duration": 30,
    "start_time": "2022-06-06T09:35:46.103Z"
   },
   {
    "duration": 19,
    "start_time": "2022-06-06T09:35:46.134Z"
   },
   {
    "duration": 15,
    "start_time": "2022-06-06T09:35:46.155Z"
   },
   {
    "duration": 40,
    "start_time": "2022-06-06T09:35:46.172Z"
   },
   {
    "duration": 17,
    "start_time": "2022-06-06T09:35:46.214Z"
   },
   {
    "duration": 9,
    "start_time": "2022-06-06T09:35:46.235Z"
   },
   {
    "duration": 33,
    "start_time": "2022-06-06T09:35:46.245Z"
   },
   {
    "duration": 8,
    "start_time": "2022-06-06T09:35:46.280Z"
   },
   {
    "duration": 16,
    "start_time": "2022-06-06T09:35:46.289Z"
   },
   {
    "duration": 44,
    "start_time": "2022-06-06T09:35:46.307Z"
   },
   {
    "duration": 7,
    "start_time": "2022-06-06T09:35:46.353Z"
   },
   {
    "duration": 25,
    "start_time": "2022-06-06T09:35:46.362Z"
   },
   {
    "duration": 15,
    "start_time": "2022-06-06T09:35:46.389Z"
   },
   {
    "duration": 24,
    "start_time": "2022-06-06T09:35:46.405Z"
   },
   {
    "duration": 20,
    "start_time": "2022-06-06T09:35:46.431Z"
   },
   {
    "duration": 8,
    "start_time": "2022-06-06T09:35:46.453Z"
   },
   {
    "duration": 8,
    "start_time": "2022-06-06T09:35:46.462Z"
   },
   {
    "duration": 15,
    "start_time": "2022-06-06T09:35:46.472Z"
   },
   {
    "duration": 41,
    "start_time": "2022-06-06T09:35:46.489Z"
   },
   {
    "duration": 4,
    "start_time": "2022-06-06T09:35:46.532Z"
   },
   {
    "duration": 116,
    "start_time": "2022-06-06T09:35:46.537Z"
   },
   {
    "duration": 12,
    "start_time": "2022-06-06T09:35:46.655Z"
   },
   {
    "duration": 7,
    "start_time": "2022-06-06T09:35:46.669Z"
   },
   {
    "duration": 7,
    "start_time": "2022-06-06T09:35:46.677Z"
   },
   {
    "duration": 210,
    "start_time": "2022-06-06T09:35:46.686Z"
   },
   {
    "duration": 124,
    "start_time": "2022-06-06T09:35:46.898Z"
   },
   {
    "duration": 244,
    "start_time": "2022-06-06T09:35:47.026Z"
   },
   {
    "duration": 13,
    "start_time": "2022-06-06T09:35:47.272Z"
   },
   {
    "duration": 10,
    "start_time": "2022-06-06T09:35:47.287Z"
   },
   {
    "duration": 173,
    "start_time": "2022-06-06T09:35:47.299Z"
   },
   {
    "duration": 153,
    "start_time": "2022-06-06T09:35:47.473Z"
   },
   {
    "duration": 11,
    "start_time": "2022-06-06T09:35:47.628Z"
   },
   {
    "duration": 165,
    "start_time": "2022-06-06T09:35:47.641Z"
   },
   {
    "duration": 148,
    "start_time": "2022-06-06T09:35:47.807Z"
   },
   {
    "duration": 12,
    "start_time": "2022-06-06T09:35:47.957Z"
   },
   {
    "duration": 174,
    "start_time": "2022-06-06T09:35:47.971Z"
   },
   {
    "duration": 157,
    "start_time": "2022-06-06T09:35:48.147Z"
   },
   {
    "duration": 5,
    "start_time": "2022-06-06T09:35:48.305Z"
   },
   {
    "duration": 17,
    "start_time": "2022-06-06T09:35:48.311Z"
   },
   {
    "duration": 10,
    "start_time": "2022-06-06T09:35:48.330Z"
   },
   {
    "duration": 41,
    "start_time": "2022-06-06T09:35:48.342Z"
   },
   {
    "duration": 29,
    "start_time": "2022-06-06T09:35:48.386Z"
   },
   {
    "duration": 20,
    "start_time": "2022-06-06T09:35:48.417Z"
   },
   {
    "duration": 16,
    "start_time": "2022-06-06T09:35:48.438Z"
   },
   {
    "duration": 9,
    "start_time": "2022-06-06T09:35:48.456Z"
   },
   {
    "duration": 21,
    "start_time": "2022-06-06T09:35:48.467Z"
   },
   {
    "duration": 23,
    "start_time": "2022-06-06T09:35:48.490Z"
   },
   {
    "duration": 8,
    "start_time": "2022-06-06T09:35:48.515Z"
   },
   {
    "duration": 1336,
    "start_time": "2022-06-06T09:39:00.950Z"
   },
   {
    "duration": 466,
    "start_time": "2022-06-06T09:39:02.288Z"
   },
   {
    "duration": 4,
    "start_time": "2022-06-06T09:39:02.756Z"
   },
   {
    "duration": 32,
    "start_time": "2022-06-06T09:39:02.763Z"
   },
   {
    "duration": 28,
    "start_time": "2022-06-06T09:39:02.798Z"
   },
   {
    "duration": 184,
    "start_time": "2022-06-06T09:39:02.828Z"
   },
   {
    "duration": 14,
    "start_time": "2022-06-06T09:39:03.014Z"
   },
   {
    "duration": 86,
    "start_time": "2022-06-06T09:39:03.030Z"
   },
   {
    "duration": 18,
    "start_time": "2022-06-06T09:39:03.118Z"
   },
   {
    "duration": 126,
    "start_time": "2022-06-06T09:39:03.138Z"
   },
   {
    "duration": 9,
    "start_time": "2022-06-06T09:39:03.266Z"
   },
   {
    "duration": 21,
    "start_time": "2022-06-06T09:39:03.277Z"
   },
   {
    "duration": 26,
    "start_time": "2022-06-06T09:39:03.300Z"
   },
   {
    "duration": 14,
    "start_time": "2022-06-06T09:39:03.330Z"
   },
   {
    "duration": 138,
    "start_time": "2022-06-06T09:39:03.346Z"
   },
   {
    "duration": 11,
    "start_time": "2022-06-06T09:39:03.487Z"
   },
   {
    "duration": 119,
    "start_time": "2022-06-06T09:39:03.500Z"
   },
   {
    "duration": 62,
    "start_time": "2022-06-06T09:39:03.620Z"
   },
   {
    "duration": 88,
    "start_time": "2022-06-06T09:39:03.684Z"
   },
   {
    "duration": 9,
    "start_time": "2022-06-06T09:39:03.773Z"
   },
   {
    "duration": 59,
    "start_time": "2022-06-06T09:39:03.784Z"
   },
   {
    "duration": 14,
    "start_time": "2022-06-06T09:39:03.845Z"
   },
   {
    "duration": 23,
    "start_time": "2022-06-06T09:39:03.861Z"
   },
   {
    "duration": 12,
    "start_time": "2022-06-06T09:39:03.885Z"
   },
   {
    "duration": 21,
    "start_time": "2022-06-06T09:39:03.899Z"
   },
   {
    "duration": 40,
    "start_time": "2022-06-06T09:39:03.922Z"
   },
   {
    "duration": 9,
    "start_time": "2022-06-06T09:39:03.964Z"
   },
   {
    "duration": 14,
    "start_time": "2022-06-06T09:39:03.975Z"
   },
   {
    "duration": 56,
    "start_time": "2022-06-06T09:39:03.990Z"
   },
   {
    "duration": 10,
    "start_time": "2022-06-06T09:39:04.048Z"
   },
   {
    "duration": 16,
    "start_time": "2022-06-06T09:39:04.060Z"
   },
   {
    "duration": 40,
    "start_time": "2022-06-06T09:39:04.078Z"
   },
   {
    "duration": 10,
    "start_time": "2022-06-06T09:39:04.120Z"
   },
   {
    "duration": 18,
    "start_time": "2022-06-06T09:39:04.132Z"
   },
   {
    "duration": 32,
    "start_time": "2022-06-06T09:39:04.151Z"
   },
   {
    "duration": 24,
    "start_time": "2022-06-06T09:39:04.186Z"
   },
   {
    "duration": 43,
    "start_time": "2022-06-06T09:39:04.212Z"
   },
   {
    "duration": 9,
    "start_time": "2022-06-06T09:39:04.257Z"
   },
   {
    "duration": 8,
    "start_time": "2022-06-06T09:39:04.268Z"
   },
   {
    "duration": 21,
    "start_time": "2022-06-06T09:39:04.278Z"
   },
   {
    "duration": 40,
    "start_time": "2022-06-06T09:39:04.304Z"
   },
   {
    "duration": 6,
    "start_time": "2022-06-06T09:39:04.347Z"
   },
   {
    "duration": 166,
    "start_time": "2022-06-06T09:39:04.355Z"
   },
   {
    "duration": 20,
    "start_time": "2022-06-06T09:39:04.526Z"
   },
   {
    "duration": 27,
    "start_time": "2022-06-06T09:39:04.550Z"
   },
   {
    "duration": 45,
    "start_time": "2022-06-06T09:39:04.579Z"
   },
   {
    "duration": 292,
    "start_time": "2022-06-06T09:39:04.626Z"
   },
   {
    "duration": 219,
    "start_time": "2022-06-06T09:39:04.920Z"
   },
   {
    "duration": 157,
    "start_time": "2022-06-06T09:39:05.142Z"
   },
   {
    "duration": 60,
    "start_time": "2022-06-06T09:39:05.301Z"
   },
   {
    "duration": 15,
    "start_time": "2022-06-06T09:39:05.363Z"
   },
   {
    "duration": 191,
    "start_time": "2022-06-06T09:39:05.381Z"
   },
   {
    "duration": 155,
    "start_time": "2022-06-06T09:39:05.575Z"
   },
   {
    "duration": 12,
    "start_time": "2022-06-06T09:39:05.732Z"
   },
   {
    "duration": 197,
    "start_time": "2022-06-06T09:39:05.746Z"
   },
   {
    "duration": 197,
    "start_time": "2022-06-06T09:39:05.945Z"
   },
   {
    "duration": 12,
    "start_time": "2022-06-06T09:39:06.143Z"
   },
   {
    "duration": 184,
    "start_time": "2022-06-06T09:39:06.157Z"
   },
   {
    "duration": 148,
    "start_time": "2022-06-06T09:39:06.343Z"
   },
   {
    "duration": 5,
    "start_time": "2022-06-06T09:39:06.494Z"
   },
   {
    "duration": 12,
    "start_time": "2022-06-06T09:39:06.501Z"
   },
   {
    "duration": 27,
    "start_time": "2022-06-06T09:39:06.515Z"
   },
   {
    "duration": 11,
    "start_time": "2022-06-06T09:39:06.544Z"
   },
   {
    "duration": 19,
    "start_time": "2022-06-06T09:39:06.557Z"
   },
   {
    "duration": 9,
    "start_time": "2022-06-06T09:39:06.578Z"
   },
   {
    "duration": 12,
    "start_time": "2022-06-06T09:39:06.589Z"
   },
   {
    "duration": 8,
    "start_time": "2022-06-06T09:39:06.603Z"
   },
   {
    "duration": 18,
    "start_time": "2022-06-06T09:39:06.613Z"
   },
   {
    "duration": 7,
    "start_time": "2022-06-06T09:39:06.634Z"
   },
   {
    "duration": 7,
    "start_time": "2022-06-06T09:39:06.643Z"
   },
   {
    "duration": 1435,
    "start_time": "2022-06-06T18:42:25.026Z"
   },
   {
    "duration": 496,
    "start_time": "2022-06-06T18:42:26.463Z"
   },
   {
    "duration": 3,
    "start_time": "2022-06-06T18:42:26.961Z"
   },
   {
    "duration": 23,
    "start_time": "2022-06-06T18:42:26.966Z"
   },
   {
    "duration": 22,
    "start_time": "2022-06-06T18:42:26.993Z"
   },
   {
    "duration": 155,
    "start_time": "2022-06-06T18:42:27.018Z"
   },
   {
    "duration": 24,
    "start_time": "2022-06-06T18:42:27.175Z"
   },
   {
    "duration": 72,
    "start_time": "2022-06-06T18:42:27.203Z"
   },
   {
    "duration": 26,
    "start_time": "2022-06-06T18:42:27.277Z"
   },
   {
    "duration": 66,
    "start_time": "2022-06-06T18:42:27.307Z"
   },
   {
    "duration": 27,
    "start_time": "2022-06-06T18:42:27.375Z"
   },
   {
    "duration": 12,
    "start_time": "2022-06-06T18:42:27.407Z"
   },
   {
    "duration": 13,
    "start_time": "2022-06-06T18:42:27.421Z"
   },
   {
    "duration": 17,
    "start_time": "2022-06-06T18:42:27.436Z"
   },
   {
    "duration": 132,
    "start_time": "2022-06-06T18:42:27.455Z"
   },
   {
    "duration": 22,
    "start_time": "2022-06-06T18:42:27.588Z"
   },
   {
    "duration": 131,
    "start_time": "2022-06-06T18:42:27.612Z"
   },
   {
    "duration": 78,
    "start_time": "2022-06-06T18:42:27.745Z"
   },
   {
    "duration": 95,
    "start_time": "2022-06-06T18:42:27.824Z"
   },
   {
    "duration": 8,
    "start_time": "2022-06-06T18:42:27.921Z"
   },
   {
    "duration": 59,
    "start_time": "2022-06-06T18:42:27.931Z"
   },
   {
    "duration": 24,
    "start_time": "2022-06-06T18:42:27.994Z"
   },
   {
    "duration": 10,
    "start_time": "2022-06-06T18:42:28.020Z"
   },
   {
    "duration": 11,
    "start_time": "2022-06-06T18:42:28.032Z"
   },
   {
    "duration": 10,
    "start_time": "2022-06-06T18:42:28.044Z"
   },
   {
    "duration": 75,
    "start_time": "2022-06-06T18:42:28.055Z"
   },
   {
    "duration": 8,
    "start_time": "2022-06-06T18:42:28.131Z"
   },
   {
    "duration": 10,
    "start_time": "2022-06-06T18:42:28.143Z"
   },
   {
    "duration": 46,
    "start_time": "2022-06-06T18:42:28.154Z"
   },
   {
    "duration": 11,
    "start_time": "2022-06-06T18:42:28.203Z"
   },
   {
    "duration": 19,
    "start_time": "2022-06-06T18:42:28.217Z"
   },
   {
    "duration": 32,
    "start_time": "2022-06-06T18:42:28.238Z"
   },
   {
    "duration": 25,
    "start_time": "2022-06-06T18:42:28.273Z"
   },
   {
    "duration": 43,
    "start_time": "2022-06-06T18:42:28.301Z"
   },
   {
    "duration": 21,
    "start_time": "2022-06-06T18:42:28.346Z"
   },
   {
    "duration": 29,
    "start_time": "2022-06-06T18:42:28.369Z"
   },
   {
    "duration": 26,
    "start_time": "2022-06-06T18:42:28.407Z"
   },
   {
    "duration": 11,
    "start_time": "2022-06-06T18:42:28.435Z"
   },
   {
    "duration": 7,
    "start_time": "2022-06-06T18:42:28.448Z"
   },
   {
    "duration": 38,
    "start_time": "2022-06-06T18:42:28.458Z"
   },
   {
    "duration": 28,
    "start_time": "2022-06-06T18:42:28.505Z"
   },
   {
    "duration": 4,
    "start_time": "2022-06-06T18:42:28.535Z"
   },
   {
    "duration": 167,
    "start_time": "2022-06-06T18:42:28.541Z"
   },
   {
    "duration": 14,
    "start_time": "2022-06-06T18:42:28.710Z"
   },
   {
    "duration": 14,
    "start_time": "2022-06-06T18:42:44.450Z"
   },
   {
    "duration": 23,
    "start_time": "2022-06-06T18:44:34.919Z"
   },
   {
    "duration": 17,
    "start_time": "2022-06-06T18:45:07.846Z"
   },
   {
    "duration": 133,
    "start_time": "2022-06-06T18:45:36.822Z"
   },
   {
    "duration": 6,
    "start_time": "2022-06-06T18:46:54.566Z"
   },
   {
    "duration": 6,
    "start_time": "2022-06-06T18:47:07.253Z"
   },
   {
    "duration": 6,
    "start_time": "2022-06-06T18:47:27.253Z"
   },
   {
    "duration": 130,
    "start_time": "2022-06-06T18:48:08.623Z"
   },
   {
    "duration": 137,
    "start_time": "2022-06-06T18:48:59.073Z"
   }
  ],
  "kernelspec": {
   "display_name": "Python 3 (ipykernel)",
   "language": "python",
   "name": "python3"
  },
  "language_info": {
   "codemirror_mode": {
    "name": "ipython",
    "version": 3
   },
   "file_extension": ".py",
   "mimetype": "text/x-python",
   "name": "python",
   "nbconvert_exporter": "python",
   "pygments_lexer": "ipython3",
   "version": "3.9.5"
  },
  "toc": {
   "base_numbering": 1,
   "nav_menu": {},
   "number_sections": true,
   "sideBar": true,
   "skip_h1_title": true,
   "title_cell": "Table of Contents",
   "title_sidebar": "Contents",
   "toc_cell": false,
   "toc_position": {
    "height": "calc(100% - 180px)",
    "left": "10px",
    "top": "150px",
    "width": "286.237px"
   },
   "toc_section_display": true,
   "toc_window_display": true
  }
 },
 "nbformat": 4,
 "nbformat_minor": 2
}
